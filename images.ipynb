{
  "nbformat": 4,
  "nbformat_minor": 0,
  "metadata": {
    "colab": {
      "name": "images.ipynb",
      "provenance": [],
      "collapsed_sections": []
    },
    "kernelspec": {
      "name": "python3",
      "display_name": "Python 3"
    },
    "accelerator": "GPU"
  },
  "cells": [
    {
      "cell_type": "code",
      "metadata": {
        "id": "ZYvlNKvAV_AB"
      },
      "source": [
        "import tensorflow as tf"
      ],
      "execution_count": 2,
      "outputs": []
    },
    {
      "cell_type": "code",
      "metadata": {
        "colab": {
          "base_uri": "https://localhost:8080/"
        },
        "id": "EMGbWnOxWIJi",
        "outputId": "bef6205f-3e57-4255-c453-ebfe33e70f94"
      },
      "source": [
        "mnist = tf.keras.datasets.mnist\r\n",
        "\r\n",
        "(x_train, y_train), (x_test, y_test) = mnist.load_data()\r\n",
        "x_train, x_test, = x_train / 255.0, x_test / 255.0"
      ],
      "execution_count": 3,
      "outputs": [
        {
          "output_type": "stream",
          "text": [
            "Downloading data from https://storage.googleapis.com/tensorflow/tf-keras-datasets/mnist.npz\n",
            "11493376/11490434 [==============================] - 0s 0us/step\n"
          ],
          "name": "stdout"
        }
      ]
    },
    {
      "cell_type": "code",
      "metadata": {
        "id": "1CHhCWjtW7l_"
      },
      "source": [
        "model = tf.keras.models.Sequential([\r\n",
        "                                    tf.keras.layers.Flatten(input_shape=(28,28)),\r\n",
        "                                    tf.keras.layers.Dense(128, activation='relu'),\r\n",
        "                                    tf.keras.layers.Dropout(0.2),\r\n",
        "                                    tf.keras.layers.Dense(10)\r\n",
        "])"
      ],
      "execution_count": 4,
      "outputs": []
    },
    {
      "cell_type": "code",
      "metadata": {
        "colab": {
          "base_uri": "https://localhost:8080/"
        },
        "id": "08lc3qACYA90",
        "outputId": "b8ccd14f-b746-44a9-d785-5e6afbc25f28"
      },
      "source": [
        "predictions = model(x_train[:1]).numpy()\r\n",
        "predictions"
      ],
      "execution_count": 5,
      "outputs": [
        {
          "output_type": "execute_result",
          "data": {
            "text/plain": [
              "array([[-0.2862829 ,  0.25850868, -0.24553485,  0.18582323,  0.4987527 ,\n",
              "         0.46032453, -0.51238215,  0.46925724, -0.48438463, -0.13087694]],\n",
              "      dtype=float32)"
            ]
          },
          "metadata": {
            "tags": []
          },
          "execution_count": 5
        }
      ]
    },
    {
      "cell_type": "code",
      "metadata": {
        "colab": {
          "base_uri": "https://localhost:8080/"
        },
        "id": "5xRaCpy_YM7d",
        "outputId": "fe643779-8e1c-413e-8ff3-c09150f6c6e4"
      },
      "source": [
        "tf.nn.softmax(predictions).numpy()"
      ],
      "execution_count": 6,
      "outputs": [
        {
          "output_type": "execute_result",
          "data": {
            "text/plain": [
              "array([[0.0685573 , 0.11820985, 0.07140858, 0.10992255, 0.15031084,\n",
              "        0.14464426, 0.05468397, 0.14594209, 0.05623662, 0.08008397]],\n",
              "      dtype=float32)"
            ]
          },
          "metadata": {
            "tags": []
          },
          "execution_count": 6
        }
      ]
    },
    {
      "cell_type": "code",
      "metadata": {
        "id": "S7ER36nlYW_N"
      },
      "source": [
        "loss_fn = tf.keras.losses.SparseCategoricalCrossentropy(from_logits=True)"
      ],
      "execution_count": 7,
      "outputs": []
    },
    {
      "cell_type": "code",
      "metadata": {
        "colab": {
          "base_uri": "https://localhost:8080/"
        },
        "id": "yfqZntDGYorc",
        "outputId": "94cb3464-89e2-4cfa-9671-bab342864f5b"
      },
      "source": [
        "loss_fn(y_train[:1], predictions).numpy()"
      ],
      "execution_count": 8,
      "outputs": [
        {
          "output_type": "execute_result",
          "data": {
            "text/plain": [
              "1.933478"
            ]
          },
          "metadata": {
            "tags": []
          },
          "execution_count": 8
        }
      ]
    },
    {
      "cell_type": "code",
      "metadata": {
        "id": "667lXTjEY1N8"
      },
      "source": [
        "model.compile(optimizer='adam',\r\n",
        "              loss=loss_fn,\r\n",
        "              metrics=['accuracy'])"
      ],
      "execution_count": 9,
      "outputs": []
    },
    {
      "cell_type": "code",
      "metadata": {
        "colab": {
          "base_uri": "https://localhost:8080/"
        },
        "id": "DGjWyY8hZB_c",
        "outputId": "438121d8-e7b4-4e90-b19e-56f120eebf06"
      },
      "source": [
        "model.fit(x_train, y_train, epochs=5)"
      ],
      "execution_count": 10,
      "outputs": [
        {
          "output_type": "stream",
          "text": [
            "Epoch 1/5\n",
            "1875/1875 [==============================] - 4s 2ms/step - loss: 0.4798 - accuracy: 0.8622\n",
            "Epoch 2/5\n",
            "1875/1875 [==============================] - 3s 2ms/step - loss: 0.1484 - accuracy: 0.9567\n",
            "Epoch 3/5\n",
            "1875/1875 [==============================] - 3s 2ms/step - loss: 0.1048 - accuracy: 0.9688\n",
            "Epoch 4/5\n",
            "1875/1875 [==============================] - 3s 2ms/step - loss: 0.0851 - accuracy: 0.9732\n",
            "Epoch 5/5\n",
            "1875/1875 [==============================] - 3s 2ms/step - loss: 0.0706 - accuracy: 0.9776\n"
          ],
          "name": "stdout"
        },
        {
          "output_type": "execute_result",
          "data": {
            "text/plain": [
              "<tensorflow.python.keras.callbacks.History at 0x7f5c200b7210>"
            ]
          },
          "metadata": {
            "tags": []
          },
          "execution_count": 10
        }
      ]
    },
    {
      "cell_type": "code",
      "metadata": {
        "colab": {
          "base_uri": "https://localhost:8080/"
        },
        "id": "CYmyLuonZMpN",
        "outputId": "a46daad3-1408-48b2-c774-946155dc0226"
      },
      "source": [
        "model.evaluate(x_test, y_test, verbose=2)"
      ],
      "execution_count": 11,
      "outputs": [
        {
          "output_type": "stream",
          "text": [
            "313/313 - 0s - loss: 0.0738 - accuracy: 0.9768\n"
          ],
          "name": "stdout"
        },
        {
          "output_type": "execute_result",
          "data": {
            "text/plain": [
              "[0.0738184005022049, 0.9768000245094299]"
            ]
          },
          "metadata": {
            "tags": []
          },
          "execution_count": 11
        }
      ]
    },
    {
      "cell_type": "code",
      "metadata": {
        "id": "gy4TJ17bZYQc"
      },
      "source": [
        "probability_model = tf.keras.Sequential([\r\n",
        "                                         model,\r\n",
        "                                         tf.keras.layers.Softmax()\r\n",
        "])"
      ],
      "execution_count": 12,
      "outputs": []
    },
    {
      "cell_type": "code",
      "metadata": {
        "colab": {
          "base_uri": "https://localhost:8080/"
        },
        "id": "p0ZIBnhyZrFb",
        "outputId": "d07e0b01-005c-476f-9b55-27def9ecf611"
      },
      "source": [
        "probability_model(x_test[:5])"
      ],
      "execution_count": 13,
      "outputs": [
        {
          "output_type": "execute_result",
          "data": {
            "text/plain": [
              "<tf.Tensor: shape=(5, 10), dtype=float32, numpy=\n",
              "array([[1.95287626e-08, 1.57155249e-08, 2.58607770e-06, 4.74467561e-05,\n",
              "        1.32683087e-10, 3.85915598e-07, 1.91687291e-12, 9.99948144e-01,\n",
              "        1.16646994e-07, 1.28579063e-06],\n",
              "       [8.37456980e-07, 3.75063132e-06, 9.99992490e-01, 2.39255337e-06,\n",
              "        1.46607159e-17, 1.45762167e-08, 1.31244519e-07, 6.34174110e-14,\n",
              "        5.23629581e-07, 1.23136039e-13],\n",
              "       [3.20208954e-07, 9.99586403e-01, 4.96540924e-05, 8.99776933e-06,\n",
              "        3.08752678e-05, 1.10093570e-05, 2.30577825e-05, 1.71883556e-04,\n",
              "        1.15774368e-04, 2.13069416e-06],\n",
              "       [9.99910712e-01, 3.03841863e-09, 7.59092436e-05, 3.95565785e-08,\n",
              "        2.30922570e-08, 4.78542961e-06, 3.43256897e-06, 4.02591155e-07,\n",
              "        1.80591243e-07, 4.45334899e-06],\n",
              "       [4.75567504e-07, 7.26814031e-09, 6.79777986e-06, 1.29341204e-08,\n",
              "        9.92219687e-01, 3.84729475e-07, 2.56870999e-06, 2.11253900e-05,\n",
              "        7.33758085e-08, 7.74887390e-03]], dtype=float32)>"
            ]
          },
          "metadata": {
            "tags": []
          },
          "execution_count": 13
        }
      ]
    },
    {
      "cell_type": "code",
      "metadata": {
        "id": "YgU7eyu5Zvus"
      },
      "source": [
        ""
      ],
      "execution_count": null,
      "outputs": []
    }
  ]
}