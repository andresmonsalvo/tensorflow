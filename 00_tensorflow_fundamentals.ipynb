{
  "nbformat": 4,
  "nbformat_minor": 0,
  "metadata": {
    "colab": {
      "name": "00_tensorflow_fundamentals.ipynb",
      "provenance": [],
      "collapsed_sections": [],
      "toc_visible": true
    },
    "kernelspec": {
      "name": "python3",
      "display_name": "Python 3"
    },
    "accelerator": "GPU"
  },
  "cells": [
    {
      "cell_type": "markdown",
      "metadata": {
        "id": "dscksDkN2gy1"
      },
      "source": [
        "# Fundamental concepts\r\n",
        "\r\n",
        "- Intro to tensors\r\n",
        "- Getting info from tensors\r\n",
        "- Manipulating tensors\r\n",
        "- Tensors and Numpy\r\n",
        "- Using @tf function to speed up regular Python functions\r\n",
        "- Using GPUs with TF\r\n",
        "- Excercises\r\n",
        "\r\n",
        "\r\n",
        "\r\n"
      ]
    },
    {
      "cell_type": "markdown",
      "metadata": {
        "id": "muNWxS0d31aQ"
      },
      "source": [
        "## Intro to Tensors"
      ]
    },
    {
      "cell_type": "code",
      "metadata": {
        "colab": {
          "base_uri": "https://localhost:8080/"
        },
        "id": "DpqS9H1s4B46",
        "outputId": "85644ea3-f1de-42fb-b193-b9adfc5d3068"
      },
      "source": [
        "# Import TF\r\n",
        "import tensorflow as tf\r\n",
        "print(tf.__version__)"
      ],
      "execution_count": 1,
      "outputs": [
        {
          "output_type": "stream",
          "text": [
            "2.4.1\n"
          ],
          "name": "stdout"
        }
      ]
    },
    {
      "cell_type": "markdown",
      "metadata": {
        "id": "kkp-bsFcAi4L"
      },
      "source": [
        "Creating tensors with tf.constant"
      ]
    },
    {
      "cell_type": "code",
      "metadata": {
        "colab": {
          "base_uri": "https://localhost:8080/"
        },
        "id": "ooGsUDqo4S5i",
        "outputId": "56f5034c-1fa3-4230-c47a-94ed430a747d"
      },
      "source": [
        "# Create tensors with tf.constant()\r\n",
        "scalar = tf.constant(7)\r\n",
        "scalar"
      ],
      "execution_count": 2,
      "outputs": [
        {
          "output_type": "execute_result",
          "data": {
            "text/plain": [
              "<tf.Tensor: shape=(), dtype=int32, numpy=7>"
            ]
          },
          "metadata": {
            "tags": []
          },
          "execution_count": 2
        }
      ]
    },
    {
      "cell_type": "code",
      "metadata": {
        "colab": {
          "base_uri": "https://localhost:8080/"
        },
        "id": "e8TTbzGS4vMp",
        "outputId": "667b2488-6c03-472e-9c14-34c95c738fb3"
      },
      "source": [
        "# Check the number of dimensions of a tensor(ndim)\r\n",
        "scalar.ndim"
      ],
      "execution_count": 3,
      "outputs": [
        {
          "output_type": "execute_result",
          "data": {
            "text/plain": [
              "0"
            ]
          },
          "metadata": {
            "tags": []
          },
          "execution_count": 3
        }
      ]
    },
    {
      "cell_type": "code",
      "metadata": {
        "colab": {
          "base_uri": "https://localhost:8080/"
        },
        "id": "-x-eRc7O6bb3",
        "outputId": "78b3466e-dc38-4da7-d39c-fe1ebde07d47"
      },
      "source": [
        "# Create a vector\r\n",
        "vector = tf.constant([10,10])\r\n",
        "vector"
      ],
      "execution_count": 4,
      "outputs": [
        {
          "output_type": "execute_result",
          "data": {
            "text/plain": [
              "<tf.Tensor: shape=(2,), dtype=int32, numpy=array([10, 10], dtype=int32)>"
            ]
          },
          "metadata": {
            "tags": []
          },
          "execution_count": 4
        }
      ]
    },
    {
      "cell_type": "code",
      "metadata": {
        "colab": {
          "base_uri": "https://localhost:8080/"
        },
        "id": "tPnma51O6iVi",
        "outputId": "dc5130ea-d2e7-40e1-ef56-45cf7eed083a"
      },
      "source": [
        "# Check the dimension of a vector\r\n",
        "vector.ndim"
      ],
      "execution_count": 5,
      "outputs": [
        {
          "output_type": "execute_result",
          "data": {
            "text/plain": [
              "1"
            ]
          },
          "metadata": {
            "tags": []
          },
          "execution_count": 5
        }
      ]
    },
    {
      "cell_type": "code",
      "metadata": {
        "colab": {
          "base_uri": "https://localhost:8080/"
        },
        "id": "5AC8aDor66dG",
        "outputId": "12799ca1-ab0d-4a18-e5b3-5bb155d7fd1e"
      },
      "source": [
        "# Create a matrix (more than 1 dimension)\r\n",
        "matrix = tf.constant([[10,7],\r\n",
        "                     [7,10]])\r\n",
        "matrix"
      ],
      "execution_count": 6,
      "outputs": [
        {
          "output_type": "execute_result",
          "data": {
            "text/plain": [
              "<tf.Tensor: shape=(2, 2), dtype=int32, numpy=\n",
              "array([[10,  7],\n",
              "       [ 7, 10]], dtype=int32)>"
            ]
          },
          "metadata": {
            "tags": []
          },
          "execution_count": 6
        }
      ]
    },
    {
      "cell_type": "code",
      "metadata": {
        "colab": {
          "base_uri": "https://localhost:8080/"
        },
        "id": "HAuCri4y7G44",
        "outputId": "9fdd6373-363d-4e44-d295-7664d8778369"
      },
      "source": [
        "# Check dimension of a matrix\r\n",
        "matrix.ndim"
      ],
      "execution_count": 7,
      "outputs": [
        {
          "output_type": "execute_result",
          "data": {
            "text/plain": [
              "2"
            ]
          },
          "metadata": {
            "tags": []
          },
          "execution_count": 7
        }
      ]
    },
    {
      "cell_type": "code",
      "metadata": {
        "colab": {
          "base_uri": "https://localhost:8080/"
        },
        "id": "tmc12B6g7oO1",
        "outputId": "1cc0d5fa-fd9b-4d2a-a95d-2f36f93f3cc5"
      },
      "source": [
        "# Another matrix\r\n",
        "another_matrix = tf.constant([[10.,7.],\r\n",
        "                              [3.,2.],\r\n",
        "                             [5.,5.]], dtype=tf.float16) #specify data type)\r\n",
        "another_matrix"
      ],
      "execution_count": 8,
      "outputs": [
        {
          "output_type": "execute_result",
          "data": {
            "text/plain": [
              "<tf.Tensor: shape=(3, 2), dtype=float16, numpy=\n",
              "array([[10.,  7.],\n",
              "       [ 3.,  2.],\n",
              "       [ 5.,  5.]], dtype=float16)>"
            ]
          },
          "metadata": {
            "tags": []
          },
          "execution_count": 8
        }
      ]
    },
    {
      "cell_type": "code",
      "metadata": {
        "colab": {
          "base_uri": "https://localhost:8080/"
        },
        "id": "8n5mMsFH8zQ9",
        "outputId": "c378af54-3206-42cd-c7e0-e30d133f08ca"
      },
      "source": [
        "# What is the number of dimensions\r\n",
        "another_matrix.ndim"
      ],
      "execution_count": 9,
      "outputs": [
        {
          "output_type": "execute_result",
          "data": {
            "text/plain": [
              "2"
            ]
          },
          "metadata": {
            "tags": []
          },
          "execution_count": 9
        }
      ]
    },
    {
      "cell_type": "code",
      "metadata": {
        "colab": {
          "base_uri": "https://localhost:8080/"
        },
        "id": "Zf6u6Rm29QUE",
        "outputId": "66416194-2d8c-48e5-ce8c-215b6180d922"
      },
      "source": [
        "# Let's create a tensor\r\n",
        "tensor = tf.constant([[[1,2,3],\r\n",
        "                      [4,5,6]],\r\n",
        "                     [[7,8,9],\r\n",
        "                     [10,11,12]],\r\n",
        "                     [[13,14,15],\r\n",
        "                      [16,17,18]]])\r\n",
        "tensor"
      ],
      "execution_count": 10,
      "outputs": [
        {
          "output_type": "execute_result",
          "data": {
            "text/plain": [
              "<tf.Tensor: shape=(3, 2, 3), dtype=int32, numpy=\n",
              "array([[[ 1,  2,  3],\n",
              "        [ 4,  5,  6]],\n",
              "\n",
              "       [[ 7,  8,  9],\n",
              "        [10, 11, 12]],\n",
              "\n",
              "       [[13, 14, 15],\n",
              "        [16, 17, 18]]], dtype=int32)>"
            ]
          },
          "metadata": {
            "tags": []
          },
          "execution_count": 10
        }
      ]
    },
    {
      "cell_type": "code",
      "metadata": {
        "colab": {
          "base_uri": "https://localhost:8080/"
        },
        "id": "9Kp7j9oL-gT0",
        "outputId": "5baf1056-bfdb-404e-99f0-c187930f8e43"
      },
      "source": [
        "tensor.ndim"
      ],
      "execution_count": 11,
      "outputs": [
        {
          "output_type": "execute_result",
          "data": {
            "text/plain": [
              "3"
            ]
          },
          "metadata": {
            "tags": []
          },
          "execution_count": 11
        }
      ]
    },
    {
      "cell_type": "markdown",
      "metadata": {
        "id": "8BiVCc5o-sIi"
      },
      "source": [
        "Notes:\r\n",
        "- Scalar: a single number, 0 dimensions\r\n",
        "- Vector: a number with direction (ie. speed and direction), 1 dimension\r\n",
        "- Matrix: a 2 dimensional array of numbers\r\n",
        "- Tensor: an n-dimensional array of numbers (if n=0 scalar, if n=1 vector)"
      ]
    },
    {
      "cell_type": "markdown",
      "metadata": {
        "id": "6Mobi0Ub_-D4"
      },
      "source": [
        "Creating Tensors with tf.Variable"
      ]
    },
    {
      "cell_type": "code",
      "metadata": {
        "colab": {
          "base_uri": "https://localhost:8080/"
        },
        "id": "iZb5Wp1OAfLg",
        "outputId": "b6ce97c5-682f-495e-d012-542c545909c1"
      },
      "source": [
        "# Create same tensor as above with tf.Variable\r\n",
        "changeable_tensor = tf.Variable([10,7])\r\n",
        "unchangeable_tensor = tf.constant([10,7])\r\n",
        "changeable_tensor, unchangeable_tensor"
      ],
      "execution_count": 12,
      "outputs": [
        {
          "output_type": "execute_result",
          "data": {
            "text/plain": [
              "(<tf.Variable 'Variable:0' shape=(2,) dtype=int32, numpy=array([10,  7], dtype=int32)>,\n",
              " <tf.Tensor: shape=(2,), dtype=int32, numpy=array([10,  7], dtype=int32)>)"
            ]
          },
          "metadata": {
            "tags": []
          },
          "execution_count": 12
        }
      ]
    },
    {
      "cell_type": "markdown",
      "metadata": {
        "id": "4tRN_MzICC5X"
      },
      "source": [
        "### Try to change one of the elements in changeable_tensor\r\n",
        "changeable_tensor[0] = 7\r\n",
        "changeable_tensor\r\n",
        "\r\n",
        "### GIVES AND ERROR"
      ]
    },
    {
      "cell_type": "code",
      "metadata": {
        "colab": {
          "base_uri": "https://localhost:8080/"
        },
        "id": "NTecNB51DDSc",
        "outputId": "4412d7c2-2f09-4b2a-806f-f9343d43f3f0"
      },
      "source": [
        "# ...trying other way .assign()\r\n",
        "changeable_tensor[0].assign(7)\r\n",
        "changeable_tensor"
      ],
      "execution_count": 13,
      "outputs": [
        {
          "output_type": "execute_result",
          "data": {
            "text/plain": [
              "<tf.Variable 'Variable:0' shape=(2,) dtype=int32, numpy=array([7, 7], dtype=int32)>"
            ]
          },
          "metadata": {
            "tags": []
          },
          "execution_count": 13
        }
      ]
    },
    {
      "cell_type": "markdown",
      "metadata": {
        "id": "hIihw15GDQGX"
      },
      "source": [
        "unchangeable_tensor[0] = 7\r\n",
        "unchangeable_tensor\r\n",
        "\r\n",
        "### GIVES AND ERROR"
      ]
    },
    {
      "cell_type": "markdown",
      "metadata": {
        "id": "tDiSXui_DhB9"
      },
      "source": [
        "unchangeable_tensor[0].assign(7)\r\n",
        "unchangeable_tensor\r\n",
        "\r\n",
        "### GIVES AND ERROR"
      ]
    },
    {
      "cell_type": "markdown",
      "metadata": {
        "id": "I3DipnQADpSN"
      },
      "source": [
        "### Creating Random Tensors (tf.random.Generator.from_seed())"
      ]
    },
    {
      "cell_type": "code",
      "metadata": {
        "colab": {
          "base_uri": "https://localhost:8080/"
        },
        "id": "shrmMij0D85Z",
        "outputId": "aef76cff-e9ae-4cc7-e316-a0c089cc2251"
      },
      "source": [
        "# Create two random (but the same) tensors\r\n",
        "random_1 = tf.random.Generator.from_seed(42)\r\n",
        "random_1 = random_1.normal(shape=(3,2))\r\n",
        "# random_1\r\n",
        "random_2 = tf.random.Generator.from_seed(42)\r\n",
        "random_2 = random_2.normal(shape=(3,2))\r\n",
        "\r\n",
        "# Are they equal?\r\n",
        "random_1, random_2, random_1 == random_2"
      ],
      "execution_count": 14,
      "outputs": [
        {
          "output_type": "execute_result",
          "data": {
            "text/plain": [
              "(<tf.Tensor: shape=(3, 2), dtype=float32, numpy=\n",
              " array([[-0.7565803 , -0.06854702],\n",
              "        [ 0.07595026, -1.2573844 ],\n",
              "        [-0.23193763, -1.8107855 ]], dtype=float32)>,\n",
              " <tf.Tensor: shape=(3, 2), dtype=float32, numpy=\n",
              " array([[-0.7565803 , -0.06854702],\n",
              "        [ 0.07595026, -1.2573844 ],\n",
              "        [-0.23193763, -1.8107855 ]], dtype=float32)>,\n",
              " <tf.Tensor: shape=(3, 2), dtype=bool, numpy=\n",
              " array([[ True,  True],\n",
              "        [ True,  True],\n",
              "        [ True,  True]])>)"
            ]
          },
          "metadata": {
            "tags": []
          },
          "execution_count": 14
        }
      ]
    },
    {
      "cell_type": "markdown",
      "metadata": {
        "id": "6y7CvJ2-HJB7"
      },
      "source": [
        "### Shuffle the order of elements in a tensor (.shuffle)"
      ]
    },
    {
      "cell_type": "code",
      "metadata": {
        "colab": {
          "base_uri": "https://localhost:8080/"
        },
        "id": "OXyc7VluOTSQ",
        "outputId": "fc9942bd-3a07-457f-c870-f40b8d0c8e31"
      },
      "source": [
        "# Suffle a tensor (to avoid bias towards a category, and allow the NN to learn from different categories at the same time)\r\n",
        "not_shuffled = tf.constant([[10,7],\r\n",
        "                            [3,4],\r\n",
        "                            [2,5]])\r\n",
        "not_shuffled"
      ],
      "execution_count": 15,
      "outputs": [
        {
          "output_type": "execute_result",
          "data": {
            "text/plain": [
              "<tf.Tensor: shape=(3, 2), dtype=int32, numpy=\n",
              "array([[10,  7],\n",
              "       [ 3,  4],\n",
              "       [ 2,  5]], dtype=int32)>"
            ]
          },
          "metadata": {
            "tags": []
          },
          "execution_count": 15
        }
      ]
    },
    {
      "cell_type": "code",
      "metadata": {
        "colab": {
          "base_uri": "https://localhost:8080/"
        },
        "id": "y4Ei-pyIPTMf",
        "outputId": "31e385f7-c2a1-4f9f-bc3a-59d05e9e5792"
      },
      "source": [
        "# Shuffle\r\n",
        "tf.random.shuffle(not_shuffled)"
      ],
      "execution_count": 16,
      "outputs": [
        {
          "output_type": "execute_result",
          "data": {
            "text/plain": [
              "<tf.Tensor: shape=(3, 2), dtype=int32, numpy=\n",
              "array([[ 3,  4],\n",
              "       [ 2,  5],\n",
              "       [10,  7]], dtype=int32)>"
            ]
          },
          "metadata": {
            "tags": []
          },
          "execution_count": 16
        }
      ]
    },
    {
      "cell_type": "code",
      "metadata": {
        "colab": {
          "base_uri": "https://localhost:8080/"
        },
        "id": "1XDiUbBfQLf_",
        "outputId": "36063827-2e2a-4733-bdc3-20ba32a72d8d"
      },
      "source": [
        "tf.random.set_seed(42)  # global level\r\n",
        "tf.random.shuffle(not_shuffled, seed=42)  # operation level random seed"
      ],
      "execution_count": 17,
      "outputs": [
        {
          "output_type": "execute_result",
          "data": {
            "text/plain": [
              "<tf.Tensor: shape=(3, 2), dtype=int32, numpy=\n",
              "array([[10,  7],\n",
              "       [ 3,  4],\n",
              "       [ 2,  5]], dtype=int32)>"
            ]
          },
          "metadata": {
            "tags": []
          },
          "execution_count": 17
        }
      ]
    },
    {
      "cell_type": "code",
      "metadata": {
        "id": "vvWZXOGiQzYN"
      },
      "source": [
        "## read TF documentation with random seed generation and practice (use rule 4 better to be consistent every time): https://www.tensorflow.org/api_docs/python/tf/random/set_seed"
      ],
      "execution_count": 18,
      "outputs": []
    },
    {
      "cell_type": "markdown",
      "metadata": {
        "id": "iKrm170mxsdf"
      },
      "source": [
        "### Other ways to make tensors (tf.xxxx)"
      ]
    },
    {
      "cell_type": "code",
      "metadata": {
        "colab": {
          "base_uri": "https://localhost:8080/"
        },
        "id": "6ix7Acc1zzgk",
        "outputId": "cdabe59a-7f61-4471-974f-ca6f8910a207"
      },
      "source": [
        "# Create a tensors of all ones\r\n",
        "tf.ones([10,7])"
      ],
      "execution_count": 19,
      "outputs": [
        {
          "output_type": "execute_result",
          "data": {
            "text/plain": [
              "<tf.Tensor: shape=(10, 7), dtype=float32, numpy=\n",
              "array([[1., 1., 1., 1., 1., 1., 1.],\n",
              "       [1., 1., 1., 1., 1., 1., 1.],\n",
              "       [1., 1., 1., 1., 1., 1., 1.],\n",
              "       [1., 1., 1., 1., 1., 1., 1.],\n",
              "       [1., 1., 1., 1., 1., 1., 1.],\n",
              "       [1., 1., 1., 1., 1., 1., 1.],\n",
              "       [1., 1., 1., 1., 1., 1., 1.],\n",
              "       [1., 1., 1., 1., 1., 1., 1.],\n",
              "       [1., 1., 1., 1., 1., 1., 1.],\n",
              "       [1., 1., 1., 1., 1., 1., 1.]], dtype=float32)>"
            ]
          },
          "metadata": {
            "tags": []
          },
          "execution_count": 19
        }
      ]
    },
    {
      "cell_type": "code",
      "metadata": {
        "colab": {
          "base_uri": "https://localhost:8080/"
        },
        "id": "BjTajQpV0F1G",
        "outputId": "38bbdd8a-dd72-433d-f84a-e3c721269a30"
      },
      "source": [
        "tf.zeros(shape=(3,4))"
      ],
      "execution_count": 20,
      "outputs": [
        {
          "output_type": "execute_result",
          "data": {
            "text/plain": [
              "<tf.Tensor: shape=(3, 4), dtype=float32, numpy=\n",
              "array([[0., 0., 0., 0.],\n",
              "       [0., 0., 0., 0.],\n",
              "       [0., 0., 0., 0.]], dtype=float32)>"
            ]
          },
          "metadata": {
            "tags": []
          },
          "execution_count": 20
        }
      ]
    },
    {
      "cell_type": "markdown",
      "metadata": {
        "id": "LiSjYt2c0JOj"
      },
      "source": [
        "### Turn NumPy arrays into tensors (tf.constant(numpy_A, shape=(2,3,4)))\r\n",
        "\r\n",
        "The main difference between NumPy arrays and TF tensors is that tensors can be run on a GPU computing"
      ]
    },
    {
      "cell_type": "code",
      "metadata": {
        "colab": {
          "base_uri": "https://localhost:8080/"
        },
        "id": "HfuQmhCa0szz",
        "outputId": "f69f24f8-04cf-4337-a4c1-d3b0f546695f"
      },
      "source": [
        "# Turning numpy arrays into tensors\r\n",
        "import numpy as np\r\n",
        "numpy_A = np.arange(1,25,dtype=np.int32)  # creat a numpy array between 1 to 25\r\n",
        "numpy_A\r\n",
        "\r\n",
        "# X = tf.constant(some matrix)  # capital letter for matrix or tensor\r\n",
        "# y = tf.constant(vector)  # non capital for vector"
      ],
      "execution_count": 21,
      "outputs": [
        {
          "output_type": "execute_result",
          "data": {
            "text/plain": [
              "array([ 1,  2,  3,  4,  5,  6,  7,  8,  9, 10, 11, 12, 13, 14, 15, 16, 17,\n",
              "       18, 19, 20, 21, 22, 23, 24], dtype=int32)"
            ]
          },
          "metadata": {
            "tags": []
          },
          "execution_count": 21
        }
      ]
    },
    {
      "cell_type": "code",
      "metadata": {
        "colab": {
          "base_uri": "https://localhost:8080/"
        },
        "id": "54q7VnV41lGK",
        "outputId": "782cbc05-0a98-4d97-9f14-fcc69e29045e"
      },
      "source": [
        "A = tf.constant(numpy_A)   # convertion step\r\n",
        "A"
      ],
      "execution_count": 22,
      "outputs": [
        {
          "output_type": "execute_result",
          "data": {
            "text/plain": [
              "<tf.Tensor: shape=(24,), dtype=int32, numpy=\n",
              "array([ 1,  2,  3,  4,  5,  6,  7,  8,  9, 10, 11, 12, 13, 14, 15, 16, 17,\n",
              "       18, 19, 20, 21, 22, 23, 24], dtype=int32)>"
            ]
          },
          "metadata": {
            "tags": []
          },
          "execution_count": 22
        }
      ]
    },
    {
      "cell_type": "code",
      "metadata": {
        "colab": {
          "base_uri": "https://localhost:8080/"
        },
        "id": "BiE6xiQc1_Fx",
        "outputId": "9792c3d6-c7cc-412f-cd43-7cec16fb58b2"
      },
      "source": [
        "A = tf.constant(numpy_A, shape=(2,3,4))\r\n",
        "A"
      ],
      "execution_count": 23,
      "outputs": [
        {
          "output_type": "execute_result",
          "data": {
            "text/plain": [
              "<tf.Tensor: shape=(2, 3, 4), dtype=int32, numpy=\n",
              "array([[[ 1,  2,  3,  4],\n",
              "        [ 5,  6,  7,  8],\n",
              "        [ 9, 10, 11, 12]],\n",
              "\n",
              "       [[13, 14, 15, 16],\n",
              "        [17, 18, 19, 20],\n",
              "        [21, 22, 23, 24]]], dtype=int32)>"
            ]
          },
          "metadata": {
            "tags": []
          },
          "execution_count": 23
        }
      ]
    },
    {
      "cell_type": "code",
      "metadata": {
        "colab": {
          "base_uri": "https://localhost:8080/"
        },
        "id": "-9MB3F602O1x",
        "outputId": "5c3e979b-40dc-4d70-a8df-0d6d8471107a"
      },
      "source": [
        "A = tf.constant(numpy_A, shape=(2,3,4))\r\n",
        "B = tf.constant(numpy_A)\r\n",
        "A, B"
      ],
      "execution_count": 24,
      "outputs": [
        {
          "output_type": "execute_result",
          "data": {
            "text/plain": [
              "(<tf.Tensor: shape=(2, 3, 4), dtype=int32, numpy=\n",
              " array([[[ 1,  2,  3,  4],\n",
              "         [ 5,  6,  7,  8],\n",
              "         [ 9, 10, 11, 12]],\n",
              " \n",
              "        [[13, 14, 15, 16],\n",
              "         [17, 18, 19, 20],\n",
              "         [21, 22, 23, 24]]], dtype=int32)>,\n",
              " <tf.Tensor: shape=(24,), dtype=int32, numpy=\n",
              " array([ 1,  2,  3,  4,  5,  6,  7,  8,  9, 10, 11, 12, 13, 14, 15, 16, 17,\n",
              "        18, 19, 20, 21, 22, 23, 24], dtype=int32)>)"
            ]
          },
          "metadata": {
            "tags": []
          },
          "execution_count": 24
        }
      ]
    },
    {
      "cell_type": "code",
      "metadata": {
        "colab": {
          "base_uri": "https://localhost:8080/"
        },
        "id": "z2o78HD12oHh",
        "outputId": "f961ece6-94dc-4cd4-f68b-c94e1340c28b"
      },
      "source": [
        "2*3*4"
      ],
      "execution_count": 25,
      "outputs": [
        {
          "output_type": "execute_result",
          "data": {
            "text/plain": [
              "24"
            ]
          },
          "metadata": {
            "tags": []
          },
          "execution_count": 25
        }
      ]
    },
    {
      "cell_type": "code",
      "metadata": {
        "colab": {
          "base_uri": "https://localhost:8080/"
        },
        "id": "tl7P2O1u2uUQ",
        "outputId": "e867ae94-8736-4c03-83db-fd201c50a555"
      },
      "source": [
        "A = tf.constant(numpy_A, shape=(3,8))\r\n",
        "A"
      ],
      "execution_count": 26,
      "outputs": [
        {
          "output_type": "execute_result",
          "data": {
            "text/plain": [
              "<tf.Tensor: shape=(3, 8), dtype=int32, numpy=\n",
              "array([[ 1,  2,  3,  4,  5,  6,  7,  8],\n",
              "       [ 9, 10, 11, 12, 13, 14, 15, 16],\n",
              "       [17, 18, 19, 20, 21, 22, 23, 24]], dtype=int32)>"
            ]
          },
          "metadata": {
            "tags": []
          },
          "execution_count": 26
        }
      ]
    },
    {
      "cell_type": "code",
      "metadata": {
        "colab": {
          "base_uri": "https://localhost:8080/"
        },
        "id": "PHMSHk1q3FeI",
        "outputId": "295556d9-aef7-4037-961c-84c5387eca56"
      },
      "source": [
        "A.ndim"
      ],
      "execution_count": 27,
      "outputs": [
        {
          "output_type": "execute_result",
          "data": {
            "text/plain": [
              "2"
            ]
          },
          "metadata": {
            "tags": []
          },
          "execution_count": 27
        }
      ]
    },
    {
      "cell_type": "markdown",
      "metadata": {
        "id": "ntjkrdON234Q"
      },
      "source": [
        "### Getting information from Tensors\r\n",
        "Attributes:\r\n",
        "- Shape\r\n",
        "- Rank\r\n",
        "- Axis or dimension\r\n",
        "- Size"
      ]
    },
    {
      "cell_type": "code",
      "metadata": {
        "colab": {
          "base_uri": "https://localhost:8080/"
        },
        "id": "Z2XCN0iw5Bat",
        "outputId": "c4b61dad-d76d-4e3b-8a87-aa43432823db"
      },
      "source": [
        "# Create a rank 4 tensor (4 dimensions)\r\n",
        "rank_4_tensor = tf.zeros(shape=[2,3,4,5])\r\n",
        "rank_4_tensor"
      ],
      "execution_count": 28,
      "outputs": [
        {
          "output_type": "execute_result",
          "data": {
            "text/plain": [
              "<tf.Tensor: shape=(2, 3, 4, 5), dtype=float32, numpy=\n",
              "array([[[[0., 0., 0., 0., 0.],\n",
              "         [0., 0., 0., 0., 0.],\n",
              "         [0., 0., 0., 0., 0.],\n",
              "         [0., 0., 0., 0., 0.]],\n",
              "\n",
              "        [[0., 0., 0., 0., 0.],\n",
              "         [0., 0., 0., 0., 0.],\n",
              "         [0., 0., 0., 0., 0.],\n",
              "         [0., 0., 0., 0., 0.]],\n",
              "\n",
              "        [[0., 0., 0., 0., 0.],\n",
              "         [0., 0., 0., 0., 0.],\n",
              "         [0., 0., 0., 0., 0.],\n",
              "         [0., 0., 0., 0., 0.]]],\n",
              "\n",
              "\n",
              "       [[[0., 0., 0., 0., 0.],\n",
              "         [0., 0., 0., 0., 0.],\n",
              "         [0., 0., 0., 0., 0.],\n",
              "         [0., 0., 0., 0., 0.]],\n",
              "\n",
              "        [[0., 0., 0., 0., 0.],\n",
              "         [0., 0., 0., 0., 0.],\n",
              "         [0., 0., 0., 0., 0.],\n",
              "         [0., 0., 0., 0., 0.]],\n",
              "\n",
              "        [[0., 0., 0., 0., 0.],\n",
              "         [0., 0., 0., 0., 0.],\n",
              "         [0., 0., 0., 0., 0.],\n",
              "         [0., 0., 0., 0., 0.]]]], dtype=float32)>"
            ]
          },
          "metadata": {
            "tags": []
          },
          "execution_count": 28
        }
      ]
    },
    {
      "cell_type": "code",
      "metadata": {
        "colab": {
          "base_uri": "https://localhost:8080/"
        },
        "id": "mGyweYw1_E7q",
        "outputId": "e75606d2-3cf0-4a22-9927-b32e2fc35bc9"
      },
      "source": [
        "rank_4_tensor[0] # 0 axis"
      ],
      "execution_count": 29,
      "outputs": [
        {
          "output_type": "execute_result",
          "data": {
            "text/plain": [
              "<tf.Tensor: shape=(3, 4, 5), dtype=float32, numpy=\n",
              "array([[[0., 0., 0., 0., 0.],\n",
              "        [0., 0., 0., 0., 0.],\n",
              "        [0., 0., 0., 0., 0.],\n",
              "        [0., 0., 0., 0., 0.]],\n",
              "\n",
              "       [[0., 0., 0., 0., 0.],\n",
              "        [0., 0., 0., 0., 0.],\n",
              "        [0., 0., 0., 0., 0.],\n",
              "        [0., 0., 0., 0., 0.]],\n",
              "\n",
              "       [[0., 0., 0., 0., 0.],\n",
              "        [0., 0., 0., 0., 0.],\n",
              "        [0., 0., 0., 0., 0.],\n",
              "        [0., 0., 0., 0., 0.]]], dtype=float32)>"
            ]
          },
          "metadata": {
            "tags": []
          },
          "execution_count": 29
        }
      ]
    },
    {
      "cell_type": "code",
      "metadata": {
        "colab": {
          "base_uri": "https://localhost:8080/"
        },
        "id": "z7GATDux_SP2",
        "outputId": "05d7b018-e9cb-4e5a-d024-c147cbfb3347"
      },
      "source": [
        "rank_4_tensor.shape, rank_4_tensor.ndim, tf.size(rank_4_tensor)"
      ],
      "execution_count": 30,
      "outputs": [
        {
          "output_type": "execute_result",
          "data": {
            "text/plain": [
              "(TensorShape([2, 3, 4, 5]), 4, <tf.Tensor: shape=(), dtype=int32, numpy=120>)"
            ]
          },
          "metadata": {
            "tags": []
          },
          "execution_count": 30
        }
      ]
    },
    {
      "cell_type": "code",
      "metadata": {
        "colab": {
          "base_uri": "https://localhost:8080/"
        },
        "id": "lmc-jNuqAkMG",
        "outputId": "3c58b3f4-4740-4483-a682-dceec5587515"
      },
      "source": [
        "rank_4_tensor.ndim"
      ],
      "execution_count": 31,
      "outputs": [
        {
          "output_type": "execute_result",
          "data": {
            "text/plain": [
              "4"
            ]
          },
          "metadata": {
            "tags": []
          },
          "execution_count": 31
        }
      ]
    },
    {
      "cell_type": "code",
      "metadata": {
        "colab": {
          "base_uri": "https://localhost:8080/"
        },
        "id": "0Y1fIttu_sbW",
        "outputId": "48a06cb9-86d4-4a4c-bbb8-02e0b49e8a8a"
      },
      "source": [
        "2*3*4*5"
      ],
      "execution_count": 32,
      "outputs": [
        {
          "output_type": "execute_result",
          "data": {
            "text/plain": [
              "120"
            ]
          },
          "metadata": {
            "tags": []
          },
          "execution_count": 32
        }
      ]
    },
    {
      "cell_type": "code",
      "metadata": {
        "colab": {
          "base_uri": "https://localhost:8080/"
        },
        "id": "E_PpiRqC_4BV",
        "outputId": "fd155c63-4c13-445b-8374-7965deb7af78"
      },
      "source": [
        "# Get various tensor attributes\r\n",
        "print(\"Datatype of every element:\", rank_4_tensor.dtype)\r\n",
        "print(\"Number of dimensions (rank):\", rank_4_tensor.ndim)\r\n",
        "print(\"Shape of tensor:\", rank_4_tensor.shape)\r\n",
        "print(\"Elements along axis 0 of tensor:\", rank_4_tensor.shape[0])\r\n",
        "print(\"Elements along last axis of tensor:\", rank_4_tensor.shape[-1])\r\n",
        "print(\"Total number of elements (2*3*4*5):\", tf.size(rank_4_tensor).numpy()) # .numpy() converts to integer 120"
      ],
      "execution_count": 33,
      "outputs": [
        {
          "output_type": "stream",
          "text": [
            "Datatype of every element: <dtype: 'float32'>\n",
            "Number of dimensions (rank): 4\n",
            "Shape of tensor: (2, 3, 4, 5)\n",
            "Elements along axis 0 of tensor: 2\n",
            "Elements along last axis of tensor: 5\n",
            "Total number of elements (2*3*4*5): 120\n"
          ],
          "name": "stdout"
        }
      ]
    },
    {
      "cell_type": "markdown",
      "metadata": {
        "id": "lwqRO5NxAzSd"
      },
      "source": [
        "### Indexing tensors\r\n",
        "\r\n",
        "Just like a python list"
      ]
    },
    {
      "cell_type": "code",
      "metadata": {
        "colab": {
          "base_uri": "https://localhost:8080/"
        },
        "id": "uH9mfRijClgX",
        "outputId": "e15673a8-a41a-4c0b-baa3-e436ef889885"
      },
      "source": [
        "some_list = [1,2,3,4]\r\n",
        "some_list[:2]"
      ],
      "execution_count": 34,
      "outputs": [
        {
          "output_type": "execute_result",
          "data": {
            "text/plain": [
              "[1, 2]"
            ]
          },
          "metadata": {
            "tags": []
          },
          "execution_count": 34
        }
      ]
    },
    {
      "cell_type": "code",
      "metadata": {
        "colab": {
          "base_uri": "https://localhost:8080/"
        },
        "id": "v4-VbMClB31k",
        "outputId": "90a24814-0499-4d70-9958-173e51785f64"
      },
      "source": [
        "# Get first 2 elements of each dimension\r\n",
        "rank_4_tensor[:2,:2,:2,:2]"
      ],
      "execution_count": 35,
      "outputs": [
        {
          "output_type": "execute_result",
          "data": {
            "text/plain": [
              "<tf.Tensor: shape=(2, 2, 2, 2), dtype=float32, numpy=\n",
              "array([[[[0., 0.],\n",
              "         [0., 0.]],\n",
              "\n",
              "        [[0., 0.],\n",
              "         [0., 0.]]],\n",
              "\n",
              "\n",
              "       [[[0., 0.],\n",
              "         [0., 0.]],\n",
              "\n",
              "        [[0., 0.],\n",
              "         [0., 0.]]]], dtype=float32)>"
            ]
          },
          "metadata": {
            "tags": []
          },
          "execution_count": 35
        }
      ]
    },
    {
      "cell_type": "code",
      "metadata": {
        "colab": {
          "base_uri": "https://localhost:8080/"
        },
        "id": "exZFVWvyD3TB",
        "outputId": "1180b628-55a8-4477-d736-a5487906756a"
      },
      "source": [
        "rank_4_tensor.shape"
      ],
      "execution_count": 36,
      "outputs": [
        {
          "output_type": "execute_result",
          "data": {
            "text/plain": [
              "TensorShape([2, 3, 4, 5])"
            ]
          },
          "metadata": {
            "tags": []
          },
          "execution_count": 36
        }
      ]
    },
    {
      "cell_type": "code",
      "metadata": {
        "colab": {
          "base_uri": "https://localhost:8080/"
        },
        "id": "J9gDrNJLCRCD",
        "outputId": "cc855e15-4432-4313-9adc-9aed690d59bd"
      },
      "source": [
        "# Get the first element from each dimension from each index except for the final one\r\n",
        "rank_4_tensor[:1,:1,:1,:]   # first elements with 1 get flattened except the last one"
      ],
      "execution_count": 37,
      "outputs": [
        {
          "output_type": "execute_result",
          "data": {
            "text/plain": [
              "<tf.Tensor: shape=(1, 1, 1, 5), dtype=float32, numpy=array([[[[0., 0., 0., 0., 0.]]]], dtype=float32)>"
            ]
          },
          "metadata": {
            "tags": []
          },
          "execution_count": 37
        }
      ]
    },
    {
      "cell_type": "code",
      "metadata": {
        "colab": {
          "base_uri": "https://localhost:8080/"
        },
        "id": "IM62s1UIDJoa",
        "outputId": "5f194135-b639-49a4-e0b0-0ee38297d44d"
      },
      "source": [
        "A"
      ],
      "execution_count": 38,
      "outputs": [
        {
          "output_type": "execute_result",
          "data": {
            "text/plain": [
              "<tf.Tensor: shape=(3, 8), dtype=int32, numpy=\n",
              "array([[ 1,  2,  3,  4,  5,  6,  7,  8],\n",
              "       [ 9, 10, 11, 12, 13, 14, 15, 16],\n",
              "       [17, 18, 19, 20, 21, 22, 23, 24]], dtype=int32)>"
            ]
          },
          "metadata": {
            "tags": []
          },
          "execution_count": 38
        }
      ]
    },
    {
      "cell_type": "code",
      "metadata": {
        "colab": {
          "base_uri": "https://localhost:8080/"
        },
        "id": "U3QnlHh0EkCg",
        "outputId": "b78558c1-7814-4d66-a391-1136dba76aa7"
      },
      "source": [
        "A[:3]"
      ],
      "execution_count": 39,
      "outputs": [
        {
          "output_type": "execute_result",
          "data": {
            "text/plain": [
              "<tf.Tensor: shape=(3, 8), dtype=int32, numpy=\n",
              "array([[ 1,  2,  3,  4,  5,  6,  7,  8],\n",
              "       [ 9, 10, 11, 12, 13, 14, 15, 16],\n",
              "       [17, 18, 19, 20, 21, 22, 23, 24]], dtype=int32)>"
            ]
          },
          "metadata": {
            "tags": []
          },
          "execution_count": 39
        }
      ]
    },
    {
      "cell_type": "code",
      "metadata": {
        "colab": {
          "base_uri": "https://localhost:8080/"
        },
        "id": "2vbhGGv8EtCA",
        "outputId": "854fc22b-3454-4a62-92fb-37539b3f74c4"
      },
      "source": [
        "A[:1,:1]"
      ],
      "execution_count": 40,
      "outputs": [
        {
          "output_type": "execute_result",
          "data": {
            "text/plain": [
              "<tf.Tensor: shape=(1, 1), dtype=int32, numpy=array([[1]], dtype=int32)>"
            ]
          },
          "metadata": {
            "tags": []
          },
          "execution_count": 40
        }
      ]
    },
    {
      "cell_type": "code",
      "metadata": {
        "colab": {
          "base_uri": "https://localhost:8080/"
        },
        "id": "EZn6iAaPFGOv",
        "outputId": "3d991aef-606a-4f37-af5e-9cf718ad9fcd"
      },
      "source": [
        "# Create a rank 2 sensor (2 dimensions)\r\n",
        "rank_2_tensor = tf.constant([[10,7],\r\n",
        "                            [3,4]])\r\n",
        "rank_2_tensor"
      ],
      "execution_count": 41,
      "outputs": [
        {
          "output_type": "execute_result",
          "data": {
            "text/plain": [
              "<tf.Tensor: shape=(2, 2), dtype=int32, numpy=\n",
              "array([[10,  7],\n",
              "       [ 3,  4]], dtype=int32)>"
            ]
          },
          "metadata": {
            "tags": []
          },
          "execution_count": 41
        }
      ]
    },
    {
      "cell_type": "code",
      "metadata": {
        "colab": {
          "base_uri": "https://localhost:8080/"
        },
        "id": "_nKBft66IOn9",
        "outputId": "26835ef3-9654-400f-9d64-93cbd1614e5b"
      },
      "source": [
        "rank_2_tensor = tf.constant([[10,7],\r\n",
        "                            [3,4]])\r\n",
        "rank_2_tensor.shape, rank_2_tensor.ndim"
      ],
      "execution_count": 42,
      "outputs": [
        {
          "output_type": "execute_result",
          "data": {
            "text/plain": [
              "(TensorShape([2, 2]), 2)"
            ]
          },
          "metadata": {
            "tags": []
          },
          "execution_count": 42
        }
      ]
    },
    {
      "cell_type": "code",
      "metadata": {
        "colab": {
          "base_uri": "https://localhost:8080/"
        },
        "id": "7e0kogz0IcBc",
        "outputId": "477ffe69-8fe4-4668-fc5a-7a75a66f4e2a"
      },
      "source": [
        "# Get the last item of each row of our rank 2 tensor\r\n",
        "rank_2_tensor[:2,-1]"
      ],
      "execution_count": 43,
      "outputs": [
        {
          "output_type": "execute_result",
          "data": {
            "text/plain": [
              "<tf.Tensor: shape=(2,), dtype=int32, numpy=array([7, 4], dtype=int32)>"
            ]
          },
          "metadata": {
            "tags": []
          },
          "execution_count": 43
        }
      ]
    },
    {
      "cell_type": "code",
      "metadata": {
        "colab": {
          "base_uri": "https://localhost:8080/"
        },
        "id": "F6SteUAOJBVK",
        "outputId": "5d9ff3fe-fb8f-4ef9-965e-926a7445ec7d"
      },
      "source": [
        "# Add an extra dimension to our rank 2 sensor\r\n",
        "rank_3_sensor = rank_2_tensor[..., tf.newaxis]\r\n",
        "rank_3_sensor"
      ],
      "execution_count": 44,
      "outputs": [
        {
          "output_type": "execute_result",
          "data": {
            "text/plain": [
              "<tf.Tensor: shape=(2, 2, 1), dtype=int32, numpy=\n",
              "array([[[10],\n",
              "        [ 7]],\n",
              "\n",
              "       [[ 3],\n",
              "        [ 4]]], dtype=int32)>"
            ]
          },
          "metadata": {
            "tags": []
          },
          "execution_count": 44
        }
      ]
    },
    {
      "cell_type": "code",
      "metadata": {
        "colab": {
          "base_uri": "https://localhost:8080/"
        },
        "id": "aPyEj5toKLYw",
        "outputId": "7f217527-76f8-434e-8fb2-343e06c163c2"
      },
      "source": [
        "# Alternative to tf.newaxis\r\n",
        "tf.expand_dims(rank_2_tensor, axis=-1) # numbers stay the same, just one more dimension"
      ],
      "execution_count": 45,
      "outputs": [
        {
          "output_type": "execute_result",
          "data": {
            "text/plain": [
              "<tf.Tensor: shape=(2, 2, 1), dtype=int32, numpy=\n",
              "array([[[10],\n",
              "        [ 7]],\n",
              "\n",
              "       [[ 3],\n",
              "        [ 4]]], dtype=int32)>"
            ]
          },
          "metadata": {
            "tags": []
          },
          "execution_count": 45
        }
      ]
    },
    {
      "cell_type": "code",
      "metadata": {
        "colab": {
          "base_uri": "https://localhost:8080/"
        },
        "id": "g3L-22arKuk5",
        "outputId": "a0c7b7f2-df2d-4768-d612-96fb926a7158"
      },
      "source": [
        "tf.expand_dims(rank_2_tensor, axis=0) # numbers stay the same, just one more dimension"
      ],
      "execution_count": 46,
      "outputs": [
        {
          "output_type": "execute_result",
          "data": {
            "text/plain": [
              "<tf.Tensor: shape=(1, 2, 2), dtype=int32, numpy=\n",
              "array([[[10,  7],\n",
              "        [ 3,  4]]], dtype=int32)>"
            ]
          },
          "metadata": {
            "tags": []
          },
          "execution_count": 46
        }
      ]
    },
    {
      "cell_type": "code",
      "metadata": {
        "colab": {
          "base_uri": "https://localhost:8080/"
        },
        "id": "MenvOIIiK_f5",
        "outputId": "e556bfae-aee8-4e63-8c7b-c7aa296d34da"
      },
      "source": [
        "tf.expand_dims(rank_2_tensor, axis=1) # numbers stay the same, just one more dimension"
      ],
      "execution_count": 47,
      "outputs": [
        {
          "output_type": "execute_result",
          "data": {
            "text/plain": [
              "<tf.Tensor: shape=(2, 1, 2), dtype=int32, numpy=\n",
              "array([[[10,  7]],\n",
              "\n",
              "       [[ 3,  4]]], dtype=int32)>"
            ]
          },
          "metadata": {
            "tags": []
          },
          "execution_count": 47
        }
      ]
    },
    {
      "cell_type": "markdown",
      "metadata": {
        "id": "K4MT4X0_LODw"
      },
      "source": [
        "### Manipulating tensors (tensor operations)\r\n",
        "\r\n",
        "Basic Operations\r\n",
        "`+`,`-`,`*`,`/`"
      ]
    },
    {
      "cell_type": "code",
      "metadata": {
        "colab": {
          "base_uri": "https://localhost:8080/"
        },
        "id": "wHFfp4wz4yK5",
        "outputId": "e8df3bb6-513a-4111-df3a-142096ec8a48"
      },
      "source": [
        "# Add values to a tensor using the addition operator\r\n",
        "tensor = tf.constant([[10,7],\r\n",
        "                      [3,4]])\r\n",
        "tensor + 10"
      ],
      "execution_count": 48,
      "outputs": [
        {
          "output_type": "execute_result",
          "data": {
            "text/plain": [
              "<tf.Tensor: shape=(2, 2), dtype=int32, numpy=\n",
              "array([[20, 17],\n",
              "       [13, 14]], dtype=int32)>"
            ]
          },
          "metadata": {
            "tags": []
          },
          "execution_count": 48
        }
      ]
    },
    {
      "cell_type": "code",
      "metadata": {
        "colab": {
          "base_uri": "https://localhost:8080/"
        },
        "id": "SVg2Z3il5XJK",
        "outputId": "73e2c773-01e0-48e2-a714-2c58d8ce32ff"
      },
      "source": [
        "tensor"
      ],
      "execution_count": 49,
      "outputs": [
        {
          "output_type": "execute_result",
          "data": {
            "text/plain": [
              "<tf.Tensor: shape=(2, 2), dtype=int32, numpy=\n",
              "array([[10,  7],\n",
              "       [ 3,  4]], dtype=int32)>"
            ]
          },
          "metadata": {
            "tags": []
          },
          "execution_count": 49
        }
      ]
    },
    {
      "cell_type": "code",
      "metadata": {
        "colab": {
          "base_uri": "https://localhost:8080/"
        },
        "id": "RmlM1OfH50EC",
        "outputId": "2d527d7e-1b8f-40e6-fcdd-0fa42bafe078"
      },
      "source": [
        "# Multiplication, Subtraction and Division\r\n",
        "tensor * 10"
      ],
      "execution_count": 50,
      "outputs": [
        {
          "output_type": "execute_result",
          "data": {
            "text/plain": [
              "<tf.Tensor: shape=(2, 2), dtype=int32, numpy=\n",
              "array([[100,  70],\n",
              "       [ 30,  40]], dtype=int32)>"
            ]
          },
          "metadata": {
            "tags": []
          },
          "execution_count": 50
        }
      ]
    },
    {
      "cell_type": "code",
      "metadata": {
        "colab": {
          "base_uri": "https://localhost:8080/"
        },
        "id": "JcSlHllM6AXw",
        "outputId": "1e753b36-a549-459e-968e-46dbccf82c4b"
      },
      "source": [
        "tensor * 2"
      ],
      "execution_count": 51,
      "outputs": [
        {
          "output_type": "execute_result",
          "data": {
            "text/plain": [
              "<tf.Tensor: shape=(2, 2), dtype=int32, numpy=\n",
              "array([[20, 14],\n",
              "       [ 6,  8]], dtype=int32)>"
            ]
          },
          "metadata": {
            "tags": []
          },
          "execution_count": 51
        }
      ]
    },
    {
      "cell_type": "code",
      "metadata": {
        "colab": {
          "base_uri": "https://localhost:8080/"
        },
        "id": "yR2ShOUJ6GCo",
        "outputId": "b3d5ab3a-c65b-4d47-cbcf-fbc96b0e833c"
      },
      "source": [
        "tensor / 2"
      ],
      "execution_count": 52,
      "outputs": [
        {
          "output_type": "execute_result",
          "data": {
            "text/plain": [
              "<tf.Tensor: shape=(2, 2), dtype=float64, numpy=\n",
              "array([[5. , 3.5],\n",
              "       [1.5, 2. ]])>"
            ]
          },
          "metadata": {
            "tags": []
          },
          "execution_count": 52
        }
      ]
    },
    {
      "cell_type": "code",
      "metadata": {
        "colab": {
          "base_uri": "https://localhost:8080/"
        },
        "id": "AaA2zy7s6HQY",
        "outputId": "23af27dd-3387-4452-d412-f482bca44bbc"
      },
      "source": [
        "tf.multiply(tensor, 10)"
      ],
      "execution_count": 53,
      "outputs": [
        {
          "output_type": "execute_result",
          "data": {
            "text/plain": [
              "<tf.Tensor: shape=(2, 2), dtype=int32, numpy=\n",
              "array([[100,  70],\n",
              "       [ 30,  40]], dtype=int32)>"
            ]
          },
          "metadata": {
            "tags": []
          },
          "execution_count": 53
        }
      ]
    },
    {
      "cell_type": "markdown",
      "metadata": {
        "id": "0QRUeuoK6rJQ"
      },
      "source": [
        "### Matrix Multiplication (tf.matmul and tf.tensordot)\r\n",
        "\r\n",
        "Very common tensor operation in ML"
      ]
    },
    {
      "cell_type": "code",
      "metadata": {
        "colab": {
          "base_uri": "https://localhost:8080/"
        },
        "id": "0yQqG7eK66s7",
        "outputId": "3e6d4022-7648-491a-87e2-1eb032aa72c6"
      },
      "source": [
        "tensor"
      ],
      "execution_count": 54,
      "outputs": [
        {
          "output_type": "execute_result",
          "data": {
            "text/plain": [
              "<tf.Tensor: shape=(2, 2), dtype=int32, numpy=\n",
              "array([[10,  7],\n",
              "       [ 3,  4]], dtype=int32)>"
            ]
          },
          "metadata": {
            "tags": []
          },
          "execution_count": 54
        }
      ]
    },
    {
      "cell_type": "code",
      "metadata": {
        "colab": {
          "base_uri": "https://localhost:8080/"
        },
        "id": "a1hus8xyvUpY",
        "outputId": "c9f3b475-0af6-49f7-b205-bd43fcb901c9"
      },
      "source": [
        "print(tensor)\r\n",
        "tf.matmul(tensor, tensor)"
      ],
      "execution_count": 55,
      "outputs": [
        {
          "output_type": "stream",
          "text": [
            "tf.Tensor(\n",
            "[[10  7]\n",
            " [ 3  4]], shape=(2, 2), dtype=int32)\n"
          ],
          "name": "stdout"
        },
        {
          "output_type": "execute_result",
          "data": {
            "text/plain": [
              "<tf.Tensor: shape=(2, 2), dtype=int32, numpy=\n",
              "array([[121,  98],\n",
              "       [ 42,  37]], dtype=int32)>"
            ]
          },
          "metadata": {
            "tags": []
          },
          "execution_count": 55
        }
      ]
    },
    {
      "cell_type": "code",
      "metadata": {
        "colab": {
          "base_uri": "https://localhost:8080/"
        },
        "id": "cRyySzhtv9fR",
        "outputId": "499eae53-86af-4696-bc44-c64a749d404f"
      },
      "source": [
        "tensor * tensor"
      ],
      "execution_count": 56,
      "outputs": [
        {
          "output_type": "execute_result",
          "data": {
            "text/plain": [
              "<tf.Tensor: shape=(2, 2), dtype=int32, numpy=\n",
              "array([[100,  49],\n",
              "       [  9,  16]], dtype=int32)>"
            ]
          },
          "metadata": {
            "tags": []
          },
          "execution_count": 56
        }
      ]
    },
    {
      "cell_type": "code",
      "metadata": {
        "colab": {
          "base_uri": "https://localhost:8080/"
        },
        "id": "YjjNCWlAwhBG",
        "outputId": "2dc97dd8-2950-41e9-846c-7d437c405c24"
      },
      "source": [
        "tensor1 = tf.constant ([[1,2,5],   # tensor (3,3)\r\n",
        "                        [7,2,1],\r\n",
        "                        [3,3,3]])\r\n",
        "tensor1"
      ],
      "execution_count": 57,
      "outputs": [
        {
          "output_type": "execute_result",
          "data": {
            "text/plain": [
              "<tf.Tensor: shape=(3, 3), dtype=int32, numpy=\n",
              "array([[1, 2, 5],\n",
              "       [7, 2, 1],\n",
              "       [3, 3, 3]], dtype=int32)>"
            ]
          },
          "metadata": {
            "tags": []
          },
          "execution_count": 57
        }
      ]
    },
    {
      "cell_type": "code",
      "metadata": {
        "colab": {
          "base_uri": "https://localhost:8080/"
        },
        "id": "hBN6V9c8wgqL",
        "outputId": "3a8de1b3-3e4c-41dc-9f50-f4142bfed8bf"
      },
      "source": [
        "tensor2 = tf.constant ([[3,5],  # tensor (3,2)\r\n",
        "                       [6,7],\r\n",
        "                       [1,8]])\r\n",
        "tensor2"
      ],
      "execution_count": 58,
      "outputs": [
        {
          "output_type": "execute_result",
          "data": {
            "text/plain": [
              "<tf.Tensor: shape=(3, 2), dtype=int32, numpy=\n",
              "array([[3, 5],\n",
              "       [6, 7],\n",
              "       [1, 8]], dtype=int32)>"
            ]
          },
          "metadata": {
            "tags": []
          },
          "execution_count": 58
        }
      ]
    },
    {
      "cell_type": "code",
      "metadata": {
        "colab": {
          "base_uri": "https://localhost:8080/"
        },
        "id": "xxgeE1yxwgZ_",
        "outputId": "f7b12e2d-e9e2-46ca-d591-bcacd5e88237"
      },
      "source": [
        "tf.matmul(tensor1, tensor2)"
      ],
      "execution_count": 59,
      "outputs": [
        {
          "output_type": "execute_result",
          "data": {
            "text/plain": [
              "<tf.Tensor: shape=(3, 2), dtype=int32, numpy=\n",
              "array([[20, 59],\n",
              "       [34, 57],\n",
              "       [30, 60]], dtype=int32)>"
            ]
          },
          "metadata": {
            "tags": []
          },
          "execution_count": 59
        }
      ]
    },
    {
      "cell_type": "code",
      "metadata": {
        "colab": {
          "base_uri": "https://localhost:8080/"
        },
        "id": "vCk82jw9wEUS",
        "outputId": "911eba7c-794d-4f82-c66f-1f012c3ceb2c"
      },
      "source": [
        "# Matrix multiplication with Python operator @\r\n",
        "tensor @ tensor"
      ],
      "execution_count": 60,
      "outputs": [
        {
          "output_type": "execute_result",
          "data": {
            "text/plain": [
              "<tf.Tensor: shape=(2, 2), dtype=int32, numpy=\n",
              "array([[121,  98],\n",
              "       [ 42,  37]], dtype=int32)>"
            ]
          },
          "metadata": {
            "tags": []
          },
          "execution_count": 60
        }
      ]
    },
    {
      "cell_type": "code",
      "metadata": {
        "colab": {
          "base_uri": "https://localhost:8080/"
        },
        "id": "KgrbaH-1wbvB",
        "outputId": "562d107f-0669-40bd-c99f-6633fc9bc68d"
      },
      "source": [
        "tensor1 @ tensor2"
      ],
      "execution_count": 61,
      "outputs": [
        {
          "output_type": "execute_result",
          "data": {
            "text/plain": [
              "<tf.Tensor: shape=(3, 2), dtype=int32, numpy=\n",
              "array([[20, 59],\n",
              "       [34, 57],\n",
              "       [30, 60]], dtype=int32)>"
            ]
          },
          "metadata": {
            "tags": []
          },
          "execution_count": 61
        }
      ]
    },
    {
      "cell_type": "code",
      "metadata": {
        "colab": {
          "base_uri": "https://localhost:8080/"
        },
        "id": "lJFIqJjMxgRS",
        "outputId": "7b89441d-4744-4460-dd19-38ef4543c7cc"
      },
      "source": [
        "tensor1 @ tensor1"
      ],
      "execution_count": 62,
      "outputs": [
        {
          "output_type": "execute_result",
          "data": {
            "text/plain": [
              "<tf.Tensor: shape=(3, 3), dtype=int32, numpy=\n",
              "array([[30, 21, 22],\n",
              "       [24, 21, 40],\n",
              "       [33, 21, 27]], dtype=int32)>"
            ]
          },
          "metadata": {
            "tags": []
          },
          "execution_count": 62
        }
      ]
    },
    {
      "cell_type": "markdown",
      "metadata": {
        "id": "hyRoEL5Fx0-_"
      },
      "source": [
        "tensor2 @ tensor2\r\n",
        "\r\n",
        "#### Error, incompatible size"
      ]
    },
    {
      "cell_type": "code",
      "metadata": {
        "colab": {
          "base_uri": "https://localhost:8080/"
        },
        "id": "dO8JWGZg9MXb",
        "outputId": "4e0fddc1-1e9e-4471-f962-f5ed94fb3041"
      },
      "source": [
        "# let's change the shape of tensor2\r\n",
        "tf.reshape(tensor2, shape=(2,3))"
      ],
      "execution_count": 63,
      "outputs": [
        {
          "output_type": "execute_result",
          "data": {
            "text/plain": [
              "<tf.Tensor: shape=(2, 3), dtype=int32, numpy=\n",
              "array([[3, 5, 6],\n",
              "       [7, 1, 8]], dtype=int32)>"
            ]
          },
          "metadata": {
            "tags": []
          },
          "execution_count": 63
        }
      ]
    },
    {
      "cell_type": "code",
      "metadata": {
        "colab": {
          "base_uri": "https://localhost:8080/"
        },
        "id": "lRG0w4Tu_aRn",
        "outputId": "ed9f909e-c468-4e17-d7b1-ac15d18510bc"
      },
      "source": [
        "tensor2"
      ],
      "execution_count": 64,
      "outputs": [
        {
          "output_type": "execute_result",
          "data": {
            "text/plain": [
              "<tf.Tensor: shape=(3, 2), dtype=int32, numpy=\n",
              "array([[3, 5],\n",
              "       [6, 7],\n",
              "       [1, 8]], dtype=int32)>"
            ]
          },
          "metadata": {
            "tags": []
          },
          "execution_count": 64
        }
      ]
    },
    {
      "cell_type": "code",
      "metadata": {
        "colab": {
          "base_uri": "https://localhost:8080/"
        },
        "id": "WALXDdDV_eyf",
        "outputId": "072be3cc-d88b-4d5d-f8c1-1ede58a690f9"
      },
      "source": [
        "tf.reshape(tensor2, shape=(2,3)) @ tensor2"
      ],
      "execution_count": 65,
      "outputs": [
        {
          "output_type": "execute_result",
          "data": {
            "text/plain": [
              "<tf.Tensor: shape=(2, 2), dtype=int32, numpy=\n",
              "array([[ 45,  98],\n",
              "       [ 35, 106]], dtype=int32)>"
            ]
          },
          "metadata": {
            "tags": []
          },
          "execution_count": 65
        }
      ]
    },
    {
      "cell_type": "code",
      "metadata": {
        "colab": {
          "base_uri": "https://localhost:8080/"
        },
        "id": "XelLxCcy_p9P",
        "outputId": "a752c16e-c7fb-4203-e363-999bd5825847"
      },
      "source": [
        "tf.matmul(tf.reshape(tensor2, shape=(2,3)), tensor2) # option 1"
      ],
      "execution_count": 66,
      "outputs": [
        {
          "output_type": "execute_result",
          "data": {
            "text/plain": [
              "<tf.Tensor: shape=(2, 2), dtype=int32, numpy=\n",
              "array([[ 45,  98],\n",
              "       [ 35, 106]], dtype=int32)>"
            ]
          },
          "metadata": {
            "tags": []
          },
          "execution_count": 66
        }
      ]
    },
    {
      "cell_type": "code",
      "metadata": {
        "colab": {
          "base_uri": "https://localhost:8080/"
        },
        "id": "GJ894PaU_5US",
        "outputId": "cde063b2-cf1e-4a4d-cb59-bba9ebc375a7"
      },
      "source": [
        "tf.matmul(tensor2, tf.reshape(tensor2, shape=(2,3))) # option 2"
      ],
      "execution_count": 67,
      "outputs": [
        {
          "output_type": "execute_result",
          "data": {
            "text/plain": [
              "<tf.Tensor: shape=(3, 3), dtype=int32, numpy=\n",
              "array([[44, 20, 58],\n",
              "       [67, 37, 92],\n",
              "       [59, 13, 70]], dtype=int32)>"
            ]
          },
          "metadata": {
            "tags": []
          },
          "execution_count": 67
        }
      ]
    },
    {
      "cell_type": "code",
      "metadata": {
        "colab": {
          "base_uri": "https://localhost:8080/"
        },
        "id": "6PExqD9SASe-",
        "outputId": "f09b9561-1393-4d8a-f895-f8b62930316f"
      },
      "source": [
        "# Can do the same with transpose\r\n",
        "tensor2, tf.transpose(tensor2), tf.reshape(tensor2, shape=(2,3))   # Reference of transpose and reshape"
      ],
      "execution_count": 68,
      "outputs": [
        {
          "output_type": "execute_result",
          "data": {
            "text/plain": [
              "(<tf.Tensor: shape=(3, 2), dtype=int32, numpy=\n",
              " array([[3, 5],\n",
              "        [6, 7],\n",
              "        [1, 8]], dtype=int32)>, <tf.Tensor: shape=(2, 3), dtype=int32, numpy=\n",
              " array([[3, 6, 1],\n",
              "        [5, 7, 8]], dtype=int32)>, <tf.Tensor: shape=(2, 3), dtype=int32, numpy=\n",
              " array([[3, 5, 6],\n",
              "        [7, 1, 8]], dtype=int32)>)"
            ]
          },
          "metadata": {
            "tags": []
          },
          "execution_count": 68
        }
      ]
    },
    {
      "cell_type": "code",
      "metadata": {
        "colab": {
          "base_uri": "https://localhost:8080/"
        },
        "id": "WnNznNKZAjc-",
        "outputId": "c3169e24-a51f-4db5-ed6e-7898cfe2fc53"
      },
      "source": [
        "# Try matrix multiplication with transpose\r\n",
        "tf.matmul(tf.transpose(tensor2), tensor1)"
      ],
      "execution_count": 69,
      "outputs": [
        {
          "output_type": "execute_result",
          "data": {
            "text/plain": [
              "<tf.Tensor: shape=(2, 3), dtype=int32, numpy=\n",
              "array([[48, 21, 24],\n",
              "       [78, 48, 56]], dtype=int32)>"
            ]
          },
          "metadata": {
            "tags": []
          },
          "execution_count": 69
        }
      ]
    },
    {
      "cell_type": "markdown",
      "metadata": {
        "id": "uki3A1BBBY_d"
      },
      "source": [
        "The Dot Product\r\n",
        "\r\n",
        "Matrix Multiplication is also called dot product\r\n",
        "\r\n",
        "- tf.matmul\r\n",
        "- tf.tensordot (also know as tensor contraction)"
      ]
    },
    {
      "cell_type": "code",
      "metadata": {
        "colab": {
          "base_uri": "https://localhost:8080/"
        },
        "id": "kk0-AOwtCxBN",
        "outputId": "0432412d-84ae-43b1-c497-293756088d70"
      },
      "source": [
        "X = tf.constant([[1,2],\r\n",
        "                [3,4],\r\n",
        "                [5,6]])\r\n",
        "X"
      ],
      "execution_count": 70,
      "outputs": [
        {
          "output_type": "execute_result",
          "data": {
            "text/plain": [
              "<tf.Tensor: shape=(3, 2), dtype=int32, numpy=\n",
              "array([[1, 2],\n",
              "       [3, 4],\n",
              "       [5, 6]], dtype=int32)>"
            ]
          },
          "metadata": {
            "tags": []
          },
          "execution_count": 70
        }
      ]
    },
    {
      "cell_type": "code",
      "metadata": {
        "colab": {
          "base_uri": "https://localhost:8080/"
        },
        "id": "YT5zV7HHDPy9",
        "outputId": "885a12f3-6740-4086-b437-b9964929c279"
      },
      "source": [
        "Y = tf.constant([[7,8],\r\n",
        "                 [9,10],\r\n",
        "                 [11,12]])\r\n",
        "Y"
      ],
      "execution_count": 71,
      "outputs": [
        {
          "output_type": "execute_result",
          "data": {
            "text/plain": [
              "<tf.Tensor: shape=(3, 2), dtype=int32, numpy=\n",
              "array([[ 7,  8],\n",
              "       [ 9, 10],\n",
              "       [11, 12]], dtype=int32)>"
            ]
          },
          "metadata": {
            "tags": []
          },
          "execution_count": 71
        }
      ]
    },
    {
      "cell_type": "code",
      "metadata": {
        "colab": {
          "base_uri": "https://localhost:8080/"
        },
        "id": "YssnQnYECY0b",
        "outputId": "2ad5536c-09c2-438c-b324-edfec13883b8"
      },
      "source": [
        "# Perform the dot product on X and Y (requires X or Y to be transposed)\r\n",
        "tf.tensordot(tf.transpose(X), Y, axes=1)"
      ],
      "execution_count": 72,
      "outputs": [
        {
          "output_type": "execute_result",
          "data": {
            "text/plain": [
              "<tf.Tensor: shape=(2, 2), dtype=int32, numpy=\n",
              "array([[ 89,  98],\n",
              "       [116, 128]], dtype=int32)>"
            ]
          },
          "metadata": {
            "tags": []
          },
          "execution_count": 72
        }
      ]
    },
    {
      "cell_type": "code",
      "metadata": {
        "colab": {
          "base_uri": "https://localhost:8080/"
        },
        "id": "Ld861Pbal-O4",
        "outputId": "4f0adaf4-cb68-4bed-dd31-81383231fe9c"
      },
      "source": [
        "tf.matmul(tf.transpose(X), Y)  # same as tensordot but without axes"
      ],
      "execution_count": 85,
      "outputs": [
        {
          "output_type": "execute_result",
          "data": {
            "text/plain": [
              "<tf.Tensor: shape=(2, 2), dtype=int32, numpy=\n",
              "array([[ 89,  98],\n",
              "       [116, 128]], dtype=int32)>"
            ]
          },
          "metadata": {
            "tags": []
          },
          "execution_count": 85
        }
      ]
    },
    {
      "cell_type": "code",
      "metadata": {
        "colab": {
          "base_uri": "https://localhost:8080/"
        },
        "id": "vpLb1DgNDjpS",
        "outputId": "dad546e0-3b60-4799-847e-8c35a79b0520"
      },
      "source": [
        "# Perform matrix multiplication between X and Y (transposed)\r\n",
        "tf.matmul(X, tf.transpose(Y))"
      ],
      "execution_count": 74,
      "outputs": [
        {
          "output_type": "execute_result",
          "data": {
            "text/plain": [
              "<tf.Tensor: shape=(3, 3), dtype=int32, numpy=\n",
              "array([[ 23,  29,  35],\n",
              "       [ 53,  67,  81],\n",
              "       [ 83, 105, 127]], dtype=int32)>"
            ]
          },
          "metadata": {
            "tags": []
          },
          "execution_count": 74
        }
      ]
    },
    {
      "cell_type": "code",
      "metadata": {
        "colab": {
          "base_uri": "https://localhost:8080/"
        },
        "id": "bpPmRlWmEE0q",
        "outputId": "8653e78c-bf90-4a85-b921-a52606c61465"
      },
      "source": [
        "# Perform matrix multiplication between X and Y (reshaped)\r\n",
        "tf.matmul(X, tf.reshape(Y, shape=(2,3)))"
      ],
      "execution_count": 76,
      "outputs": [
        {
          "output_type": "execute_result",
          "data": {
            "text/plain": [
              "<tf.Tensor: shape=(3, 3), dtype=int32, numpy=\n",
              "array([[ 27,  30,  33],\n",
              "       [ 61,  68,  75],\n",
              "       [ 95, 106, 117]], dtype=int32)>"
            ]
          },
          "metadata": {
            "tags": []
          },
          "execution_count": 76
        }
      ]
    },
    {
      "cell_type": "code",
      "metadata": {
        "colab": {
          "base_uri": "https://localhost:8080/"
        },
        "id": "UhIjbuJBEYR6",
        "outputId": "973c4361-b3e1-4aea-c5ce-3b468f0010ab"
      },
      "source": [
        "# Check the values of Y, reshape Y and transposed Y\r\n",
        "print(\"Normal Y:\")\r\n",
        "print(Y, \"\\n\")  # extra line\r\n",
        "\r\n",
        "print(\"Y reshaped to (2,3):\")\r\n",
        "print(tf.reshape(Y,(2,3)),\"\\n\")\r\n",
        "\r\n",
        "print(\"Y transposed:\")\r\n",
        "print(tf.transpose(Y))"
      ],
      "execution_count": 77,
      "outputs": [
        {
          "output_type": "stream",
          "text": [
            "Normal Y:\n",
            "tf.Tensor(\n",
            "[[ 7  8]\n",
            " [ 9 10]\n",
            " [11 12]], shape=(3, 2), dtype=int32) \n",
            "\n",
            "Y reshaped to (2,3):\n",
            "tf.Tensor(\n",
            "[[ 7  8  9]\n",
            " [10 11 12]], shape=(2, 3), dtype=int32) \n",
            "\n",
            "Y transposed:\n",
            "tf.Tensor(\n",
            "[[ 7  9 11]\n",
            " [ 8 10 12]], shape=(2, 3), dtype=int32)\n"
          ],
          "name": "stdout"
        }
      ]
    },
    {
      "cell_type": "code",
      "metadata": {
        "colab": {
          "base_uri": "https://localhost:8080/"
        },
        "id": "UYny65ztFjIq",
        "outputId": "d2b87983-f5bd-43e5-c88c-fb787503fc12"
      },
      "source": [
        "tf.matmul(X, tf.transpose(Y))"
      ],
      "execution_count": 78,
      "outputs": [
        {
          "output_type": "execute_result",
          "data": {
            "text/plain": [
              "<tf.Tensor: shape=(3, 3), dtype=int32, numpy=\n",
              "array([[ 23,  29,  35],\n",
              "       [ 53,  67,  81],\n",
              "       [ 83, 105, 127]], dtype=int32)>"
            ]
          },
          "metadata": {
            "tags": []
          },
          "execution_count": 78
        }
      ]
    },
    {
      "cell_type": "markdown",
      "metadata": {
        "id": "hnrMEA7xGK7x"
      },
      "source": [
        "Generally when performing matrix multiplication on two sensors and one of the axes doesn't line up, transpose rather than reshape one of the tensors to satisfy the multiplication rules"
      ]
    },
    {
      "cell_type": "markdown",
      "metadata": {
        "id": "2dl7GUBbG0l3"
      },
      "source": [
        "### Changing the datatype of a tensor (tf.cast)"
      ]
    },
    {
      "cell_type": "code",
      "metadata": {
        "colab": {
          "base_uri": "https://localhost:8080/",
          "height": 36
        },
        "id": "AFbNmDdXUJsX",
        "outputId": "78ca5c1e-7eb7-484a-8e99-3abd0cafc419"
      },
      "source": [
        "tf.__version__"
      ],
      "execution_count": 79,
      "outputs": [
        {
          "output_type": "execute_result",
          "data": {
            "application/vnd.google.colaboratory.intrinsic+json": {
              "type": "string"
            },
            "text/plain": [
              "'2.4.1'"
            ]
          },
          "metadata": {
            "tags": []
          },
          "execution_count": 79
        }
      ]
    },
    {
      "cell_type": "code",
      "metadata": {
        "colab": {
          "base_uri": "https://localhost:8080/"
        },
        "id": "japDQ3-dHPps",
        "outputId": "fd933770-01ef-40c6-b8ef-7211b9ec9ec5"
      },
      "source": [
        "# Create a new tensor with default datatype (float32)\r\n",
        "B = tf.constant([1.7,1.4])\r\n",
        "B.dtype"
      ],
      "execution_count": 80,
      "outputs": [
        {
          "output_type": "execute_result",
          "data": {
            "text/plain": [
              "tf.float32"
            ]
          },
          "metadata": {
            "tags": []
          },
          "execution_count": 80
        }
      ]
    },
    {
      "cell_type": "code",
      "metadata": {
        "colab": {
          "base_uri": "https://localhost:8080/"
        },
        "id": "7xOXwTggUByG",
        "outputId": "714e02ea-a99f-4e4b-df05-337764e15509"
      },
      "source": [
        "C = tf.constant([7,10])\r\n",
        "C.dtype"
      ],
      "execution_count": 81,
      "outputs": [
        {
          "output_type": "execute_result",
          "data": {
            "text/plain": [
              "tf.int32"
            ]
          },
          "metadata": {
            "tags": []
          },
          "execution_count": 81
        }
      ]
    },
    {
      "cell_type": "code",
      "metadata": {
        "colab": {
          "base_uri": "https://localhost:8080/"
        },
        "id": "M8T8XgwUUUod",
        "outputId": "e6ac9f33-cc9e-4abd-8d5f-24d899265e4a"
      },
      "source": [
        "# change from float32 to float 16 (reduced precision)\r\n",
        "D = tf.cast(B, dtype=tf.float16)\r\n",
        "D, D.dtype"
      ],
      "execution_count": 82,
      "outputs": [
        {
          "output_type": "execute_result",
          "data": {
            "text/plain": [
              "(<tf.Tensor: shape=(2,), dtype=float16, numpy=array([1.7, 1.4], dtype=float16)>,\n",
              " tf.float16)"
            ]
          },
          "metadata": {
            "tags": []
          },
          "execution_count": 82
        }
      ]
    },
    {
      "cell_type": "code",
      "metadata": {
        "colab": {
          "base_uri": "https://localhost:8080/"
        },
        "id": "xgRg3U9wVvw9",
        "outputId": "2a37fb51-e440-478d-f30c-b68c7c722b6a"
      },
      "source": [
        "# Change int32 to float32\r\n",
        "E = tf.cast(C, dtype=tf.float32)\r\n",
        "E"
      ],
      "execution_count": 83,
      "outputs": [
        {
          "output_type": "execute_result",
          "data": {
            "text/plain": [
              "<tf.Tensor: shape=(2,), dtype=float32, numpy=array([ 7., 10.], dtype=float32)>"
            ]
          },
          "metadata": {
            "tags": []
          },
          "execution_count": 83
        }
      ]
    },
    {
      "cell_type": "code",
      "metadata": {
        "colab": {
          "base_uri": "https://localhost:8080/"
        },
        "id": "N-GP_74RWa2b",
        "outputId": "b3362c0f-c45f-410b-dbb1-a247a4a84db9"
      },
      "source": [
        "E_float16 = tf.cast(E, dtype=tf.float16)\r\n",
        "E_float16"
      ],
      "execution_count": 84,
      "outputs": [
        {
          "output_type": "execute_result",
          "data": {
            "text/plain": [
              "<tf.Tensor: shape=(2,), dtype=float16, numpy=array([ 7., 10.], dtype=float16)>"
            ]
          },
          "metadata": {
            "tags": []
          },
          "execution_count": 84
        }
      ]
    },
    {
      "cell_type": "markdown",
      "metadata": {
        "id": "LEN0G8ZyWtlK"
      },
      "source": [
        "### Agrgregating Tensors\r\n",
        "\r\n",
        "Condensing tensors from multipl values to smaller"
      ]
    },
    {
      "cell_type": "code",
      "metadata": {
        "colab": {
          "base_uri": "https://localhost:8080/"
        },
        "id": "JM4uZfiwX0yh",
        "outputId": "7b317ec4-cfb8-4289-95f1-cb199a3af324"
      },
      "source": [
        "# New tensor\r\n",
        "D = tf.constant([-7,-10])\r\n",
        "D"
      ],
      "execution_count": 87,
      "outputs": [
        {
          "output_type": "execute_result",
          "data": {
            "text/plain": [
              "<tf.Tensor: shape=(2,), dtype=int32, numpy=array([ -7, -10], dtype=int32)>"
            ]
          },
          "metadata": {
            "tags": []
          },
          "execution_count": 87
        }
      ]
    },
    {
      "cell_type": "code",
      "metadata": {
        "colab": {
          "base_uri": "https://localhost:8080/"
        },
        "id": "GwxmVRdMoFk4",
        "outputId": "1ee73997-a74e-4234-bd22-b321fc5d5ef8"
      },
      "source": [
        "# Get the absolute values\r\n",
        "tf.abs(D)"
      ],
      "execution_count": 88,
      "outputs": [
        {
          "output_type": "execute_result",
          "data": {
            "text/plain": [
              "<tf.Tensor: shape=(2,), dtype=int32, numpy=array([ 7, 10], dtype=int32)>"
            ]
          },
          "metadata": {
            "tags": []
          },
          "execution_count": 88
        }
      ]
    },
    {
      "cell_type": "markdown",
      "metadata": {
        "id": "5POm1i8VoNiW"
      },
      "source": [
        "### Froms of aggregation:\r\n",
        "\r\n",
        "* Get the minimum \r\n",
        "* Get the maximum \r\n",
        "* Get the mean of a tensor\r\n",
        "* Get the sum of a tensor"
      ]
    },
    {
      "cell_type": "code",
      "metadata": {
        "colab": {
          "base_uri": "https://localhost:8080/"
        },
        "id": "26D_6G6vpmYN",
        "outputId": "129fe5f5-dd9a-4019-8d15-d253d51b14a6"
      },
      "source": [
        "X # using previously created tensors"
      ],
      "execution_count": 91,
      "outputs": [
        {
          "output_type": "execute_result",
          "data": {
            "text/plain": [
              "<tf.Tensor: shape=(3, 2), dtype=int32, numpy=\n",
              "array([[1, 2],\n",
              "       [3, 4],\n",
              "       [5, 6]], dtype=int32)>"
            ]
          },
          "metadata": {
            "tags": []
          },
          "execution_count": 91
        }
      ]
    },
    {
      "cell_type": "code",
      "metadata": {
        "colab": {
          "base_uri": "https://localhost:8080/"
        },
        "id": "Isjk5dJbosv1",
        "outputId": "48001d46-3c47-489c-c58c-16c9558ba0df"
      },
      "source": [
        "X\r\n",
        "D\r\n",
        "tf.math.minimum(X,D)  # this is between 2 tensors"
      ],
      "execution_count": 99,
      "outputs": [
        {
          "output_type": "execute_result",
          "data": {
            "text/plain": [
              "<tf.Tensor: shape=(3, 2), dtype=int32, numpy=\n",
              "array([[ -7, -10],\n",
              "       [ -7, -10],\n",
              "       [ -7, -10]], dtype=int32)>"
            ]
          },
          "metadata": {
            "tags": []
          },
          "execution_count": 99
        }
      ]
    },
    {
      "cell_type": "code",
      "metadata": {
        "colab": {
          "base_uri": "https://localhost:8080/"
        },
        "id": "-d2086eYpOrF",
        "outputId": "db614ff2-b41e-4425-d6ef-c61c8532c614"
      },
      "source": [
        "E = tf.constant(np.random.randint(0,100, size=50))\r\n",
        "E"
      ],
      "execution_count": 95,
      "outputs": [
        {
          "output_type": "execute_result",
          "data": {
            "text/plain": [
              "<tf.Tensor: shape=(50,), dtype=int64, numpy=\n",
              "array([96, 16, 31, 16, 12, 63, 87, 41,  6, 70, 43, 34, 81, 42, 29, 50,  8,\n",
              "       71, 94, 12, 30, 72, 91, 44, 26, 59, 74, 69, 88, 47, 82, 11, 68, 39,\n",
              "       34, 44, 92,  0, 43, 23, 93, 50, 61, 79, 57, 11, 75, 30, 11,  4])>"
            ]
          },
          "metadata": {
            "tags": []
          },
          "execution_count": 95
        }
      ]
    },
    {
      "cell_type": "code",
      "metadata": {
        "colab": {
          "base_uri": "https://localhost:8080/"
        },
        "id": "f4HSAnfHqhLl",
        "outputId": "a16e67a9-6a0b-48cb-ffd3-f247c108cbf4"
      },
      "source": [
        "tf.size(E), E.shape, E.ndim"
      ],
      "execution_count": 96,
      "outputs": [
        {
          "output_type": "execute_result",
          "data": {
            "text/plain": [
              "(<tf.Tensor: shape=(), dtype=int32, numpy=50>, TensorShape([50]), 1)"
            ]
          },
          "metadata": {
            "tags": []
          },
          "execution_count": 96
        }
      ]
    },
    {
      "cell_type": "code",
      "metadata": {
        "colab": {
          "base_uri": "https://localhost:8080/"
        },
        "id": "YqqM3Qy5qpZt",
        "outputId": "c6c7566f-52b7-428e-f628-a421c56bac7a"
      },
      "source": [
        "# find the minimmum\r\n",
        "tf.reduce_min(E)"
      ],
      "execution_count": 98,
      "outputs": [
        {
          "output_type": "execute_result",
          "data": {
            "text/plain": [
              "<tf.Tensor: shape=(), dtype=int64, numpy=0>"
            ]
          },
          "metadata": {
            "tags": []
          },
          "execution_count": 98
        }
      ]
    },
    {
      "cell_type": "code",
      "metadata": {
        "colab": {
          "base_uri": "https://localhost:8080/"
        },
        "id": "IOD5LsVkrd-i",
        "outputId": "b1c361b3-c4c9-4f22-bede-fb57b67db0e8"
      },
      "source": [
        "# find the maximum\r\n",
        "tf.reduce_max(E)"
      ],
      "execution_count": 100,
      "outputs": [
        {
          "output_type": "execute_result",
          "data": {
            "text/plain": [
              "<tf.Tensor: shape=(), dtype=int64, numpy=96>"
            ]
          },
          "metadata": {
            "tags": []
          },
          "execution_count": 100
        }
      ]
    },
    {
      "cell_type": "code",
      "metadata": {
        "colab": {
          "base_uri": "https://localhost:8080/"
        },
        "id": "ENuuw8e5r2BC",
        "outputId": "68981d99-ac32-4b9a-ebd4-96b50df1e12f"
      },
      "source": [
        "# find the mean\r\n",
        "tf.reduce_mean(E)"
      ],
      "execution_count": 101,
      "outputs": [
        {
          "output_type": "execute_result",
          "data": {
            "text/plain": [
              "<tf.Tensor: shape=(), dtype=int64, numpy=48>"
            ]
          },
          "metadata": {
            "tags": []
          },
          "execution_count": 101
        }
      ]
    },
    {
      "cell_type": "code",
      "metadata": {
        "colab": {
          "base_uri": "https://localhost:8080/"
        },
        "id": "-ECNBj7csA5z",
        "outputId": "249547b7-d44c-497b-b010-b8ea27de52b3"
      },
      "source": [
        "# find the sum\r\n",
        "tf.reduce_sum(E)"
      ],
      "execution_count": 102,
      "outputs": [
        {
          "output_type": "execute_result",
          "data": {
            "text/plain": [
              "<tf.Tensor: shape=(), dtype=int64, numpy=2409>"
            ]
          },
          "metadata": {
            "tags": []
          },
          "execution_count": 102
        }
      ]
    },
    {
      "cell_type": "code",
      "metadata": {
        "colab": {
          "base_uri": "https://localhost:8080/"
        },
        "id": "uXQqevGstlDS",
        "outputId": "6bbaf4f0-24c8-408c-d56e-0c433b173d06"
      },
      "source": [
        "# Find a variance of E tensor\r\n",
        "import tensorflow_probability as tfp   # require this module\r\n",
        "tfp.stats.variance(E)"
      ],
      "execution_count": 111,
      "outputs": [
        {
          "output_type": "execute_result",
          "data": {
            "text/plain": [
              "<tf.Tensor: shape=(), dtype=int64, numpy=807>"
            ]
          },
          "metadata": {
            "tags": []
          },
          "execution_count": 111
        }
      ]
    },
    {
      "cell_type": "code",
      "metadata": {
        "colab": {
          "base_uri": "https://localhost:8080/"
        },
        "id": "xbbX_LAauHfw",
        "outputId": "160c3877-0164-472e-ef86-cadfea93290b"
      },
      "source": [
        "# Find standard deviation of E tensor\r\n",
        "stddev = tfp.stats.stddev(tf.cast(E, dtype=tf.float32))  # convertion from int64 to float32 to work\r\n",
        "stddev"
      ],
      "execution_count": 123,
      "outputs": [
        {
          "output_type": "execute_result",
          "data": {
            "text/plain": [
              "<tf.Tensor: shape=(), dtype=float32, numpy=28.423014>"
            ]
          },
          "metadata": {
            "tags": []
          },
          "execution_count": 123
        }
      ]
    },
    {
      "cell_type": "code",
      "metadata": {
        "colab": {
          "base_uri": "https://localhost:8080/"
        },
        "id": "Nig3sy8hygNP",
        "outputId": "8d9378ac-54c2-4400-886a-e291376899c2"
      },
      "source": [
        "tf.math.reduce_variance(tf.cast(E, dtype= tf.float32))  # same result as above variance"
      ],
      "execution_count": 128,
      "outputs": [
        {
          "output_type": "execute_result",
          "data": {
            "text/plain": [
              "<tf.Tensor: shape=(), dtype=float32, numpy=807.8677>"
            ]
          },
          "metadata": {
            "tags": []
          },
          "execution_count": 128
        }
      ]
    },
    {
      "cell_type": "markdown",
      "metadata": {
        "id": "CfpE1Lr9vqQN"
      },
      "source": [
        "### Find the positional maximum and minimum"
      ]
    },
    {
      "cell_type": "code",
      "metadata": {
        "colab": {
          "base_uri": "https://localhost:8080/"
        },
        "id": "RhhHWOGQxmLc",
        "outputId": "024c18d3-2fd2-4593-8420-3fb04f3e7bbb"
      },
      "source": [
        "tf.math.argmax(E)"
      ],
      "execution_count": 124,
      "outputs": [
        {
          "output_type": "execute_result",
          "data": {
            "text/plain": [
              "<tf.Tensor: shape=(), dtype=int64, numpy=0>"
            ]
          },
          "metadata": {
            "tags": []
          },
          "execution_count": 124
        }
      ]
    },
    {
      "cell_type": "code",
      "metadata": {
        "colab": {
          "base_uri": "https://localhost:8080/"
        },
        "id": "ELyPa4s6yNRt",
        "outputId": "fc1d647d-d65e-45d8-add4-4b45601351b8"
      },
      "source": [
        "tf.math.argmin(E)"
      ],
      "execution_count": 125,
      "outputs": [
        {
          "output_type": "execute_result",
          "data": {
            "text/plain": [
              "<tf.Tensor: shape=(), dtype=int64, numpy=37>"
            ]
          },
          "metadata": {
            "tags": []
          },
          "execution_count": 125
        }
      ]
    },
    {
      "cell_type": "code",
      "metadata": {
        "colab": {
          "base_uri": "https://localhost:8080/"
        },
        "id": "mvQVm9NmyTy6",
        "outputId": "59b7e1ba-09c9-4549-eb6c-c4f8ec92325b"
      },
      "source": [
        "# Create a new tensor\r\n",
        "tf.random.set_seed(42)\r\n",
        "F = tf.random.uniform(shape=[50])\r\n",
        "F"
      ],
      "execution_count": 130,
      "outputs": [
        {
          "output_type": "execute_result",
          "data": {
            "text/plain": [
              "<tf.Tensor: shape=(50,), dtype=float32, numpy=\n",
              "array([0.6645621 , 0.44100678, 0.3528825 , 0.46448255, 0.03366041,\n",
              "       0.68467236, 0.74011743, 0.8724445 , 0.22632635, 0.22319686,\n",
              "       0.3103881 , 0.7223358 , 0.13318717, 0.5480639 , 0.5746088 ,\n",
              "       0.8996835 , 0.00946367, 0.5212307 , 0.6345445 , 0.1993283 ,\n",
              "       0.72942245, 0.54583454, 0.10756552, 0.6767061 , 0.6602763 ,\n",
              "       0.33695042, 0.60141766, 0.21062577, 0.8527372 , 0.44062173,\n",
              "       0.9485276 , 0.23752594, 0.81179297, 0.5263394 , 0.494308  ,\n",
              "       0.21612847, 0.8457197 , 0.8718841 , 0.3083862 , 0.6868038 ,\n",
              "       0.23764038, 0.7817228 , 0.9671384 , 0.06870162, 0.79873943,\n",
              "       0.66028714, 0.5871513 , 0.16461694, 0.7381023 , 0.32054043],\n",
              "      dtype=float32)>"
            ]
          },
          "metadata": {
            "tags": []
          },
          "execution_count": 130
        }
      ]
    },
    {
      "cell_type": "code",
      "metadata": {
        "colab": {
          "base_uri": "https://localhost:8080/"
        },
        "id": "uWmw4Z7I0Kh4",
        "outputId": "eb2cd9c5-f4e1-44dd-d267-a10275b91183"
      },
      "source": [
        "tf.argmax(F)"
      ],
      "execution_count": 132,
      "outputs": [
        {
          "output_type": "execute_result",
          "data": {
            "text/plain": [
              "<tf.Tensor: shape=(), dtype=int64, numpy=42>"
            ]
          },
          "metadata": {
            "tags": []
          },
          "execution_count": 132
        }
      ]
    },
    {
      "cell_type": "code",
      "metadata": {
        "colab": {
          "base_uri": "https://localhost:8080/"
        },
        "id": "H1Ptq9Lo4GKi",
        "outputId": "c1ebf040-37d1-4c0c-a9ff-798d6df8e267"
      },
      "source": [
        "F[tf.argmax(F)]"
      ],
      "execution_count": 133,
      "outputs": [
        {
          "output_type": "execute_result",
          "data": {
            "text/plain": [
              "<tf.Tensor: shape=(), dtype=float32, numpy=0.9671384>"
            ]
          },
          "metadata": {
            "tags": []
          },
          "execution_count": 133
        }
      ]
    },
    {
      "cell_type": "code",
      "metadata": {
        "colab": {
          "base_uri": "https://localhost:8080/"
        },
        "id": "hMZtL7cr4b7j",
        "outputId": "ec2d055e-14a0-4ba4-bc57-38e7c9d7cd8e"
      },
      "source": [
        "tf.reduce_max(F)"
      ],
      "execution_count": 134,
      "outputs": [
        {
          "output_type": "execute_result",
          "data": {
            "text/plain": [
              "<tf.Tensor: shape=(), dtype=float32, numpy=0.9671384>"
            ]
          },
          "metadata": {
            "tags": []
          },
          "execution_count": 134
        }
      ]
    },
    {
      "cell_type": "code",
      "metadata": {
        "colab": {
          "base_uri": "https://localhost:8080/"
        },
        "id": "lAegfc604kkD",
        "outputId": "09265a02-be3f-42e2-cd79-31d9823839cd"
      },
      "source": [
        "# check for equality\r\n",
        "F[tf.argmax(F)] == tf.reduce_max(F)"
      ],
      "execution_count": 136,
      "outputs": [
        {
          "output_type": "execute_result",
          "data": {
            "text/plain": [
              "<tf.Tensor: shape=(), dtype=bool, numpy=True>"
            ]
          },
          "metadata": {
            "tags": []
          },
          "execution_count": 136
        }
      ]
    },
    {
      "cell_type": "code",
      "metadata": {
        "colab": {
          "base_uri": "https://localhost:8080/"
        },
        "id": "wzN8JrZW4vJD",
        "outputId": "35045ebc-64ce-4211-f8da-ec2d187f046b"
      },
      "source": [
        "tf.argmin(F)"
      ],
      "execution_count": 137,
      "outputs": [
        {
          "output_type": "execute_result",
          "data": {
            "text/plain": [
              "<tf.Tensor: shape=(), dtype=int64, numpy=16>"
            ]
          },
          "metadata": {
            "tags": []
          },
          "execution_count": 137
        }
      ]
    },
    {
      "cell_type": "code",
      "metadata": {
        "colab": {
          "base_uri": "https://localhost:8080/"
        },
        "id": "fJC0erOs5BvC",
        "outputId": "4f83d0e1-d7ae-40b4-c031-933fa6d0de63"
      },
      "source": [
        "F[tf.argmin(F)]"
      ],
      "execution_count": 138,
      "outputs": [
        {
          "output_type": "execute_result",
          "data": {
            "text/plain": [
              "<tf.Tensor: shape=(), dtype=float32, numpy=0.009463668>"
            ]
          },
          "metadata": {
            "tags": []
          },
          "execution_count": 138
        }
      ]
    },
    {
      "cell_type": "markdown",
      "metadata": {
        "id": "itMhlP8N5GyC"
      },
      "source": [
        "### Squeezing a tensor (removing all single '1' dimensions)"
      ]
    },
    {
      "cell_type": "code",
      "metadata": {
        "colab": {
          "base_uri": "https://localhost:8080/"
        },
        "id": "Ey-jUGra5rJR",
        "outputId": "e321399d-717d-4ce3-9152-d8b64b050e09"
      },
      "source": [
        "# Create a tensor\r\n",
        "tf.random.set_seed(42)\r\n",
        "G = tf.constant(tf.random.uniform(shape=[50]), shape=(1,1,1,1,50))\r\n",
        "G"
      ],
      "execution_count": 143,
      "outputs": [
        {
          "output_type": "execute_result",
          "data": {
            "text/plain": [
              "<tf.Tensor: shape=(1, 1, 1, 1, 50), dtype=float32, numpy=\n",
              "array([[[[[0.6645621 , 0.44100678, 0.3528825 , 0.46448255, 0.03366041,\n",
              "           0.68467236, 0.74011743, 0.8724445 , 0.22632635, 0.22319686,\n",
              "           0.3103881 , 0.7223358 , 0.13318717, 0.5480639 , 0.5746088 ,\n",
              "           0.8996835 , 0.00946367, 0.5212307 , 0.6345445 , 0.1993283 ,\n",
              "           0.72942245, 0.54583454, 0.10756552, 0.6767061 , 0.6602763 ,\n",
              "           0.33695042, 0.60141766, 0.21062577, 0.8527372 , 0.44062173,\n",
              "           0.9485276 , 0.23752594, 0.81179297, 0.5263394 , 0.494308  ,\n",
              "           0.21612847, 0.8457197 , 0.8718841 , 0.3083862 , 0.6868038 ,\n",
              "           0.23764038, 0.7817228 , 0.9671384 , 0.06870162, 0.79873943,\n",
              "           0.66028714, 0.5871513 , 0.16461694, 0.7381023 , 0.32054043]]]]],\n",
              "      dtype=float32)>"
            ]
          },
          "metadata": {
            "tags": []
          },
          "execution_count": 143
        }
      ]
    },
    {
      "cell_type": "code",
      "metadata": {
        "colab": {
          "base_uri": "https://localhost:8080/"
        },
        "id": "Oc6cOvv15-vT",
        "outputId": "e41a4eb6-c9bc-4f9c-cbbc-43ae03d9669c"
      },
      "source": [
        "G.shape"
      ],
      "execution_count": 144,
      "outputs": [
        {
          "output_type": "execute_result",
          "data": {
            "text/plain": [
              "TensorShape([1, 1, 1, 1, 50])"
            ]
          },
          "metadata": {
            "tags": []
          },
          "execution_count": 144
        }
      ]
    },
    {
      "cell_type": "code",
      "metadata": {
        "colab": {
          "base_uri": "https://localhost:8080/"
        },
        "id": "QoVUgd3V6k2A",
        "outputId": "5addc66e-bf03-4f40-8580-6bc42b52ebc2"
      },
      "source": [
        "G_squeezed = tf.squeeze(G)\r\n",
        "G_squeezed, G_squeezed.shape"
      ],
      "execution_count": 147,
      "outputs": [
        {
          "output_type": "execute_result",
          "data": {
            "text/plain": [
              "(<tf.Tensor: shape=(50,), dtype=float32, numpy=\n",
              " array([0.6645621 , 0.44100678, 0.3528825 , 0.46448255, 0.03366041,\n",
              "        0.68467236, 0.74011743, 0.8724445 , 0.22632635, 0.22319686,\n",
              "        0.3103881 , 0.7223358 , 0.13318717, 0.5480639 , 0.5746088 ,\n",
              "        0.8996835 , 0.00946367, 0.5212307 , 0.6345445 , 0.1993283 ,\n",
              "        0.72942245, 0.54583454, 0.10756552, 0.6767061 , 0.6602763 ,\n",
              "        0.33695042, 0.60141766, 0.21062577, 0.8527372 , 0.44062173,\n",
              "        0.9485276 , 0.23752594, 0.81179297, 0.5263394 , 0.494308  ,\n",
              "        0.21612847, 0.8457197 , 0.8718841 , 0.3083862 , 0.6868038 ,\n",
              "        0.23764038, 0.7817228 , 0.9671384 , 0.06870162, 0.79873943,\n",
              "        0.66028714, 0.5871513 , 0.16461694, 0.7381023 , 0.32054043],\n",
              "       dtype=float32)>, TensorShape([50]))"
            ]
          },
          "metadata": {
            "tags": []
          },
          "execution_count": 147
        }
      ]
    },
    {
      "cell_type": "markdown",
      "metadata": {
        "id": "2RyB5suG64WB"
      },
      "source": [
        "### One hot encoding data"
      ]
    },
    {
      "cell_type": "code",
      "metadata": {
        "colab": {
          "base_uri": "https://localhost:8080/"
        },
        "id": "4iI7gcxW8k2E",
        "outputId": "964cef93-ba30-43f3-c5c1-1d39c57c53e0"
      },
      "source": [
        "# Create a list of indices\r\n",
        "some_list = [0,1,2,3] # could be red,green,blue, purple\r\n",
        "\r\n",
        "# One hot encode our list of indices\r\n",
        "tf.one_hot(some_list, depth=4)"
      ],
      "execution_count": 149,
      "outputs": [
        {
          "output_type": "execute_result",
          "data": {
            "text/plain": [
              "<tf.Tensor: shape=(4, 4), dtype=float32, numpy=\n",
              "array([[1., 0., 0., 0.],\n",
              "       [0., 1., 0., 0.],\n",
              "       [0., 0., 1., 0.],\n",
              "       [0., 0., 0., 1.]], dtype=float32)>"
            ]
          },
          "metadata": {
            "tags": []
          },
          "execution_count": 149
        }
      ]
    },
    {
      "cell_type": "code",
      "metadata": {
        "colab": {
          "base_uri": "https://localhost:8080/"
        },
        "id": "0o5bjPlF89VU",
        "outputId": "442cce41-1fd4-4a5a-d201-1dc04bbd8d51"
      },
      "source": [
        "# specify custom values for one hot encoding\r\n",
        "tf.one_hot(some_list, depth=5, on_value='yes', off_value='no')"
      ],
      "execution_count": 153,
      "outputs": [
        {
          "output_type": "execute_result",
          "data": {
            "text/plain": [
              "<tf.Tensor: shape=(4, 5), dtype=string, numpy=\n",
              "array([[b'yes', b'no', b'no', b'no', b'no'],\n",
              "       [b'no', b'yes', b'no', b'no', b'no'],\n",
              "       [b'no', b'no', b'yes', b'no', b'no'],\n",
              "       [b'no', b'no', b'no', b'yes', b'no']], dtype=object)>"
            ]
          },
          "metadata": {
            "tags": []
          },
          "execution_count": 153
        }
      ]
    },
    {
      "cell_type": "code",
      "metadata": {
        "colab": {
          "base_uri": "https://localhost:8080/"
        },
        "id": "AJ7gjNjW92Oc",
        "outputId": "30012518-fb2d-4f9e-e436-8485cfa4ce0a"
      },
      "source": [
        "# specify custom values for one hot encoding\r\n",
        "tf.one_hot(some_list, depth=2, on_value='yes', off_value='no')"
      ],
      "execution_count": 154,
      "outputs": [
        {
          "output_type": "execute_result",
          "data": {
            "text/plain": [
              "<tf.Tensor: shape=(4, 2), dtype=string, numpy=\n",
              "array([[b'yes', b'no'],\n",
              "       [b'no', b'yes'],\n",
              "       [b'no', b'no'],\n",
              "       [b'no', b'no']], dtype=object)>"
            ]
          },
          "metadata": {
            "tags": []
          },
          "execution_count": 154
        }
      ]
    },
    {
      "cell_type": "markdown",
      "metadata": {
        "id": "WH0VJhib-Rs8"
      },
      "source": [
        "### Square, log, square root"
      ]
    },
    {
      "cell_type": "code",
      "metadata": {
        "colab": {
          "base_uri": "https://localhost:8080/"
        },
        "id": "OTzxF6h_-jhb",
        "outputId": "0430ba0e-7113-419b-9f50-5dcdac1f46d7"
      },
      "source": [
        "H = tf.range(1,10)\r\n",
        "H"
      ],
      "execution_count": 156,
      "outputs": [
        {
          "output_type": "execute_result",
          "data": {
            "text/plain": [
              "<tf.Tensor: shape=(9,), dtype=int32, numpy=array([1, 2, 3, 4, 5, 6, 7, 8, 9], dtype=int32)>"
            ]
          },
          "metadata": {
            "tags": []
          },
          "execution_count": 156
        }
      ]
    },
    {
      "cell_type": "code",
      "metadata": {
        "colab": {
          "base_uri": "https://localhost:8080/"
        },
        "id": "BxTmj6_6-nf7",
        "outputId": "cad8f939-001e-4b4f-ab63-39038e261578"
      },
      "source": [
        "tf.square(H)"
      ],
      "execution_count": 157,
      "outputs": [
        {
          "output_type": "execute_result",
          "data": {
            "text/plain": [
              "<tf.Tensor: shape=(9,), dtype=int32, numpy=array([ 1,  4,  9, 16, 25, 36, 49, 64, 81], dtype=int32)>"
            ]
          },
          "metadata": {
            "tags": []
          },
          "execution_count": 157
        }
      ]
    },
    {
      "cell_type": "code",
      "metadata": {
        "colab": {
          "base_uri": "https://localhost:8080/"
        },
        "id": "szreKkwo-0cL",
        "outputId": "b7a78531-89cb-4901-c3e1-67e3ff08973d"
      },
      "source": [
        "tf.sqrt(tf.cast(H, dtype=tf.float32)) # cast to float first"
      ],
      "execution_count": 159,
      "outputs": [
        {
          "output_type": "execute_result",
          "data": {
            "text/plain": [
              "<tf.Tensor: shape=(9,), dtype=float32, numpy=\n",
              "array([1.       , 1.4142135, 1.7320508, 2.       , 2.236068 , 2.4494898,\n",
              "       2.6457512, 2.828427 , 3.       ], dtype=float32)>"
            ]
          },
          "metadata": {
            "tags": []
          },
          "execution_count": 159
        }
      ]
    },
    {
      "cell_type": "code",
      "metadata": {
        "colab": {
          "base_uri": "https://localhost:8080/"
        },
        "id": "oFmVmBNr-6VL",
        "outputId": "5c83052b-8803-471e-d336-63451ad21cdc"
      },
      "source": [
        "tf.math.log(tf.cast(H, dtype=tf.float32)) # cast to float first"
      ],
      "execution_count": 163,
      "outputs": [
        {
          "output_type": "execute_result",
          "data": {
            "text/plain": [
              "<tf.Tensor: shape=(9,), dtype=float32, numpy=\n",
              "array([0.       , 0.6931472, 1.0986123, 1.3862944, 1.609438 , 1.7917595,\n",
              "       1.9459102, 2.0794415, 2.1972246], dtype=float32)>"
            ]
          },
          "metadata": {
            "tags": []
          },
          "execution_count": 163
        }
      ]
    },
    {
      "cell_type": "code",
      "metadata": {
        "colab": {
          "base_uri": "https://localhost:8080/"
        },
        "id": "Erd-o3OZ_WXb",
        "outputId": "dcfcde17-1feb-4356-ebd1-6da8b0862197"
      },
      "source": [
        "tf.math.cos(tf.cast(H, dtype=tf.float32)) # practice function"
      ],
      "execution_count": 168,
      "outputs": [
        {
          "output_type": "execute_result",
          "data": {
            "text/plain": [
              "<tf.Tensor: shape=(9,), dtype=float32, numpy=\n",
              "array([ 0.5403023 , -0.4161468 , -0.9899925 , -0.6536436 ,  0.28366217,\n",
              "        0.96017027,  0.75390226, -0.14550003, -0.91113025], dtype=float32)>"
            ]
          },
          "metadata": {
            "tags": []
          },
          "execution_count": 168
        }
      ]
    },
    {
      "cell_type": "markdown",
      "metadata": {
        "id": "yxjcerykAJi5"
      },
      "source": [
        "### Tensors and Numpy\r\n",
        "\r\n",
        "TF interacts with Numpy arrays\r\n",
        "\r\n",
        "Note: a TF tensor can run in a GPU for faster processing, and a numpy array..."
      ]
    },
    {
      "cell_type": "code",
      "metadata": {
        "colab": {
          "base_uri": "https://localhost:8080/"
        },
        "id": "v2_wxHOSAlvq",
        "outputId": "6bf3d186-840e-4ece-b077-49b9703dd7de"
      },
      "source": [
        "# create a tensor directly from a numpy array\r\n",
        "J = tf.constant(np.array([3,7,10]))\r\n",
        "J"
      ],
      "execution_count": 170,
      "outputs": [
        {
          "output_type": "execute_result",
          "data": {
            "text/plain": [
              "<tf.Tensor: shape=(3,), dtype=int64, numpy=array([ 3,  7, 10])>"
            ]
          },
          "metadata": {
            "tags": []
          },
          "execution_count": 170
        }
      ]
    },
    {
      "cell_type": "code",
      "metadata": {
        "colab": {
          "base_uri": "https://localhost:8080/"
        },
        "id": "qDnUot2lA9HI",
        "outputId": "dab6510d-7766-4d04-e035-05b8b949d150"
      },
      "source": [
        "# convert a tensor back to numpy array\r\n",
        "np.array(J), type(np.array(J))"
      ],
      "execution_count": 171,
      "outputs": [
        {
          "output_type": "execute_result",
          "data": {
            "text/plain": [
              "(array([ 3,  7, 10]), numpy.ndarray)"
            ]
          },
          "metadata": {
            "tags": []
          },
          "execution_count": 171
        }
      ]
    },
    {
      "cell_type": "code",
      "metadata": {
        "colab": {
          "base_uri": "https://localhost:8080/"
        },
        "id": "WJ5_Is66BN1n",
        "outputId": "0d649c2d-13ae-4118-b996-727b1cd21650"
      },
      "source": [
        "# convert tensor J to numpy array\r\n",
        "J.numpy(), type(J.numpy())"
      ],
      "execution_count": 172,
      "outputs": [
        {
          "output_type": "execute_result",
          "data": {
            "text/plain": [
              "(array([ 3,  7, 10]), numpy.ndarray)"
            ]
          },
          "metadata": {
            "tags": []
          },
          "execution_count": 172
        }
      ]
    },
    {
      "cell_type": "code",
      "metadata": {
        "colab": {
          "base_uri": "https://localhost:8080/"
        },
        "id": "QH7GWeTEBasI",
        "outputId": "4bc80925-3cb8-4342-bc40-14d8b4bae085"
      },
      "source": [
        "J = tf.constant([3.])\r\n",
        "J.numpy()[0]"
      ],
      "execution_count": 174,
      "outputs": [
        {
          "output_type": "execute_result",
          "data": {
            "text/plain": [
              "3.0"
            ]
          },
          "metadata": {
            "tags": []
          },
          "execution_count": 174
        }
      ]
    },
    {
      "cell_type": "code",
      "metadata": {
        "colab": {
          "base_uri": "https://localhost:8080/"
        },
        "id": "bGcfCyOFBszo",
        "outputId": "7202f188-b807-4ffc-d0c8-f2eebb1ae7fb"
      },
      "source": [
        "# default types of each slightly different\r\n",
        "numpy_J = tf.constant(np.array([3.,7.,10.]))\r\n",
        "tensor_J = tf.constant([3.,7.,10.])\r\n",
        "# check the dataypes of each\r\n",
        "numpy_J.dtype, tensor_J.dtype"
      ],
      "execution_count": 175,
      "outputs": [
        {
          "output_type": "execute_result",
          "data": {
            "text/plain": [
              "(tf.float64, tf.float32)"
            ]
          },
          "metadata": {
            "tags": []
          },
          "execution_count": 175
        }
      ]
    },
    {
      "cell_type": "markdown",
      "metadata": {
        "id": "5it8qxO6CR_n"
      },
      "source": [
        "### Find access to GPUs"
      ]
    },
    {
      "cell_type": "code",
      "metadata": {
        "colab": {
          "base_uri": "https://localhost:8080/"
        },
        "id": "CSjVBuxXDQaU",
        "outputId": "6317bd37-c5be-48e8-a0bc-fbbef87a0645"
      },
      "source": [
        "import tensorflow as tf\r\n",
        "tf.config.list_physical_devices()"
      ],
      "execution_count": 1,
      "outputs": [
        {
          "output_type": "execute_result",
          "data": {
            "text/plain": [
              "[PhysicalDevice(name='/physical_device:CPU:0', device_type='CPU'),\n",
              " PhysicalDevice(name='/physical_device:GPU:0', device_type='GPU')]"
            ]
          },
          "metadata": {
            "tags": []
          },
          "execution_count": 1
        }
      ]
    },
    {
      "cell_type": "code",
      "metadata": {
        "colab": {
          "base_uri": "https://localhost:8080/"
        },
        "id": "DPAozSF2DjYF",
        "outputId": "9d176e8a-417c-450f-ac3a-078e74edc980"
      },
      "source": [
        "tf.config.list_physical_devices('GPU')"
      ],
      "execution_count": 2,
      "outputs": [
        {
          "output_type": "execute_result",
          "data": {
            "text/plain": [
              "[PhysicalDevice(name='/physical_device:GPU:0', device_type='GPU')]"
            ]
          },
          "metadata": {
            "tags": []
          },
          "execution_count": 2
        }
      ]
    },
    {
      "cell_type": "code",
      "metadata": {
        "colab": {
          "base_uri": "https://localhost:8080/"
        },
        "id": "Qvep5vFwDvkl",
        "outputId": "d8a3aa3e-c19e-4795-dd6d-f97fbaa46e38"
      },
      "source": [
        "!nvidia-smi"
      ],
      "execution_count": 3,
      "outputs": [
        {
          "output_type": "stream",
          "text": [
            "Mon Mar  8 18:20:43 2021       \n",
            "+-----------------------------------------------------------------------------+\n",
            "| NVIDIA-SMI 460.56       Driver Version: 460.32.03    CUDA Version: 11.2     |\n",
            "|-------------------------------+----------------------+----------------------+\n",
            "| GPU  Name        Persistence-M| Bus-Id        Disp.A | Volatile Uncorr. ECC |\n",
            "| Fan  Temp  Perf  Pwr:Usage/Cap|         Memory-Usage | GPU-Util  Compute M. |\n",
            "|                               |                      |               MIG M. |\n",
            "|===============================+======================+======================|\n",
            "|   0  Tesla T4            Off  | 00000000:00:04.0 Off |                    0 |\n",
            "| N/A   59C    P8    11W /  70W |      3MiB / 15109MiB |      0%      Default |\n",
            "|                               |                      |                  N/A |\n",
            "+-------------------------------+----------------------+----------------------+\n",
            "                                                                               \n",
            "+-----------------------------------------------------------------------------+\n",
            "| Processes:                                                                  |\n",
            "|  GPU   GI   CI        PID   Type   Process name                  GPU Memory |\n",
            "|        ID   ID                                                   Usage      |\n",
            "|=============================================================================|\n",
            "|  No running processes found                                                 |\n",
            "+-----------------------------------------------------------------------------+\n"
          ],
          "name": "stdout"
        }
      ]
    },
    {
      "cell_type": "code",
      "metadata": {
        "id": "T6HOmyH7EeOT"
      },
      "source": [
        "# If there is access to a CUDA enabled GPU, TF will automatically use it whenever is possible"
      ],
      "execution_count": 4,
      "outputs": []
    },
    {
      "cell_type": "markdown",
      "metadata": {
        "id": "siAssuAMFByD"
      },
      "source": [
        "## Excercises"
      ]
    },
    {
      "cell_type": "code",
      "metadata": {
        "colab": {
          "base_uri": "https://localhost:8080/"
        },
        "id": "iowUwPRlHLnC",
        "outputId": "0202ff81-60c6-496b-8117-2a65d31c453e"
      },
      "source": [
        "M = tf.constant(1)  #scalar\r\n",
        "M"
      ],
      "execution_count": 12,
      "outputs": [
        {
          "output_type": "execute_result",
          "data": {
            "text/plain": [
              "<tf.Tensor: shape=(), dtype=int32, numpy=1>"
            ]
          },
          "metadata": {
            "tags": []
          },
          "execution_count": 12
        }
      ]
    },
    {
      "cell_type": "code",
      "metadata": {
        "colab": {
          "base_uri": "https://localhost:8080/"
        },
        "id": "323hKnw_HZqy",
        "outputId": "fe97cd75-7188-4878-e7c5-43d7fa43c957"
      },
      "source": [
        "M.ndim"
      ],
      "execution_count": 11,
      "outputs": [
        {
          "output_type": "execute_result",
          "data": {
            "text/plain": [
              "0"
            ]
          },
          "metadata": {
            "tags": []
          },
          "execution_count": 11
        }
      ]
    },
    {
      "cell_type": "code",
      "metadata": {
        "colab": {
          "base_uri": "https://localhost:8080/"
        },
        "id": "f5Gwd4SrH0OA",
        "outputId": "8d7ecdc4-f1f2-4702-b6e1-0132d28acce5"
      },
      "source": [
        "N = tf.constant([1,2]) # vector\r\n",
        "N"
      ],
      "execution_count": 13,
      "outputs": [
        {
          "output_type": "execute_result",
          "data": {
            "text/plain": [
              "<tf.Tensor: shape=(2,), dtype=int32, numpy=array([1, 2], dtype=int32)>"
            ]
          },
          "metadata": {
            "tags": []
          },
          "execution_count": 13
        }
      ]
    },
    {
      "cell_type": "code",
      "metadata": {
        "colab": {
          "base_uri": "https://localhost:8080/"
        },
        "id": "Eo8rseFzH7Vw",
        "outputId": "55593b14-4723-4cac-b584-794f0e76fed9"
      },
      "source": [
        "N.ndim"
      ],
      "execution_count": 14,
      "outputs": [
        {
          "output_type": "execute_result",
          "data": {
            "text/plain": [
              "1"
            ]
          },
          "metadata": {
            "tags": []
          },
          "execution_count": 14
        }
      ]
    },
    {
      "cell_type": "code",
      "metadata": {
        "colab": {
          "base_uri": "https://localhost:8080/"
        },
        "id": "uBMXSo_kH_7w",
        "outputId": "00c1e7f8-ea98-4b48-e7c0-0c492d0f27c9"
      },
      "source": [
        "O = tf.constant([[1,2,3],  #matrix\r\n",
        "                [4,5,6]])\r\n",
        "O"
      ],
      "execution_count": 20,
      "outputs": [
        {
          "output_type": "execute_result",
          "data": {
            "text/plain": [
              "<tf.Tensor: shape=(2, 3), dtype=int32, numpy=\n",
              "array([[1, 2, 3],\n",
              "       [4, 5, 6]], dtype=int32)>"
            ]
          },
          "metadata": {
            "tags": []
          },
          "execution_count": 20
        }
      ]
    },
    {
      "cell_type": "code",
      "metadata": {
        "colab": {
          "base_uri": "https://localhost:8080/"
        },
        "id": "U8ubVutFIIbB",
        "outputId": "52f59632-ace2-4bc0-f270-375e55f62633"
      },
      "source": [
        "O.ndim"
      ],
      "execution_count": 21,
      "outputs": [
        {
          "output_type": "execute_result",
          "data": {
            "text/plain": [
              "2"
            ]
          },
          "metadata": {
            "tags": []
          },
          "execution_count": 21
        }
      ]
    },
    {
      "cell_type": "code",
      "metadata": {
        "colab": {
          "base_uri": "https://localhost:8080/"
        },
        "id": "mv4tCOHPIRiA",
        "outputId": "3f617d84-e768-4faf-f92b-196fe0a261eb"
      },
      "source": [
        "P = tf.constant([[[1,2,3],\r\n",
        "                [4,5,6],\r\n",
        "                [7,8,9]]])\r\n",
        "P"
      ],
      "execution_count": 22,
      "outputs": [
        {
          "output_type": "execute_result",
          "data": {
            "text/plain": [
              "<tf.Tensor: shape=(1, 3, 3), dtype=int32, numpy=\n",
              "array([[[1, 2, 3],\n",
              "        [4, 5, 6],\n",
              "        [7, 8, 9]]], dtype=int32)>"
            ]
          },
          "metadata": {
            "tags": []
          },
          "execution_count": 22
        }
      ]
    },
    {
      "cell_type": "code",
      "metadata": {
        "colab": {
          "base_uri": "https://localhost:8080/"
        },
        "id": "jE-VpdfcItUw",
        "outputId": "a62fb5a7-7bf1-430f-9cf3-9ccbac903c3b"
      },
      "source": [
        "P.ndim   # rank"
      ],
      "execution_count": 23,
      "outputs": [
        {
          "output_type": "execute_result",
          "data": {
            "text/plain": [
              "3"
            ]
          },
          "metadata": {
            "tags": []
          },
          "execution_count": 23
        }
      ]
    },
    {
      "cell_type": "code",
      "metadata": {
        "colab": {
          "base_uri": "https://localhost:8080/"
        },
        "id": "uphbVL1NIu-v",
        "outputId": "cc608a36-ae4b-4ebb-e2b2-d13e0adaf0b5"
      },
      "source": [
        "P.shape"
      ],
      "execution_count": 24,
      "outputs": [
        {
          "output_type": "execute_result",
          "data": {
            "text/plain": [
              "TensorShape([1, 3, 3])"
            ]
          },
          "metadata": {
            "tags": []
          },
          "execution_count": 24
        }
      ]
    },
    {
      "cell_type": "code",
      "metadata": {
        "colab": {
          "base_uri": "https://localhost:8080/"
        },
        "id": "Z4MfetZlI5-w",
        "outputId": "ffe92e5f-bc5a-4914-f2f8-7a26f8790435"
      },
      "source": [
        "tf.size(P)"
      ],
      "execution_count": 26,
      "outputs": [
        {
          "output_type": "execute_result",
          "data": {
            "text/plain": [
              "<tf.Tensor: shape=(), dtype=int32, numpy=9>"
            ]
          },
          "metadata": {
            "tags": []
          },
          "execution_count": 26
        }
      ]
    },
    {
      "cell_type": "code",
      "metadata": {
        "colab": {
          "base_uri": "https://localhost:8080/"
        },
        "id": "noKp6YNmI_-f",
        "outputId": "1c2b8bf5-3dd2-405e-d6b1-3b4dc49f07ef"
      },
      "source": [
        "Q = tf.constant(tf.random.uniform(shape=[5,300]))\r\n",
        "Q"
      ],
      "execution_count": 38,
      "outputs": [
        {
          "output_type": "execute_result",
          "data": {
            "text/plain": [
              "<tf.Tensor: shape=(5, 300), dtype=float32, numpy=\n",
              "array([[0.4705832 , 0.10465014, 0.67472696, ..., 0.79847276, 0.9825274 ,\n",
              "        0.63589716],\n",
              "       [0.14248025, 0.4457128 , 0.8596617 , ..., 0.57797265, 0.0609926 ,\n",
              "        0.06947792],\n",
              "       [0.29524326, 0.8429961 , 0.7004008 , ..., 0.7250763 , 0.4682623 ,\n",
              "        0.65553594],\n",
              "       [0.00189304, 0.08930182, 0.21642852, ..., 0.01927888, 0.6787634 ,\n",
              "        0.16780257],\n",
              "       [0.07886589, 0.9002068 , 0.11936116, ..., 0.75989115, 0.01241755,\n",
              "        0.20604908]], dtype=float32)>"
            ]
          },
          "metadata": {
            "tags": []
          },
          "execution_count": 38
        }
      ]
    },
    {
      "cell_type": "code",
      "metadata": {
        "colab": {
          "base_uri": "https://localhost:8080/"
        },
        "id": "R39_fm73KOF3",
        "outputId": "ef1cd028-00a5-483b-91a8-23a695a54de2"
      },
      "source": [
        "R = tf.constant(tf.random.uniform(shape=[5,300]))\r\n",
        "R"
      ],
      "execution_count": 39,
      "outputs": [
        {
          "output_type": "execute_result",
          "data": {
            "text/plain": [
              "<tf.Tensor: shape=(5, 300), dtype=float32, numpy=\n",
              "array([[0.8200661 , 0.95410097, 0.35143578, ..., 0.8191551 , 0.2801366 ,\n",
              "        0.7317569 ],\n",
              "       [0.7691997 , 0.95632994, 0.46085572, ..., 0.20168781, 0.98227835,\n",
              "        0.31199706],\n",
              "       [0.91117656, 0.6265292 , 0.36242592, ..., 0.42847466, 0.07578814,\n",
              "        0.23531055],\n",
              "       [0.8200146 , 0.31677353, 0.9864    , ..., 0.84733903, 0.76470137,\n",
              "        0.48725998],\n",
              "       [0.3017422 , 0.02341425, 0.19158101, ..., 0.85913765, 0.02390528,\n",
              "        0.40537083]], dtype=float32)>"
            ]
          },
          "metadata": {
            "tags": []
          },
          "execution_count": 39
        }
      ]
    },
    {
      "cell_type": "code",
      "metadata": {
        "colab": {
          "base_uri": "https://localhost:8080/"
        },
        "id": "1JldcVEmM10L",
        "outputId": "9e84fc79-5ff5-4626-c732-39a2595364dd"
      },
      "source": [
        "tf.matmul(Q,tf.transpose(R))"
      ],
      "execution_count": 42,
      "outputs": [
        {
          "output_type": "execute_result",
          "data": {
            "text/plain": [
              "<tf.Tensor: shape=(5, 5), dtype=float32, numpy=\n",
              "array([[82.14198 , 79.940475, 77.03339 , 79.270454, 74.563736],\n",
              "       [76.502975, 71.055275, 73.121185, 69.09339 , 68.65369 ],\n",
              "       [75.149826, 75.92602 , 75.5986  , 73.917984, 71.44046 ],\n",
              "       [74.58125 , 74.46337 , 73.18624 , 73.79591 , 69.42868 ],\n",
              "       [73.0273  , 73.48295 , 72.13004 , 70.275665, 67.25443 ]],\n",
              "      dtype=float32)>"
            ]
          },
          "metadata": {
            "tags": []
          },
          "execution_count": 42
        }
      ]
    },
    {
      "cell_type": "code",
      "metadata": {
        "colab": {
          "base_uri": "https://localhost:8080/"
        },
        "id": "Xd4GFzrBNZlK",
        "outputId": "00204f06-369c-42b6-a01b-4b7af840cfbe"
      },
      "source": [
        "R"
      ],
      "execution_count": 37,
      "outputs": [
        {
          "output_type": "execute_result",
          "data": {
            "text/plain": [
              "<tf.Tensor: shape=(100,), dtype=float32, numpy=\n",
              "array([0.06299388, 0.18538201, 0.56920624, 0.4866011 , 0.5024178 ,\n",
              "       0.3695197 , 0.09433115, 0.99571645, 0.74045897, 0.05149651,\n",
              "       0.16213238, 0.48802233, 0.79308915, 0.39151347, 0.06773627,\n",
              "       0.14564526, 0.39069986, 0.731588  , 0.28697276, 0.62649715,\n",
              "       0.90870523, 0.4249109 , 0.02911198, 0.04374683, 0.5780051 ,\n",
              "       0.1864872 , 0.67779446, 0.19693029, 0.06853008, 0.796201  ,\n",
              "       0.50440025, 0.00357902, 0.28536272, 0.71559703, 0.5771314 ,\n",
              "       0.5797025 , 0.10486853, 0.16253495, 0.4810568 , 0.6479131 ,\n",
              "       0.10301781, 0.65794396, 0.58957326, 0.43702304, 0.7626437 ,\n",
              "       0.50317144, 0.88160837, 0.13135397, 0.61331856, 0.96124077,\n",
              "       0.8015717 , 0.2988801 , 0.7325076 , 0.0142349 , 0.8114722 ,\n",
              "       0.1103369 , 0.43065548, 0.30074525, 0.33552408, 0.46150148,\n",
              "       0.8309543 , 0.45131683, 0.38810778, 0.09784615, 0.70395875,\n",
              "       0.11199927, 0.9877721 , 0.08158565, 0.1729846 , 0.25931   ,\n",
              "       0.82117915, 0.00581431, 0.03538859, 0.12169766, 0.38437915,\n",
              "       0.64124334, 0.9172543 , 0.9140581 , 0.11327815, 0.44368744,\n",
              "       0.35000312, 0.24130416, 0.64677906, 0.4128567 , 0.7126956 ,\n",
              "       0.6168448 , 0.00623643, 0.98709905, 0.88380384, 0.7358699 ,\n",
              "       0.2118895 , 0.7278583 , 0.6824076 , 0.6032165 , 0.02913439,\n",
              "       0.29582143, 0.7084656 , 0.45097482, 0.12580013, 0.37126803],\n",
              "      dtype=float32)>"
            ]
          },
          "metadata": {
            "tags": []
          },
          "execution_count": 37
        }
      ]
    },
    {
      "cell_type": "code",
      "metadata": {
        "colab": {
          "base_uri": "https://localhost:8080/"
        },
        "id": "vkyM_C-gN1S7",
        "outputId": "ab2d0bd6-4773-4b0a-c59b-516f819ad31f"
      },
      "source": [
        "tf.tensordot(Q,tf.transpose(R),axes=1)"
      ],
      "execution_count": 43,
      "outputs": [
        {
          "output_type": "execute_result",
          "data": {
            "text/plain": [
              "<tf.Tensor: shape=(5, 5), dtype=float32, numpy=\n",
              "array([[82.14198 , 79.940475, 77.03339 , 79.270454, 74.563736],\n",
              "       [76.502975, 71.055275, 73.121185, 69.09339 , 68.65369 ],\n",
              "       [75.149826, 75.92602 , 75.5986  , 73.917984, 71.44046 ],\n",
              "       [74.58125 , 74.46337 , 73.18624 , 73.79591 , 69.42868 ],\n",
              "       [73.0273  , 73.48295 , 72.13004 , 70.275665, 67.25443 ]],\n",
              "      dtype=float32)>"
            ]
          },
          "metadata": {
            "tags": []
          },
          "execution_count": 43
        }
      ]
    },
    {
      "cell_type": "code",
      "metadata": {
        "colab": {
          "base_uri": "https://localhost:8080/"
        },
        "id": "I83bntyvPEKo",
        "outputId": "60cd097f-637e-482d-f751-e6e09569f062"
      },
      "source": [
        "S = tf.constant(tf.random.uniform(shape=[224,224,3]))\r\n",
        "S"
      ],
      "execution_count": 44,
      "outputs": [
        {
          "output_type": "execute_result",
          "data": {
            "text/plain": [
              "<tf.Tensor: shape=(224, 224, 3), dtype=float32, numpy=\n",
              "array([[[9.08134699e-01, 3.75289083e-01, 2.22025752e-01],\n",
              "        [8.71148467e-01, 2.13998556e-01, 4.36605573e-01],\n",
              "        [8.80699754e-01, 2.36614108e-01, 2.94582963e-01],\n",
              "        ...,\n",
              "        [5.63096523e-01, 4.80108738e-01, 1.11959457e-01],\n",
              "        [8.39346409e-01, 1.26361012e-01, 9.30603743e-02],\n",
              "        [7.70224810e-01, 4.60586190e-01, 1.93270683e-01]],\n",
              "\n",
              "       [[1.65343285e-04, 6.71547174e-01, 8.76376271e-01],\n",
              "        [5.18836975e-02, 6.23538613e-01, 1.82367802e-01],\n",
              "        [5.83194494e-01, 4.45314050e-01, 6.86858892e-02],\n",
              "        ...,\n",
              "        [4.06238914e-01, 5.24005413e-01, 1.25544786e-01],\n",
              "        [2.07283974e-01, 9.57589507e-01, 1.53245687e-01],\n",
              "        [7.41413832e-02, 5.48560619e-02, 1.73826218e-02]],\n",
              "\n",
              "       [[6.46189809e-01, 3.66714835e-01, 8.67955685e-01],\n",
              "        [4.16137457e-01, 2.20340133e-01, 8.67474079e-01],\n",
              "        [5.78316092e-01, 9.26745296e-01, 1.54892206e-02],\n",
              "        ...,\n",
              "        [2.36198306e-01, 4.62727785e-01, 3.52087259e-01],\n",
              "        [1.81756020e-01, 6.47430420e-01, 9.76971626e-01],\n",
              "        [4.79921937e-01, 1.55576825e-01, 1.50822878e-01]],\n",
              "\n",
              "       ...,\n",
              "\n",
              "       [[4.72837925e-01, 3.23080659e-01, 6.97616339e-02],\n",
              "        [1.19751334e-01, 7.64522314e-01, 1.43398643e-01],\n",
              "        [5.75598240e-01, 2.43014097e-01, 5.15310764e-02],\n",
              "        ...,\n",
              "        [7.02244163e-01, 5.95108032e-01, 3.07625532e-02],\n",
              "        [6.04655981e-01, 5.58169127e-01, 1.56072021e-01],\n",
              "        [7.37338662e-01, 1.10297322e-01, 7.86882401e-01]],\n",
              "\n",
              "       [[2.40376949e-01, 4.21391129e-01, 9.08990622e-01],\n",
              "        [8.63856077e-01, 5.65841079e-01, 2.70914674e-01],\n",
              "        [7.22575188e-03, 8.34203482e-01, 7.54679799e-01],\n",
              "        ...,\n",
              "        [8.09224010e-01, 5.56154728e-01, 3.56796026e-01],\n",
              "        [2.87934661e-01, 3.42029810e-01, 9.11712527e-01],\n",
              "        [4.96841550e-01, 3.40768337e-01, 9.87020731e-01]],\n",
              "\n",
              "       [[8.54126215e-01, 8.65834355e-01, 4.87316012e-01],\n",
              "        [5.57275057e-01, 2.62863159e-01, 4.06286716e-02],\n",
              "        [3.19851041e-01, 4.76275682e-02, 4.64867115e-01],\n",
              "        ...,\n",
              "        [7.50022888e-01, 1.79649353e-01, 7.21249819e-01],\n",
              "        [4.68754768e-01, 9.93052006e-01, 8.47082734e-01],\n",
              "        [4.15472507e-01, 7.62503624e-01, 6.13245368e-01]]], dtype=float32)>"
            ]
          },
          "metadata": {
            "tags": []
          },
          "execution_count": 44
        }
      ]
    },
    {
      "cell_type": "code",
      "metadata": {
        "colab": {
          "base_uri": "https://localhost:8080/"
        },
        "id": "LjgolhmHPX4p",
        "outputId": "5cd7fe22-157a-4f6e-a854-7110c7fb604e"
      },
      "source": [
        "tf.argmax(S)"
      ],
      "execution_count": 49,
      "outputs": [
        {
          "output_type": "execute_result",
          "data": {
            "text/plain": [
              "<tf.Tensor: shape=(224, 3), dtype=int64, numpy=\n",
              "array([[149,  94,   6],\n",
              "       [ 53,  50,  65],\n",
              "       [144, 111, 108],\n",
              "       [ 29,  47,  77],\n",
              "       [199, 130,  44],\n",
              "       [ 21, 195,  76],\n",
              "       [202, 173, 213],\n",
              "       [191, 156, 111],\n",
              "       [151, 119, 187],\n",
              "       [ 36,   7,  15],\n",
              "       [ 78,  46, 132],\n",
              "       [203,   2, 126],\n",
              "       [ 87, 193, 154],\n",
              "       [200, 163, 112],\n",
              "       [ 83, 186,  26],\n",
              "       [147,  86, 139],\n",
              "       [152, 179, 194],\n",
              "       [ 67, 181, 166],\n",
              "       [209, 176,  42],\n",
              "       [151, 106, 136],\n",
              "       [ 38, 218, 201],\n",
              "       [187,   5,   6],\n",
              "       [122,  63, 166],\n",
              "       [107,   1, 119],\n",
              "       [180,  77, 182],\n",
              "       [206,  41, 209],\n",
              "       [206, 102, 212],\n",
              "       [185,  35, 205],\n",
              "       [216,  53, 174],\n",
              "       [174, 109, 129],\n",
              "       [150, 124, 107],\n",
              "       [ 13,  25, 126],\n",
              "       [106,  43,  79],\n",
              "       [124,  61, 222],\n",
              "       [ 46, 132,  32],\n",
              "       [195, 129, 163],\n",
              "       [200, 219,  82],\n",
              "       [203, 215, 195],\n",
              "       [150,  33,  53],\n",
              "       [ 37, 155,  19],\n",
              "       [184, 117,  16],\n",
              "       [138,  58,  41],\n",
              "       [ 70,   3,  21],\n",
              "       [122, 208,  68],\n",
              "       [217,  61,  29],\n",
              "       [ 62, 151, 127],\n",
              "       [ 58, 221,  72],\n",
              "       [215, 123,   0],\n",
              "       [ 88,  31, 150],\n",
              "       [135, 115, 213],\n",
              "       [185, 171,  94],\n",
              "       [ 38, 211, 158],\n",
              "       [144,  47, 198],\n",
              "       [184,  18, 199],\n",
              "       [218, 211,  82],\n",
              "       [219,   4, 202],\n",
              "       [164, 190, 220],\n",
              "       [178, 187,  23],\n",
              "       [166,  76,  74],\n",
              "       [186, 154, 129],\n",
              "       [ 31, 110, 174],\n",
              "       [ 67, 106,  62],\n",
              "       [ 41, 184,  36],\n",
              "       [215,   2,  25],\n",
              "       [ 30,   4,  98],\n",
              "       [219, 159, 176],\n",
              "       [179, 108,  32],\n",
              "       [181, 212, 212],\n",
              "       [ 96,  95, 172],\n",
              "       [168,  76,  99],\n",
              "       [ 90,  10,  20],\n",
              "       [ 92, 156,  95],\n",
              "       [ 50, 147,  13],\n",
              "       [ 19, 146,  72],\n",
              "       [ 79,  68, 120],\n",
              "       [150, 184,   9],\n",
              "       [ 53, 124, 213],\n",
              "       [116, 212, 140],\n",
              "       [108, 126, 116],\n",
              "       [ 10, 198,  71],\n",
              "       [  4,   9, 153],\n",
              "       [137, 180, 105],\n",
              "       [103,  76,  73],\n",
              "       [205, 221,  61],\n",
              "       [213,  59, 209],\n",
              "       [172, 127, 222],\n",
              "       [167, 176,   2],\n",
              "       [109, 183,  29],\n",
              "       [134, 213, 124],\n",
              "       [113,  36,  52],\n",
              "       [150, 147, 159],\n",
              "       [ 31, 184,  56],\n",
              "       [101,  66, 168],\n",
              "       [ 85,  88, 119],\n",
              "       [ 16,  93, 170],\n",
              "       [155, 122,  31],\n",
              "       [ 16,  99, 146],\n",
              "       [123, 157, 217],\n",
              "       [ 35, 208, 127],\n",
              "       [  7,  18, 162],\n",
              "       [ 41, 182, 214],\n",
              "       [ 19, 147, 185],\n",
              "       [ 19, 212, 185],\n",
              "       [145,  11,  90],\n",
              "       [ 76,  97,  93],\n",
              "       [ 43, 136,  13],\n",
              "       [144,  51,  79],\n",
              "       [222, 121, 102],\n",
              "       [133, 108, 126],\n",
              "       [115, 191,  14],\n",
              "       [209, 127,  98],\n",
              "       [ 53, 151,  28],\n",
              "       [ 94, 203, 222],\n",
              "       [116, 195,  40],\n",
              "       [ 88,  56,   5],\n",
              "       [156, 164,  11],\n",
              "       [ 28, 128,  53],\n",
              "       [170, 127, 199],\n",
              "       [ 50,  33, 143],\n",
              "       [ 87, 175, 185],\n",
              "       [172, 157, 192],\n",
              "       [120, 218,  35],\n",
              "       [199,  80,  34],\n",
              "       [ 81,  85, 155],\n",
              "       [ 74, 190,  88],\n",
              "       [152,   1,  26],\n",
              "       [165, 190,   7],\n",
              "       [195, 193,  44],\n",
              "       [126,  24,  93],\n",
              "       [222, 107,   0],\n",
              "       [118, 176,  23],\n",
              "       [109, 178, 145],\n",
              "       [ 59, 178, 115],\n",
              "       [133, 129,  85],\n",
              "       [ 59, 154,  68],\n",
              "       [153,  42, 124],\n",
              "       [162, 114, 161],\n",
              "       [ 52, 190, 158],\n",
              "       [ 21,   4, 121],\n",
              "       [206, 217,  84],\n",
              "       [ 45, 193, 179],\n",
              "       [220, 206,  75],\n",
              "       [119, 185,  24],\n",
              "       [138, 121,  25],\n",
              "       [213, 122, 127],\n",
              "       [ 93, 183, 210],\n",
              "       [  3, 207,  87],\n",
              "       [117,  10,  14],\n",
              "       [143, 139,  81],\n",
              "       [ 19, 213,  35],\n",
              "       [185,  70, 150],\n",
              "       [189,  55,  11],\n",
              "       [171, 223,  19],\n",
              "       [149,   8,  41],\n",
              "       [ 56, 208,  89],\n",
              "       [ 37, 176, 130],\n",
              "       [181, 127,  18],\n",
              "       [181, 221,  77],\n",
              "       [208, 146,  86],\n",
              "       [201, 209, 178],\n",
              "       [ 96, 113, 193],\n",
              "       [158, 215, 113],\n",
              "       [162, 109, 150],\n",
              "       [ 46,  73, 104],\n",
              "       [107, 183, 191],\n",
              "       [181,  69, 132],\n",
              "       [207,  45, 198],\n",
              "       [203, 181, 162],\n",
              "       [ 60,  62, 100],\n",
              "       [135,  10,  37],\n",
              "       [199, 170, 164],\n",
              "       [123,  67, 159],\n",
              "       [173,  71, 133],\n",
              "       [198,  78, 149],\n",
              "       [  7, 173, 105],\n",
              "       [ 33,  62,  49],\n",
              "       [ 50, 110,   6],\n",
              "       [ 79, 117,  44],\n",
              "       [ 41,   0,  34],\n",
              "       [124, 105,  23],\n",
              "       [197,  68,  65],\n",
              "       [127, 211,  77],\n",
              "       [ 15, 121,  85],\n",
              "       [ 42,  17, 215],\n",
              "       [100, 137, 223],\n",
              "       [131, 212,  36],\n",
              "       [ 50, 121,  46],\n",
              "       [ 83, 147,  10],\n",
              "       [ 95, 188,  70],\n",
              "       [ 99, 113,  84],\n",
              "       [ 25,   1, 139],\n",
              "       [135,  37, 183],\n",
              "       [164, 174, 122],\n",
              "       [197,  34,  22],\n",
              "       [ 41,  80,  19],\n",
              "       [194, 198,   4],\n",
              "       [185, 145, 190],\n",
              "       [ 59, 200,  88],\n",
              "       [142, 147, 118],\n",
              "       [ 42,  84, 139],\n",
              "       [165, 128, 158],\n",
              "       [197,  85,  21],\n",
              "       [181, 167,  26],\n",
              "       [214,  11,  90],\n",
              "       [144, 168, 166],\n",
              "       [ 87, 193, 108],\n",
              "       [155, 155, 148],\n",
              "       [152,  80,  50],\n",
              "       [ 99,  92,  43],\n",
              "       [ 29, 193,  12],\n",
              "       [186, 216, 149],\n",
              "       [217,  46,  96],\n",
              "       [ 11, 139,  97],\n",
              "       [ 22,  38, 183],\n",
              "       [122, 194, 174],\n",
              "       [141,  79,  96],\n",
              "       [195,  35, 151],\n",
              "       [116,  79,  85],\n",
              "       [113, 141,  74],\n",
              "       [158, 189, 149],\n",
              "       [141, 119, 109],\n",
              "       [115, 103,  32],\n",
              "       [ 49, 178,  15],\n",
              "       [160,  54,  31]])>"
            ]
          },
          "metadata": {
            "tags": []
          },
          "execution_count": 49
        }
      ]
    },
    {
      "cell_type": "code",
      "metadata": {
        "colab": {
          "base_uri": "https://localhost:8080/"
        },
        "id": "E4fCz96FPeBI",
        "outputId": "2534eef6-9653-4579-c60f-1cab43bef7c1"
      },
      "source": [
        "tf.argmin(S)"
      ],
      "execution_count": 50,
      "outputs": [
        {
          "output_type": "execute_result",
          "data": {
            "text/plain": [
              "<tf.Tensor: shape=(224, 3), dtype=int64, numpy=\n",
              "array([[  1,   4,  52],\n",
              "       [146, 146,  14],\n",
              "       [ 69, 160,  32],\n",
              "       [150, 101,  99],\n",
              "       [  6,  65,  43],\n",
              "       [160, 220,  65],\n",
              "       [200,  61,  36],\n",
              "       [138, 174, 145],\n",
              "       [178, 101, 178],\n",
              "       [ 52,  65,  58],\n",
              "       [ 80,  95, 116],\n",
              "       [217, 170,  69],\n",
              "       [213,  93, 107],\n",
              "       [ 39, 126, 223],\n",
              "       [ 46,  37,   7],\n",
              "       [ 35, 207, 115],\n",
              "       [ 30, 100, 118],\n",
              "       [ 99,  34, 161],\n",
              "       [ 52,  68,  12],\n",
              "       [207, 151, 100],\n",
              "       [165,  58,  38],\n",
              "       [189,  81, 208],\n",
              "       [199, 132, 204],\n",
              "       [139, 114,  71],\n",
              "       [105,  93,  26],\n",
              "       [175,  30,  61],\n",
              "       [ 64, 206, 196],\n",
              "       [102,  31,  34],\n",
              "       [ 17,  14,  63],\n",
              "       [ 88,  51,  78],\n",
              "       [194, 153,   5],\n",
              "       [206,  75, 207],\n",
              "       [ 92,  25, 164],\n",
              "       [ 17, 204,  27],\n",
              "       [179, 193, 139],\n",
              "       [ 91, 122,  36],\n",
              "       [138,  33, 141],\n",
              "       [212, 148, 220],\n",
              "       [187,  46, 185],\n",
              "       [160,  66, 189],\n",
              "       [ 74,  87,  10],\n",
              "       [  0, 137, 208],\n",
              "       [  4,  92,  94],\n",
              "       [218,  23,  17],\n",
              "       [150, 175,  63],\n",
              "       [ 58, 174, 133],\n",
              "       [136,  20,  20],\n",
              "       [ 48,  86,  40],\n",
              "       [111,  44, 161],\n",
              "       [ 68, 209,  96],\n",
              "       [186, 207, 170],\n",
              "       [221,  81, 166],\n",
              "       [ 49,  51, 127],\n",
              "       [195, 101,   6],\n",
              "       [119, 101,  84],\n",
              "       [ 50, 123,  91],\n",
              "       [194, 210,  95],\n",
              "       [  8, 108,  72],\n",
              "       [ 87, 189,  30],\n",
              "       [ 37,  62, 121],\n",
              "       [ 40, 115, 128],\n",
              "       [ 44, 172, 189],\n",
              "       [ 61,  27,  63],\n",
              "       [144,  32, 197],\n",
              "       [201,   6, 112],\n",
              "       [ 44,  92, 100],\n",
              "       [  5, 145,  39],\n",
              "       [ 15, 127, 162],\n",
              "       [ 46, 197, 151],\n",
              "       [214,   5, 114],\n",
              "       [ 49,  38,  99],\n",
              "       [ 38, 192, 134],\n",
              "       [179, 166,  35],\n",
              "       [159, 172, 222],\n",
              "       [148,  29, 178],\n",
              "       [ 92, 142, 155],\n",
              "       [124,  85,  95],\n",
              "       [198, 203, 202],\n",
              "       [217, 185,  64],\n",
              "       [207,  93, 193],\n",
              "       [ 73, 111,  31],\n",
              "       [ 65, 146, 159],\n",
              "       [137, 149, 171],\n",
              "       [128,  71,  52],\n",
              "       [114, 156,   9],\n",
              "       [  0, 123,  89],\n",
              "       [ 73,  52, 220],\n",
              "       [102,  34, 166],\n",
              "       [220,   0,  53],\n",
              "       [186,  32, 113],\n",
              "       [ 11, 213,  70],\n",
              "       [172,  18, 117],\n",
              "       [ 25,  33,  29],\n",
              "       [ 77,  33, 217],\n",
              "       [ 25, 113, 195],\n",
              "       [ 78, 173, 126],\n",
              "       [ 52, 219,  63],\n",
              "       [ 27, 174, 181],\n",
              "       [154, 145,   6],\n",
              "       [ 15, 175, 223],\n",
              "       [139, 170, 178],\n",
              "       [190, 110,   2],\n",
              "       [ 26,  19, 162],\n",
              "       [ 38, 165,  93],\n",
              "       [219,  28, 168],\n",
              "       [219, 108,  96],\n",
              "       [  8,  22,  28],\n",
              "       [ 99,  19, 181],\n",
              "       [176,  62,  97],\n",
              "       [140, 183, 154],\n",
              "       [ 29, 197,  90],\n",
              "       [157, 202, 156],\n",
              "       [ 72,  34,  85],\n",
              "       [190, 134, 122],\n",
              "       [ 68, 170, 176],\n",
              "       [105,  85,  24],\n",
              "       [ 37, 125, 148],\n",
              "       [217, 145, 207],\n",
              "       [146, 149, 117],\n",
              "       [  4, 209,  92],\n",
              "       [106,   2, 194],\n",
              "       [ 11,  46,  17],\n",
              "       [ 42, 171, 210],\n",
              "       [160,  82,  21],\n",
              "       [ 14, 171,  32],\n",
              "       [ 22, 101, 154],\n",
              "       [ 60, 145,  18],\n",
              "       [ 93,  72, 151],\n",
              "       [114, 183, 216],\n",
              "       [  9, 101, 172],\n",
              "       [218, 118, 107],\n",
              "       [ 22, 115,  81],\n",
              "       [123, 153,   5],\n",
              "       [179, 165,  78],\n",
              "       [ 39, 195,   0],\n",
              "       [ 11, 112, 106],\n",
              "       [ 85, 103, 113],\n",
              "       [  2, 201, 106],\n",
              "       [105,   7, 176],\n",
              "       [ 61,  26,  49],\n",
              "       [137,  51,   5],\n",
              "       [136, 151, 185],\n",
              "       [145,  36,  88],\n",
              "       [219,  69, 193],\n",
              "       [181, 204,  31],\n",
              "       [180, 143, 136],\n",
              "       [ 76,  35,  80],\n",
              "       [181, 131, 104],\n",
              "       [158, 183, 223],\n",
              "       [178, 134, 129],\n",
              "       [ 20, 216, 194],\n",
              "       [130,  29, 147],\n",
              "       [  6, 207, 155],\n",
              "       [198,   9, 104],\n",
              "       [ 46, 127, 120],\n",
              "       [ 15,  77, 168],\n",
              "       [153, 201,  74],\n",
              "       [ 28, 182,  84],\n",
              "       [ 58,  92,  25],\n",
              "       [  5, 112,  87],\n",
              "       [150, 208,  78],\n",
              "       [110,  29, 206],\n",
              "       [212, 148,  95],\n",
              "       [ 75, 179, 152],\n",
              "       [205, 210,  88],\n",
              "       [ 77, 133,  15],\n",
              "       [ 44,  60, 113],\n",
              "       [ 90,  82,  18],\n",
              "       [120, 123,  95],\n",
              "       [101, 207, 168],\n",
              "       [201,  35, 147],\n",
              "       [  1, 106, 162],\n",
              "       [110, 207, 106],\n",
              "       [100,  65, 123],\n",
              "       [183,  77, 212],\n",
              "       [ 58, 176,  42],\n",
              "       [144, 216, 195],\n",
              "       [182,  45,  41],\n",
              "       [ 74,  86,  82],\n",
              "       [ 21, 152, 196],\n",
              "       [ 21, 171,  60],\n",
              "       [ 94, 148, 182],\n",
              "       [ 43, 147, 216],\n",
              "       [174, 142,  49],\n",
              "       [118, 141, 189],\n",
              "       [ 60,  65,  23],\n",
              "       [ 33,  21,   1],\n",
              "       [ 14, 124,  54],\n",
              "       [142, 159, 101],\n",
              "       [ 47, 184, 201],\n",
              "       [ 56,  92, 212],\n",
              "       [ 47, 143,  94],\n",
              "       [200,  86,   3],\n",
              "       [ 51,  32,  31],\n",
              "       [ 66, 208,  90],\n",
              "       [136, 126,  42],\n",
              "       [130, 138, 161],\n",
              "       [202, 178,  52],\n",
              "       [183, 212, 200],\n",
              "       [ 29,  56, 148],\n",
              "       [145,  44, 123],\n",
              "       [112,  10,  13],\n",
              "       [ 32,   0,  48],\n",
              "       [150, 197,  18],\n",
              "       [171,  50, 216],\n",
              "       [118, 198,  77],\n",
              "       [200, 126, 171],\n",
              "       [ 50, 175, 207],\n",
              "       [124,  71,  57],\n",
              "       [116,  87, 160],\n",
              "       [136, 152,  48],\n",
              "       [ 90, 153,  21],\n",
              "       [101,  95, 186],\n",
              "       [ 18,  60,  21],\n",
              "       [112, 153, 133],\n",
              "       [218, 134, 161],\n",
              "       [161, 141, 114],\n",
              "       [170, 139, 183],\n",
              "       [132, 184,  23],\n",
              "       [202, 163, 187],\n",
              "       [ 77, 211, 202],\n",
              "       [152,  61,  34],\n",
              "       [ 36,  65, 219],\n",
              "       [ 89,  56,  14]])>"
            ]
          },
          "metadata": {
            "tags": []
          },
          "execution_count": 50
        }
      ]
    },
    {
      "cell_type": "code",
      "metadata": {
        "colab": {
          "base_uri": "https://localhost:8080/"
        },
        "id": "TuPzFjAURmIW",
        "outputId": "ad088b1b-a720-4ce5-daa8-0f191fc52996"
      },
      "source": [
        "T = tf.constant(tf.random.uniform(shape=[1,224,224,3]))\r\n",
        "T"
      ],
      "execution_count": 51,
      "outputs": [
        {
          "output_type": "execute_result",
          "data": {
            "text/plain": [
              "<tf.Tensor: shape=(1, 224, 224, 3), dtype=float32, numpy=\n",
              "array([[[[0.8931999 , 0.01647007, 0.06493306],\n",
              "         [0.16119003, 0.83912444, 0.3424647 ],\n",
              "         [0.5179647 , 0.9105128 , 0.929783  ],\n",
              "         ...,\n",
              "         [0.91787505, 0.90253377, 0.8376626 ],\n",
              "         [0.7379042 , 0.6450299 , 0.62335765],\n",
              "         [0.69037604, 0.49095905, 0.6787394 ]],\n",
              "\n",
              "        [[0.39466214, 0.7900243 , 0.4837669 ],\n",
              "         [0.5027441 , 0.5607096 , 0.9163573 ],\n",
              "         [0.97523737, 0.08511662, 0.23769534],\n",
              "         ...,\n",
              "         [0.29764867, 0.5062996 , 0.55800474],\n",
              "         [0.95395553, 0.5888716 , 0.06120324],\n",
              "         [0.6883285 , 0.10797656, 0.4364729 ]],\n",
              "\n",
              "        [[0.56244075, 0.11544311, 0.1804986 ],\n",
              "         [0.7584281 , 0.35358334, 0.16853261],\n",
              "         [0.47422266, 0.5700376 , 0.69335604],\n",
              "         ...,\n",
              "         [0.87678444, 0.58368516, 0.03208387],\n",
              "         [0.772534  , 0.20299494, 0.13023722],\n",
              "         [0.1903081 , 0.127653  , 0.3165599 ]],\n",
              "\n",
              "        ...,\n",
              "\n",
              "        [[0.49498856, 0.57833076, 0.31838894],\n",
              "         [0.5638783 , 0.11494195, 0.96530974],\n",
              "         [0.27423453, 0.5158396 , 0.23433948],\n",
              "         ...,\n",
              "         [0.03605056, 0.47385764, 0.76303625],\n",
              "         [0.546     , 0.51682544, 0.647882  ],\n",
              "         [0.01921654, 0.18768752, 0.2587886 ]],\n",
              "\n",
              "        [[0.16833353, 0.27405763, 0.4112116 ],\n",
              "         [0.01797593, 0.6641201 , 0.91582966],\n",
              "         [0.21665037, 0.58467746, 0.06013346],\n",
              "         ...,\n",
              "         [0.7831795 , 0.27774274, 0.4715197 ],\n",
              "         [0.37556958, 0.2978258 , 0.44554532],\n",
              "         [0.03013444, 0.5075592 , 0.45345318]],\n",
              "\n",
              "        [[0.67350376, 0.5650939 , 0.6323602 ],\n",
              "         [0.6406311 , 0.9413303 , 0.38668537],\n",
              "         [0.70478845, 0.18790627, 0.27525532],\n",
              "         ...,\n",
              "         [0.7386966 , 0.3171152 , 0.96102655],\n",
              "         [0.41256595, 0.28808153, 0.01444972],\n",
              "         [0.6196388 , 0.70971906, 0.8731146 ]]]], dtype=float32)>"
            ]
          },
          "metadata": {
            "tags": []
          },
          "execution_count": 51
        }
      ]
    },
    {
      "cell_type": "code",
      "metadata": {
        "colab": {
          "base_uri": "https://localhost:8080/"
        },
        "id": "V2eFUO0rR3yV",
        "outputId": "c238a16e-f419-4c9f-a119-91c8c371d0d8"
      },
      "source": [
        "U = tf.squeeze(T)\r\n",
        "U.shape"
      ],
      "execution_count": 52,
      "outputs": [
        {
          "output_type": "execute_result",
          "data": {
            "text/plain": [
              "TensorShape([224, 224, 3])"
            ]
          },
          "metadata": {
            "tags": []
          },
          "execution_count": 52
        }
      ]
    },
    {
      "cell_type": "code",
      "metadata": {
        "colab": {
          "base_uri": "https://localhost:8080/"
        },
        "id": "wCKRUIWySHyF",
        "outputId": "3cb4c443-e278-41f4-c145-06e533856193"
      },
      "source": [
        "V = tf.constant([1,2,3,4,5,6,7,8,9,10])\r\n",
        "V"
      ],
      "execution_count": 53,
      "outputs": [
        {
          "output_type": "execute_result",
          "data": {
            "text/plain": [
              "<tf.Tensor: shape=(10,), dtype=int32, numpy=array([ 1,  2,  3,  4,  5,  6,  7,  8,  9, 10], dtype=int32)>"
            ]
          },
          "metadata": {
            "tags": []
          },
          "execution_count": 53
        }
      ]
    },
    {
      "cell_type": "code",
      "metadata": {
        "colab": {
          "base_uri": "https://localhost:8080/"
        },
        "id": "i9hJooJ2SUNE",
        "outputId": "fa58fed1-199a-457b-dbdd-03afd415a0ca"
      },
      "source": [
        "tf.argmax(V)"
      ],
      "execution_count": 54,
      "outputs": [
        {
          "output_type": "execute_result",
          "data": {
            "text/plain": [
              "<tf.Tensor: shape=(), dtype=int64, numpy=9>"
            ]
          },
          "metadata": {
            "tags": []
          },
          "execution_count": 54
        }
      ]
    },
    {
      "cell_type": "code",
      "metadata": {
        "colab": {
          "base_uri": "https://localhost:8080/"
        },
        "id": "HHU-bUMGSZt0",
        "outputId": "e47e9962-490b-4550-ea16-65d6042115ee"
      },
      "source": [
        "V[tf.argmax(V)]"
      ],
      "execution_count": 55,
      "outputs": [
        {
          "output_type": "execute_result",
          "data": {
            "text/plain": [
              "<tf.Tensor: shape=(), dtype=int32, numpy=10>"
            ]
          },
          "metadata": {
            "tags": []
          },
          "execution_count": 55
        }
      ]
    },
    {
      "cell_type": "code",
      "metadata": {
        "colab": {
          "base_uri": "https://localhost:8080/"
        },
        "id": "rYkinyWESp2k",
        "outputId": "c458da03-e41a-46e0-cd1e-45612e6d9511"
      },
      "source": [
        "tf.one_hot(V, depth=11)"
      ],
      "execution_count": 59,
      "outputs": [
        {
          "output_type": "execute_result",
          "data": {
            "text/plain": [
              "<tf.Tensor: shape=(10, 11), dtype=float32, numpy=\n",
              "array([[0., 1., 0., 0., 0., 0., 0., 0., 0., 0., 0.],\n",
              "       [0., 0., 1., 0., 0., 0., 0., 0., 0., 0., 0.],\n",
              "       [0., 0., 0., 1., 0., 0., 0., 0., 0., 0., 0.],\n",
              "       [0., 0., 0., 0., 1., 0., 0., 0., 0., 0., 0.],\n",
              "       [0., 0., 0., 0., 0., 1., 0., 0., 0., 0., 0.],\n",
              "       [0., 0., 0., 0., 0., 0., 1., 0., 0., 0., 0.],\n",
              "       [0., 0., 0., 0., 0., 0., 0., 1., 0., 0., 0.],\n",
              "       [0., 0., 0., 0., 0., 0., 0., 0., 1., 0., 0.],\n",
              "       [0., 0., 0., 0., 0., 0., 0., 0., 0., 1., 0.],\n",
              "       [0., 0., 0., 0., 0., 0., 0., 0., 0., 0., 1.]], dtype=float32)>"
            ]
          },
          "metadata": {
            "tags": []
          },
          "execution_count": 59
        }
      ]
    },
    {
      "cell_type": "code",
      "metadata": {
        "id": "Y-pEyCVyS7fj"
      },
      "source": [
        ""
      ],
      "execution_count": null,
      "outputs": []
    }
  ]
}