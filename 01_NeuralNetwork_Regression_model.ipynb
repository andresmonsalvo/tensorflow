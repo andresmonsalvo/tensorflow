{
  "nbformat": 4,
  "nbformat_minor": 0,
  "metadata": {
    "colab": {
      "name": "01_NeuralNetwork_Regression_model.ipynb",
      "provenance": [],
      "collapsed_sections": []
    },
    "kernelspec": {
      "name": "python3",
      "display_name": "Python 3"
    },
    "accelerator": "GPU"
  },
  "cells": [
    {
      "cell_type": "markdown",
      "metadata": {
        "id": "CE4njMB-RJMK"
      },
      "source": [
        "# Intro to Regression with Neural Networks in TensorFlow\r\n",
        "\r\n",
        "Predicting a numerical variable based on some other combination of numbers"
      ]
    },
    {
      "cell_type": "code",
      "metadata": {
        "colab": {
          "base_uri": "https://localhost:8080/"
        },
        "id": "uqkhm_1MRzhN",
        "outputId": "3ee97550-17a5-4d27-ad4e-d91b5932b04f"
      },
      "source": [
        "# Import TF\r\n",
        "import tensorflow as tf\r\n",
        "print(tf.__version__)"
      ],
      "execution_count": 1,
      "outputs": [
        {
          "output_type": "stream",
          "text": [
            "2.4.1\n"
          ],
          "name": "stdout"
        }
      ]
    },
    {
      "cell_type": "markdown",
      "metadata": {
        "id": "Iu5FVn3HR7nd"
      },
      "source": [
        "## Creating data to view and fit"
      ]
    },
    {
      "cell_type": "code",
      "metadata": {
        "colab": {
          "base_uri": "https://localhost:8080/",
          "height": 269
        },
        "id": "C3l0cHWiSO6q",
        "outputId": "febf539b-2a26-4488-d1ae-c89fe65ab59f"
      },
      "source": [
        "import numpy as np\r\n",
        "import matplotlib.pyplot as plt\r\n",
        "\r\n",
        "# Create features\r\n",
        "X = np.array([-7.0,-4.0,-1.0,2.0,5.0,8.0,11.0,14.0])\r\n",
        "y = np.array([3.0,6.0,9.0,12.0,15.0,18.0,21.0,24.0])\r\n",
        "\r\n",
        "# Visualize it\r\n",
        "plt.scatter(X,y);"
      ],
      "execution_count": 2,
      "outputs": [
        {
          "output_type": "display_data",
          "data": {
            "image/png": "[encoded data removed]",
            "text/plain": [
              "<Figure size 432x288 with 1 Axes>"
            ]
          },
          "metadata": {
            "tags": [],
            "needs_background": "light"
          }
        }
      ]
    },
    {
      "cell_type": "code",
      "metadata": {
        "colab": {
          "base_uri": "https://localhost:8080/"
        },
        "id": "KX6KSMGES198",
        "outputId": "09fdb164-f1b1-44bd-dcc9-9ec026bf64c7"
      },
      "source": [
        "y == X + 10"
      ],
      "execution_count": 3,
      "outputs": [
        {
          "output_type": "execute_result",
          "data": {
            "text/plain": [
              "array([ True,  True,  True,  True,  True,  True,  True,  True])"
            ]
          },
          "metadata": {
            "tags": []
          },
          "execution_count": 3
        }
      ]
    },
    {
      "cell_type": "markdown",
      "metadata": {
        "id": "hCj94yWxTOYh"
      },
      "source": [
        "## Input and output shapes"
      ]
    },
    {
      "cell_type": "code",
      "metadata": {
        "colab": {
          "base_uri": "https://localhost:8080/"
        },
        "id": "mdN1pvZ5TlAI",
        "outputId": "07096499-fad5-46c1-ec9a-562d4a0f6980"
      },
      "source": [
        "# Create a demo tensor for the housing price prediction problem\r\n",
        "house_info = tf.constant([\"bedroom\", \"bathroom\", \"garage\"])\r\n",
        "house_price = tf.constant([939700])\r\n",
        "house_info, house_price"
      ],
      "execution_count": 4,
      "outputs": [
        {
          "output_type": "execute_result",
          "data": {
            "text/plain": [
              "(<tf.Tensor: shape=(3,), dtype=string, numpy=array([b'bedroom', b'bathroom', b'garage'], dtype=object)>,\n",
              " <tf.Tensor: shape=(1,), dtype=int32, numpy=array([939700], dtype=int32)>)"
            ]
          },
          "metadata": {
            "tags": []
          },
          "execution_count": 4
        }
      ]
    },
    {
      "cell_type": "code",
      "metadata": {
        "colab": {
          "base_uri": "https://localhost:8080/"
        },
        "id": "Sq1cTw6DUDJr",
        "outputId": "d1ec35ed-ec03-40c0-d2aa-0d8d436c4c07"
      },
      "source": [
        "input_shape = X[0].shape\r\n",
        "output_shape = y[0].shape\r\n",
        "input_shape, output_shape"
      ],
      "execution_count": 5,
      "outputs": [
        {
          "output_type": "execute_result",
          "data": {
            "text/plain": [
              "((), ())"
            ]
          },
          "metadata": {
            "tags": []
          },
          "execution_count": 5
        }
      ]
    },
    {
      "cell_type": "code",
      "metadata": {
        "colab": {
          "base_uri": "https://localhost:8080/"
        },
        "id": "TfCs_jJ6Ub3A",
        "outputId": "4cf9c5af-f502-4bb4-811e-8e5efb33918d"
      },
      "source": [
        "X[0].ndim"
      ],
      "execution_count": 6,
      "outputs": [
        {
          "output_type": "execute_result",
          "data": {
            "text/plain": [
              "0"
            ]
          },
          "metadata": {
            "tags": []
          },
          "execution_count": 6
        }
      ]
    },
    {
      "cell_type": "code",
      "metadata": {
        "colab": {
          "base_uri": "https://localhost:8080/"
        },
        "id": "GAW44JvtVFGP",
        "outputId": "e175ea33-d9b9-4e6a-c076-66421139024c"
      },
      "source": [
        "# Turn numpy arrays into tensors\r\n",
        "X = tf.constant(X)\r\n",
        "y = tf.constant(y)\r\n",
        "X,y"
      ],
      "execution_count": 7,
      "outputs": [
        {
          "output_type": "execute_result",
          "data": {
            "text/plain": [
              "(<tf.Tensor: shape=(8,), dtype=float64, numpy=array([-7., -4., -1.,  2.,  5.,  8., 11., 14.])>,\n",
              " <tf.Tensor: shape=(8,), dtype=float64, numpy=array([ 3.,  6.,  9., 12., 15., 18., 21., 24.])>)"
            ]
          },
          "metadata": {
            "tags": []
          },
          "execution_count": 7
        }
      ]
    },
    {
      "cell_type": "markdown",
      "metadata": {
        "id": "im8u7VgpVgHB"
      },
      "source": [
        "# Steps in modelling with TF\r\n",
        "\r\n",
        "1. **Creating a model** - define input and output layers, as well as hidden layers\r\n",
        "2. **Compiling a model** - define the loss functions which tells the model how wrong it is and the optimizer who tells the model how to improve the patterns its \r\n",
        "learning and evaluation metrics which interprets the performance of the model\r\n",
        "3. **Fitting a model** - let the model try to find patterns between X and y (features and labels)"
      ]
    },
    {
      "cell_type": "code",
      "metadata": {
        "colab": {
          "base_uri": "https://localhost:8080/"
        },
        "id": "XxNrYcVHWszS",
        "outputId": "0366620c-4066-4bc3-9282-1a9191744af7"
      },
      "source": [
        "# Set random seed\r\n",
        "tf.random.set_seed(42)\r\n",
        "\r\n",
        "# 1. Create a model using the sequential API\r\n",
        "model = tf.keras.Sequential([\r\n",
        "  tf.keras.layers.Dense(1)\r\n",
        "])\r\n",
        "\r\n",
        "# 2. Compile the model\r\n",
        "model.compile(loss=tf.keras.losses.mae, #mean absolut error\r\n",
        "              optimizer=tf.keras.optimizers.SGD(),  #sthocastic gradient descent\r\n",
        "              metrics=['mae'])\r\n",
        "\r\n",
        "# 3. Fitting the model\r\n",
        "model.fit(X, y, epochs=5)"
      ],
      "execution_count": 8,
      "outputs": [
        {
          "output_type": "stream",
          "text": [
            "Epoch 1/5\n",
            "1/1 [==============================] - 3s 3s/step - loss: 11.5048 - mae: 11.5048\n",
            "Epoch 2/5\n",
            "1/1 [==============================] - 0s 4ms/step - loss: 11.3723 - mae: 11.3723\n",
            "Epoch 3/5\n",
            "1/1 [==============================] - 0s 4ms/step - loss: 11.2398 - mae: 11.2398\n",
            "Epoch 4/5\n",
            "1/1 [==============================] - 0s 4ms/step - loss: 11.1073 - mae: 11.1073\n",
            "Epoch 5/5\n",
            "1/1 [==============================] - 0s 6ms/step - loss: 10.9748 - mae: 10.9748\n"
          ],
          "name": "stdout"
        },
        {
          "output_type": "execute_result",
          "data": {
            "text/plain": [
              "<tensorflow.python.keras.callbacks.History at 0x7ff280307150>"
            ]
          },
          "metadata": {
            "tags": []
          },
          "execution_count": 8
        }
      ]
    },
    {
      "cell_type": "code",
      "metadata": {
        "colab": {
          "base_uri": "https://localhost:8080/"
        },
        "id": "DidjFdhnbtkS",
        "outputId": "6b097726-8ee1-469d-e495-79963990667e"
      },
      "source": [
        "# Check out X and y\r\n",
        "X, y"
      ],
      "execution_count": 9,
      "outputs": [
        {
          "output_type": "execute_result",
          "data": {
            "text/plain": [
              "(<tf.Tensor: shape=(8,), dtype=float64, numpy=array([-7., -4., -1.,  2.,  5.,  8., 11., 14.])>,\n",
              " <tf.Tensor: shape=(8,), dtype=float64, numpy=array([ 3.,  6.,  9., 12., 15., 18., 21., 24.])>)"
            ]
          },
          "metadata": {
            "tags": []
          },
          "execution_count": 9
        }
      ]
    },
    {
      "cell_type": "code",
      "metadata": {
        "colab": {
          "base_uri": "https://localhost:8080/"
        },
        "id": "_Iw5dmVtc1WG",
        "outputId": "c85c97c7-498f-4f6b-d364-aa5267f67134"
      },
      "source": [
        "# try to make a prediction\r\n",
        "y_pred = model.predict([17.0])\r\n",
        "y_pred"
      ],
      "execution_count": 10,
      "outputs": [
        {
          "output_type": "execute_result",
          "data": {
            "text/plain": [
              "array([[12.716021]], dtype=float32)"
            ]
          },
          "metadata": {
            "tags": []
          },
          "execution_count": 10
        }
      ]
    },
    {
      "cell_type": "code",
      "metadata": {
        "colab": {
          "base_uri": "https://localhost:8080/"
        },
        "id": "ZDaglntldBH2",
        "outputId": "30c2ba82-664a-434b-db6a-eb61f58f8798"
      },
      "source": [
        "y_pred + 11"
      ],
      "execution_count": 11,
      "outputs": [
        {
          "output_type": "execute_result",
          "data": {
            "text/plain": [
              "array([[23.71602]], dtype=float32)"
            ]
          },
          "metadata": {
            "tags": []
          },
          "execution_count": 11
        }
      ]
    },
    {
      "cell_type": "markdown",
      "metadata": {
        "id": "7JEnM53hdTbF"
      },
      "source": [
        "# Improve our model\r\n",
        "\r\n",
        "By altering the steps:\r\n",
        "\r\n",
        "1. Creation: add more layers, increase neurons, change activation function in each layer\r\n",
        "\r\n",
        "2. Compiling: change optimization function or learning rate of optimization function\r\n",
        "\r\n",
        "3. Fitting: fit the model for more epochs or bring more examples of data"
      ]
    },
    {
      "cell_type": "code",
      "metadata": {
        "colab": {
          "base_uri": "https://localhost:8080/"
        },
        "id": "VxVSLNlRda3t",
        "outputId": "b9e52bd8-eea9-4b48-ebbc-ad96272252ca"
      },
      "source": [
        "# Lets rebuild the model\r\n",
        "\r\n",
        "# 1. Create the model\r\n",
        "model = tf.keras.Sequential([\r\n",
        "      tf.keras.layers.Dense(1)\r\n",
        "])\r\n",
        "\r\n",
        "# 2. Compile the model\r\n",
        "model.compile(loss=tf.keras.losses.mae,\r\n",
        "              optimizer=tf.keras.optimizers.SGD(),\r\n",
        "              metrics=['mae'])\r\n",
        "\r\n",
        "# 3. Fitting the model\r\n",
        "model.fit(X, y, epochs=100)"
      ],
      "execution_count": 12,
      "outputs": [
        {
          "output_type": "stream",
          "text": [
            "Epoch 1/100\n",
            "1/1 [==============================] - 0s 267ms/step - loss: 11.2219 - mae: 11.2219\n",
            "Epoch 2/100\n",
            "1/1 [==============================] - 0s 3ms/step - loss: 11.0894 - mae: 11.0894\n",
            "Epoch 3/100\n",
            "1/1 [==============================] - 0s 5ms/step - loss: 10.9569 - mae: 10.9569\n",
            "Epoch 4/100\n",
            "1/1 [==============================] - 0s 7ms/step - loss: 10.8244 - mae: 10.8244\n",
            "Epoch 5/100\n",
            "1/1 [==============================] - 0s 4ms/step - loss: 10.6919 - mae: 10.6919\n",
            "Epoch 6/100\n",
            "1/1 [==============================] - 0s 8ms/step - loss: 10.5594 - mae: 10.5594\n",
            "Epoch 7/100\n",
            "1/1 [==============================] - 0s 4ms/step - loss: 10.4269 - mae: 10.4269\n",
            "Epoch 8/100\n",
            "1/1 [==============================] - 0s 4ms/step - loss: 10.2944 - mae: 10.2944\n",
            "Epoch 9/100\n",
            "1/1 [==============================] - 0s 9ms/step - loss: 10.1619 - mae: 10.1619\n",
            "Epoch 10/100\n",
            "1/1 [==============================] - 0s 6ms/step - loss: 10.0294 - mae: 10.0294\n",
            "Epoch 11/100\n",
            "1/1 [==============================] - 0s 5ms/step - loss: 9.8969 - mae: 9.8969\n",
            "Epoch 12/100\n",
            "1/1 [==============================] - 0s 5ms/step - loss: 9.7644 - mae: 9.7644\n",
            "Epoch 13/100\n",
            "1/1 [==============================] - 0s 5ms/step - loss: 9.6319 - mae: 9.6319\n",
            "Epoch 14/100\n",
            "1/1 [==============================] - 0s 6ms/step - loss: 9.4994 - mae: 9.4994\n",
            "Epoch 15/100\n",
            "1/1 [==============================] - 0s 4ms/step - loss: 9.3669 - mae: 9.3669\n",
            "Epoch 16/100\n",
            "1/1 [==============================] - 0s 4ms/step - loss: 9.2344 - mae: 9.2344\n",
            "Epoch 17/100\n",
            "1/1 [==============================] - 0s 3ms/step - loss: 9.1019 - mae: 9.1019\n",
            "Epoch 18/100\n",
            "1/1 [==============================] - 0s 4ms/step - loss: 8.9694 - mae: 8.9694\n",
            "Epoch 19/100\n",
            "1/1 [==============================] - 0s 8ms/step - loss: 8.8369 - mae: 8.8369\n",
            "Epoch 20/100\n",
            "1/1 [==============================] - 0s 8ms/step - loss: 8.7044 - mae: 8.7044\n",
            "Epoch 21/100\n",
            "1/1 [==============================] - 0s 4ms/step - loss: 8.5719 - mae: 8.5719\n",
            "Epoch 22/100\n",
            "1/1 [==============================] - 0s 4ms/step - loss: 8.4394 - mae: 8.4394\n",
            "Epoch 23/100\n",
            "1/1 [==============================] - 0s 7ms/step - loss: 8.3069 - mae: 8.3069\n",
            "Epoch 24/100\n",
            "1/1 [==============================] - 0s 6ms/step - loss: 8.1744 - mae: 8.1744\n",
            "Epoch 25/100\n",
            "1/1 [==============================] - 0s 6ms/step - loss: 8.0419 - mae: 8.0419\n",
            "Epoch 26/100\n",
            "1/1 [==============================] - 0s 7ms/step - loss: 7.9094 - mae: 7.9094\n",
            "Epoch 27/100\n",
            "1/1 [==============================] - 0s 6ms/step - loss: 7.7769 - mae: 7.7769\n",
            "Epoch 28/100\n",
            "1/1 [==============================] - 0s 7ms/step - loss: 7.6444 - mae: 7.6444\n",
            "Epoch 29/100\n",
            "1/1 [==============================] - 0s 9ms/step - loss: 7.5119 - mae: 7.5119\n",
            "Epoch 30/100\n",
            "1/1 [==============================] - 0s 16ms/step - loss: 7.3794 - mae: 7.3794\n",
            "Epoch 31/100\n",
            "1/1 [==============================] - 0s 8ms/step - loss: 7.2750 - mae: 7.2750\n",
            "Epoch 32/100\n",
            "1/1 [==============================] - 0s 6ms/step - loss: 7.2694 - mae: 7.2694\n",
            "Epoch 33/100\n",
            "1/1 [==============================] - 0s 7ms/step - loss: 7.2638 - mae: 7.2638\n",
            "Epoch 34/100\n",
            "1/1 [==============================] - 0s 5ms/step - loss: 7.2581 - mae: 7.2581\n",
            "Epoch 35/100\n",
            "1/1 [==============================] - 0s 6ms/step - loss: 7.2525 - mae: 7.2525\n",
            "Epoch 36/100\n",
            "1/1 [==============================] - 0s 6ms/step - loss: 7.2469 - mae: 7.2469\n",
            "Epoch 37/100\n",
            "1/1 [==============================] - 0s 12ms/step - loss: 7.2413 - mae: 7.2413\n",
            "Epoch 38/100\n",
            "1/1 [==============================] - 0s 5ms/step - loss: 7.2356 - mae: 7.2356\n",
            "Epoch 39/100\n",
            "1/1 [==============================] - 0s 7ms/step - loss: 7.2300 - mae: 7.2300\n",
            "Epoch 40/100\n",
            "1/1 [==============================] - 0s 7ms/step - loss: 7.2244 - mae: 7.2244\n",
            "Epoch 41/100\n",
            "1/1 [==============================] - 0s 6ms/step - loss: 7.2188 - mae: 7.2188\n",
            "Epoch 42/100\n",
            "1/1 [==============================] - 0s 6ms/step - loss: 7.2131 - mae: 7.2131\n",
            "Epoch 43/100\n",
            "1/1 [==============================] - 0s 6ms/step - loss: 7.2075 - mae: 7.2075\n",
            "Epoch 44/100\n",
            "1/1 [==============================] - 0s 7ms/step - loss: 7.2019 - mae: 7.2019\n",
            "Epoch 45/100\n",
            "1/1 [==============================] - 0s 5ms/step - loss: 7.1962 - mae: 7.1962\n",
            "Epoch 46/100\n",
            "1/1 [==============================] - 0s 7ms/step - loss: 7.1906 - mae: 7.1906\n",
            "Epoch 47/100\n",
            "1/1 [==============================] - 0s 7ms/step - loss: 7.1850 - mae: 7.1850\n",
            "Epoch 48/100\n",
            "1/1 [==============================] - 0s 7ms/step - loss: 7.1794 - mae: 7.1794\n",
            "Epoch 49/100\n",
            "1/1 [==============================] - 0s 7ms/step - loss: 7.1737 - mae: 7.1737\n",
            "Epoch 50/100\n",
            "1/1 [==============================] - 0s 7ms/step - loss: 7.1681 - mae: 7.1681\n",
            "Epoch 51/100\n",
            "1/1 [==============================] - 0s 6ms/step - loss: 7.1625 - mae: 7.1625\n",
            "Epoch 52/100\n",
            "1/1 [==============================] - 0s 6ms/step - loss: 7.1569 - mae: 7.1569\n",
            "Epoch 53/100\n",
            "1/1 [==============================] - 0s 6ms/step - loss: 7.1512 - mae: 7.1512\n",
            "Epoch 54/100\n",
            "1/1 [==============================] - 0s 7ms/step - loss: 7.1456 - mae: 7.1456\n",
            "Epoch 55/100\n",
            "1/1 [==============================] - 0s 6ms/step - loss: 7.1400 - mae: 7.1400\n",
            "Epoch 56/100\n",
            "1/1 [==============================] - 0s 6ms/step - loss: 7.1344 - mae: 7.1344\n",
            "Epoch 57/100\n",
            "1/1 [==============================] - 0s 7ms/step - loss: 7.1287 - mae: 7.1287\n",
            "Epoch 58/100\n",
            "1/1 [==============================] - 0s 10ms/step - loss: 7.1231 - mae: 7.1231\n",
            "Epoch 59/100\n",
            "1/1 [==============================] - 0s 18ms/step - loss: 7.1175 - mae: 7.1175\n",
            "Epoch 60/100\n",
            "1/1 [==============================] - 0s 6ms/step - loss: 7.1119 - mae: 7.1119\n",
            "Epoch 61/100\n",
            "1/1 [==============================] - 0s 5ms/step - loss: 7.1062 - mae: 7.1062\n",
            "Epoch 62/100\n",
            "1/1 [==============================] - 0s 9ms/step - loss: 7.1006 - mae: 7.1006\n",
            "Epoch 63/100\n",
            "1/1 [==============================] - 0s 9ms/step - loss: 7.0950 - mae: 7.0950\n",
            "Epoch 64/100\n",
            "1/1 [==============================] - 0s 5ms/step - loss: 7.0894 - mae: 7.0894\n",
            "Epoch 65/100\n",
            "1/1 [==============================] - 0s 5ms/step - loss: 7.0838 - mae: 7.0838\n",
            "Epoch 66/100\n",
            "1/1 [==============================] - 0s 9ms/step - loss: 7.0781 - mae: 7.0781\n",
            "Epoch 67/100\n",
            "1/1 [==============================] - 0s 10ms/step - loss: 7.0725 - mae: 7.0725\n",
            "Epoch 68/100\n",
            "1/1 [==============================] - 0s 9ms/step - loss: 7.0669 - mae: 7.0669\n",
            "Epoch 69/100\n",
            "1/1 [==============================] - 0s 7ms/step - loss: 7.0613 - mae: 7.0613\n",
            "Epoch 70/100\n",
            "1/1 [==============================] - 0s 8ms/step - loss: 7.0556 - mae: 7.0556\n",
            "Epoch 71/100\n",
            "1/1 [==============================] - 0s 7ms/step - loss: 7.0500 - mae: 7.0500\n",
            "Epoch 72/100\n",
            "1/1 [==============================] - 0s 8ms/step - loss: 7.0444 - mae: 7.0444\n",
            "Epoch 73/100\n",
            "1/1 [==============================] - 0s 8ms/step - loss: 7.0388 - mae: 7.0388\n",
            "Epoch 74/100\n",
            "1/1 [==============================] - 0s 8ms/step - loss: 7.0331 - mae: 7.0331\n",
            "Epoch 75/100\n",
            "1/1 [==============================] - 0s 7ms/step - loss: 7.0275 - mae: 7.0275\n",
            "Epoch 76/100\n",
            "1/1 [==============================] - 0s 6ms/step - loss: 7.0219 - mae: 7.0219\n",
            "Epoch 77/100\n",
            "1/1 [==============================] - 0s 6ms/step - loss: 7.0163 - mae: 7.0163\n",
            "Epoch 78/100\n",
            "1/1 [==============================] - 0s 9ms/step - loss: 7.0106 - mae: 7.0106\n",
            "Epoch 79/100\n",
            "1/1 [==============================] - 0s 7ms/step - loss: 7.0050 - mae: 7.0050\n",
            "Epoch 80/100\n",
            "1/1 [==============================] - 0s 8ms/step - loss: 6.9994 - mae: 6.9994\n",
            "Epoch 81/100\n",
            "1/1 [==============================] - 0s 8ms/step - loss: 6.9938 - mae: 6.9938\n",
            "Epoch 82/100\n",
            "1/1 [==============================] - 0s 8ms/step - loss: 6.9881 - mae: 6.9881\n",
            "Epoch 83/100\n",
            "1/1 [==============================] - 0s 8ms/step - loss: 6.9825 - mae: 6.9825\n",
            "Epoch 84/100\n",
            "1/1 [==============================] - 0s 9ms/step - loss: 6.9769 - mae: 6.9769\n",
            "Epoch 85/100\n",
            "1/1 [==============================] - 0s 9ms/step - loss: 6.9713 - mae: 6.9713\n",
            "Epoch 86/100\n",
            "1/1 [==============================] - 0s 9ms/step - loss: 6.9656 - mae: 6.9656\n",
            "Epoch 87/100\n",
            "1/1 [==============================] - 0s 8ms/step - loss: 6.9600 - mae: 6.9600\n",
            "Epoch 88/100\n",
            "1/1 [==============================] - 0s 7ms/step - loss: 6.9544 - mae: 6.9544\n",
            "Epoch 89/100\n",
            "1/1 [==============================] - 0s 7ms/step - loss: 6.9488 - mae: 6.9488\n",
            "Epoch 90/100\n",
            "1/1 [==============================] - 0s 7ms/step - loss: 6.9431 - mae: 6.9431\n",
            "Epoch 91/100\n",
            "1/1 [==============================] - 0s 7ms/step - loss: 6.9375 - mae: 6.9375\n",
            "Epoch 92/100\n",
            "1/1 [==============================] - 0s 8ms/step - loss: 6.9319 - mae: 6.9319\n",
            "Epoch 93/100\n",
            "1/1 [==============================] - 0s 5ms/step - loss: 6.9262 - mae: 6.9262\n",
            "Epoch 94/100\n",
            "1/1 [==============================] - 0s 4ms/step - loss: 6.9206 - mae: 6.9206\n",
            "Epoch 95/100\n",
            "1/1 [==============================] - 0s 8ms/step - loss: 6.9150 - mae: 6.9150\n",
            "Epoch 96/100\n",
            "1/1 [==============================] - 0s 7ms/step - loss: 6.9094 - mae: 6.9094\n",
            "Epoch 97/100\n",
            "1/1 [==============================] - 0s 8ms/step - loss: 6.9038 - mae: 6.9038\n",
            "Epoch 98/100\n",
            "1/1 [==============================] - 0s 6ms/step - loss: 6.8981 - mae: 6.8981\n",
            "Epoch 99/100\n",
            "1/1 [==============================] - 0s 7ms/step - loss: 6.8925 - mae: 6.8925\n",
            "Epoch 100/100\n",
            "1/1 [==============================] - 0s 7ms/step - loss: 6.8869 - mae: 6.8869\n"
          ],
          "name": "stdout"
        },
        {
          "output_type": "execute_result",
          "data": {
            "text/plain": [
              "<tensorflow.python.keras.callbacks.History at 0x7ff28019ad90>"
            ]
          },
          "metadata": {
            "tags": []
          },
          "execution_count": 12
        }
      ]
    },
    {
      "cell_type": "code",
      "metadata": {
        "colab": {
          "base_uri": "https://localhost:8080/"
        },
        "id": "VN9UjqtDg7ed",
        "outputId": "48f39272-4fae-4df3-e8ab-458dd11c34da"
      },
      "source": [
        "X, y"
      ],
      "execution_count": 13,
      "outputs": [
        {
          "output_type": "execute_result",
          "data": {
            "text/plain": [
              "(<tf.Tensor: shape=(8,), dtype=float64, numpy=array([-7., -4., -1.,  2.,  5.,  8., 11., 14.])>,\n",
              " <tf.Tensor: shape=(8,), dtype=float64, numpy=array([ 3.,  6.,  9., 12., 15., 18., 21., 24.])>)"
            ]
          },
          "metadata": {
            "tags": []
          },
          "execution_count": 13
        }
      ]
    },
    {
      "cell_type": "code",
      "metadata": {
        "colab": {
          "base_uri": "https://localhost:8080/"
        },
        "id": "hzs34nx7hTGx",
        "outputId": "27be3a86-7bd5-4b51-d58b-ca14f6cd96d8"
      },
      "source": [
        "model.predict([17.0])"
      ],
      "execution_count": 14,
      "outputs": [
        {
          "output_type": "execute_result",
          "data": {
            "text/plain": [
              "array([[29.739855]], dtype=float32)"
            ]
          },
          "metadata": {
            "tags": []
          },
          "execution_count": 14
        }
      ]
    },
    {
      "cell_type": "code",
      "metadata": {
        "colab": {
          "base_uri": "https://localhost:8080/"
        },
        "id": "YPlwlLN8hdcy",
        "outputId": "942c5668-cc49-42f4-ff8a-9a44d3576d06"
      },
      "source": [
        "model = tf.keras.Sequential([\r\n",
        "  tf.keras.layers.Dense(50, activation='relu'),\r\n",
        "  tf.keras.layers.Dense(1)\r\n",
        "])\r\n",
        "model.compile(loss=tf.keras.losses.mae,  #\"mae\"\r\n",
        "              optimizer=tf.keras.optimizers.Adam(lr=0.1),\r\n",
        "              metrics=['mae']\r\n",
        "              )\r\n",
        "model.fit(X,y,epochs=100)"
      ],
      "execution_count": 15,
      "outputs": [
        {
          "output_type": "stream",
          "text": [
            "Epoch 1/100\n",
            "1/1 [==============================] - 0s 402ms/step - loss: 12.1311 - mae: 12.1311\n",
            "Epoch 2/100\n",
            "1/1 [==============================] - 0s 4ms/step - loss: 7.4377 - mae: 7.4377\n",
            "Epoch 3/100\n",
            "1/1 [==============================] - 0s 5ms/step - loss: 4.0332 - mae: 4.0332\n",
            "Epoch 4/100\n",
            "1/1 [==============================] - 0s 5ms/step - loss: 6.1714 - mae: 6.1714\n",
            "Epoch 5/100\n",
            "1/1 [==============================] - 0s 6ms/step - loss: 5.2233 - mae: 5.2233\n",
            "Epoch 6/100\n",
            "1/1 [==============================] - 0s 6ms/step - loss: 3.6594 - mae: 3.6594\n",
            "Epoch 7/100\n",
            "1/1 [==============================] - 0s 4ms/step - loss: 3.4328 - mae: 3.4328\n",
            "Epoch 8/100\n",
            "1/1 [==============================] - 0s 7ms/step - loss: 3.0845 - mae: 3.0845\n",
            "Epoch 9/100\n",
            "1/1 [==============================] - 0s 4ms/step - loss: 3.1236 - mae: 3.1236\n",
            "Epoch 10/100\n",
            "1/1 [==============================] - 0s 6ms/step - loss: 3.0097 - mae: 3.0097\n",
            "Epoch 11/100\n",
            "1/1 [==============================] - 0s 7ms/step - loss: 2.3455 - mae: 2.3455\n",
            "Epoch 12/100\n",
            "1/1 [==============================] - 0s 5ms/step - loss: 2.0404 - mae: 2.0404\n",
            "Epoch 13/100\n",
            "1/1 [==============================] - 0s 6ms/step - loss: 1.7840 - mae: 1.7840\n",
            "Epoch 14/100\n",
            "1/1 [==============================] - 0s 7ms/step - loss: 2.2669 - mae: 2.2669\n",
            "Epoch 15/100\n",
            "1/1 [==============================] - 0s 7ms/step - loss: 2.0139 - mae: 2.0139\n",
            "Epoch 16/100\n",
            "1/1 [==============================] - 0s 4ms/step - loss: 0.5709 - mae: 0.5709\n",
            "Epoch 17/100\n",
            "1/1 [==============================] - 0s 5ms/step - loss: 1.0704 - mae: 1.0704\n",
            "Epoch 18/100\n",
            "1/1 [==============================] - 0s 6ms/step - loss: 0.6455 - mae: 0.6455\n",
            "Epoch 19/100\n",
            "1/1 [==============================] - 0s 5ms/step - loss: 0.7455 - mae: 0.7455\n",
            "Epoch 20/100\n",
            "1/1 [==============================] - 0s 8ms/step - loss: 0.6466 - mae: 0.6466\n",
            "Epoch 21/100\n",
            "1/1 [==============================] - 0s 7ms/step - loss: 1.4576 - mae: 1.4576\n",
            "Epoch 22/100\n",
            "1/1 [==============================] - 0s 9ms/step - loss: 1.0785 - mae: 1.0785\n",
            "Epoch 23/100\n",
            "1/1 [==============================] - 0s 12ms/step - loss: 1.1926 - mae: 1.1926\n",
            "Epoch 24/100\n",
            "1/1 [==============================] - 0s 11ms/step - loss: 1.5016 - mae: 1.5016\n",
            "Epoch 25/100\n",
            "1/1 [==============================] - 0s 10ms/step - loss: 0.8694 - mae: 0.8694\n",
            "Epoch 26/100\n",
            "1/1 [==============================] - 0s 10ms/step - loss: 1.0811 - mae: 1.0811\n",
            "Epoch 27/100\n",
            "1/1 [==============================] - 0s 8ms/step - loss: 1.2119 - mae: 1.2119\n",
            "Epoch 28/100\n",
            "1/1 [==============================] - 0s 6ms/step - loss: 0.2256 - mae: 0.2256\n",
            "Epoch 29/100\n",
            "1/1 [==============================] - 0s 6ms/step - loss: 1.5178 - mae: 1.5178\n",
            "Epoch 30/100\n",
            "1/1 [==============================] - 0s 4ms/step - loss: 2.0559 - mae: 2.0559\n",
            "Epoch 31/100\n",
            "1/1 [==============================] - 0s 6ms/step - loss: 1.4549 - mae: 1.4549\n",
            "Epoch 32/100\n",
            "1/1 [==============================] - 0s 8ms/step - loss: 0.2363 - mae: 0.2363\n",
            "Epoch 33/100\n",
            "1/1 [==============================] - 0s 6ms/step - loss: 1.1748 - mae: 1.1748\n",
            "Epoch 34/100\n",
            "1/1 [==============================] - 0s 5ms/step - loss: 0.8307 - mae: 0.8307\n",
            "Epoch 35/100\n",
            "1/1 [==============================] - 0s 6ms/step - loss: 0.6780 - mae: 0.6780\n",
            "Epoch 36/100\n",
            "1/1 [==============================] - 0s 8ms/step - loss: 0.9650 - mae: 0.9650\n",
            "Epoch 37/100\n",
            "1/1 [==============================] - 0s 6ms/step - loss: 0.2979 - mae: 0.2979\n",
            "Epoch 38/100\n",
            "1/1 [==============================] - 0s 6ms/step - loss: 0.6268 - mae: 0.6268\n",
            "Epoch 39/100\n",
            "1/1 [==============================] - 0s 10ms/step - loss: 0.2502 - mae: 0.2502\n",
            "Epoch 40/100\n",
            "1/1 [==============================] - 0s 6ms/step - loss: 1.1370 - mae: 1.1370\n",
            "Epoch 41/100\n",
            "1/1 [==============================] - 0s 6ms/step - loss: 1.3710 - mae: 1.3710\n",
            "Epoch 42/100\n",
            "1/1 [==============================] - 0s 12ms/step - loss: 0.8463 - mae: 0.8463\n",
            "Epoch 43/100\n",
            "1/1 [==============================] - 0s 6ms/step - loss: 0.6946 - mae: 0.6946\n",
            "Epoch 44/100\n",
            "1/1 [==============================] - 0s 4ms/step - loss: 0.9336 - mae: 0.9336\n",
            "Epoch 45/100\n",
            "1/1 [==============================] - 0s 4ms/step - loss: 0.2165 - mae: 0.2165\n",
            "Epoch 46/100\n",
            "1/1 [==============================] - 0s 4ms/step - loss: 0.1703 - mae: 0.1703\n",
            "Epoch 47/100\n",
            "1/1 [==============================] - 0s 6ms/step - loss: 0.3381 - mae: 0.3381\n",
            "Epoch 48/100\n",
            "1/1 [==============================] - 0s 6ms/step - loss: 0.2977 - mae: 0.2977\n",
            "Epoch 49/100\n",
            "1/1 [==============================] - 0s 8ms/step - loss: 0.2388 - mae: 0.2388\n",
            "Epoch 50/100\n",
            "1/1 [==============================] - 0s 11ms/step - loss: 0.4193 - mae: 0.4193\n",
            "Epoch 51/100\n",
            "1/1 [==============================] - 0s 7ms/step - loss: 0.2594 - mae: 0.2594\n",
            "Epoch 52/100\n",
            "1/1 [==============================] - 0s 6ms/step - loss: 0.5556 - mae: 0.5556\n",
            "Epoch 53/100\n",
            "1/1 [==============================] - 0s 7ms/step - loss: 0.1427 - mae: 0.1427\n",
            "Epoch 54/100\n",
            "1/1 [==============================] - 0s 9ms/step - loss: 0.7697 - mae: 0.7697\n",
            "Epoch 55/100\n",
            "1/1 [==============================] - 0s 6ms/step - loss: 0.4432 - mae: 0.4432\n",
            "Epoch 56/100\n",
            "1/1 [==============================] - 0s 10ms/step - loss: 0.9099 - mae: 0.9099\n",
            "Epoch 57/100\n",
            "1/1 [==============================] - 0s 11ms/step - loss: 1.1278 - mae: 1.1278\n",
            "Epoch 58/100\n",
            "1/1 [==============================] - 0s 11ms/step - loss: 0.5797 - mae: 0.5797\n",
            "Epoch 59/100\n",
            "1/1 [==============================] - 0s 7ms/step - loss: 0.9230 - mae: 0.9230\n",
            "Epoch 60/100\n",
            "1/1 [==============================] - 0s 8ms/step - loss: 1.1245 - mae: 1.1245\n",
            "Epoch 61/100\n",
            "1/1 [==============================] - 0s 9ms/step - loss: 0.4604 - mae: 0.4604\n",
            "Epoch 62/100\n",
            "1/1 [==============================] - 0s 11ms/step - loss: 1.1832 - mae: 1.1832\n",
            "Epoch 63/100\n",
            "1/1 [==============================] - 0s 11ms/step - loss: 1.6437 - mae: 1.6437\n",
            "Epoch 64/100\n",
            "1/1 [==============================] - 0s 6ms/step - loss: 1.3507 - mae: 1.3507\n",
            "Epoch 65/100\n",
            "1/1 [==============================] - 0s 10ms/step - loss: 0.3094 - mae: 0.3094\n",
            "Epoch 66/100\n",
            "1/1 [==============================] - 0s 5ms/step - loss: 1.6166 - mae: 1.6166\n",
            "Epoch 67/100\n",
            "1/1 [==============================] - 0s 7ms/step - loss: 2.4913 - mae: 2.4913\n",
            "Epoch 68/100\n",
            "1/1 [==============================] - 0s 6ms/step - loss: 2.1752 - mae: 2.1752\n",
            "Epoch 69/100\n",
            "1/1 [==============================] - 0s 4ms/step - loss: 0.8639 - mae: 0.8639\n",
            "Epoch 70/100\n",
            "1/1 [==============================] - 0s 4ms/step - loss: 1.1041 - mae: 1.1041\n",
            "Epoch 71/100\n",
            "1/1 [==============================] - 0s 12ms/step - loss: 1.9436 - mae: 1.9436\n",
            "Epoch 72/100\n",
            "1/1 [==============================] - 0s 6ms/step - loss: 1.9717 - mae: 1.9717\n",
            "Epoch 73/100\n",
            "1/1 [==============================] - 0s 11ms/step - loss: 1.2778 - mae: 1.2778\n",
            "Epoch 74/100\n",
            "1/1 [==============================] - 0s 6ms/step - loss: 0.2850 - mae: 0.2850\n",
            "Epoch 75/100\n",
            "1/1 [==============================] - 0s 9ms/step - loss: 0.8687 - mae: 0.8687\n",
            "Epoch 76/100\n",
            "1/1 [==============================] - 0s 5ms/step - loss: 0.7560 - mae: 0.7560\n",
            "Epoch 77/100\n",
            "1/1 [==============================] - 0s 5ms/step - loss: 0.5886 - mae: 0.5886\n",
            "Epoch 78/100\n",
            "1/1 [==============================] - 0s 7ms/step - loss: 0.6348 - mae: 0.6348\n",
            "Epoch 79/100\n",
            "1/1 [==============================] - 0s 6ms/step - loss: 0.2447 - mae: 0.2447\n",
            "Epoch 80/100\n",
            "1/1 [==============================] - 0s 6ms/step - loss: 0.6871 - mae: 0.6871\n",
            "Epoch 81/100\n",
            "1/1 [==============================] - 0s 7ms/step - loss: 0.2330 - mae: 0.2330\n",
            "Epoch 82/100\n",
            "1/1 [==============================] - 0s 8ms/step - loss: 1.0458 - mae: 1.0458\n",
            "Epoch 83/100\n",
            "1/1 [==============================] - 0s 9ms/step - loss: 1.3451 - mae: 1.3451\n",
            "Epoch 84/100\n",
            "1/1 [==============================] - 0s 7ms/step - loss: 0.8495 - mae: 0.8495\n",
            "Epoch 85/100\n",
            "1/1 [==============================] - 0s 6ms/step - loss: 0.4705 - mae: 0.4705\n",
            "Epoch 86/100\n",
            "1/1 [==============================] - 0s 7ms/step - loss: 0.7466 - mae: 0.7466\n",
            "Epoch 87/100\n",
            "1/1 [==============================] - 0s 7ms/step - loss: 0.1651 - mae: 0.1651\n",
            "Epoch 88/100\n",
            "1/1 [==============================] - 0s 7ms/step - loss: 0.4608 - mae: 0.4608\n",
            "Epoch 89/100\n",
            "1/1 [==============================] - 0s 8ms/step - loss: 0.2304 - mae: 0.2304\n",
            "Epoch 90/100\n",
            "1/1 [==============================] - 0s 7ms/step - loss: 0.8780 - mae: 0.8780\n",
            "Epoch 91/100\n",
            "1/1 [==============================] - 0s 7ms/step - loss: 0.9198 - mae: 0.9198\n",
            "Epoch 92/100\n",
            "1/1 [==============================] - 0s 6ms/step - loss: 0.3612 - mae: 0.3612\n",
            "Epoch 93/100\n",
            "1/1 [==============================] - 0s 7ms/step - loss: 0.9238 - mae: 0.9238\n",
            "Epoch 94/100\n",
            "1/1 [==============================] - 0s 8ms/step - loss: 1.0442 - mae: 1.0442\n",
            "Epoch 95/100\n",
            "1/1 [==============================] - 0s 7ms/step - loss: 0.4978 - mae: 0.4978\n",
            "Epoch 96/100\n",
            "1/1 [==============================] - 0s 7ms/step - loss: 1.1096 - mae: 1.1096\n",
            "Epoch 97/100\n",
            "1/1 [==============================] - 0s 9ms/step - loss: 1.3870 - mae: 1.3870\n",
            "Epoch 98/100\n",
            "1/1 [==============================] - 0s 6ms/step - loss: 0.9063 - mae: 0.9063\n",
            "Epoch 99/100\n",
            "1/1 [==============================] - 0s 7ms/step - loss: 0.4486 - mae: 0.4486\n",
            "Epoch 100/100\n",
            "1/1 [==============================] - 0s 6ms/step - loss: 0.7527 - mae: 0.7527\n"
          ],
          "name": "stdout"
        },
        {
          "output_type": "execute_result",
          "data": {
            "text/plain": [
              "<tensorflow.python.keras.callbacks.History at 0x7ff280099390>"
            ]
          },
          "metadata": {
            "tags": []
          },
          "execution_count": 15
        }
      ]
    },
    {
      "cell_type": "code",
      "metadata": {
        "colab": {
          "base_uri": "https://localhost:8080/"
        },
        "id": "4nKL0D2Ei6Ey",
        "outputId": "7525af53-d8d4-4078-855a-5692c5ae5036"
      },
      "source": [
        "X,y"
      ],
      "execution_count": 16,
      "outputs": [
        {
          "output_type": "execute_result",
          "data": {
            "text/plain": [
              "(<tf.Tensor: shape=(8,), dtype=float64, numpy=array([-7., -4., -1.,  2.,  5.,  8., 11., 14.])>,\n",
              " <tf.Tensor: shape=(8,), dtype=float64, numpy=array([ 3.,  6.,  9., 12., 15., 18., 21., 24.])>)"
            ]
          },
          "metadata": {
            "tags": []
          },
          "execution_count": 16
        }
      ]
    },
    {
      "cell_type": "code",
      "metadata": {
        "colab": {
          "base_uri": "https://localhost:8080/"
        },
        "id": "fVW9FMbXjyIO",
        "outputId": "e3ff48aa-cb01-40ec-b5c6-e4de4d9fd027"
      },
      "source": [
        "model.predict([17.0])"
      ],
      "execution_count": 17,
      "outputs": [
        {
          "output_type": "execute_result",
          "data": {
            "text/plain": [
              "array([[26.3845]], dtype=float32)"
            ]
          },
          "metadata": {
            "tags": []
          },
          "execution_count": 17
        }
      ]
    },
    {
      "cell_type": "markdown",
      "metadata": {
        "id": "ETQ3vWCIj6L_"
      },
      "source": [
        "## Evaluating a model\r\n",
        "\r\n",
        "Build a model, compile it, fit it, evaluate it, tweak it (adjusting hyperparameters)...fit it, evaluate it, tweak it...fit it, evaluate it, tweak it\r\n",
        "\r\n",
        "Visualize....visualize...visualize:\r\n",
        "- the data\r\n",
        "- the model\r\n",
        "- the training\r\n",
        "- the predictions"
      ]
    },
    {
      "cell_type": "code",
      "metadata": {
        "colab": {
          "base_uri": "https://localhost:8080/"
        },
        "id": "ky-1HihwnV0B",
        "outputId": "c1273187-9d55-45bf-e0c7-d9a0cc828558"
      },
      "source": [
        "# Make a bigger dataset\r\n",
        "X = tf.range(-100, 100, 4)\r\n",
        "X"
      ],
      "execution_count": 18,
      "outputs": [
        {
          "output_type": "execute_result",
          "data": {
            "text/plain": [
              "<tf.Tensor: shape=(50,), dtype=int32, numpy=\n",
              "array([-100,  -96,  -92,  -88,  -84,  -80,  -76,  -72,  -68,  -64,  -60,\n",
              "        -56,  -52,  -48,  -44,  -40,  -36,  -32,  -28,  -24,  -20,  -16,\n",
              "        -12,   -8,   -4,    0,    4,    8,   12,   16,   20,   24,   28,\n",
              "         32,   36,   40,   44,   48,   52,   56,   60,   64,   68,   72,\n",
              "         76,   80,   84,   88,   92,   96], dtype=int32)>"
            ]
          },
          "metadata": {
            "tags": []
          },
          "execution_count": 18
        }
      ]
    },
    {
      "cell_type": "code",
      "metadata": {
        "colab": {
          "base_uri": "https://localhost:8080/"
        },
        "id": "41zLk-URn9dL",
        "outputId": "07341671-a4cc-444b-bf7c-8952e231b121"
      },
      "source": [
        "# Make labels for the dataset\r\n",
        "y = X +10\r\n",
        "y"
      ],
      "execution_count": 19,
      "outputs": [
        {
          "output_type": "execute_result",
          "data": {
            "text/plain": [
              "<tf.Tensor: shape=(50,), dtype=int32, numpy=\n",
              "array([-90, -86, -82, -78, -74, -70, -66, -62, -58, -54, -50, -46, -42,\n",
              "       -38, -34, -30, -26, -22, -18, -14, -10,  -6,  -2,   2,   6,  10,\n",
              "        14,  18,  22,  26,  30,  34,  38,  42,  46,  50,  54,  58,  62,\n",
              "        66,  70,  74,  78,  82,  86,  90,  94,  98, 102, 106], dtype=int32)>"
            ]
          },
          "metadata": {
            "tags": []
          },
          "execution_count": 19
        }
      ]
    },
    {
      "cell_type": "code",
      "metadata": {
        "colab": {
          "base_uri": "https://localhost:8080/",
          "height": 282
        },
        "id": "rJYxsX4GoFmp",
        "outputId": "01a963f6-764d-4648-8abb-73670d47095e"
      },
      "source": [
        "# Visalize the data\r\n",
        "import matplotlib.pyplot as plt\r\n",
        "plt.scatter(X,y)"
      ],
      "execution_count": 20,
      "outputs": [
        {
          "output_type": "execute_result",
          "data": {
            "text/plain": [
              "<matplotlib.collections.PathCollection at 0x7ff2392810d0>"
            ]
          },
          "metadata": {
            "tags": []
          },
          "execution_count": 20
        },
        {
          "output_type": "display_data",
          "data": {
            "image/png": "[encoded data removed]",
            "text/plain": [
              "<Figure size 432x288 with 1 Axes>"
            ]
          },
          "metadata": {
            "tags": [],
            "needs_background": "light"
          }
        }
      ]
    },
    {
      "cell_type": "markdown",
      "metadata": {
        "id": "UO7uhmSkoXS4"
      },
      "source": [
        "### The 3 sets...\r\n",
        "\r\n",
        "* Training set - model learns from this set\r\n",
        "* Validation set - the model gets tuned on this set\r\n",
        "* Test set - the model gets evaluated on this set "
      ]
    },
    {
      "cell_type": "code",
      "metadata": {
        "colab": {
          "base_uri": "https://localhost:8080/"
        },
        "id": "j2aHrUdnoemI",
        "outputId": "169f4de4-70c3-4841-fe8e-3de742ff69f9"
      },
      "source": [
        "# Check the lenght of the samples\r\n",
        "len(X)"
      ],
      "execution_count": 21,
      "outputs": [
        {
          "output_type": "execute_result",
          "data": {
            "text/plain": [
              "50"
            ]
          },
          "metadata": {
            "tags": []
          },
          "execution_count": 21
        }
      ]
    },
    {
      "cell_type": "code",
      "metadata": {
        "colab": {
          "base_uri": "https://localhost:8080/"
        },
        "id": "N7LjQrRFplIJ",
        "outputId": "ae2e21c9-f322-4995-e637-c17c9561f50a"
      },
      "source": [
        "# Split the data into train and test sets\r\n",
        "X_train = X[:40] # first 40 sample\r\n",
        "y_train = y[:40] \r\n",
        "\r\n",
        "X_test = X[40:] # first 40 sample\r\n",
        "y_test = y[40:] \r\n",
        "\r\n",
        "len(X_train), len(X_test), len(y_train), len(y_test)"
      ],
      "execution_count": 22,
      "outputs": [
        {
          "output_type": "execute_result",
          "data": {
            "text/plain": [
              "(40, 10, 40, 10)"
            ]
          },
          "metadata": {
            "tags": []
          },
          "execution_count": 22
        }
      ]
    },
    {
      "cell_type": "markdown",
      "metadata": {
        "id": "5331_4bUql2y"
      },
      "source": [
        "### Visualizing data training and test sets"
      ]
    },
    {
      "cell_type": "code",
      "metadata": {
        "colab": {
          "base_uri": "https://localhost:8080/",
          "height": 211
        },
        "id": "leQ3ZzXoq7Hm",
        "outputId": "52931882-d3c3-4217-b8b7-206c3b4f5ad9"
      },
      "source": [
        "plt.figure(figsize=(5,3))\r\n",
        "\r\n",
        "plt.scatter(X_train, y_train, c=\"b\", label=\"Training data\")\r\n",
        "plt.scatter(X_test, y_test, c=\"g\", label=\"Testing data\")\r\n",
        "\r\n",
        "plt.legend();"
      ],
      "execution_count": 23,
      "outputs": [
        {
          "output_type": "display_data",
          "data": {
            "image/png": "[encoded data removed]",
            "text/plain": [
              "<Figure size 360x216 with 1 Axes>"
            ]
          },
          "metadata": {
            "tags": [],
            "needs_background": "light"
          }
        }
      ]
    },
    {
      "cell_type": "code",
      "metadata": {
        "id": "l8sjK-40rXBQ"
      },
      "source": [
        "# let's have a look at build a NN\r\n",
        "\r\n",
        "model =tf.keras.Sequential([\r\n",
        "      tf.keras.layers.Dense(1)\r\n",
        "])\r\n",
        "model.compile(loss=\"mae\",\r\n",
        "              optimizer=tf.keras.optimizers.SGD(),\r\n",
        "              metrics=[\"mae\"])\r\n",
        "# model.fit(X_train, y_train, epochs=100)"
      ],
      "execution_count": 24,
      "outputs": []
    },
    {
      "cell_type": "code",
      "metadata": {
        "colab": {
          "base_uri": "https://localhost:8080/",
          "height": 282
        },
        "id": "uGJ5fB7hswXW",
        "outputId": "cb104426-e830-455d-cd42-df4c1e4e2ef1"
      },
      "source": [
        "model.summary()  # visualize"
      ],
      "execution_count": 26,
      "outputs": [
        {
          "output_type": "error",
          "ename": "ValueError",
          "evalue": "ignored",
          "traceback": [
            "\u001b[0;31m---------------------------------------------------------------------------\u001b[0m",
            "\u001b[0;31mValueError\u001b[0m                                Traceback (most recent call last)",
            "\u001b[0;32m<ipython-input-26-5edbc8f687b8>\u001b[0m in \u001b[0;36m<module>\u001b[0;34m()\u001b[0m\n\u001b[0;32m----> 1\u001b[0;31m \u001b[0mmodel\u001b[0m\u001b[0;34m.\u001b[0m\u001b[0msummary\u001b[0m\u001b[0;34m(\u001b[0m\u001b[0;34m)\u001b[0m  \u001b[0;31m# visualize\u001b[0m\u001b[0;34m\u001b[0m\u001b[0;34m\u001b[0m\u001b[0m\n\u001b[0m",
            "\u001b[0;32m/usr/local/lib/python3.7/dist-packages/tensorflow/python/keras/engine/training.py\u001b[0m in \u001b[0;36msummary\u001b[0;34m(self, line_length, positions, print_fn)\u001b[0m\n\u001b[1;32m   2374\u001b[0m     \"\"\"\n\u001b[1;32m   2375\u001b[0m     \u001b[0;32mif\u001b[0m \u001b[0;32mnot\u001b[0m \u001b[0mself\u001b[0m\u001b[0;34m.\u001b[0m\u001b[0mbuilt\u001b[0m\u001b[0;34m:\u001b[0m\u001b[0;34m\u001b[0m\u001b[0;34m\u001b[0m\u001b[0m\n\u001b[0;32m-> 2376\u001b[0;31m       raise ValueError('This model has not yet been built. '\n\u001b[0m\u001b[1;32m   2377\u001b[0m                        \u001b[0;34m'Build the model first by calling `build()` or calling '\u001b[0m\u001b[0;34m\u001b[0m\u001b[0;34m\u001b[0m\u001b[0m\n\u001b[1;32m   2378\u001b[0m                        \u001b[0;34m'`fit()` with some data, or specify '\u001b[0m\u001b[0;34m\u001b[0m\u001b[0;34m\u001b[0m\u001b[0m\n",
            "\u001b[0;31mValueError\u001b[0m: This model has not yet been built. Build the model first by calling `build()` or calling `fit()` with some data, or specify an `input_shape` argument in the first layer(s) for automatic build."
          ]
        }
      ]
    },
    {
      "cell_type": "code",
      "metadata": {
        "id": "bYeNifMAs2iz"
      },
      "source": [
        "# let's create a model which builds automatically by defining the input_shape argument in the first layer\r\n",
        "tf.random.set_seed(42)\r\n",
        "\r\n",
        "model =tf.keras.Sequential([\r\n",
        "      tf.keras.layers.Dense(1, input_shape=[1])\r\n",
        "])\r\n",
        "model.compile(loss=\"mae\",\r\n",
        "              optimizer=tf.keras.optimizers.SGD(),\r\n",
        "              metrics=[\"mae\"])\r\n",
        "# model.fit(X_train, y_train, epochs=100)"
      ],
      "execution_count": 27,
      "outputs": []
    },
    {
      "cell_type": "code",
      "metadata": {
        "colab": {
          "base_uri": "https://localhost:8080/"
        },
        "id": "lLygP9ijtqsb",
        "outputId": "504a641e-9f65-4949-f036-6141afe93b2e"
      },
      "source": [
        "model.summary()"
      ],
      "execution_count": 28,
      "outputs": [
        {
          "output_type": "stream",
          "text": [
            "Model: \"sequential_4\"\n",
            "_________________________________________________________________\n",
            "Layer (type)                 Output Shape              Param #   \n",
            "=================================================================\n",
            "dense_5 (Dense)              (None, 1)                 2         \n",
            "=================================================================\n",
            "Total params: 2\n",
            "Trainable params: 2\n",
            "Non-trainable params: 0\n",
            "_________________________________________________________________\n"
          ],
          "name": "stdout"
        }
      ]
    },
    {
      "cell_type": "markdown",
      "metadata": {
        "id": "jE7L9Rsfttbj"
      },
      "source": [
        "* Total params: number of parameters in the model\r\n",
        "* Trainable params: params the model can update as it trains\r\n",
        "* Non-trainable: typical when you bring in already learned patterns from transfer learning)\r\n",
        "\r\n",
        "Resource: check MITs introduction to deep learning videos"
      ]
    },
    {
      "cell_type": "code",
      "metadata": {
        "colab": {
          "base_uri": "https://localhost:8080/"
        },
        "id": "Lp3XfnDMuw_Y",
        "outputId": "073b2157-d3ea-4229-f7ce-1f0a9f00cc1c"
      },
      "source": [
        "# changing the neurons to 3\r\n",
        "tf.random.set_seed(42)\r\n",
        "\r\n",
        "model =tf.keras.Sequential([\r\n",
        "      tf.keras.layers.Dense(3, input_shape=[1])\r\n",
        "])\r\n",
        "model.compile(loss=\"mae\",\r\n",
        "              optimizer=tf.keras.optimizers.SGD(),\r\n",
        "              metrics=[\"mae\"])\r\n",
        "model.fit(X_train, y_train, epochs=100)"
      ],
      "execution_count": 29,
      "outputs": [
        {
          "output_type": "stream",
          "text": [
            "Epoch 1/100\n",
            "2/2 [==============================] - 0s 6ms/step - loss: 42.0509 - mae: 42.0509\n",
            "Epoch 2/100\n",
            "2/2 [==============================] - 0s 10ms/step - loss: 30.8796 - mae: 30.8796\n",
            "Epoch 3/100\n",
            "2/2 [==============================] - 0s 8ms/step - loss: 20.5160 - mae: 20.5160\n",
            "Epoch 4/100\n",
            "2/2 [==============================] - 0s 6ms/step - loss: 13.4820 - mae: 13.4820\n",
            "Epoch 5/100\n",
            "2/2 [==============================] - 0s 6ms/step - loss: 8.7460 - mae: 8.7460\n",
            "Epoch 6/100\n",
            "2/2 [==============================] - 0s 5ms/step - loss: 7.8322 - mae: 7.8322\n",
            "Epoch 7/100\n",
            "2/2 [==============================] - 0s 4ms/step - loss: 8.2988 - mae: 8.2988\n",
            "Epoch 8/100\n",
            "2/2 [==============================] - 0s 4ms/step - loss: 7.9818 - mae: 7.9818\n",
            "Epoch 9/100\n",
            "2/2 [==============================] - 0s 4ms/step - loss: 8.5970 - mae: 8.5970\n",
            "Epoch 10/100\n",
            "2/2 [==============================] - 0s 6ms/step - loss: 8.2904 - mae: 8.2904\n",
            "Epoch 11/100\n",
            "2/2 [==============================] - 0s 6ms/step - loss: 8.1256 - mae: 8.1256\n",
            "Epoch 12/100\n",
            "2/2 [==============================] - 0s 7ms/step - loss: 7.7775 - mae: 7.7775\n",
            "Epoch 13/100\n",
            "2/2 [==============================] - 0s 6ms/step - loss: 7.9784 - mae: 7.9784\n",
            "Epoch 14/100\n",
            "2/2 [==============================] - 0s 6ms/step - loss: 7.9956 - mae: 7.9956\n",
            "Epoch 15/100\n",
            "2/2 [==============================] - 0s 4ms/step - loss: 8.6963 - mae: 8.6963\n",
            "Epoch 16/100\n",
            "2/2 [==============================] - 0s 7ms/step - loss: 7.6594 - mae: 7.6594\n",
            "Epoch 17/100\n",
            "2/2 [==============================] - 0s 6ms/step - loss: 7.7625 - mae: 7.7625\n",
            "Epoch 18/100\n",
            "2/2 [==============================] - 0s 7ms/step - loss: 8.0399 - mae: 8.0399\n",
            "Epoch 19/100\n",
            "2/2 [==============================] - 0s 8ms/step - loss: 7.8742 - mae: 7.8742\n",
            "Epoch 20/100\n",
            "2/2 [==============================] - 0s 9ms/step - loss: 8.1207 - mae: 8.1207\n",
            "Epoch 21/100\n",
            "2/2 [==============================] - 0s 4ms/step - loss: 8.1466 - mae: 8.1466\n",
            "Epoch 22/100\n",
            "2/2 [==============================] - 0s 4ms/step - loss: 8.2179 - mae: 8.2179\n",
            "Epoch 23/100\n",
            "2/2 [==============================] - 0s 4ms/step - loss: 7.7311 - mae: 7.7311\n",
            "Epoch 24/100\n",
            "2/2 [==============================] - 0s 9ms/step - loss: 8.7497 - mae: 8.7497\n",
            "Epoch 25/100\n",
            "2/2 [==============================] - 0s 16ms/step - loss: 8.9481 - mae: 8.9481\n",
            "Epoch 26/100\n",
            "2/2 [==============================] - 0s 5ms/step - loss: 8.2181 - mae: 8.2181\n",
            "Epoch 27/100\n",
            "2/2 [==============================] - 0s 6ms/step - loss: 8.2253 - mae: 8.2253\n",
            "Epoch 28/100\n",
            "2/2 [==============================] - 0s 6ms/step - loss: 8.1019 - mae: 8.1019\n",
            "Epoch 29/100\n",
            "2/2 [==============================] - 0s 4ms/step - loss: 8.2426 - mae: 8.2426\n",
            "Epoch 30/100\n",
            "2/2 [==============================] - 0s 6ms/step - loss: 10.8058 - mae: 10.8058\n",
            "Epoch 31/100\n",
            "2/2 [==============================] - 0s 6ms/step - loss: 10.5858 - mae: 10.5858\n",
            "Epoch 32/100\n",
            "2/2 [==============================] - 0s 5ms/step - loss: 7.6650 - mae: 7.6650\n",
            "Epoch 33/100\n",
            "2/2 [==============================] - 0s 6ms/step - loss: 7.8749 - mae: 7.8749\n",
            "Epoch 34/100\n",
            "2/2 [==============================] - 0s 6ms/step - loss: 8.5227 - mae: 8.5227\n",
            "Epoch 35/100\n",
            "2/2 [==============================] - 0s 5ms/step - loss: 8.2326 - mae: 8.2326\n",
            "Epoch 36/100\n",
            "2/2 [==============================] - 0s 6ms/step - loss: 9.5521 - mae: 9.5521\n",
            "Epoch 37/100\n",
            "2/2 [==============================] - 0s 5ms/step - loss: 7.8552 - mae: 7.8552\n",
            "Epoch 38/100\n",
            "2/2 [==============================] - 0s 5ms/step - loss: 7.9671 - mae: 7.9671\n",
            "Epoch 39/100\n",
            "2/2 [==============================] - 0s 4ms/step - loss: 9.0920 - mae: 9.0920\n",
            "Epoch 40/100\n",
            "2/2 [==============================] - 0s 5ms/step - loss: 8.5665 - mae: 8.5665\n",
            "Epoch 41/100\n",
            "2/2 [==============================] - 0s 6ms/step - loss: 7.2829 - mae: 7.2829\n",
            "Epoch 42/100\n",
            "2/2 [==============================] - 0s 6ms/step - loss: 7.7597 - mae: 7.7597\n",
            "Epoch 43/100\n",
            "2/2 [==============================] - 0s 3ms/step - loss: 7.7034 - mae: 7.7034\n",
            "Epoch 44/100\n",
            "2/2 [==============================] - 0s 5ms/step - loss: 8.5090 - mae: 8.5090\n",
            "Epoch 45/100\n",
            "2/2 [==============================] - 0s 11ms/step - loss: 9.0397 - mae: 9.0397\n",
            "Epoch 46/100\n",
            "2/2 [==============================] - 0s 4ms/step - loss: 8.2411 - mae: 8.2411\n",
            "Epoch 47/100\n",
            "2/2 [==============================] - 0s 6ms/step - loss: 7.5475 - mae: 7.5475\n",
            "Epoch 48/100\n",
            "2/2 [==============================] - 0s 5ms/step - loss: 7.5992 - mae: 7.5992\n",
            "Epoch 49/100\n",
            "2/2 [==============================] - 0s 5ms/step - loss: 7.5094 - mae: 7.5094\n",
            "Epoch 50/100\n",
            "2/2 [==============================] - 0s 5ms/step - loss: 7.8246 - mae: 7.8246\n",
            "Epoch 51/100\n",
            "2/2 [==============================] - 0s 5ms/step - loss: 8.0576 - mae: 8.0576\n",
            "Epoch 52/100\n",
            "2/2 [==============================] - 0s 5ms/step - loss: 8.7481 - mae: 8.7481\n",
            "Epoch 53/100\n",
            "2/2 [==============================] - 0s 5ms/step - loss: 9.4778 - mae: 9.4778\n",
            "Epoch 54/100\n",
            "2/2 [==============================] - 0s 5ms/step - loss: 7.7022 - mae: 7.7022\n",
            "Epoch 55/100\n",
            "2/2 [==============================] - 0s 6ms/step - loss: 9.7286 - mae: 9.7286\n",
            "Epoch 56/100\n",
            "2/2 [==============================] - 0s 11ms/step - loss: 8.0141 - mae: 8.0141\n",
            "Epoch 57/100\n",
            "2/2 [==============================] - 0s 6ms/step - loss: 8.3173 - mae: 8.3173\n",
            "Epoch 58/100\n",
            "2/2 [==============================] - 0s 4ms/step - loss: 8.2682 - mae: 8.2682\n",
            "Epoch 59/100\n",
            "2/2 [==============================] - 0s 5ms/step - loss: 7.5746 - mae: 7.5746\n",
            "Epoch 60/100\n",
            "2/2 [==============================] - 0s 6ms/step - loss: 8.4697 - mae: 8.4697\n",
            "Epoch 61/100\n",
            "2/2 [==============================] - 0s 4ms/step - loss: 7.5224 - mae: 7.5224\n",
            "Epoch 62/100\n",
            "2/2 [==============================] - 0s 4ms/step - loss: 7.7937 - mae: 7.7937\n",
            "Epoch 63/100\n",
            "2/2 [==============================] - 0s 5ms/step - loss: 8.2951 - mae: 8.2951\n",
            "Epoch 64/100\n",
            "2/2 [==============================] - 0s 6ms/step - loss: 9.0023 - mae: 9.0023\n",
            "Epoch 65/100\n",
            "2/2 [==============================] - 0s 4ms/step - loss: 8.7198 - mae: 8.7198\n",
            "Epoch 66/100\n",
            "2/2 [==============================] - 0s 6ms/step - loss: 9.1273 - mae: 9.1273\n",
            "Epoch 67/100\n",
            "2/2 [==============================] - 0s 6ms/step - loss: 7.4686 - mae: 7.4686\n",
            "Epoch 68/100\n",
            "2/2 [==============================] - 0s 6ms/step - loss: 8.0621 - mae: 8.0621\n",
            "Epoch 69/100\n",
            "2/2 [==============================] - 0s 5ms/step - loss: 8.4232 - mae: 8.4232\n",
            "Epoch 70/100\n",
            "2/2 [==============================] - 0s 5ms/step - loss: 7.3733 - mae: 7.3733\n",
            "Epoch 71/100\n",
            "2/2 [==============================] - 0s 4ms/step - loss: 9.0716 - mae: 9.0716\n",
            "Epoch 72/100\n",
            "2/2 [==============================] - 0s 5ms/step - loss: 8.3105 - mae: 8.3105\n",
            "Epoch 73/100\n",
            "2/2 [==============================] - 0s 7ms/step - loss: 7.3780 - mae: 7.3780\n",
            "Epoch 74/100\n",
            "2/2 [==============================] - 0s 6ms/step - loss: 8.6081 - mae: 8.6081\n",
            "Epoch 75/100\n",
            "2/2 [==============================] - 0s 5ms/step - loss: 7.7771 - mae: 7.7771\n",
            "Epoch 76/100\n",
            "2/2 [==============================] - 0s 6ms/step - loss: 7.4323 - mae: 7.4323\n",
            "Epoch 77/100\n",
            "2/2 [==============================] - 0s 6ms/step - loss: 8.0381 - mae: 8.0381\n",
            "Epoch 78/100\n",
            "2/2 [==============================] - 0s 5ms/step - loss: 7.7552 - mae: 7.7552\n",
            "Epoch 79/100\n",
            "2/2 [==============================] - 0s 4ms/step - loss: 8.6363 - mae: 8.6363\n",
            "Epoch 80/100\n",
            "2/2 [==============================] - 0s 7ms/step - loss: 7.6924 - mae: 7.6924\n",
            "Epoch 81/100\n",
            "2/2 [==============================] - 0s 6ms/step - loss: 7.5529 - mae: 7.5529\n",
            "Epoch 82/100\n",
            "2/2 [==============================] - 0s 7ms/step - loss: 8.0589 - mae: 8.0589\n",
            "Epoch 83/100\n",
            "2/2 [==============================] - 0s 6ms/step - loss: 7.3703 - mae: 7.3703\n",
            "Epoch 84/100\n",
            "2/2 [==============================] - 0s 4ms/step - loss: 7.3278 - mae: 7.3278\n",
            "Epoch 85/100\n",
            "2/2 [==============================] - 0s 9ms/step - loss: 8.7881 - mae: 8.7881\n",
            "Epoch 86/100\n",
            "2/2 [==============================] - 0s 7ms/step - loss: 8.1268 - mae: 8.1268\n",
            "Epoch 87/100\n",
            "2/2 [==============================] - 0s 7ms/step - loss: 7.5497 - mae: 7.5497\n",
            "Epoch 88/100\n",
            "2/2 [==============================] - 0s 6ms/step - loss: 10.0712 - mae: 10.0712\n",
            "Epoch 89/100\n",
            "2/2 [==============================] - 0s 5ms/step - loss: 7.3866 - mae: 7.3866\n",
            "Epoch 90/100\n",
            "2/2 [==============================] - 0s 5ms/step - loss: 8.2493 - mae: 8.2493\n",
            "Epoch 91/100\n",
            "2/2 [==============================] - 0s 5ms/step - loss: 8.1436 - mae: 8.1436\n",
            "Epoch 92/100\n",
            "2/2 [==============================] - 0s 4ms/step - loss: 8.4225 - mae: 8.4225\n",
            "Epoch 93/100\n",
            "2/2 [==============================] - 0s 5ms/step - loss: 7.9264 - mae: 7.9264\n",
            "Epoch 94/100\n",
            "2/2 [==============================] - 0s 6ms/step - loss: 8.2830 - mae: 8.2830\n",
            "Epoch 95/100\n",
            "2/2 [==============================] - 0s 5ms/step - loss: 8.5997 - mae: 8.5997\n",
            "Epoch 96/100\n",
            "2/2 [==============================] - 0s 6ms/step - loss: 7.2846 - mae: 7.2846\n",
            "Epoch 97/100\n",
            "2/2 [==============================] - 0s 5ms/step - loss: 9.1495 - mae: 9.1495\n",
            "Epoch 98/100\n",
            "2/2 [==============================] - 0s 7ms/step - loss: 7.2421 - mae: 7.2421\n",
            "Epoch 99/100\n",
            "2/2 [==============================] - 0s 6ms/step - loss: 7.7309 - mae: 7.7309\n",
            "Epoch 100/100\n",
            "2/2 [==============================] - 0s 5ms/step - loss: 7.5960 - mae: 7.5960\n"
          ],
          "name": "stdout"
        },
        {
          "output_type": "execute_result",
          "data": {
            "text/plain": [
              "<tensorflow.python.keras.callbacks.History at 0x7ff2380a2190>"
            ]
          },
          "metadata": {
            "tags": []
          },
          "execution_count": 29
        }
      ]
    },
    {
      "cell_type": "code",
      "metadata": {
        "colab": {
          "base_uri": "https://localhost:8080/"
        },
        "id": "e4Xj1FuNwEVC",
        "outputId": "0b69986c-5a20-492b-abe6-a6f9f8442196"
      },
      "source": [
        "model.summary()"
      ],
      "execution_count": 30,
      "outputs": [
        {
          "output_type": "stream",
          "text": [
            "Model: \"sequential_5\"\n",
            "_________________________________________________________________\n",
            "Layer (type)                 Output Shape              Param #   \n",
            "=================================================================\n",
            "dense_6 (Dense)              (None, 3)                 6         \n",
            "=================================================================\n",
            "Total params: 6\n",
            "Trainable params: 6\n",
            "Non-trainable params: 0\n",
            "_________________________________________________________________\n"
          ],
          "name": "stdout"
        }
      ]
    },
    {
      "cell_type": "code",
      "metadata": {
        "colab": {
          "base_uri": "https://localhost:8080/"
        },
        "id": "CDKn_wWFwG4Q",
        "outputId": "ab8fdd3a-6076-4ea2-df7c-8aee75e48213"
      },
      "source": [
        "# Fit model to training data set\r\n",
        "\r\n",
        "model.fit(X_train, y_train, epochs=100, verbose=1)"
      ],
      "execution_count": 31,
      "outputs": [
        {
          "output_type": "stream",
          "text": [
            "Epoch 1/100\n",
            "2/2 [==============================] - 0s 5ms/step - loss: 8.2275 - mae: 8.2275\n",
            "Epoch 2/100\n",
            "2/2 [==============================] - 0s 5ms/step - loss: 7.2974 - mae: 7.2974\n",
            "Epoch 3/100\n",
            "2/2 [==============================] - 0s 5ms/step - loss: 8.0786 - mae: 8.0786\n",
            "Epoch 4/100\n",
            "2/2 [==============================] - 0s 7ms/step - loss: 7.4440 - mae: 7.4440\n",
            "Epoch 5/100\n",
            "2/2 [==============================] - 0s 4ms/step - loss: 8.2829 - mae: 8.2829\n",
            "Epoch 6/100\n",
            "2/2 [==============================] - 0s 5ms/step - loss: 7.3125 - mae: 7.3125\n",
            "Epoch 7/100\n",
            "2/2 [==============================] - 0s 6ms/step - loss: 7.9052 - mae: 7.9052\n",
            "Epoch 8/100\n",
            "2/2 [==============================] - 0s 4ms/step - loss: 7.3708 - mae: 7.3708\n",
            "Epoch 9/100\n",
            "2/2 [==============================] - 0s 5ms/step - loss: 8.4514 - mae: 8.4514\n",
            "Epoch 10/100\n",
            "2/2 [==============================] - 0s 4ms/step - loss: 8.2778 - mae: 8.2778\n",
            "Epoch 11/100\n",
            "2/2 [==============================] - 0s 7ms/step - loss: 7.5319 - mae: 7.5319\n",
            "Epoch 12/100\n",
            "2/2 [==============================] - 0s 6ms/step - loss: 7.3514 - mae: 7.3514\n",
            "Epoch 13/100\n",
            "2/2 [==============================] - 0s 6ms/step - loss: 7.7279 - mae: 7.7279\n",
            "Epoch 14/100\n",
            "2/2 [==============================] - 0s 6ms/step - loss: 7.6750 - mae: 7.6750\n",
            "Epoch 15/100\n",
            "2/2 [==============================] - 0s 7ms/step - loss: 8.4095 - mae: 8.4095\n",
            "Epoch 16/100\n",
            "2/2 [==============================] - 0s 7ms/step - loss: 7.2712 - mae: 7.2712\n",
            "Epoch 17/100\n",
            "2/2 [==============================] - 0s 6ms/step - loss: 7.1928 - mae: 7.1928\n",
            "Epoch 18/100\n",
            "2/2 [==============================] - 0s 5ms/step - loss: 7.7284 - mae: 7.7284\n",
            "Epoch 19/100\n",
            "2/2 [==============================] - 0s 8ms/step - loss: 8.1709 - mae: 8.1709\n",
            "Epoch 20/100\n",
            "2/2 [==============================] - 0s 7ms/step - loss: 7.3520 - mae: 7.3520\n",
            "Epoch 21/100\n",
            "2/2 [==============================] - 0s 6ms/step - loss: 7.5590 - mae: 7.5590\n",
            "Epoch 22/100\n",
            "2/2 [==============================] - 0s 6ms/step - loss: 8.0925 - mae: 8.0925\n",
            "Epoch 23/100\n",
            "2/2 [==============================] - 0s 6ms/step - loss: 7.1208 - mae: 7.1208\n",
            "Epoch 24/100\n",
            "2/2 [==============================] - 0s 5ms/step - loss: 7.9471 - mae: 7.9471\n",
            "Epoch 25/100\n",
            "2/2 [==============================] - 0s 8ms/step - loss: 7.4636 - mae: 7.4636\n",
            "Epoch 26/100\n",
            "2/2 [==============================] - 0s 5ms/step - loss: 7.7916 - mae: 7.7916\n",
            "Epoch 27/100\n",
            "2/2 [==============================] - 0s 5ms/step - loss: 7.7056 - mae: 7.7056\n",
            "Epoch 28/100\n",
            "2/2 [==============================] - 0s 6ms/step - loss: 7.3425 - mae: 7.3425\n",
            "Epoch 29/100\n",
            "2/2 [==============================] - 0s 6ms/step - loss: 7.9967 - mae: 7.9967\n",
            "Epoch 30/100\n",
            "2/2 [==============================] - 0s 7ms/step - loss: 8.2240 - mae: 8.2240\n",
            "Epoch 31/100\n",
            "2/2 [==============================] - 0s 6ms/step - loss: 8.7315 - mae: 8.7315\n",
            "Epoch 32/100\n",
            "2/2 [==============================] - 0s 4ms/step - loss: 7.5440 - mae: 7.5440\n",
            "Epoch 33/100\n",
            "2/2 [==============================] - 0s 5ms/step - loss: 8.3793 - mae: 8.3793\n",
            "Epoch 34/100\n",
            "2/2 [==============================] - 0s 5ms/step - loss: 8.0181 - mae: 8.0181\n",
            "Epoch 35/100\n",
            "2/2 [==============================] - 0s 6ms/step - loss: 7.7116 - mae: 7.7116\n",
            "Epoch 36/100\n",
            "2/2 [==============================] - 0s 4ms/step - loss: 9.1779 - mae: 9.1779\n",
            "Epoch 37/100\n",
            "2/2 [==============================] - 0s 6ms/step - loss: 7.5548 - mae: 7.5548\n",
            "Epoch 38/100\n",
            "2/2 [==============================] - 0s 8ms/step - loss: 7.4058 - mae: 7.4058\n",
            "Epoch 39/100\n",
            "2/2 [==============================] - 0s 6ms/step - loss: 8.5495 - mae: 8.5495\n",
            "Epoch 40/100\n",
            "2/2 [==============================] - 0s 6ms/step - loss: 8.6310 - mae: 8.6310\n",
            "Epoch 41/100\n",
            "2/2 [==============================] - 0s 5ms/step - loss: 7.1279 - mae: 7.1279\n",
            "Epoch 42/100\n",
            "2/2 [==============================] - 0s 5ms/step - loss: 7.2360 - mae: 7.2360\n",
            "Epoch 43/100\n",
            "2/2 [==============================] - 0s 8ms/step - loss: 7.3486 - mae: 7.3486\n",
            "Epoch 44/100\n",
            "2/2 [==============================] - 0s 5ms/step - loss: 9.7277 - mae: 9.7277\n",
            "Epoch 45/100\n",
            "2/2 [==============================] - 0s 12ms/step - loss: 7.8383 - mae: 7.8383\n",
            "Epoch 46/100\n",
            "2/2 [==============================] - 0s 6ms/step - loss: 7.6538 - mae: 7.6538\n",
            "Epoch 47/100\n",
            "2/2 [==============================] - 0s 6ms/step - loss: 7.1827 - mae: 7.1827\n",
            "Epoch 48/100\n",
            "2/2 [==============================] - 0s 4ms/step - loss: 7.4794 - mae: 7.4794\n",
            "Epoch 49/100\n",
            "2/2 [==============================] - 0s 7ms/step - loss: 7.0595 - mae: 7.0595\n",
            "Epoch 50/100\n",
            "2/2 [==============================] - 0s 7ms/step - loss: 7.7002 - mae: 7.7002\n",
            "Epoch 51/100\n",
            "2/2 [==============================] - 0s 3ms/step - loss: 7.6637 - mae: 7.6637\n",
            "Epoch 52/100\n",
            "2/2 [==============================] - 0s 6ms/step - loss: 8.1871 - mae: 8.1871\n",
            "Epoch 53/100\n",
            "2/2 [==============================] - 0s 4ms/step - loss: 8.6544 - mae: 8.6544\n",
            "Epoch 54/100\n",
            "2/2 [==============================] - 0s 6ms/step - loss: 7.2248 - mae: 7.2248\n",
            "Epoch 55/100\n",
            "2/2 [==============================] - 0s 7ms/step - loss: 7.7679 - mae: 7.7679\n",
            "Epoch 56/100\n",
            "2/2 [==============================] - 0s 6ms/step - loss: 7.3300 - mae: 7.3300\n",
            "Epoch 57/100\n",
            "2/2 [==============================] - 0s 4ms/step - loss: 7.0692 - mae: 7.0692\n",
            "Epoch 58/100\n",
            "2/2 [==============================] - 0s 5ms/step - loss: 7.6411 - mae: 7.6411\n",
            "Epoch 59/100\n",
            "2/2 [==============================] - 0s 4ms/step - loss: 7.4033 - mae: 7.4033\n",
            "Epoch 60/100\n",
            "2/2 [==============================] - 0s 5ms/step - loss: 7.0781 - mae: 7.0781\n",
            "Epoch 61/100\n",
            "2/2 [==============================] - 0s 5ms/step - loss: 7.2843 - mae: 7.2843\n",
            "Epoch 62/100\n",
            "2/2 [==============================] - 0s 5ms/step - loss: 7.3431 - mae: 7.3431\n",
            "Epoch 63/100\n",
            "2/2 [==============================] - 0s 6ms/step - loss: 7.5093 - mae: 7.5093\n",
            "Epoch 64/100\n",
            "2/2 [==============================] - 0s 5ms/step - loss: 8.1267 - mae: 8.1267\n",
            "Epoch 65/100\n",
            "2/2 [==============================] - 0s 5ms/step - loss: 7.9522 - mae: 7.9522\n",
            "Epoch 66/100\n",
            "2/2 [==============================] - 0s 5ms/step - loss: 8.1173 - mae: 8.1173\n",
            "Epoch 67/100\n",
            "2/2 [==============================] - 0s 6ms/step - loss: 7.5574 - mae: 7.5574\n",
            "Epoch 68/100\n",
            "2/2 [==============================] - 0s 5ms/step - loss: 7.6737 - mae: 7.6737\n",
            "Epoch 69/100\n",
            "2/2 [==============================] - 0s 5ms/step - loss: 8.6651 - mae: 8.6651\n",
            "Epoch 70/100\n",
            "2/2 [==============================] - 0s 5ms/step - loss: 7.1748 - mae: 7.1748\n",
            "Epoch 71/100\n",
            "2/2 [==============================] - 0s 4ms/step - loss: 7.5514 - mae: 7.5514\n",
            "Epoch 72/100\n",
            "2/2 [==============================] - 0s 4ms/step - loss: 7.3233 - mae: 7.3233\n",
            "Epoch 73/100\n",
            "2/2 [==============================] - 0s 4ms/step - loss: 7.1435 - mae: 7.1435\n",
            "Epoch 74/100\n",
            "2/2 [==============================] - 0s 4ms/step - loss: 8.6492 - mae: 8.6492\n",
            "Epoch 75/100\n",
            "2/2 [==============================] - 0s 5ms/step - loss: 7.2586 - mae: 7.2586\n",
            "Epoch 76/100\n",
            "2/2 [==============================] - 0s 3ms/step - loss: 7.1056 - mae: 7.1056\n",
            "Epoch 77/100\n",
            "2/2 [==============================] - 0s 4ms/step - loss: 7.6354 - mae: 7.6354\n",
            "Epoch 78/100\n",
            "2/2 [==============================] - 0s 3ms/step - loss: 7.1131 - mae: 7.1131\n",
            "Epoch 79/100\n",
            "2/2 [==============================] - 0s 5ms/step - loss: 7.9732 - mae: 7.9732\n",
            "Epoch 80/100\n",
            "2/2 [==============================] - 0s 5ms/step - loss: 7.4474 - mae: 7.4474\n",
            "Epoch 81/100\n",
            "2/2 [==============================] - 0s 5ms/step - loss: 7.2820 - mae: 7.2820\n",
            "Epoch 82/100\n",
            "2/2 [==============================] - 0s 6ms/step - loss: 7.6920 - mae: 7.6920\n",
            "Epoch 83/100\n",
            "2/2 [==============================] - 0s 5ms/step - loss: 7.0717 - mae: 7.0717\n",
            "Epoch 84/100\n",
            "2/2 [==============================] - 0s 4ms/step - loss: 6.9653 - mae: 6.9653\n",
            "Epoch 85/100\n",
            "2/2 [==============================] - 0s 4ms/step - loss: 8.2982 - mae: 8.2982\n",
            "Epoch 86/100\n",
            "2/2 [==============================] - 0s 5ms/step - loss: 7.5736 - mae: 7.5736\n",
            "Epoch 87/100\n",
            "2/2 [==============================] - 0s 5ms/step - loss: 7.3052 - mae: 7.3052\n",
            "Epoch 88/100\n",
            "2/2 [==============================] - 0s 5ms/step - loss: 9.2293 - mae: 9.2293\n",
            "Epoch 89/100\n",
            "2/2 [==============================] - 0s 5ms/step - loss: 7.1096 - mae: 7.1096\n",
            "Epoch 90/100\n",
            "2/2 [==============================] - 0s 4ms/step - loss: 7.7183 - mae: 7.7183\n",
            "Epoch 91/100\n",
            "2/2 [==============================] - 0s 5ms/step - loss: 7.8804 - mae: 7.8804\n",
            "Epoch 92/100\n",
            "2/2 [==============================] - 0s 3ms/step - loss: 8.0542 - mae: 8.0542\n",
            "Epoch 93/100\n",
            "2/2 [==============================] - 0s 5ms/step - loss: 7.5098 - mae: 7.5098\n",
            "Epoch 94/100\n",
            "2/2 [==============================] - 0s 5ms/step - loss: 7.8956 - mae: 7.8956\n",
            "Epoch 95/100\n",
            "2/2 [==============================] - 0s 8ms/step - loss: 8.0626 - mae: 8.0626\n",
            "Epoch 96/100\n",
            "2/2 [==============================] - 0s 5ms/step - loss: 7.0123 - mae: 7.0123\n",
            "Epoch 97/100\n",
            "2/2 [==============================] - 0s 5ms/step - loss: 8.7064 - mae: 8.7064\n",
            "Epoch 98/100\n",
            "2/2 [==============================] - 0s 5ms/step - loss: 6.9412 - mae: 6.9412\n",
            "Epoch 99/100\n",
            "2/2 [==============================] - 0s 8ms/step - loss: 7.3205 - mae: 7.3205\n",
            "Epoch 100/100\n",
            "2/2 [==============================] - 0s 5ms/step - loss: 7.0466 - mae: 7.0466\n"
          ],
          "name": "stdout"
        },
        {
          "output_type": "execute_result",
          "data": {
            "text/plain": [
              "<tensorflow.python.keras.callbacks.History at 0x7ff23caa5a90>"
            ]
          },
          "metadata": {
            "tags": []
          },
          "execution_count": 31
        }
      ]
    },
    {
      "cell_type": "code",
      "metadata": {
        "id": "ciDPX7p0wxqO"
      },
      "source": [
        "tf.random.set_seed(42)\r\n",
        "\r\n",
        "model =tf.keras.Sequential([\r\n",
        "      tf.keras.layers.Dense(10, input_shape=[1], name=\"input_layer\"),\r\n",
        "      tf.keras.layers.Dense(1, name=\"output_layer\")\r\n",
        "], name=\"good_model\")\r\n",
        "model.compile(loss=\"mae\",\r\n",
        "              optimizer=tf.keras.optimizers.SGD(),\r\n",
        "              metrics=[\"mae\"])\r\n",
        "# model.fit(X_train, y_train, epochs=100, verbose=0)"
      ],
      "execution_count": 32,
      "outputs": []
    },
    {
      "cell_type": "code",
      "metadata": {
        "colab": {
          "base_uri": "https://localhost:8080/"
        },
        "id": "Md64JWbS4ut_",
        "outputId": "8666e06d-c213-4b8f-cf6c-9085c7b01333"
      },
      "source": [
        "model.fit(X_train, y_train, epochs=100, verbose=0)"
      ],
      "execution_count": 33,
      "outputs": [
        {
          "output_type": "execute_result",
          "data": {
            "text/plain": [
              "<tensorflow.python.keras.callbacks.History at 0x7ff23ca68590>"
            ]
          },
          "metadata": {
            "tags": []
          },
          "execution_count": 33
        }
      ]
    },
    {
      "cell_type": "code",
      "metadata": {
        "colab": {
          "base_uri": "https://localhost:8080/"
        },
        "id": "W9mgQxaY2jEq",
        "outputId": "37b65c38-df39-4408-b8a8-7959da41e301"
      },
      "source": [
        "model.summary()"
      ],
      "execution_count": 34,
      "outputs": [
        {
          "output_type": "stream",
          "text": [
            "Model: \"good_model\"\n",
            "_________________________________________________________________\n",
            "Layer (type)                 Output Shape              Param #   \n",
            "=================================================================\n",
            "input_layer (Dense)          (None, 10)                20        \n",
            "_________________________________________________________________\n",
            "output_layer (Dense)         (None, 1)                 11        \n",
            "=================================================================\n",
            "Total params: 31\n",
            "Trainable params: 31\n",
            "Non-trainable params: 0\n",
            "_________________________________________________________________\n"
          ],
          "name": "stdout"
        }
      ]
    },
    {
      "cell_type": "code",
      "metadata": {
        "colab": {
          "base_uri": "https://localhost:8080/",
          "height": 312
        },
        "id": "o5kbWpJO2rGY",
        "outputId": "298cc673-11cb-4419-a0d8-3faf910fa9b9"
      },
      "source": [
        "from tensorflow.keras.utils import plot_model\r\n",
        "\r\n",
        "plot_model(model=model, show_shapes=True)"
      ],
      "execution_count": 35,
      "outputs": [
        {
          "output_type": "execute_result",
          "data": {
            "image/png": "[encoded data removed]",
            "text/plain": [
              "<IPython.core.display.Image object>"
            ]
          },
          "metadata": {
            "tags": []
          },
          "execution_count": 35
        }
      ]
    },
    {
      "cell_type": "markdown",
      "metadata": {
        "id": "2X3Sjcqh3TX3"
      },
      "source": [
        "### Visualizing model predictions\r\n",
        "\r\n",
        "Plot them against the ground truth labels, often as y_test or y_true versus y_pred"
      ]
    },
    {
      "cell_type": "code",
      "metadata": {
        "colab": {
          "base_uri": "https://localhost:8080/"
        },
        "id": "EjzuUZXG5mXE",
        "outputId": "052833ac-097a-47eb-f880-9b59af36b495"
      },
      "source": [
        "# Make some predictions \r\n",
        "y_pred = model.predict(X_test)\r\n",
        "y_pred"
      ],
      "execution_count": 36,
      "outputs": [
        {
          "output_type": "execute_result",
          "data": {
            "text/plain": [
              "array([[ 70.55221 ],\n",
              "       [ 75.13992 ],\n",
              "       [ 79.72765 ],\n",
              "       [ 84.31538 ],\n",
              "       [ 88.9031  ],\n",
              "       [ 93.49082 ],\n",
              "       [ 98.07855 ],\n",
              "       [102.666275],\n",
              "       [107.254005],\n",
              "       [111.84173 ]], dtype=float32)"
            ]
          },
          "metadata": {
            "tags": []
          },
          "execution_count": 36
        }
      ]
    },
    {
      "cell_type": "code",
      "metadata": {
        "colab": {
          "base_uri": "https://localhost:8080/"
        },
        "id": "FrfytIFB5yo2",
        "outputId": "15d3e6f1-488b-4036-d344-6b4caff34ab7"
      },
      "source": [
        "y_test"
      ],
      "execution_count": 37,
      "outputs": [
        {
          "output_type": "execute_result",
          "data": {
            "text/plain": [
              "<tf.Tensor: shape=(10,), dtype=int32, numpy=array([ 70,  74,  78,  82,  86,  90,  94,  98, 102, 106], dtype=int32)>"
            ]
          },
          "metadata": {
            "tags": []
          },
          "execution_count": 37
        }
      ]
    },
    {
      "cell_type": "markdown",
      "metadata": {
        "id": "TS-VHibL6MNC"
      },
      "source": [
        "Note: if reusing some functionality in the future, is a good idea to turn it into a function"
      ]
    },
    {
      "cell_type": "code",
      "metadata": {
        "id": "mf4FgUoJ52n0"
      },
      "source": [
        "# Create a plotting function\r\n",
        "\r\n",
        "def plot_predictions(train_data=X_train,\r\n",
        "                     train_labels=y_train,\r\n",
        "                     test_data=X_test,\r\n",
        "                     test_labels=y_test,\r\n",
        "                     predictions=y_pred\r\n",
        "                     ):\r\n",
        "  '''\r\n",
        "  Plots training data , test data and compares preds vs ground truth\r\n",
        "  '''\r\n",
        "  plt.figure(figsize=(10,7))\r\n",
        "  plt.scatter(train_data, train_labels, c=\"b\", label=\"training data\")\r\n",
        "  plt.scatter(test_data, test_labels, c=\"g\", label=\"testing data\")\r\n",
        "  plt.scatter(test_data, predictions, c=\"r\", label=\"predictions\")\r\n",
        "  plt.legend();"
      ],
      "execution_count": 38,
      "outputs": []
    },
    {
      "cell_type": "code",
      "metadata": {
        "colab": {
          "base_uri": "https://localhost:8080/",
          "height": 428
        },
        "id": "wBVCg08G76FA",
        "outputId": "b5f8c7a1-b89f-458c-b103-8d55019f6519"
      },
      "source": [
        "plot_predictions(train_data=X_train,\r\n",
        "                train_labels=y_train,\r\n",
        "                test_data=X_test,\r\n",
        "                test_labels=y_test,\r\n",
        "                predictions=y_pred)\r\n",
        "# plot_predictions()    - this is the same as above"
      ],
      "execution_count": 39,
      "outputs": [
        {
          "output_type": "display_data",
          "data": {
            "image/png": "[encoded data removed]",
            "text/plain": [
              "<Figure size 720x504 with 1 Axes>"
            ]
          },
          "metadata": {
            "tags": [],
            "needs_background": "light"
          }
        }
      ]
    },
    {
      "cell_type": "markdown",
      "metadata": {
        "id": "aviCQSaR790_"
      },
      "source": [
        "### Evaluating models preds with regression evaluation metrics\r\n",
        "\r\n",
        "Depending on the problem there are different evaluation metrics. For regression MAE (starter metric), MSE (when larger errors are more significant then smaller ones) and Huber (combination of MAE and MSE. Less sensitive to outliers than MSE)"
      ]
    },
    {
      "cell_type": "code",
      "metadata": {
        "colab": {
          "base_uri": "https://localhost:8080/"
        },
        "id": "2B8-Ck4--782",
        "outputId": "b70b9f6d-6db1-4f02-d504-02c5c9bd357c"
      },
      "source": [
        "# Evaluate the model on the test set\r\n",
        "model.evaluate(X_test, y_test)"
      ],
      "execution_count": 40,
      "outputs": [
        {
          "output_type": "stream",
          "text": [
            "1/1 [==============================] - 0s 124ms/step - loss: 3.1970 - mae: 3.1970\n"
          ],
          "name": "stdout"
        },
        {
          "output_type": "execute_result",
          "data": {
            "text/plain": [
              "[3.1969642639160156, 3.1969642639160156]"
            ]
          },
          "metadata": {
            "tags": []
          },
          "execution_count": 40
        }
      ]
    },
    {
      "cell_type": "code",
      "metadata": {
        "colab": {
          "base_uri": "https://localhost:8080/"
        },
        "id": "8ho96eiMAAGl",
        "outputId": "0250bc51-14ce-4b30-83b2-7fb63d6ea97e"
      },
      "source": [
        "# Calculate MAE\r\n",
        "mae = tf.keras.losses.MAE(y_true = y_test, \r\n",
        "                          y_pred = y_pred)\r\n",
        "mae"
      ],
      "execution_count": 41,
      "outputs": [
        {
          "output_type": "execute_result",
          "data": {
            "text/plain": [
              "<tf.Tensor: shape=(10,), dtype=float32, numpy=\n",
              "array([17.558233, 14.116046, 11.708939, 10.336925, 10.      , 10.698164,\n",
              "       12.447131, 15.33302 , 19.254005, 23.841728], dtype=float32)>"
            ]
          },
          "metadata": {
            "tags": []
          },
          "execution_count": 41
        }
      ]
    },
    {
      "cell_type": "code",
      "metadata": {
        "colab": {
          "base_uri": "https://localhost:8080/"
        },
        "id": "ZWFASjtK_ee-",
        "outputId": "bb2516e3-12b3-44bf-c584-a3452ebc1d5a"
      },
      "source": [
        "y_pred"
      ],
      "execution_count": 42,
      "outputs": [
        {
          "output_type": "execute_result",
          "data": {
            "text/plain": [
              "array([[ 70.55221 ],\n",
              "       [ 75.13992 ],\n",
              "       [ 79.72765 ],\n",
              "       [ 84.31538 ],\n",
              "       [ 88.9031  ],\n",
              "       [ 93.49082 ],\n",
              "       [ 98.07855 ],\n",
              "       [102.666275],\n",
              "       [107.254005],\n",
              "       [111.84173 ]], dtype=float32)"
            ]
          },
          "metadata": {
            "tags": []
          },
          "execution_count": 42
        }
      ]
    },
    {
      "cell_type": "code",
      "metadata": {
        "colab": {
          "base_uri": "https://localhost:8080/"
        },
        "id": "uBZiXgns_729",
        "outputId": "f286cb2a-d03c-4840-d3bd-65a3aac6f9a4"
      },
      "source": [
        "y_test"
      ],
      "execution_count": 43,
      "outputs": [
        {
          "output_type": "execute_result",
          "data": {
            "text/plain": [
              "<tf.Tensor: shape=(10,), dtype=int32, numpy=array([ 70,  74,  78,  82,  86,  90,  94,  98, 102, 106], dtype=int32)>"
            ]
          },
          "metadata": {
            "tags": []
          },
          "execution_count": 43
        }
      ]
    },
    {
      "cell_type": "code",
      "metadata": {
        "colab": {
          "base_uri": "https://localhost:8080/"
        },
        "id": "nJ1rNo0nCbSI",
        "outputId": "603ffb5d-814f-46fd-9b16-b2182664ba88"
      },
      "source": [
        "tf.constant(y_pred)"
      ],
      "execution_count": 44,
      "outputs": [
        {
          "output_type": "execute_result",
          "data": {
            "text/plain": [
              "<tf.Tensor: shape=(10, 1), dtype=float32, numpy=\n",
              "array([[ 70.55221 ],\n",
              "       [ 75.13992 ],\n",
              "       [ 79.72765 ],\n",
              "       [ 84.31538 ],\n",
              "       [ 88.9031  ],\n",
              "       [ 93.49082 ],\n",
              "       [ 98.07855 ],\n",
              "       [102.666275],\n",
              "       [107.254005],\n",
              "       [111.84173 ]], dtype=float32)>"
            ]
          },
          "metadata": {
            "tags": []
          },
          "execution_count": 44
        }
      ]
    },
    {
      "cell_type": "code",
      "metadata": {
        "colab": {
          "base_uri": "https://localhost:8080/"
        },
        "id": "q0ABblbU_-hM",
        "outputId": "e4719cac-d0fc-4162-bb6c-c47126ec2dcf"
      },
      "source": [
        "# They have a different shape when compared as tensors\r\n",
        "tf.squeeze(y_pred)"
      ],
      "execution_count": 45,
      "outputs": [
        {
          "output_type": "execute_result",
          "data": {
            "text/plain": [
              "<tf.Tensor: shape=(10,), dtype=float32, numpy=\n",
              "array([ 70.55221 ,  75.13992 ,  79.72765 ,  84.31538 ,  88.9031  ,\n",
              "        93.49082 ,  98.07855 , 102.666275, 107.254005, 111.84173 ],\n",
              "      dtype=float32)>"
            ]
          },
          "metadata": {
            "tags": []
          },
          "execution_count": 45
        }
      ]
    },
    {
      "cell_type": "code",
      "metadata": {
        "colab": {
          "base_uri": "https://localhost:8080/"
        },
        "id": "-UJDL4VpB5aP",
        "outputId": "589b19a0-a1b7-482f-adb6-8b0b641a9745"
      },
      "source": [
        "mae = tf.keras.losses.MAE(y_true = y_test, \r\n",
        "                          y_pred = tf.squeeze(y_pred))\r\n",
        "mae"
      ],
      "execution_count": 46,
      "outputs": [
        {
          "output_type": "execute_result",
          "data": {
            "text/plain": [
              "<tf.Tensor: shape=(), dtype=float32, numpy=3.1969643>"
            ]
          },
          "metadata": {
            "tags": []
          },
          "execution_count": 46
        }
      ]
    },
    {
      "cell_type": "code",
      "metadata": {
        "colab": {
          "base_uri": "https://localhost:8080/"
        },
        "id": "V961_Ab6B-Qq",
        "outputId": "d40ec1d9-29d8-4497-c844-a22f0124218c"
      },
      "source": [
        "# Calculate the MSE\r\n",
        "mse = tf.keras.losses.MSE(y_true = y_test, \r\n",
        "                          y_pred = tf.squeeze(y_pred))\r\n",
        "mse\r\n"
      ],
      "execution_count": 47,
      "outputs": [
        {
          "output_type": "execute_result",
          "data": {
            "text/plain": [
              "<tf.Tensor: shape=(), dtype=float32, numpy=13.0703>"
            ]
          },
          "metadata": {
            "tags": []
          },
          "execution_count": 47
        }
      ]
    },
    {
      "cell_type": "code",
      "metadata": {
        "id": "HBtCLy42RVei"
      },
      "source": [
        "# Make functions to reuse MAE and MSE\r\n",
        "def mae(y_true, y_pred):\r\n",
        "  return tf.keras.losses.MAE(y_true = y_true,    # same expressions as above\r\n",
        "                             y_pred = tf.squeeze(y_pred))\r\n",
        "  \r\n",
        "def mse(y_true, y_pred):\r\n",
        "  return tf.keras.losses.MSE(y_true = y_true,\r\n",
        "                             y_pred = tf.squeeze(y_pred))"
      ],
      "execution_count": 48,
      "outputs": []
    },
    {
      "cell_type": "markdown",
      "metadata": {
        "id": "yHWCyTe2R24n"
      },
      "source": [
        "### Running experiments to improve the model\r\n",
        "\r\n",
        "Build, fit, evaluate, tweak...fit, evaluate, tweak...fit, evaluate, tweak\r\n",
        "\r\n",
        "1. More data or more examples to learn patterns and relationships between features and labels\r\n",
        "\r\n",
        "2. Make model larger, more layers or more hidden units\r\n",
        "\r\n",
        "3. Train for longer, so it has more chance to find patterns in data\r\n",
        "\r\n",
        "Three modelling experiments:\r\n",
        "\r\n",
        "1. model1, same as original, 1 layer, 100 epochs\r\n",
        "2. model2, 2 layers, 100 epochs\r\n",
        "3. model3, 2 layers, 500 epochs"
      ]
    },
    {
      "cell_type": "code",
      "metadata": {
        "colab": {
          "base_uri": "https://localhost:8080/"
        },
        "id": "8naC21NiTcz_",
        "outputId": "f3cf2998-d816-4bc1-adb6-58c0d8983bbf"
      },
      "source": [
        "X_train, y_train"
      ],
      "execution_count": 49,
      "outputs": [
        {
          "output_type": "execute_result",
          "data": {
            "text/plain": [
              "(<tf.Tensor: shape=(40,), dtype=int32, numpy=\n",
              " array([-100,  -96,  -92,  -88,  -84,  -80,  -76,  -72,  -68,  -64,  -60,\n",
              "         -56,  -52,  -48,  -44,  -40,  -36,  -32,  -28,  -24,  -20,  -16,\n",
              "         -12,   -8,   -4,    0,    4,    8,   12,   16,   20,   24,   28,\n",
              "          32,   36,   40,   44,   48,   52,   56], dtype=int32)>,\n",
              " <tf.Tensor: shape=(40,), dtype=int32, numpy=\n",
              " array([-90, -86, -82, -78, -74, -70, -66, -62, -58, -54, -50, -46, -42,\n",
              "        -38, -34, -30, -26, -22, -18, -14, -10,  -6,  -2,   2,   6,  10,\n",
              "         14,  18,  22,  26,  30,  34,  38,  42,  46,  50,  54,  58,  62,\n",
              "         66], dtype=int32)>)"
            ]
          },
          "metadata": {
            "tags": []
          },
          "execution_count": 49
        }
      ]
    },
    {
      "cell_type": "code",
      "metadata": {
        "colab": {
          "base_uri": "https://localhost:8080/"
        },
        "id": "DexIlED0T6Wn",
        "outputId": "f0fe0db0-5601-490f-dc2f-df98fd89da96"
      },
      "source": [
        "# Set random seed\r\n",
        "tf.random.set_seed(42)\r\n",
        "\r\n",
        "model_1 = tf.keras.Sequential([\r\n",
        "      tf.keras.layers.Dense(1)\r\n",
        "])\r\n",
        "model_1.compile(loss=tf.keras.losses.mae,\r\n",
        "                optimizer=tf.keras.optimizers.SGD(),\r\n",
        "                metrics=[\"mae\"])\r\n",
        "model_1.fit(X_train,y_train,epochs=100)"
      ],
      "execution_count": 50,
      "outputs": [
        {
          "output_type": "stream",
          "text": [
            "Epoch 1/100\n",
            "2/2 [==============================] - 0s 6ms/step - loss: 16.4124 - mae: 16.4124\n",
            "Epoch 2/100\n",
            "2/2 [==============================] - 0s 6ms/step - loss: 11.0829 - mae: 11.0829\n",
            "Epoch 3/100\n",
            "2/2 [==============================] - 0s 5ms/step - loss: 11.1242 - mae: 11.1242\n",
            "Epoch 4/100\n",
            "2/2 [==============================] - 0s 3ms/step - loss: 8.6945 - mae: 8.6945\n",
            "Epoch 5/100\n",
            "2/2 [==============================] - 0s 5ms/step - loss: 9.8003 - mae: 9.8003\n",
            "Epoch 6/100\n",
            "2/2 [==============================] - 0s 4ms/step - loss: 9.5263 - mae: 9.5263\n",
            "Epoch 7/100\n",
            "2/2 [==============================] - 0s 6ms/step - loss: 8.4102 - mae: 8.4102\n",
            "Epoch 8/100\n",
            "2/2 [==============================] - 0s 5ms/step - loss: 9.1449 - mae: 9.1449\n",
            "Epoch 9/100\n",
            "2/2 [==============================] - 0s 4ms/step - loss: 19.4932 - mae: 19.4932\n",
            "Epoch 10/100\n",
            "2/2 [==============================] - 0s 11ms/step - loss: 9.6061 - mae: 9.6061\n",
            "Epoch 11/100\n",
            "2/2 [==============================] - 0s 6ms/step - loss: 8.5992 - mae: 8.5992\n",
            "Epoch 12/100\n",
            "2/2 [==============================] - 0s 5ms/step - loss: 10.9324 - mae: 10.9324\n",
            "Epoch 13/100\n",
            "2/2 [==============================] - 0s 7ms/step - loss: 10.0574 - mae: 10.0574\n",
            "Epoch 14/100\n",
            "2/2 [==============================] - 0s 6ms/step - loss: 16.5679 - mae: 16.5679\n",
            "Epoch 15/100\n",
            "2/2 [==============================] - 0s 5ms/step - loss: 11.4537 - mae: 11.4537\n",
            "Epoch 16/100\n",
            "2/2 [==============================] - 0s 6ms/step - loss: 8.4056 - mae: 8.4056\n",
            "Epoch 17/100\n",
            "2/2 [==============================] - 0s 6ms/step - loss: 13.8417 - mae: 13.8417\n",
            "Epoch 18/100\n",
            "2/2 [==============================] - 0s 4ms/step - loss: 11.6621 - mae: 11.6621\n",
            "Epoch 19/100\n",
            "2/2 [==============================] - 0s 8ms/step - loss: 18.7623 - mae: 18.7623\n",
            "Epoch 20/100\n",
            "2/2 [==============================] - 0s 6ms/step - loss: 15.5702 - mae: 15.5702\n",
            "Epoch 21/100\n",
            "2/2 [==============================] - 0s 6ms/step - loss: 10.9959 - mae: 10.9959\n",
            "Epoch 22/100\n",
            "2/2 [==============================] - 0s 4ms/step - loss: 8.0023 - mae: 8.0023\n",
            "Epoch 23/100\n",
            "2/2 [==============================] - 0s 5ms/step - loss: 9.8593 - mae: 9.8593\n",
            "Epoch 24/100\n",
            "2/2 [==============================] - 0s 4ms/step - loss: 7.5796 - mae: 7.5796\n",
            "Epoch 25/100\n",
            "2/2 [==============================] - 0s 6ms/step - loss: 13.7226 - mae: 13.7226\n",
            "Epoch 26/100\n",
            "2/2 [==============================] - 0s 8ms/step - loss: 17.1740 - mae: 17.1740\n",
            "Epoch 27/100\n",
            "2/2 [==============================] - 0s 4ms/step - loss: 13.4233 - mae: 13.4233\n",
            "Epoch 28/100\n",
            "2/2 [==============================] - 0s 5ms/step - loss: 14.5473 - mae: 14.5473\n",
            "Epoch 29/100\n",
            "2/2 [==============================] - 0s 4ms/step - loss: 9.8753 - mae: 9.8753\n",
            "Epoch 30/100\n",
            "2/2 [==============================] - 0s 7ms/step - loss: 17.1187 - mae: 17.1187\n",
            "Epoch 31/100\n",
            "2/2 [==============================] - 0s 6ms/step - loss: 24.5949 - mae: 24.5949\n",
            "Epoch 32/100\n",
            "2/2 [==============================] - 0s 6ms/step - loss: 7.6765 - mae: 7.6765\n",
            "Epoch 33/100\n",
            "2/2 [==============================] - 0s 4ms/step - loss: 9.2971 - mae: 9.2971\n",
            "Epoch 34/100\n",
            "2/2 [==============================] - 0s 7ms/step - loss: 14.1703 - mae: 14.1703\n",
            "Epoch 35/100\n",
            "2/2 [==============================] - 0s 5ms/step - loss: 10.8635 - mae: 10.8635\n",
            "Epoch 36/100\n",
            "2/2 [==============================] - 0s 5ms/step - loss: 13.5689 - mae: 13.5689\n",
            "Epoch 37/100\n",
            "2/2 [==============================] - 0s 5ms/step - loss: 9.3448 - mae: 9.3448\n",
            "Epoch 38/100\n",
            "2/2 [==============================] - 0s 6ms/step - loss: 10.4804 - mae: 10.4804\n",
            "Epoch 39/100\n",
            "2/2 [==============================] - 0s 5ms/step - loss: 10.0178 - mae: 10.0178\n",
            "Epoch 40/100\n",
            "2/2 [==============================] - 0s 6ms/step - loss: 10.8005 - mae: 10.8005\n",
            "Epoch 41/100\n",
            "2/2 [==============================] - 0s 5ms/step - loss: 7.7789 - mae: 7.7789\n",
            "Epoch 42/100\n",
            "2/2 [==============================] - 0s 4ms/step - loss: 10.2844 - mae: 10.2844\n",
            "Epoch 43/100\n",
            "2/2 [==============================] - 0s 7ms/step - loss: 8.9628 - mae: 8.9628\n",
            "Epoch 44/100\n",
            "2/2 [==============================] - 0s 7ms/step - loss: 12.6243 - mae: 12.6243\n",
            "Epoch 45/100\n",
            "2/2 [==============================] - 0s 4ms/step - loss: 14.1236 - mae: 14.1236\n",
            "Epoch 46/100\n",
            "2/2 [==============================] - 0s 4ms/step - loss: 8.2681 - mae: 8.2681\n",
            "Epoch 47/100\n",
            "2/2 [==============================] - 0s 5ms/step - loss: 9.0126 - mae: 9.0126\n",
            "Epoch 48/100\n",
            "2/2 [==============================] - 0s 11ms/step - loss: 10.6882 - mae: 10.6882\n",
            "Epoch 49/100\n",
            "2/2 [==============================] - 0s 6ms/step - loss: 7.7431 - mae: 7.7431\n",
            "Epoch 50/100\n",
            "2/2 [==============================] - 0s 6ms/step - loss: 9.3950 - mae: 9.3950\n",
            "Epoch 51/100\n",
            "2/2 [==============================] - 0s 5ms/step - loss: 8.9267 - mae: 8.9267\n",
            "Epoch 52/100\n",
            "2/2 [==============================] - 0s 5ms/step - loss: 16.9818 - mae: 16.9818\n",
            "Epoch 53/100\n",
            "2/2 [==============================] - 0s 7ms/step - loss: 14.8677 - mae: 14.8677\n",
            "Epoch 54/100\n",
            "2/2 [==============================] - 0s 4ms/step - loss: 22.0413 - mae: 22.0413\n",
            "Epoch 55/100\n",
            "2/2 [==============================] - 0s 3ms/step - loss: 17.0640 - mae: 17.0640\n",
            "Epoch 56/100\n",
            "2/2 [==============================] - 0s 5ms/step - loss: 9.9520 - mae: 9.9520\n",
            "Epoch 57/100\n",
            "2/2 [==============================] - 0s 7ms/step - loss: 9.7522 - mae: 9.7522\n",
            "Epoch 58/100\n",
            "2/2 [==============================] - 0s 5ms/step - loss: 9.4378 - mae: 9.4378\n",
            "Epoch 59/100\n",
            "2/2 [==============================] - 0s 6ms/step - loss: 8.3373 - mae: 8.3373\n",
            "Epoch 60/100\n",
            "2/2 [==============================] - 0s 5ms/step - loss: 9.6425 - mae: 9.6425\n",
            "Epoch 61/100\n",
            "2/2 [==============================] - 0s 4ms/step - loss: 11.7590 - mae: 11.7590\n",
            "Epoch 62/100\n",
            "2/2 [==============================] - 0s 7ms/step - loss: 11.7187 - mae: 11.7187\n",
            "Epoch 63/100\n",
            "2/2 [==============================] - 0s 5ms/step - loss: 7.2316 - mae: 7.2316\n",
            "Epoch 64/100\n",
            "2/2 [==============================] - 0s 4ms/step - loss: 17.7848 - mae: 17.7848\n",
            "Epoch 65/100\n",
            "2/2 [==============================] - 0s 4ms/step - loss: 12.6255 - mae: 12.6255\n",
            "Epoch 66/100\n",
            "2/2 [==============================] - 0s 9ms/step - loss: 13.2840 - mae: 13.2840\n",
            "Epoch 67/100\n",
            "2/2 [==============================] - 0s 5ms/step - loss: 7.8471 - mae: 7.8471\n",
            "Epoch 68/100\n",
            "2/2 [==============================] - 0s 5ms/step - loss: 9.9708 - mae: 9.9708\n",
            "Epoch 69/100\n",
            "2/2 [==============================] - 0s 6ms/step - loss: 12.4903 - mae: 12.4903\n",
            "Epoch 70/100\n",
            "2/2 [==============================] - 0s 6ms/step - loss: 8.5001 - mae: 8.5001\n",
            "Epoch 71/100\n",
            "2/2 [==============================] - 0s 6ms/step - loss: 9.9996 - mae: 9.9996\n",
            "Epoch 72/100\n",
            "2/2 [==============================] - 0s 5ms/step - loss: 10.1797 - mae: 10.1797\n",
            "Epoch 73/100\n",
            "2/2 [==============================] - 0s 5ms/step - loss: 13.0024 - mae: 13.0024\n",
            "Epoch 74/100\n",
            "2/2 [==============================] - 0s 6ms/step - loss: 10.3812 - mae: 10.3812\n",
            "Epoch 75/100\n",
            "2/2 [==============================] - 0s 7ms/step - loss: 9.7621 - mae: 9.7621\n",
            "Epoch 76/100\n",
            "2/2 [==============================] - 0s 7ms/step - loss: 11.5186 - mae: 11.5186\n",
            "Epoch 77/100\n",
            "2/2 [==============================] - 0s 6ms/step - loss: 8.3070 - mae: 8.3070\n",
            "Epoch 78/100\n",
            "2/2 [==============================] - 0s 4ms/step - loss: 9.4436 - mae: 9.4436\n",
            "Epoch 79/100\n",
            "2/2 [==============================] - 0s 5ms/step - loss: 20.3897 - mae: 20.3897\n",
            "Epoch 80/100\n",
            "2/2 [==============================] - 0s 7ms/step - loss: 15.4751 - mae: 15.4751\n",
            "Epoch 81/100\n",
            "2/2 [==============================] - 0s 5ms/step - loss: 9.0208 - mae: 9.0208\n",
            "Epoch 82/100\n",
            "2/2 [==============================] - 0s 5ms/step - loss: 13.3869 - mae: 13.3869\n",
            "Epoch 83/100\n",
            "2/2 [==============================] - 0s 5ms/step - loss: 7.9649 - mae: 7.9649\n",
            "Epoch 84/100\n",
            "2/2 [==============================] - 0s 5ms/step - loss: 7.5702 - mae: 7.5702\n",
            "Epoch 85/100\n",
            "2/2 [==============================] - 0s 4ms/step - loss: 9.9706 - mae: 9.9706\n",
            "Epoch 86/100\n",
            "2/2 [==============================] - 0s 6ms/step - loss: 9.0533 - mae: 9.0533\n",
            "Epoch 87/100\n",
            "2/2 [==============================] - 0s 6ms/step - loss: 12.2670 - mae: 12.2670\n",
            "Epoch 88/100\n",
            "2/2 [==============================] - 0s 5ms/step - loss: 10.6052 - mae: 10.6052\n",
            "Epoch 89/100\n",
            "2/2 [==============================] - 0s 6ms/step - loss: 7.1986 - mae: 7.1986\n",
            "Epoch 90/100\n",
            "2/2 [==============================] - 0s 5ms/step - loss: 13.0379 - mae: 13.0379\n",
            "Epoch 91/100\n",
            "2/2 [==============================] - 0s 5ms/step - loss: 7.1968 - mae: 7.1968\n",
            "Epoch 92/100\n",
            "2/2 [==============================] - 0s 5ms/step - loss: 7.5386 - mae: 7.5386\n",
            "Epoch 93/100\n",
            "2/2 [==============================] - 0s 7ms/step - loss: 7.0932 - mae: 7.0932\n",
            "Epoch 94/100\n",
            "2/2 [==============================] - 0s 4ms/step - loss: 12.8860 - mae: 12.8860\n",
            "Epoch 95/100\n",
            "2/2 [==============================] - 0s 3ms/step - loss: 9.9620 - mae: 9.9620\n",
            "Epoch 96/100\n",
            "2/2 [==============================] - 0s 6ms/step - loss: 8.7739 - mae: 8.7739\n",
            "Epoch 97/100\n",
            "2/2 [==============================] - 0s 6ms/step - loss: 13.0861 - mae: 13.0861\n",
            "Epoch 98/100\n",
            "2/2 [==============================] - 0s 5ms/step - loss: 8.3848 - mae: 8.3848\n",
            "Epoch 99/100\n",
            "2/2 [==============================] - 0s 4ms/step - loss: 9.7828 - mae: 9.7828\n",
            "Epoch 100/100\n",
            "2/2 [==============================] - 0s 5ms/step - loss: 8.5252 - mae: 8.5252\n"
          ],
          "name": "stdout"
        },
        {
          "output_type": "execute_result",
          "data": {
            "text/plain": [
              "<tensorflow.python.keras.callbacks.History at 0x7ff23c8b2690>"
            ]
          },
          "metadata": {
            "tags": []
          },
          "execution_count": 50
        }
      ]
    },
    {
      "cell_type": "code",
      "metadata": {
        "colab": {
          "base_uri": "https://localhost:8080/",
          "height": 465
        },
        "id": "fv4fJA7KVNdO",
        "outputId": "897ea771-2e5d-4041-a57a-5fa41b02b6a5"
      },
      "source": [
        "# make and plot predictions for model_1\r\n",
        "y_preds_1 = model_1.predict(X_test)\r\n",
        "plot_predictions(predictions=y_preds_1)"
      ],
      "execution_count": 51,
      "outputs": [
        {
          "output_type": "stream",
          "text": [
            "WARNING:tensorflow:5 out of the last 5 calls to <function Model.make_predict_function.<locals>.predict_function at 0x7ff23ca97b00> triggered tf.function retracing. Tracing is expensive and the excessive number of tracings could be due to (1) creating @tf.function repeatedly in a loop, (2) passing tensors with different shapes, (3) passing Python objects instead of tensors. For (1), please define your @tf.function outside of the loop. For (2), @tf.function has experimental_relax_shapes=True option that relaxes argument shapes that can avoid unnecessary retracing. For (3), please refer to https://www.tensorflow.org/guide/function#controlling_retracing and https://www.tensorflow.org/api_docs/python/tf/function for  more details.\n"
          ],
          "name": "stdout"
        },
        {
          "output_type": "display_data",
          "data": {
            "image/png": "[encoded data removed]",
            "text/plain": [
              "<Figure size 720x504 with 1 Axes>"
            ]
          },
          "metadata": {
            "tags": [],
            "needs_background": "light"
          }
        }
      ]
    },
    {
      "cell_type": "code",
      "metadata": {
        "colab": {
          "base_uri": "https://localhost:8080/"
        },
        "id": "jeke9_V1Vzzl",
        "outputId": "9dc188c1-0659-464d-e05e-564d731f0cce"
      },
      "source": [
        "# calculate model_1 evaluation metrics\r\n",
        "mae_1 = mae(y_test, y_preds_1)\r\n",
        "mse_1 = mse(y_test, y_preds_1)\r\n",
        "mae_1 , mse_1"
      ],
      "execution_count": 52,
      "outputs": [
        {
          "output_type": "execute_result",
          "data": {
            "text/plain": [
              "(<tf.Tensor: shape=(), dtype=float32, numpy=18.745327>,\n",
              " <tf.Tensor: shape=(), dtype=float32, numpy=353.5734>)"
            ]
          },
          "metadata": {
            "tags": []
          },
          "execution_count": 52
        }
      ]
    },
    {
      "cell_type": "code",
      "metadata": {
        "colab": {
          "base_uri": "https://localhost:8080/"
        },
        "id": "VeEpn15OWNbF",
        "outputId": "100b5138-3c6c-40c5-92dd-b08d26f9b93e"
      },
      "source": [
        "# model_2 \r\n",
        "# Set random seed\r\n",
        "tf.random.set_seed(42)\r\n",
        "\r\n",
        "model_2 = tf.keras.Sequential([\r\n",
        "      tf.keras.layers.Dense(100, activation='relu'),                         \r\n",
        "      tf.keras.layers.Dense(1)\r\n",
        "])\r\n",
        "model_2.compile(loss=tf.keras.losses.mae,\r\n",
        "                optimizer=tf.keras.optimizers.SGD(),\r\n",
        "                metrics=[\"mae\"])\r\n",
        "model_2.fit(X_train,y_train,epochs=100)"
      ],
      "execution_count": 53,
      "outputs": [
        {
          "output_type": "stream",
          "text": [
            "Epoch 1/100\n",
            "2/2 [==============================] - 0s 6ms/step - loss: 39.0788 - mae: 39.0788\n",
            "Epoch 2/100\n",
            "2/2 [==============================] - 0s 6ms/step - loss: 14.9383 - mae: 14.9383\n",
            "Epoch 3/100\n",
            "2/2 [==============================] - 0s 6ms/step - loss: 10.7671 - mae: 10.7671\n",
            "Epoch 4/100\n",
            "2/2 [==============================] - 0s 6ms/step - loss: 8.1174 - mae: 8.1174\n",
            "Epoch 5/100\n",
            "2/2 [==============================] - 0s 6ms/step - loss: 8.9726 - mae: 8.9726\n",
            "Epoch 6/100\n",
            "2/2 [==============================] - 0s 6ms/step - loss: 9.0027 - mae: 9.0027\n",
            "Epoch 7/100\n",
            "2/2 [==============================] - 0s 6ms/step - loss: 11.2701 - mae: 11.2701\n",
            "Epoch 8/100\n",
            "2/2 [==============================] - 0s 6ms/step - loss: 14.5040 - mae: 14.5040\n",
            "Epoch 9/100\n",
            "2/2 [==============================] - 0s 6ms/step - loss: 23.5506 - mae: 23.5506\n",
            "Epoch 10/100\n",
            "2/2 [==============================] - 0s 6ms/step - loss: 11.5859 - mae: 11.5859\n",
            "Epoch 11/100\n",
            "2/2 [==============================] - 0s 6ms/step - loss: 9.8314 - mae: 9.8314\n",
            "Epoch 12/100\n",
            "2/2 [==============================] - 0s 6ms/step - loss: 11.2191 - mae: 11.2191\n",
            "Epoch 13/100\n",
            "2/2 [==============================] - 0s 6ms/step - loss: 7.4406 - mae: 7.4406\n",
            "Epoch 14/100\n",
            "2/2 [==============================] - 0s 6ms/step - loss: 9.3295 - mae: 9.3295\n",
            "Epoch 15/100\n",
            "2/2 [==============================] - 0s 6ms/step - loss: 6.4579 - mae: 6.4579\n",
            "Epoch 16/100\n",
            "2/2 [==============================] - 0s 6ms/step - loss: 13.3920 - mae: 13.3920\n",
            "Epoch 17/100\n",
            "2/2 [==============================] - 0s 6ms/step - loss: 10.7755 - mae: 10.7755\n",
            "Epoch 18/100\n",
            "2/2 [==============================] - 0s 6ms/step - loss: 13.9332 - mae: 13.9332\n",
            "Epoch 19/100\n",
            "2/2 [==============================] - 0s 10ms/step - loss: 20.6667 - mae: 20.6667\n",
            "Epoch 20/100\n",
            "2/2 [==============================] - 0s 5ms/step - loss: 5.2473 - mae: 5.2473\n",
            "Epoch 21/100\n",
            "2/2 [==============================] - 0s 6ms/step - loss: 13.8761 - mae: 13.8761\n",
            "Epoch 22/100\n",
            "2/2 [==============================] - 0s 8ms/step - loss: 19.6955 - mae: 19.6955\n",
            "Epoch 23/100\n",
            "2/2 [==============================] - 0s 5ms/step - loss: 11.2666 - mae: 11.2666\n",
            "Epoch 24/100\n",
            "2/2 [==============================] - 0s 4ms/step - loss: 11.6121 - mae: 11.6121\n",
            "Epoch 25/100\n",
            "2/2 [==============================] - 0s 7ms/step - loss: 17.9498 - mae: 17.9498\n",
            "Epoch 26/100\n",
            "2/2 [==============================] - 0s 6ms/step - loss: 17.7060 - mae: 17.7060\n",
            "Epoch 27/100\n",
            "2/2 [==============================] - 0s 10ms/step - loss: 12.6004 - mae: 12.6004\n",
            "Epoch 28/100\n",
            "2/2 [==============================] - 0s 4ms/step - loss: 12.2098 - mae: 12.2098\n",
            "Epoch 29/100\n",
            "2/2 [==============================] - 0s 6ms/step - loss: 4.9853 - mae: 4.9853\n",
            "Epoch 30/100\n",
            "2/2 [==============================] - 0s 6ms/step - loss: 21.0522 - mae: 21.0522\n",
            "Epoch 31/100\n",
            "2/2 [==============================] - 0s 7ms/step - loss: 9.5875 - mae: 9.5875\n",
            "Epoch 32/100\n",
            "2/2 [==============================] - 0s 5ms/step - loss: 12.2936 - mae: 12.2936\n",
            "Epoch 33/100\n",
            "2/2 [==============================] - 0s 6ms/step - loss: 8.5199 - mae: 8.5199\n",
            "Epoch 34/100\n",
            "2/2 [==============================] - 0s 6ms/step - loss: 15.8148 - mae: 15.8148\n",
            "Epoch 35/100\n",
            "2/2 [==============================] - 0s 7ms/step - loss: 7.1640 - mae: 7.1640\n",
            "Epoch 36/100\n",
            "2/2 [==============================] - 0s 4ms/step - loss: 18.5625 - mae: 18.5625\n",
            "Epoch 37/100\n",
            "2/2 [==============================] - 0s 5ms/step - loss: 6.9393 - mae: 6.9393\n",
            "Epoch 38/100\n",
            "2/2 [==============================] - 0s 4ms/step - loss: 12.1962 - mae: 12.1962\n",
            "Epoch 39/100\n",
            "2/2 [==============================] - 0s 6ms/step - loss: 15.7124 - mae: 15.7124\n",
            "Epoch 40/100\n",
            "2/2 [==============================] - 0s 5ms/step - loss: 12.8550 - mae: 12.8550\n",
            "Epoch 41/100\n",
            "2/2 [==============================] - 0s 5ms/step - loss: 6.5289 - mae: 6.5289\n",
            "Epoch 42/100\n",
            "2/2 [==============================] - 0s 6ms/step - loss: 11.9887 - mae: 11.9887\n",
            "Epoch 43/100\n",
            "2/2 [==============================] - 0s 5ms/step - loss: 9.7104 - mae: 9.7104\n",
            "Epoch 44/100\n",
            "2/2 [==============================] - 0s 6ms/step - loss: 24.9217 - mae: 24.9217\n",
            "Epoch 45/100\n",
            "2/2 [==============================] - 0s 6ms/step - loss: 14.1240 - mae: 14.1240\n",
            "Epoch 46/100\n",
            "2/2 [==============================] - 0s 5ms/step - loss: 6.0990 - mae: 6.0990\n",
            "Epoch 47/100\n",
            "2/2 [==============================] - 0s 6ms/step - loss: 8.4420 - mae: 8.4420\n",
            "Epoch 48/100\n",
            "2/2 [==============================] - 0s 5ms/step - loss: 12.2822 - mae: 12.2822\n",
            "Epoch 49/100\n",
            "2/2 [==============================] - 0s 5ms/step - loss: 9.3563 - mae: 9.3563\n",
            "Epoch 50/100\n",
            "2/2 [==============================] - 0s 5ms/step - loss: 14.0370 - mae: 14.0370\n",
            "Epoch 51/100\n",
            "2/2 [==============================] - 0s 5ms/step - loss: 9.1891 - mae: 9.1891\n",
            "Epoch 52/100\n",
            "2/2 [==============================] - 0s 4ms/step - loss: 19.1275 - mae: 19.1275\n",
            "Epoch 53/100\n",
            "2/2 [==============================] - 0s 7ms/step - loss: 7.7562 - mae: 7.7562\n",
            "Epoch 54/100\n",
            "2/2 [==============================] - 0s 6ms/step - loss: 14.2977 - mae: 14.2977\n",
            "Epoch 55/100\n",
            "2/2 [==============================] - 0s 6ms/step - loss: 23.5370 - mae: 23.5370\n",
            "Epoch 56/100\n",
            "2/2 [==============================] - 0s 6ms/step - loss: 13.3691 - mae: 13.3691\n",
            "Epoch 57/100\n",
            "2/2 [==============================] - 0s 6ms/step - loss: 6.3706 - mae: 6.3706\n",
            "Epoch 58/100\n",
            "2/2 [==============================] - 0s 5ms/step - loss: 5.9765 - mae: 5.9765\n",
            "Epoch 59/100\n",
            "2/2 [==============================] - 0s 5ms/step - loss: 13.2622 - mae: 13.2622\n",
            "Epoch 60/100\n",
            "2/2 [==============================] - 0s 5ms/step - loss: 13.2073 - mae: 13.2073\n",
            "Epoch 61/100\n",
            "2/2 [==============================] - 0s 5ms/step - loss: 15.9229 - mae: 15.9229\n",
            "Epoch 62/100\n",
            "2/2 [==============================] - 0s 5ms/step - loss: 7.5687 - mae: 7.5687\n",
            "Epoch 63/100\n",
            "2/2 [==============================] - 0s 6ms/step - loss: 6.5599 - mae: 6.5599\n",
            "Epoch 64/100\n",
            "2/2 [==============================] - 0s 7ms/step - loss: 15.6429 - mae: 15.6429\n",
            "Epoch 65/100\n",
            "2/2 [==============================] - 0s 5ms/step - loss: 12.4262 - mae: 12.4262\n",
            "Epoch 66/100\n",
            "2/2 [==============================] - 0s 8ms/step - loss: 11.3451 - mae: 11.3451\n",
            "Epoch 67/100\n",
            "2/2 [==============================] - 0s 6ms/step - loss: 5.9988 - mae: 5.9988\n",
            "Epoch 68/100\n",
            "2/2 [==============================] - 0s 6ms/step - loss: 11.7063 - mae: 11.7063\n",
            "Epoch 69/100\n",
            "2/2 [==============================] - 0s 5ms/step - loss: 21.2788 - mae: 21.2788\n",
            "Epoch 70/100\n",
            "2/2 [==============================] - 0s 4ms/step - loss: 8.0830 - mae: 8.0830\n",
            "Epoch 71/100\n",
            "2/2 [==============================] - 0s 7ms/step - loss: 8.4334 - mae: 8.4334\n",
            "Epoch 72/100\n",
            "2/2 [==============================] - 0s 6ms/step - loss: 10.6131 - mae: 10.6131\n",
            "Epoch 73/100\n",
            "2/2 [==============================] - 0s 6ms/step - loss: 11.7788 - mae: 11.7788\n",
            "Epoch 74/100\n",
            "2/2 [==============================] - 0s 5ms/step - loss: 26.4460 - mae: 26.4460\n",
            "Epoch 75/100\n",
            "2/2 [==============================] - 0s 7ms/step - loss: 4.9574 - mae: 4.9574\n",
            "Epoch 76/100\n",
            "2/2 [==============================] - 0s 5ms/step - loss: 15.0466 - mae: 15.0466\n",
            "Epoch 77/100\n",
            "2/2 [==============================] - 0s 5ms/step - loss: 13.0873 - mae: 13.0873\n",
            "Epoch 78/100\n",
            "2/2 [==============================] - 0s 7ms/step - loss: 7.9623 - mae: 7.9623\n",
            "Epoch 79/100\n",
            "2/2 [==============================] - 0s 7ms/step - loss: 21.8326 - mae: 21.8326\n",
            "Epoch 80/100\n",
            "2/2 [==============================] - 0s 9ms/step - loss: 13.4087 - mae: 13.4087\n",
            "Epoch 81/100\n",
            "2/2 [==============================] - 0s 5ms/step - loss: 5.3192 - mae: 5.3192\n",
            "Epoch 82/100\n",
            "2/2 [==============================] - 0s 4ms/step - loss: 6.8730 - mae: 6.8730\n",
            "Epoch 83/100\n",
            "2/2 [==============================] - 0s 5ms/step - loss: 11.7992 - mae: 11.7992\n",
            "Epoch 84/100\n",
            "2/2 [==============================] - 0s 6ms/step - loss: 8.3296 - mae: 8.3296\n",
            "Epoch 85/100\n",
            "2/2 [==============================] - 0s 3ms/step - loss: 16.2279 - mae: 16.2279\n",
            "Epoch 86/100\n",
            "2/2 [==============================] - 0s 4ms/step - loss: 11.8007 - mae: 11.8007\n",
            "Epoch 87/100\n",
            "2/2 [==============================] - 0s 6ms/step - loss: 9.8681 - mae: 9.8681\n",
            "Epoch 88/100\n",
            "2/2 [==============================] - 0s 4ms/step - loss: 8.9641 - mae: 8.9641\n",
            "Epoch 89/100\n",
            "2/2 [==============================] - 0s 5ms/step - loss: 6.7158 - mae: 6.7158\n",
            "Epoch 90/100\n",
            "2/2 [==============================] - 0s 6ms/step - loss: 16.3038 - mae: 16.3038\n",
            "Epoch 91/100\n",
            "2/2 [==============================] - 0s 7ms/step - loss: 11.7185 - mae: 11.7185\n",
            "Epoch 92/100\n",
            "2/2 [==============================] - 0s 5ms/step - loss: 8.5317 - mae: 8.5317\n",
            "Epoch 93/100\n",
            "2/2 [==============================] - 0s 5ms/step - loss: 9.1947 - mae: 9.1947\n",
            "Epoch 94/100\n",
            "2/2 [==============================] - 0s 6ms/step - loss: 13.0506 - mae: 13.0506\n",
            "Epoch 95/100\n",
            "2/2 [==============================] - 0s 5ms/step - loss: 15.9540 - mae: 15.9540\n",
            "Epoch 96/100\n",
            "2/2 [==============================] - 0s 5ms/step - loss: 7.5734 - mae: 7.5734\n",
            "Epoch 97/100\n",
            "2/2 [==============================] - 0s 4ms/step - loss: 8.9518 - mae: 8.9518\n",
            "Epoch 98/100\n",
            "2/2 [==============================] - 0s 4ms/step - loss: 7.7399 - mae: 7.7399\n",
            "Epoch 99/100\n",
            "2/2 [==============================] - 0s 6ms/step - loss: 9.1221 - mae: 9.1221\n",
            "Epoch 100/100\n",
            "2/2 [==============================] - 0s 6ms/step - loss: 17.5636 - mae: 17.5636\n"
          ],
          "name": "stdout"
        },
        {
          "output_type": "execute_result",
          "data": {
            "text/plain": [
              "<tensorflow.python.keras.callbacks.History at 0x7ff23b701890>"
            ]
          },
          "metadata": {
            "tags": []
          },
          "execution_count": 53
        }
      ]
    },
    {
      "cell_type": "code",
      "metadata": {
        "colab": {
          "base_uri": "https://localhost:8080/",
          "height": 465
        },
        "id": "p6XV-B3HaCvn",
        "outputId": "4a994ad5-8cb5-4c1e-af2e-8e5085e32ecb"
      },
      "source": [
        "# make and plot predictions for model_2\r\n",
        "y_preds_2 = model_2.predict(X_test)\r\n",
        "plot_predictions(predictions=y_preds_2)"
      ],
      "execution_count": 54,
      "outputs": [
        {
          "output_type": "stream",
          "text": [
            "WARNING:tensorflow:6 out of the last 6 calls to <function Model.make_predict_function.<locals>.predict_function at 0x7ff23b648290> triggered tf.function retracing. Tracing is expensive and the excessive number of tracings could be due to (1) creating @tf.function repeatedly in a loop, (2) passing tensors with different shapes, (3) passing Python objects instead of tensors. For (1), please define your @tf.function outside of the loop. For (2), @tf.function has experimental_relax_shapes=True option that relaxes argument shapes that can avoid unnecessary retracing. For (3), please refer to https://www.tensorflow.org/guide/function#controlling_retracing and https://www.tensorflow.org/api_docs/python/tf/function for  more details.\n"
          ],
          "name": "stdout"
        },
        {
          "output_type": "display_data",
          "data": {
            "image/png": "[encoded data removed]",
            "text/plain": [
              "<Figure size 720x504 with 1 Axes>"
            ]
          },
          "metadata": {
            "tags": [],
            "needs_background": "light"
          }
        }
      ]
    },
    {
      "cell_type": "code",
      "metadata": {
        "colab": {
          "base_uri": "https://localhost:8080/"
        },
        "id": "O9UJjRf3aUrd",
        "outputId": "7842d9e3-5063-498d-b117-b532c8734b49"
      },
      "source": [
        "# calculate model_2 evaluation metrics\r\n",
        "mae_2 = mae(y_test, y_preds_2)\r\n",
        "mse_2 = mse(y_test, y_preds_2)\r\n",
        "mae_2 , mse_2"
      ],
      "execution_count": 55,
      "outputs": [
        {
          "output_type": "execute_result",
          "data": {
            "text/plain": [
              "(<tf.Tensor: shape=(), dtype=float32, numpy=3.5793526>,\n",
              " <tf.Tensor: shape=(), dtype=float32, numpy=13.517387>)"
            ]
          },
          "metadata": {
            "tags": []
          },
          "execution_count": 55
        }
      ]
    },
    {
      "cell_type": "code",
      "metadata": {
        "colab": {
          "base_uri": "https://localhost:8080/"
        },
        "id": "S01a0BwOaece",
        "outputId": "fe206baf-3109-4d17-881d-df5d33e5e474"
      },
      "source": [
        "# model_3\r\n",
        "tf.random.set_seed(42)\r\n",
        "\r\n",
        "model_3 = tf.keras.Sequential([\r\n",
        "   tf.keras.layers.Dense(100),\r\n",
        "   tf.keras.layers.Dense(1)\r\n",
        "])\r\n",
        "\r\n",
        "model_3.compile(loss=tf.keras.losses.mae,\r\n",
        "                optimizer=tf.keras.optimizers.SGD(),\r\n",
        "                metrics=[\"mse\"])\r\n",
        "\r\n",
        "model_3.fit(X_train, y_train, epochs= 500)"
      ],
      "execution_count": 56,
      "outputs": [
        {
          "output_type": "stream",
          "text": [
            "Epoch 1/500\n",
            "2/2 [==============================] - 0s 5ms/step - loss: 36.1357 - mse: 1790.5920\n",
            "Epoch 2/500\n",
            "2/2 [==============================] - 0s 5ms/step - loss: 28.6832 - mse: 1071.8060\n",
            "Epoch 3/500\n",
            "2/2 [==============================] - 0s 6ms/step - loss: 35.1592 - mse: 1806.4852\n",
            "Epoch 4/500\n",
            "2/2 [==============================] - 0s 6ms/step - loss: 31.1747 - mse: 1441.6995\n",
            "Epoch 5/500\n",
            "2/2 [==============================] - 0s 4ms/step - loss: 15.3029 - mse: 301.4039\n",
            "Epoch 6/500\n",
            "2/2 [==============================] - 0s 6ms/step - loss: 12.4819 - mse: 195.6678\n",
            "Epoch 7/500\n",
            "2/2 [==============================] - 0s 6ms/step - loss: 11.5700 - mse: 157.7617\n",
            "Epoch 8/500\n",
            "2/2 [==============================] - 0s 3ms/step - loss: 11.6741 - mse: 192.9650\n",
            "Epoch 9/500\n",
            "2/2 [==============================] - 0s 4ms/step - loss: 44.5520 - mse: 3088.6756\n",
            "Epoch 10/500\n",
            "2/2 [==============================] - 0s 5ms/step - loss: 30.1897 - mse: 1284.1386\n",
            "Epoch 11/500\n",
            "2/2 [==============================] - 0s 6ms/step - loss: 7.8878 - mse: 87.1441\n",
            "Epoch 12/500\n",
            "2/2 [==============================] - 0s 6ms/step - loss: 28.9360 - mse: 1153.0174\n",
            "Epoch 13/500\n",
            "2/2 [==============================] - 0s 5ms/step - loss: 11.1269 - mse: 133.2555\n",
            "Epoch 14/500\n",
            "2/2 [==============================] - 0s 6ms/step - loss: 31.4812 - mse: 1565.7952\n",
            "Epoch 15/500\n",
            "2/2 [==============================] - 0s 4ms/step - loss: 20.0533 - mse: 569.3388\n",
            "Epoch 16/500\n",
            "2/2 [==============================] - 0s 4ms/step - loss: 9.4871 - mse: 110.4786\n",
            "Epoch 17/500\n",
            "2/2 [==============================] - 0s 6ms/step - loss: 17.4793 - mse: 408.5581\n",
            "Epoch 18/500\n",
            "2/2 [==============================] - 0s 6ms/step - loss: 14.5285 - mse: 334.9452\n",
            "Epoch 19/500\n",
            "2/2 [==============================] - 0s 8ms/step - loss: 14.5828 - mse: 332.3865\n",
            "Epoch 20/500\n",
            "2/2 [==============================] - 0s 6ms/step - loss: 9.7536 - mse: 124.8769\n",
            "Epoch 21/500\n",
            "2/2 [==============================] - 0s 5ms/step - loss: 14.9297 - mse: 306.3119\n",
            "Epoch 22/500\n",
            "2/2 [==============================] - 0s 10ms/step - loss: 15.4071 - mse: 325.1939\n",
            "Epoch 23/500\n",
            "2/2 [==============================] - 0s 8ms/step - loss: 8.8121 - mse: 110.1069\n",
            "Epoch 24/500\n",
            "2/2 [==============================] - 0s 6ms/step - loss: 17.8622 - mse: 432.9395\n",
            "Epoch 25/500\n",
            "2/2 [==============================] - 0s 6ms/step - loss: 16.0735 - mse: 342.2516\n",
            "Epoch 26/500\n",
            "2/2 [==============================] - 0s 8ms/step - loss: 21.8674 - mse: 691.8750\n",
            "Epoch 27/500\n",
            "2/2 [==============================] - 0s 10ms/step - loss: 26.8367 - mse: 1118.3535\n",
            "Epoch 28/500\n",
            "2/2 [==============================] - 0s 6ms/step - loss: 18.7607 - mse: 555.4367\n",
            "Epoch 29/500\n",
            "2/2 [==============================] - 0s 6ms/step - loss: 9.1186 - mse: 92.8301\n",
            "Epoch 30/500\n",
            "2/2 [==============================] - 0s 6ms/step - loss: 31.0564 - mse: 1642.9309\n",
            "Epoch 31/500\n",
            "2/2 [==============================] - 0s 5ms/step - loss: 56.6024 - mse: 5398.7529\n",
            "Epoch 32/500\n",
            "2/2 [==============================] - 0s 6ms/step - loss: 12.2464 - mse: 218.1194\n",
            "Epoch 33/500\n",
            "2/2 [==============================] - 0s 6ms/step - loss: 15.2539 - mse: 326.3653\n",
            "Epoch 34/500\n",
            "2/2 [==============================] - 0s 6ms/step - loss: 12.7632 - mse: 213.0451\n",
            "Epoch 35/500\n",
            "2/2 [==============================] - 0s 6ms/step - loss: 9.4476 - mse: 94.7425\n",
            "Epoch 36/500\n",
            "2/2 [==============================] - 0s 6ms/step - loss: 16.5592 - mse: 399.7987\n",
            "Epoch 37/500\n",
            "2/2 [==============================] - 0s 7ms/step - loss: 10.5013 - mse: 169.6065\n",
            "Epoch 38/500\n",
            "2/2 [==============================] - 0s 8ms/step - loss: 18.8123 - mse: 461.9648\n",
            "Epoch 39/500\n",
            "2/2 [==============================] - 0s 6ms/step - loss: 20.1521 - mse: 571.5122\n",
            "Epoch 40/500\n",
            "2/2 [==============================] - 0s 6ms/step - loss: 21.5377 - mse: 657.1336\n",
            "Epoch 41/500\n",
            "2/2 [==============================] - 0s 6ms/step - loss: 14.5075 - mse: 265.0022\n",
            "Epoch 42/500\n",
            "2/2 [==============================] - 0s 6ms/step - loss: 12.2549 - mse: 186.2386\n",
            "Epoch 43/500\n",
            "2/2 [==============================] - 0s 7ms/step - loss: 11.0847 - mse: 173.3646\n",
            "Epoch 44/500\n",
            "2/2 [==============================] - 0s 6ms/step - loss: 23.4602 - mse: 860.0264\n",
            "Epoch 45/500\n",
            "2/2 [==============================] - 0s 5ms/step - loss: 9.9080 - mse: 112.9703\n",
            "Epoch 46/500\n",
            "2/2 [==============================] - 0s 6ms/step - loss: 11.9740 - mse: 185.4658\n",
            "Epoch 47/500\n",
            "2/2 [==============================] - 0s 6ms/step - loss: 9.0901 - mse: 133.0376\n",
            "Epoch 48/500\n",
            "2/2 [==============================] - 0s 7ms/step - loss: 17.9216 - mse: 430.1202\n",
            "Epoch 49/500\n",
            "2/2 [==============================] - 0s 8ms/step - loss: 9.5142 - mse: 96.0595\n",
            "Epoch 50/500\n",
            "2/2 [==============================] - 0s 4ms/step - loss: 13.7316 - mse: 253.4352\n",
            "Epoch 51/500\n",
            "2/2 [==============================] - 0s 5ms/step - loss: 11.2688 - mse: 144.2273\n",
            "Epoch 52/500\n",
            "2/2 [==============================] - 0s 7ms/step - loss: 32.0194 - mse: 1715.2751\n",
            "Epoch 53/500\n",
            "2/2 [==============================] - 0s 9ms/step - loss: 14.0536 - mse: 297.1249\n",
            "Epoch 54/500\n",
            "2/2 [==============================] - 0s 4ms/step - loss: 24.1189 - mse: 881.4459\n",
            "Epoch 55/500\n",
            "2/2 [==============================] - 0s 5ms/step - loss: 25.1337 - mse: 951.7667\n",
            "Epoch 56/500\n",
            "2/2 [==============================] - 0s 6ms/step - loss: 10.5500 - mse: 141.4002\n",
            "Epoch 57/500\n",
            "2/2 [==============================] - 0s 5ms/step - loss: 13.1292 - mse: 216.5981\n",
            "Epoch 58/500\n",
            "2/2 [==============================] - 0s 7ms/step - loss: 9.8705 - mse: 105.3210\n",
            "Epoch 59/500\n",
            "2/2 [==============================] - 0s 6ms/step - loss: 13.8925 - mse: 274.4648\n",
            "Epoch 60/500\n",
            "2/2 [==============================] - 0s 6ms/step - loss: 9.6587 - mse: 106.1825\n",
            "Epoch 61/500\n",
            "2/2 [==============================] - 0s 6ms/step - loss: 14.6394 - mse: 299.2581\n",
            "Epoch 62/500\n",
            "2/2 [==============================] - 0s 6ms/step - loss: 12.0522 - mse: 198.1097\n",
            "Epoch 63/500\n",
            "2/2 [==============================] - 0s 5ms/step - loss: 10.5243 - mse: 140.7756\n",
            "Epoch 64/500\n",
            "2/2 [==============================] - 0s 7ms/step - loss: 24.2015 - mse: 863.0185\n",
            "Epoch 65/500\n",
            "2/2 [==============================] - 0s 6ms/step - loss: 10.5040 - mse: 130.2524\n",
            "Epoch 66/500\n",
            "2/2 [==============================] - 0s 5ms/step - loss: 21.0695 - mse: 658.1458\n",
            "Epoch 67/500\n",
            "2/2 [==============================] - 0s 9ms/step - loss: 10.3085 - mse: 120.0998\n",
            "Epoch 68/500\n",
            "2/2 [==============================] - 0s 7ms/step - loss: 14.0273 - mse: 298.0461\n",
            "Epoch 69/500\n",
            "2/2 [==============================] - 0s 10ms/step - loss: 10.3475 - mse: 119.3578\n",
            "Epoch 70/500\n",
            "2/2 [==============================] - 0s 6ms/step - loss: 12.1722 - mse: 183.5903\n",
            "Epoch 71/500\n",
            "2/2 [==============================] - 0s 5ms/step - loss: 12.8392 - mse: 217.5814\n",
            "Epoch 72/500\n",
            "2/2 [==============================] - 0s 7ms/step - loss: 19.2487 - mse: 530.5543\n",
            "Epoch 73/500\n",
            "2/2 [==============================] - 0s 6ms/step - loss: 9.8860 - mse: 149.1518\n",
            "Epoch 74/500\n",
            "2/2 [==============================] - 0s 5ms/step - loss: 21.9055 - mse: 746.5304\n",
            "Epoch 75/500\n",
            "2/2 [==============================] - 0s 5ms/step - loss: 7.0247 - mse: 68.9702\n",
            "Epoch 76/500\n",
            "2/2 [==============================] - 0s 5ms/step - loss: 8.9649 - mse: 130.2454\n",
            "Epoch 77/500\n",
            "2/2 [==============================] - 0s 6ms/step - loss: 23.3288 - mse: 783.9074\n",
            "Epoch 78/500\n",
            "2/2 [==============================] - 0s 6ms/step - loss: 17.3408 - mse: 462.7878\n",
            "Epoch 79/500\n",
            "2/2 [==============================] - 0s 6ms/step - loss: 14.3072 - mse: 303.5016\n",
            "Epoch 80/500\n",
            "2/2 [==============================] - 0s 5ms/step - loss: 25.3408 - mse: 979.7466\n",
            "Epoch 81/500\n",
            "2/2 [==============================] - 0s 6ms/step - loss: 10.7291 - mse: 132.5033\n",
            "Epoch 82/500\n",
            "2/2 [==============================] - 0s 5ms/step - loss: 12.5919 - mse: 221.9308\n",
            "Epoch 83/500\n",
            "2/2 [==============================] - 0s 6ms/step - loss: 18.1368 - mse: 425.6150\n",
            "Epoch 84/500\n",
            "2/2 [==============================] - 0s 5ms/step - loss: 7.0976 - mse: 70.8466\n",
            "Epoch 85/500\n",
            "2/2 [==============================] - 0s 5ms/step - loss: 15.3454 - mse: 329.0265\n",
            "Epoch 86/500\n",
            "2/2 [==============================] - 0s 6ms/step - loss: 15.3322 - mse: 317.2887\n",
            "Epoch 87/500\n",
            "2/2 [==============================] - 0s 8ms/step - loss: 20.0914 - mse: 565.5160\n",
            "Epoch 88/500\n",
            "2/2 [==============================] - 0s 6ms/step - loss: 30.0676 - mse: 1294.5666\n",
            "Epoch 89/500\n",
            "2/2 [==============================] - 0s 7ms/step - loss: 9.5724 - mse: 107.1177\n",
            "Epoch 90/500\n",
            "2/2 [==============================] - 0s 5ms/step - loss: 20.9821 - mse: 638.9533\n",
            "Epoch 91/500\n",
            "2/2 [==============================] - 0s 4ms/step - loss: 9.4173 - mse: 128.9105\n",
            "Epoch 92/500\n",
            "2/2 [==============================] - 0s 5ms/step - loss: 17.7060 - mse: 437.2524\n",
            "Epoch 93/500\n",
            "2/2 [==============================] - 0s 6ms/step - loss: 6.6040 - mse: 62.4655\n",
            "Epoch 94/500\n",
            "2/2 [==============================] - 0s 5ms/step - loss: 10.9539 - mse: 146.9801\n",
            "Epoch 95/500\n",
            "2/2 [==============================] - 0s 4ms/step - loss: 24.8773 - mse: 929.0734\n",
            "Epoch 96/500\n",
            "2/2 [==============================] - 0s 5ms/step - loss: 9.6266 - mse: 134.5879\n",
            "Epoch 97/500\n",
            "2/2 [==============================] - 0s 5ms/step - loss: 15.2509 - mse: 349.8335\n",
            "Epoch 98/500\n",
            "2/2 [==============================] - 0s 5ms/step - loss: 7.6161 - mse: 92.7345\n",
            "Epoch 99/500\n",
            "2/2 [==============================] - 0s 5ms/step - loss: 15.9422 - mse: 365.4539\n",
            "Epoch 100/500\n",
            "2/2 [==============================] - 0s 5ms/step - loss: 13.9210 - mse: 281.5352\n",
            "Epoch 101/500\n",
            "2/2 [==============================] - 0s 4ms/step - loss: 15.0001 - mse: 336.7303\n",
            "Epoch 102/500\n",
            "2/2 [==============================] - 0s 5ms/step - loss: 9.9592 - mse: 129.3132\n",
            "Epoch 103/500\n",
            "2/2 [==============================] - 0s 5ms/step - loss: 8.8129 - mse: 86.0118\n",
            "Epoch 104/500\n",
            "2/2 [==============================] - 0s 6ms/step - loss: 24.1912 - mse: 877.3261\n",
            "Epoch 105/500\n",
            "2/2 [==============================] - 0s 6ms/step - loss: 10.9389 - mse: 163.1235\n",
            "Epoch 106/500\n",
            "2/2 [==============================] - 0s 5ms/step - loss: 11.2538 - mse: 177.2132\n",
            "Epoch 107/500\n",
            "2/2 [==============================] - 0s 8ms/step - loss: 21.7754 - mse: 709.9954\n",
            "Epoch 108/500\n",
            "2/2 [==============================] - 0s 5ms/step - loss: 6.5940 - mse: 60.8081\n",
            "Epoch 109/500\n",
            "2/2 [==============================] - 0s 6ms/step - loss: 13.0461 - mse: 239.0167\n",
            "Epoch 110/500\n",
            "2/2 [==============================] - 0s 7ms/step - loss: 7.5618 - mse: 98.8463\n",
            "Epoch 111/500\n",
            "2/2 [==============================] - 0s 6ms/step - loss: 16.4027 - mse: 372.4568\n",
            "Epoch 112/500\n",
            "2/2 [==============================] - 0s 7ms/step - loss: 8.6277 - mse: 85.0903\n",
            "Epoch 113/500\n",
            "2/2 [==============================] - 0s 6ms/step - loss: 22.8385 - mse: 761.2647\n",
            "Epoch 114/500\n",
            "2/2 [==============================] - 0s 5ms/step - loss: 18.9659 - mse: 550.5973\n",
            "Epoch 115/500\n",
            "2/2 [==============================] - 0s 7ms/step - loss: 10.8583 - mse: 146.0709\n",
            "Epoch 116/500\n",
            "2/2 [==============================] - 0s 4ms/step - loss: 23.2704 - mse: 791.9976\n",
            "Epoch 117/500\n",
            "2/2 [==============================] - 0s 6ms/step - loss: 8.7560 - mse: 102.6735\n",
            "Epoch 118/500\n",
            "2/2 [==============================] - 0s 6ms/step - loss: 10.2024 - mse: 123.5001\n",
            "Epoch 119/500\n",
            "2/2 [==============================] - 0s 5ms/step - loss: 8.3054 - mse: 80.2363\n",
            "Epoch 120/500\n",
            "2/2 [==============================] - 0s 5ms/step - loss: 30.3544 - mse: 1355.2937\n",
            "Epoch 121/500\n",
            "2/2 [==============================] - 0s 5ms/step - loss: 8.1288 - mse: 69.7889\n",
            "Epoch 122/500\n",
            "2/2 [==============================] - 0s 6ms/step - loss: 29.1058 - mse: 1282.4656\n",
            "Epoch 123/500\n",
            "2/2 [==============================] - 0s 5ms/step - loss: 33.8246 - mse: 1654.7524\n",
            "Epoch 124/500\n",
            "2/2 [==============================] - 0s 5ms/step - loss: 19.3811 - mse: 559.4654\n",
            "Epoch 125/500\n",
            "2/2 [==============================] - 0s 6ms/step - loss: 8.6082 - mse: 118.3514\n",
            "Epoch 126/500\n",
            "2/2 [==============================] - 0s 5ms/step - loss: 8.9887 - mse: 95.6027\n",
            "Epoch 127/500\n",
            "2/2 [==============================] - 0s 4ms/step - loss: 12.5691 - mse: 249.7398\n",
            "Epoch 128/500\n",
            "2/2 [==============================] - 0s 5ms/step - loss: 12.4338 - mse: 214.4644\n",
            "Epoch 129/500\n",
            "2/2 [==============================] - 0s 6ms/step - loss: 13.8248 - mse: 307.0085\n",
            "Epoch 130/500\n",
            "2/2 [==============================] - 0s 7ms/step - loss: 9.9164 - mse: 113.2297\n",
            "Epoch 131/500\n",
            "2/2 [==============================] - 0s 5ms/step - loss: 22.1195 - mse: 735.6055\n",
            "Epoch 132/500\n",
            "2/2 [==============================] - 0s 5ms/step - loss: 7.8204 - mse: 81.4867\n",
            "Epoch 133/500\n",
            "2/2 [==============================] - 0s 7ms/step - loss: 9.3201 - mse: 118.7486\n",
            "Epoch 134/500\n",
            "2/2 [==============================] - 0s 6ms/step - loss: 16.6315 - mse: 406.5121\n",
            "Epoch 135/500\n",
            "2/2 [==============================] - 0s 4ms/step - loss: 9.8925 - mse: 123.4681\n",
            "Epoch 136/500\n",
            "2/2 [==============================] - 0s 7ms/step - loss: 18.1475 - mse: 477.6972\n",
            "Epoch 137/500\n",
            "2/2 [==============================] - 0s 5ms/step - loss: 23.3849 - mse: 749.2298\n",
            "Epoch 138/500\n",
            "2/2 [==============================] - 0s 5ms/step - loss: 8.3733 - mse: 108.6960\n",
            "Epoch 139/500\n",
            "2/2 [==============================] - 0s 4ms/step - loss: 8.1319 - mse: 111.5089\n",
            "Epoch 140/500\n",
            "2/2 [==============================] - 0s 11ms/step - loss: 16.4116 - mse: 390.8723\n",
            "Epoch 141/500\n",
            "2/2 [==============================] - 0s 5ms/step - loss: 8.3463 - mse: 75.5533\n",
            "Epoch 142/500\n",
            "2/2 [==============================] - 0s 5ms/step - loss: 35.9386 - mse: 2158.4585\n",
            "Epoch 143/500\n",
            "2/2 [==============================] - 0s 5ms/step - loss: 23.2608 - mse: 763.6584\n",
            "Epoch 144/500\n",
            "2/2 [==============================] - 0s 6ms/step - loss: 9.9100 - mse: 175.1829\n",
            "Epoch 145/500\n",
            "2/2 [==============================] - 0s 5ms/step - loss: 26.2217 - mse: 903.0545\n",
            "Epoch 146/500\n",
            "2/2 [==============================] - 0s 5ms/step - loss: 11.0539 - mse: 160.9302\n",
            "Epoch 147/500\n",
            "2/2 [==============================] - 0s 5ms/step - loss: 13.0188 - mse: 246.1787\n",
            "Epoch 148/500\n",
            "2/2 [==============================] - 0s 5ms/step - loss: 17.6754 - mse: 419.4213\n",
            "Epoch 149/500\n",
            "2/2 [==============================] - 0s 6ms/step - loss: 8.7521 - mse: 92.5898\n",
            "Epoch 150/500\n",
            "2/2 [==============================] - 0s 5ms/step - loss: 8.0369 - mse: 71.8953\n",
            "Epoch 151/500\n",
            "2/2 [==============================] - 0s 5ms/step - loss: 16.0942 - mse: 377.2243\n",
            "Epoch 152/500\n",
            "2/2 [==============================] - 0s 5ms/step - loss: 9.2214 - mse: 101.8663\n",
            "Epoch 153/500\n",
            "2/2 [==============================] - 0s 4ms/step - loss: 27.5952 - mse: 1072.7562\n",
            "Epoch 154/500\n",
            "2/2 [==============================] - 0s 5ms/step - loss: 11.0410 - mse: 198.1425\n",
            "Epoch 155/500\n",
            "2/2 [==============================] - 0s 5ms/step - loss: 15.8568 - mse: 357.3693\n",
            "Epoch 156/500\n",
            "2/2 [==============================] - 0s 7ms/step - loss: 17.7018 - mse: 457.5759\n",
            "Epoch 157/500\n",
            "2/2 [==============================] - 0s 8ms/step - loss: 19.4986 - mse: 586.1379\n",
            "Epoch 158/500\n",
            "2/2 [==============================] - 0s 6ms/step - loss: 7.4474 - mse: 100.8414\n",
            "Epoch 159/500\n",
            "2/2 [==============================] - 0s 6ms/step - loss: 7.4014 - mse: 91.6197\n",
            "Epoch 160/500\n",
            "2/2 [==============================] - 0s 4ms/step - loss: 21.9326 - mse: 705.7006\n",
            "Epoch 161/500\n",
            "2/2 [==============================] - 0s 6ms/step - loss: 24.1674 - mse: 885.7732\n",
            "Epoch 162/500\n",
            "2/2 [==============================] - 0s 6ms/step - loss: 18.3359 - mse: 490.2997\n",
            "Epoch 163/500\n",
            "2/2 [==============================] - 0s 5ms/step - loss: 17.1607 - mse: 431.2214\n",
            "Epoch 164/500\n",
            "2/2 [==============================] - 0s 5ms/step - loss: 11.0032 - mse: 173.1307\n",
            "Epoch 165/500\n",
            "2/2 [==============================] - 0s 5ms/step - loss: 8.7401 - mse: 143.6378\n",
            "Epoch 166/500\n",
            "2/2 [==============================] - 0s 7ms/step - loss: 22.6342 - mse: 729.8561\n",
            "Epoch 167/500\n",
            "2/2 [==============================] - 0s 5ms/step - loss: 27.0445 - mse: 1101.4062\n",
            "Epoch 168/500\n",
            "2/2 [==============================] - 0s 8ms/step - loss: 9.3062 - mse: 102.3677\n",
            "Epoch 169/500\n",
            "2/2 [==============================] - 0s 11ms/step - loss: 23.2248 - mse: 826.0935\n",
            "Epoch 170/500\n",
            "2/2 [==============================] - 0s 6ms/step - loss: 9.3011 - mse: 158.4394\n",
            "Epoch 171/500\n",
            "2/2 [==============================] - 0s 6ms/step - loss: 18.9074 - mse: 537.4945\n",
            "Epoch 172/500\n",
            "2/2 [==============================] - 0s 5ms/step - loss: 30.0386 - mse: 1393.8868\n",
            "Epoch 173/500\n",
            "2/2 [==============================] - 0s 6ms/step - loss: 16.5356 - mse: 426.4622\n",
            "Epoch 174/500\n",
            "2/2 [==============================] - 0s 7ms/step - loss: 10.2796 - mse: 165.9842\n",
            "Epoch 175/500\n",
            "2/2 [==============================] - 0s 5ms/step - loss: 28.7992 - mse: 1165.4049\n",
            "Epoch 176/500\n",
            "2/2 [==============================] - 0s 7ms/step - loss: 8.1347 - mse: 72.7701\n",
            "Epoch 177/500\n",
            "2/2 [==============================] - 0s 6ms/step - loss: 8.9001 - mse: 96.1488\n",
            "Epoch 178/500\n",
            "2/2 [==============================] - 0s 5ms/step - loss: 17.8995 - mse: 456.7665\n",
            "Epoch 179/500\n",
            "2/2 [==============================] - 0s 5ms/step - loss: 10.4354 - mse: 144.0765\n",
            "Epoch 180/500\n",
            "2/2 [==============================] - 0s 6ms/step - loss: 7.2938 - mse: 82.4544\n",
            "Epoch 181/500\n",
            "2/2 [==============================] - 0s 5ms/step - loss: 17.0311 - mse: 426.7288\n",
            "Epoch 182/500\n",
            "2/2 [==============================] - 0s 5ms/step - loss: 10.4136 - mse: 137.0496\n",
            "Epoch 183/500\n",
            "2/2 [==============================] - 0s 5ms/step - loss: 11.1668 - mse: 188.3332\n",
            "Epoch 184/500\n",
            "2/2 [==============================] - 0s 5ms/step - loss: 31.6474 - mse: 1471.8138\n",
            "Epoch 185/500\n",
            "2/2 [==============================] - 0s 6ms/step - loss: 7.0314 - mse: 83.9145\n",
            "Epoch 186/500\n",
            "2/2 [==============================] - 0s 5ms/step - loss: 16.6929 - mse: 393.3193\n",
            "Epoch 187/500\n",
            "2/2 [==============================] - 0s 8ms/step - loss: 8.1276 - mse: 74.6547\n",
            "Epoch 188/500\n",
            "2/2 [==============================] - 0s 4ms/step - loss: 29.6711 - mse: 1240.1305\n",
            "Epoch 189/500\n",
            "2/2 [==============================] - 0s 11ms/step - loss: 12.3932 - mse: 232.1858\n",
            "Epoch 190/500\n",
            "2/2 [==============================] - 0s 6ms/step - loss: 19.3165 - mse: 552.4204\n",
            "Epoch 191/500\n",
            "2/2 [==============================] - 0s 6ms/step - loss: 13.9218 - mse: 268.0465\n",
            "Epoch 192/500\n",
            "2/2 [==============================] - 0s 6ms/step - loss: 12.9533 - mse: 232.0652\n",
            "Epoch 193/500\n",
            "2/2 [==============================] - 0s 6ms/step - loss: 29.5119 - mse: 1195.4724\n",
            "Epoch 194/500\n",
            "2/2 [==============================] - 0s 6ms/step - loss: 6.6516 - mse: 66.0368\n",
            "Epoch 195/500\n",
            "2/2 [==============================] - 0s 6ms/step - loss: 6.6823 - mse: 66.4147\n",
            "Epoch 196/500\n",
            "2/2 [==============================] - 0s 5ms/step - loss: 22.8786 - mse: 757.4367\n",
            "Epoch 197/500\n",
            "2/2 [==============================] - 0s 5ms/step - loss: 20.6886 - mse: 643.8898\n",
            "Epoch 198/500\n",
            "2/2 [==============================] - 0s 6ms/step - loss: 11.8662 - mse: 215.3156\n",
            "Epoch 199/500\n",
            "2/2 [==============================] - 0s 8ms/step - loss: 17.3678 - mse: 440.7156\n",
            "Epoch 200/500\n",
            "2/2 [==============================] - 0s 4ms/step - loss: 13.4391 - mse: 271.1381\n",
            "Epoch 201/500\n",
            "2/2 [==============================] - 0s 6ms/step - loss: 5.6218 - mse: 43.4910\n",
            "Epoch 202/500\n",
            "2/2 [==============================] - 0s 9ms/step - loss: 13.0567 - mse: 264.3956\n",
            "Epoch 203/500\n",
            "2/2 [==============================] - 0s 6ms/step - loss: 8.3933 - mse: 107.5616\n",
            "Epoch 204/500\n",
            "2/2 [==============================] - 0s 5ms/step - loss: 20.9215 - mse: 654.3099\n",
            "Epoch 205/500\n",
            "2/2 [==============================] - 0s 6ms/step - loss: 8.7261 - mse: 102.2622\n",
            "Epoch 206/500\n",
            "2/2 [==============================] - 0s 6ms/step - loss: 11.0254 - mse: 172.1827\n",
            "Epoch 207/500\n",
            "2/2 [==============================] - 0s 7ms/step - loss: 13.7920 - mse: 296.2200\n",
            "Epoch 208/500\n",
            "2/2 [==============================] - 0s 5ms/step - loss: 13.9216 - mse: 285.3890\n",
            "Epoch 209/500\n",
            "2/2 [==============================] - 0s 6ms/step - loss: 13.9970 - mse: 301.5523\n",
            "Epoch 210/500\n",
            "2/2 [==============================] - 0s 6ms/step - loss: 17.5477 - mse: 454.0991\n",
            "Epoch 211/500\n",
            "2/2 [==============================] - 0s 6ms/step - loss: 8.8369 - mse: 113.1974\n",
            "Epoch 212/500\n",
            "2/2 [==============================] - 0s 5ms/step - loss: 18.5207 - mse: 509.5014\n",
            "Epoch 213/500\n",
            "2/2 [==============================] - 0s 6ms/step - loss: 15.1040 - mse: 307.9940\n",
            "Epoch 214/500\n",
            "2/2 [==============================] - 0s 8ms/step - loss: 14.8406 - mse: 303.5862\n",
            "Epoch 215/500\n",
            "2/2 [==============================] - 0s 6ms/step - loss: 24.7106 - mse: 862.2126\n",
            "Epoch 216/500\n",
            "2/2 [==============================] - 0s 6ms/step - loss: 12.7354 - mse: 252.1772\n",
            "Epoch 217/500\n",
            "2/2 [==============================] - 0s 4ms/step - loss: 9.7489 - mse: 128.4488\n",
            "Epoch 218/500\n",
            "2/2 [==============================] - 0s 7ms/step - loss: 12.4579 - mse: 201.5207\n",
            "Epoch 219/500\n",
            "2/2 [==============================] - 0s 5ms/step - loss: 5.2882 - mse: 39.6275\n",
            "Epoch 220/500\n",
            "2/2 [==============================] - 0s 5ms/step - loss: 14.9115 - mse: 294.5578\n",
            "Epoch 221/500\n",
            "2/2 [==============================] - 0s 8ms/step - loss: 33.0493 - mse: 1527.1384\n",
            "Epoch 222/500\n",
            "2/2 [==============================] - 0s 5ms/step - loss: 13.6497 - mse: 229.8367\n",
            "Epoch 223/500\n",
            "2/2 [==============================] - 0s 4ms/step - loss: 10.6684 - mse: 165.6360\n",
            "Epoch 224/500\n",
            "2/2 [==============================] - 0s 5ms/step - loss: 15.6633 - mse: 358.1774\n",
            "Epoch 225/500\n",
            "2/2 [==============================] - 0s 8ms/step - loss: 17.3282 - mse: 388.7674\n",
            "Epoch 226/500\n",
            "2/2 [==============================] - 0s 5ms/step - loss: 16.8256 - mse: 410.8803\n",
            "Epoch 227/500\n",
            "2/2 [==============================] - 0s 6ms/step - loss: 17.1887 - mse: 409.4672\n",
            "Epoch 228/500\n",
            "2/2 [==============================] - 0s 6ms/step - loss: 9.0564 - mse: 148.3561\n",
            "Epoch 229/500\n",
            "2/2 [==============================] - 0s 12ms/step - loss: 18.6849 - mse: 475.2243\n",
            "Epoch 230/500\n",
            "2/2 [==============================] - 0s 8ms/step - loss: 15.1252 - mse: 298.6621\n",
            "Epoch 231/500\n",
            "2/2 [==============================] - 0s 5ms/step - loss: 21.9793 - mse: 702.2427\n",
            "Epoch 232/500\n",
            "2/2 [==============================] - 0s 7ms/step - loss: 20.2183 - mse: 585.7568\n",
            "Epoch 233/500\n",
            "2/2 [==============================] - 0s 6ms/step - loss: 14.4446 - mse: 312.2026\n",
            "Epoch 234/500\n",
            "2/2 [==============================] - 0s 6ms/step - loss: 6.7130 - mse: 57.0442\n",
            "Epoch 235/500\n",
            "2/2 [==============================] - 0s 6ms/step - loss: 15.1380 - mse: 325.8779\n",
            "Epoch 236/500\n",
            "2/2 [==============================] - 0s 6ms/step - loss: 6.3187 - mse: 59.2542\n",
            "Epoch 237/500\n",
            "2/2 [==============================] - 0s 8ms/step - loss: 7.7859 - mse: 88.7524\n",
            "Epoch 238/500\n",
            "2/2 [==============================] - 0s 4ms/step - loss: 7.1854 - mse: 70.9766\n",
            "Epoch 239/500\n",
            "2/2 [==============================] - 0s 6ms/step - loss: 15.1769 - mse: 352.2055\n",
            "Epoch 240/500\n",
            "2/2 [==============================] - 0s 4ms/step - loss: 8.2813 - mse: 88.5514\n",
            "Epoch 241/500\n",
            "2/2 [==============================] - 0s 5ms/step - loss: 12.5107 - mse: 239.3564\n",
            "Epoch 242/500\n",
            "2/2 [==============================] - 0s 6ms/step - loss: 8.5642 - mse: 96.7555\n",
            "Epoch 243/500\n",
            "2/2 [==============================] - 0s 5ms/step - loss: 19.5610 - mse: 578.0054\n",
            "Epoch 244/500\n",
            "2/2 [==============================] - 0s 4ms/step - loss: 13.6588 - mse: 258.1657\n",
            "Epoch 245/500\n",
            "2/2 [==============================] - 0s 4ms/step - loss: 14.7694 - mse: 290.1081\n",
            "Epoch 246/500\n",
            "2/2 [==============================] - 0s 12ms/step - loss: 16.3473 - mse: 386.5868\n",
            "Epoch 247/500\n",
            "2/2 [==============================] - 0s 9ms/step - loss: 18.1499 - mse: 435.3941\n",
            "Epoch 248/500\n",
            "2/2 [==============================] - 0s 8ms/step - loss: 12.5681 - mse: 224.7567\n",
            "Epoch 249/500\n",
            "2/2 [==============================] - 0s 7ms/step - loss: 14.5154 - mse: 287.7242\n",
            "Epoch 250/500\n",
            "2/2 [==============================] - 0s 5ms/step - loss: 29.1652 - mse: 1173.8817\n",
            "Epoch 251/500\n",
            "2/2 [==============================] - 0s 4ms/step - loss: 6.9848 - mse: 58.1894\n",
            "Epoch 252/500\n",
            "2/2 [==============================] - 0s 6ms/step - loss: 40.3436 - mse: 2600.0407\n",
            "Epoch 253/500\n",
            "2/2 [==============================] - 0s 6ms/step - loss: 23.2501 - mse: 763.3244\n",
            "Epoch 254/500\n",
            "2/2 [==============================] - 0s 5ms/step - loss: 6.6543 - mse: 63.7351\n",
            "Epoch 255/500\n",
            "2/2 [==============================] - 0s 6ms/step - loss: 24.9054 - mse: 909.6859\n",
            "Epoch 256/500\n",
            "2/2 [==============================] - 0s 7ms/step - loss: 11.5599 - mse: 191.3363\n",
            "Epoch 257/500\n",
            "2/2 [==============================] - 0s 5ms/step - loss: 10.0364 - mse: 145.6564\n",
            "Epoch 258/500\n",
            "2/2 [==============================] - 0s 6ms/step - loss: 13.5726 - mse: 282.2980\n",
            "Epoch 259/500\n",
            "2/2 [==============================] - 0s 6ms/step - loss: 10.5273 - mse: 165.9558\n",
            "Epoch 260/500\n",
            "2/2 [==============================] - 0s 6ms/step - loss: 32.9748 - mse: 1627.4714\n",
            "Epoch 261/500\n",
            "2/2 [==============================] - 0s 10ms/step - loss: 10.5607 - mse: 155.6666\n",
            "Epoch 262/500\n",
            "2/2 [==============================] - 0s 8ms/step - loss: 9.3387 - mse: 117.2873\n",
            "Epoch 263/500\n",
            "2/2 [==============================] - 0s 5ms/step - loss: 8.3636 - mse: 88.4534\n",
            "Epoch 264/500\n",
            "2/2 [==============================] - 0s 8ms/step - loss: 21.6865 - mse: 662.1793\n",
            "Epoch 265/500\n",
            "2/2 [==============================] - 0s 5ms/step - loss: 10.8774 - mse: 174.4010\n",
            "Epoch 266/500\n",
            "2/2 [==============================] - 0s 6ms/step - loss: 13.2048 - mse: 241.7133\n",
            "Epoch 267/500\n",
            "2/2 [==============================] - 0s 8ms/step - loss: 9.9386 - mse: 182.3310\n",
            "Epoch 268/500\n",
            "2/2 [==============================] - 0s 5ms/step - loss: 22.2331 - mse: 707.4889\n",
            "Epoch 269/500\n",
            "2/2 [==============================] - 0s 6ms/step - loss: 34.4137 - mse: 1730.4637\n",
            "Epoch 270/500\n",
            "2/2 [==============================] - 0s 5ms/step - loss: 9.3872 - mse: 120.6774\n",
            "Epoch 271/500\n",
            "2/2 [==============================] - 0s 9ms/step - loss: 6.8510 - mse: 87.5521\n",
            "Epoch 272/500\n",
            "2/2 [==============================] - 0s 5ms/step - loss: 29.2433 - mse: 1163.2333\n",
            "Epoch 273/500\n",
            "2/2 [==============================] - 0s 12ms/step - loss: 6.7664 - mse: 66.0400\n",
            "Epoch 274/500\n",
            "2/2 [==============================] - 0s 6ms/step - loss: 6.1858 - mse: 41.6935\n",
            "Epoch 275/500\n",
            "2/2 [==============================] - 0s 7ms/step - loss: 39.0795 - mse: 2271.8516\n",
            "Epoch 276/500\n",
            "2/2 [==============================] - 0s 8ms/step - loss: 7.4589 - mse: 83.7827\n",
            "Epoch 277/500\n",
            "2/2 [==============================] - 0s 6ms/step - loss: 28.5936 - mse: 1121.0003\n",
            "Epoch 278/500\n",
            "2/2 [==============================] - 0s 5ms/step - loss: 9.5323 - mse: 165.9740\n",
            "Epoch 279/500\n",
            "2/2 [==============================] - 0s 6ms/step - loss: 16.8651 - mse: 415.3885\n",
            "Epoch 280/500\n",
            "2/2 [==============================] - 0s 8ms/step - loss: 22.3898 - mse: 728.4798\n",
            "Epoch 281/500\n",
            "2/2 [==============================] - 0s 7ms/step - loss: 24.5959 - mse: 916.9707\n",
            "Epoch 282/500\n",
            "2/2 [==============================] - 0s 4ms/step - loss: 7.8798 - mse: 83.5381\n",
            "Epoch 283/500\n",
            "2/2 [==============================] - 0s 19ms/step - loss: 8.6156 - mse: 107.6623\n",
            "Epoch 284/500\n",
            "2/2 [==============================] - 0s 6ms/step - loss: 23.2329 - mse: 805.1017\n",
            "Epoch 285/500\n",
            "2/2 [==============================] - 0s 6ms/step - loss: 11.4441 - mse: 212.5643\n",
            "Epoch 286/500\n",
            "2/2 [==============================] - 0s 5ms/step - loss: 6.2820 - mse: 54.1244\n",
            "Epoch 287/500\n",
            "2/2 [==============================] - 0s 13ms/step - loss: 20.8023 - mse: 637.6874\n",
            "Epoch 288/500\n",
            "2/2 [==============================] - 0s 6ms/step - loss: 10.7917 - mse: 185.0203\n",
            "Epoch 289/500\n",
            "2/2 [==============================] - 0s 6ms/step - loss: 11.7532 - mse: 207.1477\n",
            "Epoch 290/500\n",
            "2/2 [==============================] - 0s 5ms/step - loss: 17.5727 - mse: 414.9740\n",
            "Epoch 291/500\n",
            "2/2 [==============================] - 0s 6ms/step - loss: 18.2692 - mse: 478.4735\n",
            "Epoch 292/500\n",
            "2/2 [==============================] - 0s 4ms/step - loss: 9.7718 - mse: 233.4854\n",
            "Epoch 293/500\n",
            "2/2 [==============================] - 0s 5ms/step - loss: 14.1762 - mse: 272.7503\n",
            "Epoch 294/500\n",
            "2/2 [==============================] - 0s 6ms/step - loss: 22.5357 - mse: 749.4111\n",
            "Epoch 295/500\n",
            "2/2 [==============================] - 0s 5ms/step - loss: 15.1697 - mse: 338.1675\n",
            "Epoch 296/500\n",
            "2/2 [==============================] - 0s 7ms/step - loss: 5.4010 - mse: 52.5765\n",
            "Epoch 297/500\n",
            "2/2 [==============================] - 0s 14ms/step - loss: 10.6383 - mse: 196.8694\n",
            "Epoch 298/500\n",
            "2/2 [==============================] - 0s 6ms/step - loss: 24.6851 - mse: 870.4115\n",
            "Epoch 299/500\n",
            "2/2 [==============================] - 0s 4ms/step - loss: 16.2548 - mse: 402.4168\n",
            "Epoch 300/500\n",
            "2/2 [==============================] - 0s 8ms/step - loss: 6.6769 - mse: 53.0705\n",
            "Epoch 301/500\n",
            "2/2 [==============================] - 0s 8ms/step - loss: 23.9486 - mse: 814.7306\n",
            "Epoch 302/500\n",
            "2/2 [==============================] - 0s 6ms/step - loss: 7.7059 - mse: 79.3980\n",
            "Epoch 303/500\n",
            "2/2 [==============================] - 0s 7ms/step - loss: 20.2100 - mse: 611.9752\n",
            "Epoch 304/500\n",
            "2/2 [==============================] - 0s 6ms/step - loss: 12.0005 - mse: 218.2852\n",
            "Epoch 305/500\n",
            "2/2 [==============================] - 0s 8ms/step - loss: 6.0982 - mse: 73.6809\n",
            "Epoch 306/500\n",
            "2/2 [==============================] - 0s 9ms/step - loss: 18.3046 - mse: 474.3863\n",
            "Epoch 307/500\n",
            "2/2 [==============================] - 0s 5ms/step - loss: 8.5066 - mse: 140.8282\n",
            "Epoch 308/500\n",
            "2/2 [==============================] - 0s 6ms/step - loss: 21.5251 - mse: 681.2715\n",
            "Epoch 309/500\n",
            "2/2 [==============================] - 0s 6ms/step - loss: 13.5984 - mse: 280.7948\n",
            "Epoch 310/500\n",
            "2/2 [==============================] - 0s 5ms/step - loss: 4.7932 - mse: 38.5716\n",
            "Epoch 311/500\n",
            "2/2 [==============================] - 0s 6ms/step - loss: 13.2917 - mse: 242.9369\n",
            "Epoch 312/500\n",
            "2/2 [==============================] - 0s 6ms/step - loss: 30.4869 - mse: 1300.2832\n",
            "Epoch 313/500\n",
            "2/2 [==============================] - 0s 7ms/step - loss: 5.9834 - mse: 77.6640\n",
            "Epoch 314/500\n",
            "2/2 [==============================] - 0s 7ms/step - loss: 9.7121 - mse: 210.7282\n",
            "Epoch 315/500\n",
            "2/2 [==============================] - 0s 6ms/step - loss: 24.4162 - mse: 847.0414\n",
            "Epoch 316/500\n",
            "2/2 [==============================] - 0s 5ms/step - loss: 14.0128 - mse: 308.2459\n",
            "Epoch 317/500\n",
            "2/2 [==============================] - 0s 6ms/step - loss: 20.0535 - mse: 555.0099\n",
            "Epoch 318/500\n",
            "2/2 [==============================] - 0s 7ms/step - loss: 8.2338 - mse: 93.8421\n",
            "Epoch 319/500\n",
            "2/2 [==============================] - 0s 5ms/step - loss: 14.3368 - mse: 320.2849\n",
            "Epoch 320/500\n",
            "2/2 [==============================] - 0s 6ms/step - loss: 7.9263 - mse: 88.5546\n",
            "Epoch 321/500\n",
            "2/2 [==============================] - 0s 7ms/step - loss: 13.9411 - mse: 285.7237\n",
            "Epoch 322/500\n",
            "2/2 [==============================] - 0s 5ms/step - loss: 12.3100 - mse: 218.1025\n",
            "Epoch 323/500\n",
            "2/2 [==============================] - 0s 9ms/step - loss: 20.3368 - mse: 606.5191\n",
            "Epoch 324/500\n",
            "2/2 [==============================] - 0s 5ms/step - loss: 16.7584 - mse: 423.8181\n",
            "Epoch 325/500\n",
            "2/2 [==============================] - 0s 5ms/step - loss: 7.9709 - mse: 152.7410\n",
            "Epoch 326/500\n",
            "2/2 [==============================] - 0s 5ms/step - loss: 21.1507 - mse: 655.5260\n",
            "Epoch 327/500\n",
            "2/2 [==============================] - 0s 7ms/step - loss: 28.8981 - mse: 1176.0731\n",
            "Epoch 328/500\n",
            "2/2 [==============================] - 0s 6ms/step - loss: 11.0514 - mse: 194.6895\n",
            "Epoch 329/500\n",
            "2/2 [==============================] - 0s 8ms/step - loss: 17.3136 - mse: 438.3583\n",
            "Epoch 330/500\n",
            "2/2 [==============================] - 0s 8ms/step - loss: 6.6727 - mse: 63.0943\n",
            "Epoch 331/500\n",
            "2/2 [==============================] - 0s 8ms/step - loss: 22.8565 - mse: 801.1197\n",
            "Epoch 332/500\n",
            "2/2 [==============================] - 0s 5ms/step - loss: 12.2096 - mse: 230.7633\n",
            "Epoch 333/500\n",
            "2/2 [==============================] - 0s 7ms/step - loss: 9.4740 - mse: 141.7796\n",
            "Epoch 334/500\n",
            "2/2 [==============================] - 0s 9ms/step - loss: 5.7313 - mse: 69.6976\n",
            "Epoch 335/500\n",
            "2/2 [==============================] - 0s 5ms/step - loss: 5.7720 - mse: 44.4618\n",
            "Epoch 336/500\n",
            "2/2 [==============================] - 0s 6ms/step - loss: 36.1482 - mse: 2066.9664\n",
            "Epoch 337/500\n",
            "2/2 [==============================] - 0s 13ms/step - loss: 27.2492 - mse: 1097.1237\n",
            "Epoch 338/500\n",
            "2/2 [==============================] - 0s 5ms/step - loss: 12.9060 - mse: 253.2719\n",
            "Epoch 339/500\n",
            "2/2 [==============================] - 0s 5ms/step - loss: 10.6427 - mse: 179.0250\n",
            "Epoch 340/500\n",
            "2/2 [==============================] - 0s 12ms/step - loss: 7.5564 - mse: 130.4240\n",
            "Epoch 341/500\n",
            "2/2 [==============================] - 0s 6ms/step - loss: 24.8467 - mse: 862.2924\n",
            "Epoch 342/500\n",
            "2/2 [==============================] - 0s 5ms/step - loss: 13.5168 - mse: 266.2667\n",
            "Epoch 343/500\n",
            "2/2 [==============================] - 0s 10ms/step - loss: 15.2762 - mse: 308.7139\n",
            "Epoch 344/500\n",
            "2/2 [==============================] - 0s 5ms/step - loss: 12.1409 - mse: 224.6111\n",
            "Epoch 345/500\n",
            "2/2 [==============================] - 0s 9ms/step - loss: 31.6675 - mse: 1409.7666\n",
            "Epoch 346/500\n",
            "2/2 [==============================] - 0s 4ms/step - loss: 9.2998 - mse: 186.8872\n",
            "Epoch 347/500\n",
            "2/2 [==============================] - 0s 5ms/step - loss: 26.6942 - mse: 978.6216\n",
            "Epoch 348/500\n",
            "2/2 [==============================] - 0s 7ms/step - loss: 12.3797 - mse: 237.7551\n",
            "Epoch 349/500\n",
            "2/2 [==============================] - 0s 6ms/step - loss: 12.5196 - mse: 220.3869\n",
            "Epoch 350/500\n",
            "2/2 [==============================] - 0s 5ms/step - loss: 16.1647 - mse: 357.0903\n",
            "Epoch 351/500\n",
            "2/2 [==============================] - 0s 5ms/step - loss: 34.0560 - mse: 1605.0475\n",
            "Epoch 352/500\n",
            "2/2 [==============================] - 0s 5ms/step - loss: 14.2374 - mse: 279.1025\n",
            "Epoch 353/500\n",
            "2/2 [==============================] - 0s 7ms/step - loss: 16.6944 - mse: 399.9070\n",
            "Epoch 354/500\n",
            "2/2 [==============================] - 0s 6ms/step - loss: 19.8479 - mse: 569.8267\n",
            "Epoch 355/500\n",
            "2/2 [==============================] - 0s 5ms/step - loss: 35.6331 - mse: 1902.2897\n",
            "Epoch 356/500\n",
            "2/2 [==============================] - 0s 5ms/step - loss: 7.3618 - mse: 82.9356\n",
            "Epoch 357/500\n",
            "2/2 [==============================] - 0s 6ms/step - loss: 25.8768 - mse: 1021.1921\n",
            "Epoch 358/500\n",
            "2/2 [==============================] - 0s 6ms/step - loss: 23.0161 - mse: 762.6682\n",
            "Epoch 359/500\n",
            "2/2 [==============================] - 0s 8ms/step - loss: 7.5908 - mse: 144.4721\n",
            "Epoch 360/500\n",
            "2/2 [==============================] - 0s 8ms/step - loss: 22.7498 - mse: 740.0091\n",
            "Epoch 361/500\n",
            "2/2 [==============================] - 0s 7ms/step - loss: 20.6560 - mse: 617.4361\n",
            "Epoch 362/500\n",
            "2/2 [==============================] - 0s 9ms/step - loss: 6.4747 - mse: 55.8538\n",
            "Epoch 363/500\n",
            "2/2 [==============================] - 0s 5ms/step - loss: 26.4384 - mse: 1047.7939\n",
            "Epoch 364/500\n",
            "2/2 [==============================] - 0s 6ms/step - loss: 33.4568 - mse: 1619.6479\n",
            "Epoch 365/500\n",
            "2/2 [==============================] - 0s 6ms/step - loss: 9.3597 - mse: 136.9669\n",
            "Epoch 366/500\n",
            "2/2 [==============================] - 0s 4ms/step - loss: 8.1179 - mse: 163.7090\n",
            "Epoch 367/500\n",
            "2/2 [==============================] - 0s 5ms/step - loss: 31.5816 - mse: 1366.5895\n",
            "Epoch 368/500\n",
            "2/2 [==============================] - 0s 7ms/step - loss: 9.3144 - mse: 178.8091\n",
            "Epoch 369/500\n",
            "2/2 [==============================] - 0s 8ms/step - loss: 15.4760 - mse: 347.2901\n",
            "Epoch 370/500\n",
            "2/2 [==============================] - 0s 8ms/step - loss: 15.1092 - mse: 322.8189\n",
            "Epoch 371/500\n",
            "2/2 [==============================] - 0s 5ms/step - loss: 24.6512 - mse: 846.6381\n",
            "Epoch 372/500\n",
            "2/2 [==============================] - 0s 6ms/step - loss: 12.0688 - mse: 244.6409\n",
            "Epoch 373/500\n",
            "2/2 [==============================] - 0s 7ms/step - loss: 8.6549 - mse: 120.9992\n",
            "Epoch 374/500\n",
            "2/2 [==============================] - 0s 9ms/step - loss: 8.5131 - mse: 146.1755\n",
            "Epoch 375/500\n",
            "2/2 [==============================] - 0s 8ms/step - loss: 12.7456 - mse: 226.1776\n",
            "Epoch 376/500\n",
            "2/2 [==============================] - 0s 6ms/step - loss: 15.4905 - mse: 343.5805\n",
            "Epoch 377/500\n",
            "2/2 [==============================] - 0s 8ms/step - loss: 14.3819 - mse: 275.4580\n",
            "Epoch 378/500\n",
            "2/2 [==============================] - 0s 8ms/step - loss: 17.3389 - mse: 452.4442\n",
            "Epoch 379/500\n",
            "2/2 [==============================] - 0s 7ms/step - loss: 21.5481 - mse: 630.8629\n",
            "Epoch 380/500\n",
            "2/2 [==============================] - 0s 7ms/step - loss: 35.0508 - mse: 1791.5043\n",
            "Epoch 381/500\n",
            "2/2 [==============================] - 0s 6ms/step - loss: 7.6874 - mse: 85.9738\n",
            "Epoch 382/500\n",
            "2/2 [==============================] - 0s 8ms/step - loss: 12.5416 - mse: 257.3002\n",
            "Epoch 383/500\n",
            "2/2 [==============================] - 0s 5ms/step - loss: 7.7124 - mse: 101.7884\n",
            "Epoch 384/500\n",
            "2/2 [==============================] - 0s 6ms/step - loss: 6.5792 - mse: 58.7611\n",
            "Epoch 385/500\n",
            "2/2 [==============================] - 0s 6ms/step - loss: 9.5143 - mse: 185.5448\n",
            "Epoch 386/500\n",
            "2/2 [==============================] - 0s 6ms/step - loss: 21.0257 - mse: 649.6068\n",
            "Epoch 387/500\n",
            "2/2 [==============================] - 0s 8ms/step - loss: 25.3016 - mse: 924.4875\n",
            "Epoch 388/500\n",
            "2/2 [==============================] - 0s 10ms/step - loss: 8.1077 - mse: 107.1426\n",
            "Epoch 389/500\n",
            "2/2 [==============================] - 0s 5ms/step - loss: 5.9206 - mse: 47.9119\n",
            "Epoch 390/500\n",
            "2/2 [==============================] - 0s 7ms/step - loss: 24.9105 - mse: 915.8142\n",
            "Epoch 391/500\n",
            "2/2 [==============================] - 0s 12ms/step - loss: 5.3312 - mse: 55.4285\n",
            "Epoch 392/500\n",
            "2/2 [==============================] - 0s 13ms/step - loss: 15.3508 - mse: 337.0651\n",
            "Epoch 393/500\n",
            "2/2 [==============================] - 0s 6ms/step - loss: 5.8195 - mse: 54.3740\n",
            "Epoch 394/500\n",
            "2/2 [==============================] - 0s 5ms/step - loss: 11.5384 - mse: 218.2497\n",
            "Epoch 395/500\n",
            "2/2 [==============================] - 0s 9ms/step - loss: 11.4359 - mse: 214.4142\n",
            "Epoch 396/500\n",
            "2/2 [==============================] - 0s 6ms/step - loss: 6.5211 - mse: 76.1574\n",
            "Epoch 397/500\n",
            "2/2 [==============================] - 0s 6ms/step - loss: 7.1191 - mse: 79.2404\n",
            "Epoch 398/500\n",
            "2/2 [==============================] - 0s 5ms/step - loss: 20.2781 - mse: 574.2177\n",
            "Epoch 399/500\n",
            "2/2 [==============================] - 0s 6ms/step - loss: 5.1878 - mse: 52.7086\n",
            "Epoch 400/500\n",
            "2/2 [==============================] - 0s 6ms/step - loss: 25.9078 - mse: 967.2767\n",
            "Epoch 401/500\n",
            "2/2 [==============================] - 0s 6ms/step - loss: 12.5994 - mse: 260.4765\n",
            "Epoch 402/500\n",
            "2/2 [==============================] - 0s 6ms/step - loss: 7.5911 - mse: 90.0769\n",
            "Epoch 403/500\n",
            "2/2 [==============================] - 0s 7ms/step - loss: 9.2361 - mse: 153.5026\n",
            "Epoch 404/500\n",
            "2/2 [==============================] - 0s 6ms/step - loss: 8.9653 - mse: 149.6963\n",
            "Epoch 405/500\n",
            "2/2 [==============================] - 0s 8ms/step - loss: 6.5696 - mse: 64.5353\n",
            "Epoch 406/500\n",
            "2/2 [==============================] - 0s 6ms/step - loss: 20.4481 - mse: 630.6930\n",
            "Epoch 407/500\n",
            "2/2 [==============================] - 0s 6ms/step - loss: 8.0652 - mse: 168.7735\n",
            "Epoch 408/500\n",
            "2/2 [==============================] - 0s 8ms/step - loss: 22.2871 - mse: 735.4118\n",
            "Epoch 409/500\n",
            "2/2 [==============================] - 0s 6ms/step - loss: 31.4776 - mse: 1483.8528\n",
            "Epoch 410/500\n",
            "2/2 [==============================] - 0s 7ms/step - loss: 8.6200 - mse: 176.0833\n",
            "Epoch 411/500\n",
            "2/2 [==============================] - 0s 5ms/step - loss: 14.5835 - mse: 275.7752\n",
            "Epoch 412/500\n",
            "2/2 [==============================] - 0s 4ms/step - loss: 23.0282 - mse: 768.5229\n",
            "Epoch 413/500\n",
            "2/2 [==============================] - 0s 7ms/step - loss: 12.3385 - mse: 237.9185\n",
            "Epoch 414/500\n",
            "2/2 [==============================] - 0s 8ms/step - loss: 7.1011 - mse: 132.7417\n",
            "Epoch 415/500\n",
            "2/2 [==============================] - 0s 10ms/step - loss: 10.5902 - mse: 192.6204\n",
            "Epoch 416/500\n",
            "2/2 [==============================] - 0s 9ms/step - loss: 26.2751 - mse: 955.5269\n",
            "Epoch 417/500\n",
            "2/2 [==============================] - 0s 4ms/step - loss: 15.6055 - mse: 364.7929\n",
            "Epoch 418/500\n",
            "2/2 [==============================] - 0s 9ms/step - loss: 12.0706 - mse: 211.6477\n",
            "Epoch 419/500\n",
            "2/2 [==============================] - 0s 5ms/step - loss: 16.5162 - mse: 387.2744\n",
            "Epoch 420/500\n",
            "2/2 [==============================] - 0s 7ms/step - loss: 25.2887 - mse: 875.8704\n",
            "Epoch 421/500\n",
            "2/2 [==============================] - 0s 6ms/step - loss: 17.8568 - mse: 465.2414\n",
            "Epoch 422/500\n",
            "2/2 [==============================] - 0s 6ms/step - loss: 7.1423 - mse: 143.2356\n",
            "Epoch 423/500\n",
            "2/2 [==============================] - 0s 7ms/step - loss: 25.5621 - mse: 911.7935\n",
            "Epoch 424/500\n",
            "2/2 [==============================] - 0s 5ms/step - loss: 16.3412 - mse: 407.8345\n",
            "Epoch 425/500\n",
            "2/2 [==============================] - 0s 6ms/step - loss: 6.7909 - mse: 65.6817\n",
            "Epoch 426/500\n",
            "2/2 [==============================] - 0s 6ms/step - loss: 20.8421 - mse: 610.5737\n",
            "Epoch 427/500\n",
            "2/2 [==============================] - 0s 5ms/step - loss: 5.7177 - mse: 60.8159\n",
            "Epoch 428/500\n",
            "2/2 [==============================] - 0s 6ms/step - loss: 12.4711 - mse: 254.8432\n",
            "Epoch 429/500\n",
            "2/2 [==============================] - 0s 4ms/step - loss: 10.2372 - mse: 172.5412\n",
            "Epoch 430/500\n",
            "2/2 [==============================] - 0s 6ms/step - loss: 11.1000 - mse: 224.4341\n",
            "Epoch 431/500\n",
            "2/2 [==============================] - 0s 5ms/step - loss: 8.1347 - mse: 128.0875\n",
            "Epoch 432/500\n",
            "2/2 [==============================] - 0s 5ms/step - loss: 14.8946 - mse: 331.5557\n",
            "Epoch 433/500\n",
            "2/2 [==============================] - 0s 7ms/step - loss: 10.2352 - mse: 220.0991\n",
            "Epoch 434/500\n",
            "2/2 [==============================] - 0s 7ms/step - loss: 31.1318 - mse: 1357.3498\n",
            "Epoch 435/500\n",
            "2/2 [==============================] - 0s 7ms/step - loss: 8.8116 - mse: 197.2974\n",
            "Epoch 436/500\n",
            "2/2 [==============================] - 0s 5ms/step - loss: 30.4870 - mse: 1312.6603\n",
            "Epoch 437/500\n",
            "2/2 [==============================] - 0s 4ms/step - loss: 7.3837 - mse: 147.5153\n",
            "Epoch 438/500\n",
            "2/2 [==============================] - 0s 10ms/step - loss: 11.5687 - mse: 212.4679\n",
            "Epoch 439/500\n",
            "2/2 [==============================] - 0s 6ms/step - loss: 34.0688 - mse: 1608.5302\n",
            "Epoch 440/500\n",
            "2/2 [==============================] - 0s 9ms/step - loss: 15.1337 - mse: 296.9594\n",
            "Epoch 441/500\n",
            "2/2 [==============================] - 0s 12ms/step - loss: 18.7648 - mse: 533.3445\n",
            "Epoch 442/500\n",
            "2/2 [==============================] - 0s 11ms/step - loss: 23.4381 - mse: 810.4802\n",
            "Epoch 443/500\n",
            "2/2 [==============================] - 0s 9ms/step - loss: 23.4036 - mse: 778.5294\n",
            "Epoch 444/500\n",
            "2/2 [==============================] - 0s 4ms/step - loss: 10.2375 - mse: 171.9309\n",
            "Epoch 445/500\n",
            "2/2 [==============================] - 0s 10ms/step - loss: 15.3160 - mse: 332.4824\n",
            "Epoch 446/500\n",
            "2/2 [==============================] - 0s 6ms/step - loss: 19.2510 - mse: 563.0577\n",
            "Epoch 447/500\n",
            "2/2 [==============================] - 0s 4ms/step - loss: 4.7850 - mse: 38.9993\n",
            "Epoch 448/500\n",
            "2/2 [==============================] - 0s 6ms/step - loss: 8.7421 - mse: 181.8661\n",
            "Epoch 449/500\n",
            "2/2 [==============================] - 0s 11ms/step - loss: 13.9541 - mse: 269.6874\n",
            "Epoch 450/500\n",
            "2/2 [==============================] - 0s 6ms/step - loss: 17.8389 - mse: 463.0688\n",
            "Epoch 451/500\n",
            "2/2 [==============================] - 0s 15ms/step - loss: 14.8218 - mse: 325.8570\n",
            "Epoch 452/500\n",
            "2/2 [==============================] - 0s 6ms/step - loss: 31.1752 - mse: 1389.3031\n",
            "Epoch 453/500\n",
            "2/2 [==============================] - 0s 5ms/step - loss: 6.8874 - mse: 141.9870\n",
            "Epoch 454/500\n",
            "2/2 [==============================] - 0s 5ms/step - loss: 28.3129 - mse: 1111.1558\n",
            "Epoch 455/500\n",
            "2/2 [==============================] - 0s 6ms/step - loss: 9.3541 - mse: 158.5655\n",
            "Epoch 456/500\n",
            "2/2 [==============================] - 0s 6ms/step - loss: 14.3950 - mse: 279.1263\n",
            "Epoch 457/500\n",
            "2/2 [==============================] - 0s 7ms/step - loss: 18.8634 - mse: 515.4074\n",
            "Epoch 458/500\n",
            "2/2 [==============================] - 0s 6ms/step - loss: 13.4804 - mse: 248.2658\n",
            "Epoch 459/500\n",
            "2/2 [==============================] - 0s 5ms/step - loss: 26.6730 - mse: 1021.5778\n",
            "Epoch 460/500\n",
            "2/2 [==============================] - 0s 8ms/step - loss: 14.5717 - mse: 313.9824\n",
            "Epoch 461/500\n",
            "2/2 [==============================] - 0s 7ms/step - loss: 10.9424 - mse: 211.5127\n",
            "Epoch 462/500\n",
            "2/2 [==============================] - 0s 10ms/step - loss: 13.1209 - mse: 237.3368\n",
            "Epoch 463/500\n",
            "2/2 [==============================] - 0s 7ms/step - loss: 30.2510 - mse: 1265.8876\n",
            "Epoch 464/500\n",
            "2/2 [==============================] - 0s 6ms/step - loss: 3.1694 - mse: 14.6498\n",
            "Epoch 465/500\n",
            "2/2 [==============================] - 0s 8ms/step - loss: 42.5193 - mse: 2805.5953\n",
            "Epoch 466/500\n",
            "2/2 [==============================] - 0s 7ms/step - loss: 17.9382 - mse: 463.1140\n",
            "Epoch 467/500\n",
            "2/2 [==============================] - 0s 6ms/step - loss: 7.7734 - mse: 105.9686\n",
            "Epoch 468/500\n",
            "2/2 [==============================] - 0s 7ms/step - loss: 5.9026 - mse: 54.0730\n",
            "Epoch 469/500\n",
            "2/2 [==============================] - 0s 6ms/step - loss: 30.5004 - mse: 1369.7880\n",
            "Epoch 470/500\n",
            "2/2 [==============================] - 0s 8ms/step - loss: 14.3981 - mse: 319.9872\n",
            "Epoch 471/500\n",
            "2/2 [==============================] - 0s 6ms/step - loss: 11.9830 - mse: 233.1904\n",
            "Epoch 472/500\n",
            "2/2 [==============================] - 0s 6ms/step - loss: 16.0348 - mse: 356.8389\n",
            "Epoch 473/500\n",
            "2/2 [==============================] - 0s 7ms/step - loss: 20.1726 - mse: 609.2492\n",
            "Epoch 474/500\n",
            "2/2 [==============================] - 0s 7ms/step - loss: 40.7939 - mse: 2485.6618\n",
            "Epoch 475/500\n",
            "2/2 [==============================] - 0s 5ms/step - loss: 15.2877 - mse: 337.3162\n",
            "Epoch 476/500\n",
            "2/2 [==============================] - 0s 6ms/step - loss: 13.2100 - mse: 243.6625\n",
            "Epoch 477/500\n",
            "2/2 [==============================] - 0s 5ms/step - loss: 30.6341 - mse: 1298.5005\n",
            "Epoch 478/500\n",
            "2/2 [==============================] - 0s 5ms/step - loss: 4.2827 - mse: 46.8692\n",
            "Epoch 479/500\n",
            "2/2 [==============================] - 0s 6ms/step - loss: 12.3957 - mse: 229.6692\n",
            "Epoch 480/500\n",
            "2/2 [==============================] - 0s 5ms/step - loss: 20.5728 - mse: 625.5923\n",
            "Epoch 481/500\n",
            "2/2 [==============================] - 0s 5ms/step - loss: 12.1446 - mse: 242.4814\n",
            "Epoch 482/500\n",
            "2/2 [==============================] - 0s 5ms/step - loss: 5.8011 - mse: 67.5536\n",
            "Epoch 483/500\n",
            "2/2 [==============================] - 0s 7ms/step - loss: 12.0503 - mse: 232.4422\n",
            "Epoch 484/500\n",
            "2/2 [==============================] - 0s 5ms/step - loss: 13.0914 - mse: 258.9786\n",
            "Epoch 485/500\n",
            "2/2 [==============================] - 0s 12ms/step - loss: 7.7500 - mse: 180.8958\n",
            "Epoch 486/500\n",
            "2/2 [==============================] - 0s 8ms/step - loss: 19.7585 - mse: 564.7065\n",
            "Epoch 487/500\n",
            "2/2 [==============================] - 0s 6ms/step - loss: 5.3351 - mse: 53.6843\n",
            "Epoch 488/500\n",
            "2/2 [==============================] - 0s 8ms/step - loss: 30.7974 - mse: 1357.4868\n",
            "Epoch 489/500\n",
            "2/2 [==============================] - 0s 8ms/step - loss: 12.2693 - mse: 213.7615\n",
            "Epoch 490/500\n",
            "2/2 [==============================] - 0s 4ms/step - loss: 12.6722 - mse: 226.7921\n",
            "Epoch 491/500\n",
            "2/2 [==============================] - 0s 5ms/step - loss: 25.4838 - mse: 948.0516\n",
            "Epoch 492/500\n",
            "2/2 [==============================] - 0s 6ms/step - loss: 17.9882 - mse: 462.1952\n",
            "Epoch 493/500\n",
            "2/2 [==============================] - 0s 13ms/step - loss: 4.2445 - mse: 38.8140\n",
            "Epoch 494/500\n",
            "2/2 [==============================] - 0s 8ms/step - loss: 11.0777 - mse: 190.5820\n",
            "Epoch 495/500\n",
            "2/2 [==============================] - 0s 8ms/step - loss: 13.9629 - mse: 261.9882\n",
            "Epoch 496/500\n",
            "2/2 [==============================] - 0s 9ms/step - loss: 12.4870 - mse: 222.5207\n",
            "Epoch 497/500\n",
            "2/2 [==============================] - 0s 10ms/step - loss: 19.3935 - mse: 584.0235\n",
            "Epoch 498/500\n",
            "2/2 [==============================] - 0s 6ms/step - loss: 22.4861 - mse: 748.5624\n",
            "Epoch 499/500\n",
            "2/2 [==============================] - 0s 15ms/step - loss: 7.8288 - mse: 97.3130\n",
            "Epoch 500/500\n",
            "2/2 [==============================] - 0s 4ms/step - loss: 14.1438 - mse: 262.8691\n"
          ],
          "name": "stdout"
        },
        {
          "output_type": "execute_result",
          "data": {
            "text/plain": [
              "<tensorflow.python.keras.callbacks.History at 0x7ff23add5490>"
            ]
          },
          "metadata": {
            "tags": []
          },
          "execution_count": 56
        }
      ]
    },
    {
      "cell_type": "code",
      "metadata": {
        "colab": {
          "base_uri": "https://localhost:8080/",
          "height": 465
        },
        "id": "0qX7CZYicsKX",
        "outputId": "8e0d02f6-3506-4d92-acb5-221ae6e980f7"
      },
      "source": [
        "# make and plot predictions for model_3\r\n",
        "y_preds_3 = model_3.predict(X_test)\r\n",
        "plot_predictions(predictions=y_preds_3)"
      ],
      "execution_count": 57,
      "outputs": [
        {
          "output_type": "stream",
          "text": [
            "WARNING:tensorflow:7 out of the last 7 calls to <function Model.make_predict_function.<locals>.predict_function at 0x7ff23bee7c20> triggered tf.function retracing. Tracing is expensive and the excessive number of tracings could be due to (1) creating @tf.function repeatedly in a loop, (2) passing tensors with different shapes, (3) passing Python objects instead of tensors. For (1), please define your @tf.function outside of the loop. For (2), @tf.function has experimental_relax_shapes=True option that relaxes argument shapes that can avoid unnecessary retracing. For (3), please refer to https://www.tensorflow.org/guide/function#controlling_retracing and https://www.tensorflow.org/api_docs/python/tf/function for  more details.\n"
          ],
          "name": "stdout"
        },
        {
          "output_type": "display_data",
          "data": {
            "image/png": "[encoded data removed]",
            "text/plain": [
              "<Figure size 720x504 with 1 Axes>"
            ]
          },
          "metadata": {
            "tags": [],
            "needs_background": "light"
          }
        }
      ]
    },
    {
      "cell_type": "code",
      "metadata": {
        "colab": {
          "base_uri": "https://localhost:8080/"
        },
        "id": "PNliSewKdXm0",
        "outputId": "5120f39d-2521-478d-ee65-07934cc6e03a"
      },
      "source": [
        "# calculate model_3 evaluation metrics\r\n",
        "mae_3 = mae(y_test, y_preds_3)\r\n",
        "mse_3 = mse(y_test, y_preds_3)\r\n",
        "mae_3, mse_3"
      ],
      "execution_count": 58,
      "outputs": [
        {
          "output_type": "execute_result",
          "data": {
            "text/plain": [
              "(<tf.Tensor: shape=(), dtype=float32, numpy=67.21916>,\n",
              " <tf.Tensor: shape=(), dtype=float32, numpy=4601.0547>)"
            ]
          },
          "metadata": {
            "tags": []
          },
          "execution_count": 58
        }
      ]
    },
    {
      "cell_type": "markdown",
      "metadata": {
        "id": "x1l8tiQLd6DU"
      },
      "source": [
        "### Comparing the results of the experiments\r\n",
        "\r\n",
        "Start with small experiments (small models) and make sure they work and then increase their scale when neccessary"
      ]
    },
    {
      "cell_type": "code",
      "metadata": {
        "colab": {
          "base_uri": "https://localhost:8080/",
          "height": 142
        },
        "id": "XOYQ07hpeMe4",
        "outputId": "11becdb4-7882-4e25-dd32-33cbcf3d2ba8"
      },
      "source": [
        "# Let's compare model results using Pandas dataframe\r\n",
        "import pandas as pd\r\n",
        "\r\n",
        "model_results = [['model_1',mae_1,mse_1],\r\n",
        "                 ['model_2',mae_2,mse_2],\r\n",
        "                 ['model_3',mae_3,mse_3]]\r\n",
        "\r\n",
        "all_results = pd.DataFrame(model_results, columns=[\"model\",\"mae\",\"mse\"])\r\n",
        "all_results"
      ],
      "execution_count": 59,
      "outputs": [
        {
          "output_type": "execute_result",
          "data": {
            "text/html": [
              "<div>\n",
              "<style scoped>\n",
              "    .dataframe tbody tr th:only-of-type {\n",
              "        vertical-align: middle;\n",
              "    }\n",
              "\n",
              "    .dataframe tbody tr th {\n",
              "        vertical-align: top;\n",
              "    }\n",
              "\n",
              "    .dataframe thead th {\n",
              "        text-align: right;\n",
              "    }\n",
              "</style>\n",
              "<table border=\"1\" class=\"dataframe\">\n",
              "  <thead>\n",
              "    <tr style=\"text-align: right;\">\n",
              "      <th></th>\n",
              "      <th>model</th>\n",
              "      <th>mae</th>\n",
              "      <th>mse</th>\n",
              "    </tr>\n",
              "  </thead>\n",
              "  <tbody>\n",
              "    <tr>\n",
              "      <th>0</th>\n",
              "      <td>model_1</td>\n",
              "      <td>tf.Tensor(18.745327, shape=(), dtype=float32)</td>\n",
              "      <td>tf.Tensor(353.5734, shape=(), dtype=float32)</td>\n",
              "    </tr>\n",
              "    <tr>\n",
              "      <th>1</th>\n",
              "      <td>model_2</td>\n",
              "      <td>tf.Tensor(3.5793526, shape=(), dtype=float32)</td>\n",
              "      <td>tf.Tensor(13.517387, shape=(), dtype=float32)</td>\n",
              "    </tr>\n",
              "    <tr>\n",
              "      <th>2</th>\n",
              "      <td>model_3</td>\n",
              "      <td>tf.Tensor(67.21916, shape=(), dtype=float32)</td>\n",
              "      <td>tf.Tensor(4601.0547, shape=(), dtype=float32)</td>\n",
              "    </tr>\n",
              "  </tbody>\n",
              "</table>\n",
              "</div>"
            ],
            "text/plain": [
              "     model  ...                                            mse\n",
              "0  model_1  ...   tf.Tensor(353.5734, shape=(), dtype=float32)\n",
              "1  model_2  ...  tf.Tensor(13.517387, shape=(), dtype=float32)\n",
              "2  model_3  ...  tf.Tensor(4601.0547, shape=(), dtype=float32)\n",
              "\n",
              "[3 rows x 3 columns]"
            ]
          },
          "metadata": {
            "tags": []
          },
          "execution_count": 59
        }
      ]
    },
    {
      "cell_type": "code",
      "metadata": {
        "colab": {
          "base_uri": "https://localhost:8080/",
          "height": 142
        },
        "id": "2JqsAhtYekrz",
        "outputId": "c2e5dae9-de8d-40cc-c57f-68945cd5617c"
      },
      "source": [
        "import pandas as pd\r\n",
        "\r\n",
        "model_results = [['model_1',mae_1.numpy(),mse_1.numpy()],\r\n",
        "                 ['model_2',mae_2.numpy(),mse_2.numpy()],\r\n",
        "                 ['model_3',mae_3.numpy(),mse_3.numpy()]]\r\n",
        "\r\n",
        "all_results = pd.DataFrame(model_results, columns=[\"model\",\"mae\",\"mse\"])\r\n",
        "all_results"
      ],
      "execution_count": 60,
      "outputs": [
        {
          "output_type": "execute_result",
          "data": {
            "text/html": [
              "<div>\n",
              "<style scoped>\n",
              "    .dataframe tbody tr th:only-of-type {\n",
              "        vertical-align: middle;\n",
              "    }\n",
              "\n",
              "    .dataframe tbody tr th {\n",
              "        vertical-align: top;\n",
              "    }\n",
              "\n",
              "    .dataframe thead th {\n",
              "        text-align: right;\n",
              "    }\n",
              "</style>\n",
              "<table border=\"1\" class=\"dataframe\">\n",
              "  <thead>\n",
              "    <tr style=\"text-align: right;\">\n",
              "      <th></th>\n",
              "      <th>model</th>\n",
              "      <th>mae</th>\n",
              "      <th>mse</th>\n",
              "    </tr>\n",
              "  </thead>\n",
              "  <tbody>\n",
              "    <tr>\n",
              "      <th>0</th>\n",
              "      <td>model_1</td>\n",
              "      <td>18.745327</td>\n",
              "      <td>353.573395</td>\n",
              "    </tr>\n",
              "    <tr>\n",
              "      <th>1</th>\n",
              "      <td>model_2</td>\n",
              "      <td>3.579353</td>\n",
              "      <td>13.517387</td>\n",
              "    </tr>\n",
              "    <tr>\n",
              "      <th>2</th>\n",
              "      <td>model_3</td>\n",
              "      <td>67.219162</td>\n",
              "      <td>4601.054688</td>\n",
              "    </tr>\n",
              "  </tbody>\n",
              "</table>\n",
              "</div>"
            ],
            "text/plain": [
              "     model        mae          mse\n",
              "0  model_1  18.745327   353.573395\n",
              "1  model_2   3.579353    13.517387\n",
              "2  model_3  67.219162  4601.054688"
            ]
          },
          "metadata": {
            "tags": []
          },
          "execution_count": 60
        }
      ]
    },
    {
      "cell_type": "code",
      "metadata": {
        "colab": {
          "base_uri": "https://localhost:8080/"
        },
        "id": "gds-xfoUe09q",
        "outputId": "02f55b5d-aaea-4d73-cccb-cdf846cec2fe"
      },
      "source": [
        "model_2.summary()  # better one so far"
      ],
      "execution_count": 61,
      "outputs": [
        {
          "output_type": "stream",
          "text": [
            "Model: \"sequential_7\"\n",
            "_________________________________________________________________\n",
            "Layer (type)                 Output Shape              Param #   \n",
            "=================================================================\n",
            "dense_8 (Dense)              (None, 100)               200       \n",
            "_________________________________________________________________\n",
            "dense_9 (Dense)              (None, 1)                 101       \n",
            "=================================================================\n",
            "Total params: 301\n",
            "Trainable params: 301\n",
            "Non-trainable params: 0\n",
            "_________________________________________________________________\n"
          ],
          "name": "stdout"
        }
      ]
    },
    {
      "cell_type": "markdown",
      "metadata": {
        "id": "vh_kIcYufYtK"
      },
      "source": [
        "Note: minimize the time between experiements. The more exeriments then helps to figure out what works....experiment....experiment..."
      ]
    },
    {
      "cell_type": "markdown",
      "metadata": {
        "id": "qu_zq5CWe50J"
      },
      "source": [
        "## Tracking experiments\r\n",
        "\r\n",
        "There are tools to help:\r\n",
        "\r\n",
        "* TensorBoard, from TF library\r\n",
        "* Weights & Biases, plugs into TensorBoard"
      ]
    },
    {
      "cell_type": "markdown",
      "metadata": {
        "id": "Bc29-2iJgeN5"
      },
      "source": [
        "## Saving the models\r\n",
        "\r\n",
        "To use outside of Colab or wherever they are trained, such as in a web app or mobile app\r\n",
        "\r\n",
        "Main formats:\r\n",
        "* SavedModel format\r\n",
        "* HDF5 format"
      ]
    },
    {
      "cell_type": "code",
      "metadata": {
        "colab": {
          "base_uri": "https://localhost:8080/"
        },
        "id": "nzk1UR_4g-69",
        "outputId": "29a3af91-75ab-454b-f6a4-bd1da923a728"
      },
      "source": [
        "# SavedModel format\r\n",
        "model_2.save(\"best_model_SavedModel\")"
      ],
      "execution_count": 62,
      "outputs": [
        {
          "output_type": "stream",
          "text": [
            "INFO:tensorflow:Assets written to: best_model_SavedModel/assets\n"
          ],
          "name": "stdout"
        }
      ]
    },
    {
      "cell_type": "code",
      "metadata": {
        "id": "Pr9lbhYXh8J_"
      },
      "source": [
        "# Save in HDF5 format\r\n",
        "model_2.save(\"best_model_HDF5.h5\")"
      ],
      "execution_count": 63,
      "outputs": []
    },
    {
      "cell_type": "code",
      "metadata": {
        "colab": {
          "base_uri": "https://localhost:8080/"
        },
        "id": "9SM9MDdFiyAw",
        "outputId": "84dc450b-29fa-44d8-b936-da381f4aab06"
      },
      "source": [
        "## Loading saved models\r\n",
        "\r\n",
        "loaded_SavedModel_format = tf.keras.models.load_model(\"/content/best_model_SavedModel\")\r\n",
        "loaded_SavedModel_format.summary()"
      ],
      "execution_count": 64,
      "outputs": [
        {
          "output_type": "stream",
          "text": [
            "Model: \"sequential_7\"\n",
            "_________________________________________________________________\n",
            "Layer (type)                 Output Shape              Param #   \n",
            "=================================================================\n",
            "dense_8 (Dense)              (None, 100)               200       \n",
            "_________________________________________________________________\n",
            "dense_9 (Dense)              (None, 1)                 101       \n",
            "=================================================================\n",
            "Total params: 301\n",
            "Trainable params: 301\n",
            "Non-trainable params: 0\n",
            "_________________________________________________________________\n"
          ],
          "name": "stdout"
        }
      ]
    },
    {
      "cell_type": "code",
      "metadata": {
        "colab": {
          "base_uri": "https://localhost:8080/"
        },
        "id": "rDDREc0Rnvoh",
        "outputId": "8a1f02d9-ee7e-4b60-c5f3-01b4f8e34c80"
      },
      "source": [
        "# Compare predictions\r\n",
        "model_2_preds = model_2.predict(X_test)\r\n",
        "loaded_SavedModel_format_preds = loaded_SavedModel_format.predict(X_test)\r\n",
        "model_2_preds == loaded_SavedModel_format_preds"
      ],
      "execution_count": 65,
      "outputs": [
        {
          "output_type": "stream",
          "text": [
            "WARNING:tensorflow:8 out of the last 9 calls to <function Model.make_predict_function.<locals>.predict_function at 0x7ff23b710200> triggered tf.function retracing. Tracing is expensive and the excessive number of tracings could be due to (1) creating @tf.function repeatedly in a loop, (2) passing tensors with different shapes, (3) passing Python objects instead of tensors. For (1), please define your @tf.function outside of the loop. For (2), @tf.function has experimental_relax_shapes=True option that relaxes argument shapes that can avoid unnecessary retracing. For (3), please refer to https://www.tensorflow.org/guide/function#controlling_retracing and https://www.tensorflow.org/api_docs/python/tf/function for  more details.\n"
          ],
          "name": "stdout"
        },
        {
          "output_type": "execute_result",
          "data": {
            "text/plain": [
              "array([[ True],\n",
              "       [ True],\n",
              "       [ True],\n",
              "       [ True],\n",
              "       [ True],\n",
              "       [ True],\n",
              "       [ True],\n",
              "       [ True],\n",
              "       [ True],\n",
              "       [ True]])"
            ]
          },
          "metadata": {
            "tags": []
          },
          "execution_count": 65
        }
      ]
    },
    {
      "cell_type": "code",
      "metadata": {
        "colab": {
          "base_uri": "https://localhost:8080/"
        },
        "id": "Rlvw1bKEokU9",
        "outputId": "438cef6a-c988-477d-8db0-af0602630d74"
      },
      "source": [
        "# Loading with .h5 format\r\n",
        "loaded_h5_model = tf.keras.models.load_model(\"/content/best_model_HDF5.h5\")\r\n",
        "loaded_h5_model.summary()"
      ],
      "execution_count": 66,
      "outputs": [
        {
          "output_type": "stream",
          "text": [
            "Model: \"sequential_7\"\n",
            "_________________________________________________________________\n",
            "Layer (type)                 Output Shape              Param #   \n",
            "=================================================================\n",
            "dense_8 (Dense)              (None, 100)               200       \n",
            "_________________________________________________________________\n",
            "dense_9 (Dense)              (None, 1)                 101       \n",
            "=================================================================\n",
            "Total params: 301\n",
            "Trainable params: 301\n",
            "Non-trainable params: 0\n",
            "_________________________________________________________________\n"
          ],
          "name": "stdout"
        }
      ]
    },
    {
      "cell_type": "code",
      "metadata": {
        "colab": {
          "base_uri": "https://localhost:8080/"
        },
        "id": "T5dECN8_ps74",
        "outputId": "60db9394-129d-4ec3-84ff-9aec690d9f6d"
      },
      "source": [
        "# Compare predictions\r\n",
        "model_2_preds = model_2.predict(X_test)\r\n",
        "loaded_h5_model_preds = loaded_h5_model.predict(X_test)\r\n",
        "model_2_preds == loaded_h5_model_preds"
      ],
      "execution_count": 67,
      "outputs": [
        {
          "output_type": "stream",
          "text": [
            "WARNING:tensorflow:9 out of the last 11 calls to <function Model.make_predict_function.<locals>.predict_function at 0x7ff23adc9050> triggered tf.function retracing. Tracing is expensive and the excessive number of tracings could be due to (1) creating @tf.function repeatedly in a loop, (2) passing tensors with different shapes, (3) passing Python objects instead of tensors. For (1), please define your @tf.function outside of the loop. For (2), @tf.function has experimental_relax_shapes=True option that relaxes argument shapes that can avoid unnecessary retracing. For (3), please refer to https://www.tensorflow.org/guide/function#controlling_retracing and https://www.tensorflow.org/api_docs/python/tf/function for  more details.\n"
          ],
          "name": "stdout"
        },
        {
          "output_type": "execute_result",
          "data": {
            "text/plain": [
              "array([[ True],\n",
              "       [ True],\n",
              "       [ True],\n",
              "       [ True],\n",
              "       [ True],\n",
              "       [ True],\n",
              "       [ True],\n",
              "       [ True],\n",
              "       [ True],\n",
              "       [ True]])"
            ]
          },
          "metadata": {
            "tags": []
          },
          "execution_count": 67
        }
      ]
    },
    {
      "cell_type": "markdown",
      "metadata": {
        "id": "DQxsfSEHqP8u"
      },
      "source": [
        "## Downloading a model\r\n",
        "\r\n",
        "1. Regular\r\n",
        "2. Use code\r\n",
        "3. Save to Google Drive - Mount Drive icon"
      ]
    },
    {
      "cell_type": "code",
      "metadata": {
        "colab": {
          "base_uri": "https://localhost:8080/",
          "height": 17
        },
        "id": "BgPc2xx6q9lq",
        "outputId": "eae776cd-c7da-45cd-f38d-3b54dbd94625"
      },
      "source": [
        "# Download a file\r\n",
        "from google.colab import files\r\n",
        "files.download('/content/best_model_HDF5.h5')"
      ],
      "execution_count": 68,
      "outputs": [
        {
          "output_type": "display_data",
          "data": {
            "application/javascript": [
              "\n",
              "    async function download(id, filename, size) {\n",
              "      if (!google.colab.kernel.accessAllowed) {\n",
              "        return;\n",
              "      }\n",
              "      const div = document.createElement('div');\n",
              "      const label = document.createElement('label');\n",
              "      label.textContent = `Downloading \"${filename}\": `;\n",
              "      div.appendChild(label);\n",
              "      const progress = document.createElement('progress');\n",
              "      progress.max = size;\n",
              "      div.appendChild(progress);\n",
              "      document.body.appendChild(div);\n",
              "\n",
              "      const buffers = [];\n",
              "      let downloaded = 0;\n",
              "\n",
              "      const channel = await google.colab.kernel.comms.open(id);\n",
              "      // Send a message to notify the kernel that we're ready.\n",
              "      channel.send({})\n",
              "\n",
              "      for await (const message of channel.messages) {\n",
              "        // Send a message to notify the kernel that we're ready.\n",
              "        channel.send({})\n",
              "        if (message.buffers) {\n",
              "          for (const buffer of message.buffers) {\n",
              "            buffers.push(buffer);\n",
              "            downloaded += buffer.byteLength;\n",
              "            progress.value = downloaded;\n",
              "          }\n",
              "        }\n",
              "      }\n",
              "      const blob = new Blob(buffers, {type: 'application/binary'});\n",
              "      const a = document.createElement('a');\n",
              "      a.href = window.URL.createObjectURL(blob);\n",
              "      a.download = filename;\n",
              "      div.appendChild(a);\n",
              "      a.click();\n",
              "      div.remove();\n",
              "    }\n",
              "  "
            ],
            "text/plain": [
              "<IPython.core.display.Javascript object>"
            ]
          },
          "metadata": {
            "tags": []
          }
        },
        {
          "output_type": "display_data",
          "data": {
            "application/javascript": [
              "download(\"download_989bc28c-31c0-44bc-8682-f32fa3bae2d2\", \"best_model_HDF5.h5\", 16952)"
            ],
            "text/plain": [
              "<IPython.core.display.Javascript object>"
            ]
          },
          "metadata": {
            "tags": []
          }
        }
      ]
    },
    {
      "cell_type": "code",
      "metadata": {
        "id": "sgdqi04TrNfM"
      },
      "source": [
        "# From Colab to Google Drive\r\n",
        "!cp /content/best_model_HDF5.h5 /content/drive/MyDrive/tf_course"
      ],
      "execution_count": 69,
      "outputs": []
    },
    {
      "cell_type": "code",
      "metadata": {
        "colab": {
          "base_uri": "https://localhost:8080/"
        },
        "id": "7AQ1IMYtsDRM",
        "outputId": "2d428654-6db7-4849-c7a6-e52c837226a1"
      },
      "source": [
        "!ls /content/drive/MyDrive/tf_course"
      ],
      "execution_count": 70,
      "outputs": [
        {
          "output_type": "stream",
          "text": [
            "best_model_HDF5.h5\n"
          ],
          "name": "stdout"
        }
      ]
    },
    {
      "cell_type": "code",
      "metadata": {
        "id": "EC8wZv_Esk15"
      },
      "source": [
        "## A larger example - Insurance Dataset Regression"
      ],
      "execution_count": 71,
      "outputs": []
    },
    {
      "cell_type": "code",
      "metadata": {
        "id": "Volj1z7ZGeUK"
      },
      "source": [
        "# Import required libraries\r\n",
        "import tensorflow as tf\r\n",
        "import pandas as pd\r\n",
        "import matplotlib.pyplot as plt"
      ],
      "execution_count": 72,
      "outputs": []
    },
    {
      "cell_type": "code",
      "metadata": {
        "colab": {
          "base_uri": "https://localhost:8080/",
          "height": 419
        },
        "id": "2t25eJBPHsJ_",
        "outputId": "79cbd0fc-0a96-4e16-ba08-07617ebcd509"
      },
      "source": [
        "# Read in the insurance dataset from Kaggle\r\n",
        "insurance = pd.read_csv('https://raw.githubusercontent.com/stedy/Machine-Learning-with-R-datasets/master/insurance.csv')\r\n",
        "insurance"
      ],
      "execution_count": 73,
      "outputs": [
        {
          "output_type": "execute_result",
          "data": {
            "text/html": [
              "<div>\n",
              "<style scoped>\n",
              "    .dataframe tbody tr th:only-of-type {\n",
              "        vertical-align: middle;\n",
              "    }\n",
              "\n",
              "    .dataframe tbody tr th {\n",
              "        vertical-align: top;\n",
              "    }\n",
              "\n",
              "    .dataframe thead th {\n",
              "        text-align: right;\n",
              "    }\n",
              "</style>\n",
              "<table border=\"1\" class=\"dataframe\">\n",
              "  <thead>\n",
              "    <tr style=\"text-align: right;\">\n",
              "      <th></th>\n",
              "      <th>age</th>\n",
              "      <th>sex</th>\n",
              "      <th>bmi</th>\n",
              "      <th>children</th>\n",
              "      <th>smoker</th>\n",
              "      <th>region</th>\n",
              "      <th>charges</th>\n",
              "    </tr>\n",
              "  </thead>\n",
              "  <tbody>\n",
              "    <tr>\n",
              "      <th>0</th>\n",
              "      <td>19</td>\n",
              "      <td>female</td>\n",
              "      <td>27.900</td>\n",
              "      <td>0</td>\n",
              "      <td>yes</td>\n",
              "      <td>southwest</td>\n",
              "      <td>16884.92400</td>\n",
              "    </tr>\n",
              "    <tr>\n",
              "      <th>1</th>\n",
              "      <td>18</td>\n",
              "      <td>male</td>\n",
              "      <td>33.770</td>\n",
              "      <td>1</td>\n",
              "      <td>no</td>\n",
              "      <td>southeast</td>\n",
              "      <td>1725.55230</td>\n",
              "    </tr>\n",
              "    <tr>\n",
              "      <th>2</th>\n",
              "      <td>28</td>\n",
              "      <td>male</td>\n",
              "      <td>33.000</td>\n",
              "      <td>3</td>\n",
              "      <td>no</td>\n",
              "      <td>southeast</td>\n",
              "      <td>4449.46200</td>\n",
              "    </tr>\n",
              "    <tr>\n",
              "      <th>3</th>\n",
              "      <td>33</td>\n",
              "      <td>male</td>\n",
              "      <td>22.705</td>\n",
              "      <td>0</td>\n",
              "      <td>no</td>\n",
              "      <td>northwest</td>\n",
              "      <td>21984.47061</td>\n",
              "    </tr>\n",
              "    <tr>\n",
              "      <th>4</th>\n",
              "      <td>32</td>\n",
              "      <td>male</td>\n",
              "      <td>28.880</td>\n",
              "      <td>0</td>\n",
              "      <td>no</td>\n",
              "      <td>northwest</td>\n",
              "      <td>3866.85520</td>\n",
              "    </tr>\n",
              "    <tr>\n",
              "      <th>...</th>\n",
              "      <td>...</td>\n",
              "      <td>...</td>\n",
              "      <td>...</td>\n",
              "      <td>...</td>\n",
              "      <td>...</td>\n",
              "      <td>...</td>\n",
              "      <td>...</td>\n",
              "    </tr>\n",
              "    <tr>\n",
              "      <th>1333</th>\n",
              "      <td>50</td>\n",
              "      <td>male</td>\n",
              "      <td>30.970</td>\n",
              "      <td>3</td>\n",
              "      <td>no</td>\n",
              "      <td>northwest</td>\n",
              "      <td>10600.54830</td>\n",
              "    </tr>\n",
              "    <tr>\n",
              "      <th>1334</th>\n",
              "      <td>18</td>\n",
              "      <td>female</td>\n",
              "      <td>31.920</td>\n",
              "      <td>0</td>\n",
              "      <td>no</td>\n",
              "      <td>northeast</td>\n",
              "      <td>2205.98080</td>\n",
              "    </tr>\n",
              "    <tr>\n",
              "      <th>1335</th>\n",
              "      <td>18</td>\n",
              "      <td>female</td>\n",
              "      <td>36.850</td>\n",
              "      <td>0</td>\n",
              "      <td>no</td>\n",
              "      <td>southeast</td>\n",
              "      <td>1629.83350</td>\n",
              "    </tr>\n",
              "    <tr>\n",
              "      <th>1336</th>\n",
              "      <td>21</td>\n",
              "      <td>female</td>\n",
              "      <td>25.800</td>\n",
              "      <td>0</td>\n",
              "      <td>no</td>\n",
              "      <td>southwest</td>\n",
              "      <td>2007.94500</td>\n",
              "    </tr>\n",
              "    <tr>\n",
              "      <th>1337</th>\n",
              "      <td>61</td>\n",
              "      <td>female</td>\n",
              "      <td>29.070</td>\n",
              "      <td>0</td>\n",
              "      <td>yes</td>\n",
              "      <td>northwest</td>\n",
              "      <td>29141.36030</td>\n",
              "    </tr>\n",
              "  </tbody>\n",
              "</table>\n",
              "<p>1338 rows × 7 columns</p>\n",
              "</div>"
            ],
            "text/plain": [
              "      age     sex     bmi  children smoker     region      charges\n",
              "0      19  female  27.900         0    yes  southwest  16884.92400\n",
              "1      18    male  33.770         1     no  southeast   1725.55230\n",
              "2      28    male  33.000         3     no  southeast   4449.46200\n",
              "3      33    male  22.705         0     no  northwest  21984.47061\n",
              "4      32    male  28.880         0     no  northwest   3866.85520\n",
              "...   ...     ...     ...       ...    ...        ...          ...\n",
              "1333   50    male  30.970         3     no  northwest  10600.54830\n",
              "1334   18  female  31.920         0     no  northeast   2205.98080\n",
              "1335   18  female  36.850         0     no  southeast   1629.83350\n",
              "1336   21  female  25.800         0     no  southwest   2007.94500\n",
              "1337   61  female  29.070         0    yes  northwest  29141.36030\n",
              "\n",
              "[1338 rows x 7 columns]"
            ]
          },
          "metadata": {
            "tags": []
          },
          "execution_count": 73
        }
      ]
    },
    {
      "cell_type": "code",
      "metadata": {
        "colab": {
          "base_uri": "https://localhost:8080/",
          "height": 204
        },
        "id": "5ir_pm7iI7Fe",
        "outputId": "e5199182-8aaf-4364-a6e1-d5f4f53d07e8"
      },
      "source": [
        "# First step: strings conversion to numerical encoding\r\n",
        "insurance_one_hot = pd.get_dummies(insurance)\r\n",
        "insurance_one_hot.head()"
      ],
      "execution_count": 74,
      "outputs": [
        {
          "output_type": "execute_result",
          "data": {
            "text/html": [
              "<div>\n",
              "<style scoped>\n",
              "    .dataframe tbody tr th:only-of-type {\n",
              "        vertical-align: middle;\n",
              "    }\n",
              "\n",
              "    .dataframe tbody tr th {\n",
              "        vertical-align: top;\n",
              "    }\n",
              "\n",
              "    .dataframe thead th {\n",
              "        text-align: right;\n",
              "    }\n",
              "</style>\n",
              "<table border=\"1\" class=\"dataframe\">\n",
              "  <thead>\n",
              "    <tr style=\"text-align: right;\">\n",
              "      <th></th>\n",
              "      <th>age</th>\n",
              "      <th>bmi</th>\n",
              "      <th>children</th>\n",
              "      <th>charges</th>\n",
              "      <th>sex_female</th>\n",
              "      <th>sex_male</th>\n",
              "      <th>smoker_no</th>\n",
              "      <th>smoker_yes</th>\n",
              "      <th>region_northeast</th>\n",
              "      <th>region_northwest</th>\n",
              "      <th>region_southeast</th>\n",
              "      <th>region_southwest</th>\n",
              "    </tr>\n",
              "  </thead>\n",
              "  <tbody>\n",
              "    <tr>\n",
              "      <th>0</th>\n",
              "      <td>19</td>\n",
              "      <td>27.900</td>\n",
              "      <td>0</td>\n",
              "      <td>16884.92400</td>\n",
              "      <td>1</td>\n",
              "      <td>0</td>\n",
              "      <td>0</td>\n",
              "      <td>1</td>\n",
              "      <td>0</td>\n",
              "      <td>0</td>\n",
              "      <td>0</td>\n",
              "      <td>1</td>\n",
              "    </tr>\n",
              "    <tr>\n",
              "      <th>1</th>\n",
              "      <td>18</td>\n",
              "      <td>33.770</td>\n",
              "      <td>1</td>\n",
              "      <td>1725.55230</td>\n",
              "      <td>0</td>\n",
              "      <td>1</td>\n",
              "      <td>1</td>\n",
              "      <td>0</td>\n",
              "      <td>0</td>\n",
              "      <td>0</td>\n",
              "      <td>1</td>\n",
              "      <td>0</td>\n",
              "    </tr>\n",
              "    <tr>\n",
              "      <th>2</th>\n",
              "      <td>28</td>\n",
              "      <td>33.000</td>\n",
              "      <td>3</td>\n",
              "      <td>4449.46200</td>\n",
              "      <td>0</td>\n",
              "      <td>1</td>\n",
              "      <td>1</td>\n",
              "      <td>0</td>\n",
              "      <td>0</td>\n",
              "      <td>0</td>\n",
              "      <td>1</td>\n",
              "      <td>0</td>\n",
              "    </tr>\n",
              "    <tr>\n",
              "      <th>3</th>\n",
              "      <td>33</td>\n",
              "      <td>22.705</td>\n",
              "      <td>0</td>\n",
              "      <td>21984.47061</td>\n",
              "      <td>0</td>\n",
              "      <td>1</td>\n",
              "      <td>1</td>\n",
              "      <td>0</td>\n",
              "      <td>0</td>\n",
              "      <td>1</td>\n",
              "      <td>0</td>\n",
              "      <td>0</td>\n",
              "    </tr>\n",
              "    <tr>\n",
              "      <th>4</th>\n",
              "      <td>32</td>\n",
              "      <td>28.880</td>\n",
              "      <td>0</td>\n",
              "      <td>3866.85520</td>\n",
              "      <td>0</td>\n",
              "      <td>1</td>\n",
              "      <td>1</td>\n",
              "      <td>0</td>\n",
              "      <td>0</td>\n",
              "      <td>1</td>\n",
              "      <td>0</td>\n",
              "      <td>0</td>\n",
              "    </tr>\n",
              "  </tbody>\n",
              "</table>\n",
              "</div>"
            ],
            "text/plain": [
              "   age     bmi  children  ...  region_northwest  region_southeast  region_southwest\n",
              "0   19  27.900         0  ...                 0                 0                 1\n",
              "1   18  33.770         1  ...                 0                 1                 0\n",
              "2   28  33.000         3  ...                 0                 1                 0\n",
              "3   33  22.705         0  ...                 1                 0                 0\n",
              "4   32  28.880         0  ...                 1                 0                 0\n",
              "\n",
              "[5 rows x 12 columns]"
            ]
          },
          "metadata": {
            "tags": []
          },
          "execution_count": 74
        }
      ]
    },
    {
      "cell_type": "code",
      "metadata": {
        "id": "-DcdXkWWKdrL"
      },
      "source": [
        "# Create X and y values (features and labels)\r\n",
        "# Create training and test sets\r\n",
        "# Build a neural network (similar to model_2)"
      ],
      "execution_count": 75,
      "outputs": []
    },
    {
      "cell_type": "code",
      "metadata": {
        "id": "ox33puzOL1nz"
      },
      "source": [
        "# Create X and y values (features and labels)\r\n",
        "X = insurance_one_hot.drop(\"charges\", axis=1)\r\n",
        "y = insurance_one_hot[\"charges\"]"
      ],
      "execution_count": 76,
      "outputs": []
    },
    {
      "cell_type": "code",
      "metadata": {
        "colab": {
          "base_uri": "https://localhost:8080/",
          "height": 204
        },
        "id": "7WFUQOcRNDFK",
        "outputId": "f2532f6e-3253-4655-f79b-6bab3556d2e2"
      },
      "source": [
        "# View X\r\n",
        "X.head()"
      ],
      "execution_count": 77,
      "outputs": [
        {
          "output_type": "execute_result",
          "data": {
            "text/html": [
              "<div>\n",
              "<style scoped>\n",
              "    .dataframe tbody tr th:only-of-type {\n",
              "        vertical-align: middle;\n",
              "    }\n",
              "\n",
              "    .dataframe tbody tr th {\n",
              "        vertical-align: top;\n",
              "    }\n",
              "\n",
              "    .dataframe thead th {\n",
              "        text-align: right;\n",
              "    }\n",
              "</style>\n",
              "<table border=\"1\" class=\"dataframe\">\n",
              "  <thead>\n",
              "    <tr style=\"text-align: right;\">\n",
              "      <th></th>\n",
              "      <th>age</th>\n",
              "      <th>bmi</th>\n",
              "      <th>children</th>\n",
              "      <th>sex_female</th>\n",
              "      <th>sex_male</th>\n",
              "      <th>smoker_no</th>\n",
              "      <th>smoker_yes</th>\n",
              "      <th>region_northeast</th>\n",
              "      <th>region_northwest</th>\n",
              "      <th>region_southeast</th>\n",
              "      <th>region_southwest</th>\n",
              "    </tr>\n",
              "  </thead>\n",
              "  <tbody>\n",
              "    <tr>\n",
              "      <th>0</th>\n",
              "      <td>19</td>\n",
              "      <td>27.900</td>\n",
              "      <td>0</td>\n",
              "      <td>1</td>\n",
              "      <td>0</td>\n",
              "      <td>0</td>\n",
              "      <td>1</td>\n",
              "      <td>0</td>\n",
              "      <td>0</td>\n",
              "      <td>0</td>\n",
              "      <td>1</td>\n",
              "    </tr>\n",
              "    <tr>\n",
              "      <th>1</th>\n",
              "      <td>18</td>\n",
              "      <td>33.770</td>\n",
              "      <td>1</td>\n",
              "      <td>0</td>\n",
              "      <td>1</td>\n",
              "      <td>1</td>\n",
              "      <td>0</td>\n",
              "      <td>0</td>\n",
              "      <td>0</td>\n",
              "      <td>1</td>\n",
              "      <td>0</td>\n",
              "    </tr>\n",
              "    <tr>\n",
              "      <th>2</th>\n",
              "      <td>28</td>\n",
              "      <td>33.000</td>\n",
              "      <td>3</td>\n",
              "      <td>0</td>\n",
              "      <td>1</td>\n",
              "      <td>1</td>\n",
              "      <td>0</td>\n",
              "      <td>0</td>\n",
              "      <td>0</td>\n",
              "      <td>1</td>\n",
              "      <td>0</td>\n",
              "    </tr>\n",
              "    <tr>\n",
              "      <th>3</th>\n",
              "      <td>33</td>\n",
              "      <td>22.705</td>\n",
              "      <td>0</td>\n",
              "      <td>0</td>\n",
              "      <td>1</td>\n",
              "      <td>1</td>\n",
              "      <td>0</td>\n",
              "      <td>0</td>\n",
              "      <td>1</td>\n",
              "      <td>0</td>\n",
              "      <td>0</td>\n",
              "    </tr>\n",
              "    <tr>\n",
              "      <th>4</th>\n",
              "      <td>32</td>\n",
              "      <td>28.880</td>\n",
              "      <td>0</td>\n",
              "      <td>0</td>\n",
              "      <td>1</td>\n",
              "      <td>1</td>\n",
              "      <td>0</td>\n",
              "      <td>0</td>\n",
              "      <td>1</td>\n",
              "      <td>0</td>\n",
              "      <td>0</td>\n",
              "    </tr>\n",
              "  </tbody>\n",
              "</table>\n",
              "</div>"
            ],
            "text/plain": [
              "   age     bmi  children  ...  region_northwest  region_southeast  region_southwest\n",
              "0   19  27.900         0  ...                 0                 0                 1\n",
              "1   18  33.770         1  ...                 0                 1                 0\n",
              "2   28  33.000         3  ...                 0                 1                 0\n",
              "3   33  22.705         0  ...                 1                 0                 0\n",
              "4   32  28.880         0  ...                 1                 0                 0\n",
              "\n",
              "[5 rows x 11 columns]"
            ]
          },
          "metadata": {
            "tags": []
          },
          "execution_count": 77
        }
      ]
    },
    {
      "cell_type": "code",
      "metadata": {
        "colab": {
          "base_uri": "https://localhost:8080/"
        },
        "id": "-By0uM7LNHLA",
        "outputId": "cf407f1a-1d63-4fc9-c2ac-e7fd4b315abf"
      },
      "source": [
        "# View y\r\n",
        "y.head()"
      ],
      "execution_count": 78,
      "outputs": [
        {
          "output_type": "execute_result",
          "data": {
            "text/plain": [
              "0    16884.92400\n",
              "1     1725.55230\n",
              "2     4449.46200\n",
              "3    21984.47061\n",
              "4     3866.85520\n",
              "Name: charges, dtype: float64"
            ]
          },
          "metadata": {
            "tags": []
          },
          "execution_count": 78
        }
      ]
    },
    {
      "cell_type": "code",
      "metadata": {
        "colab": {
          "base_uri": "https://localhost:8080/"
        },
        "id": "FQUoV8_kNLch",
        "outputId": "0279379b-27bb-4957-e219-61226dd273ea"
      },
      "source": [
        "# Create training and test sets (from scikit learn)\r\n",
        "from sklearn.model_selection import train_test_split\r\n",
        "X_train, X_test, y_train, y_test = train_test_split(X, y, test_size=0.2, random_state=42)\r\n",
        "len(X), len(X_train), len(X_test) "
      ],
      "execution_count": 79,
      "outputs": [
        {
          "output_type": "execute_result",
          "data": {
            "text/plain": [
              "(1338, 1070, 268)"
            ]
          },
          "metadata": {
            "tags": []
          },
          "execution_count": 79
        }
      ]
    },
    {
      "cell_type": "code",
      "metadata": {
        "colab": {
          "base_uri": "https://localhost:8080/"
        },
        "id": "n1LyzLU3N1nF",
        "outputId": "e3c924c6-d0a5-4db7-c9d8-9d36371fe2c3"
      },
      "source": [
        "# Build a neural network (similar to model_2)\r\n",
        "tf.random.set_seed(42)\r\n",
        "\r\n",
        "insurance_model = tf.keras.Sequential([\r\n",
        "        tf.keras.layers.Dense(10),\r\n",
        "        tf.keras.layers.Dense(1)\r\n",
        "])\r\n",
        "\r\n",
        "insurance_model.compile(loss=tf.keras.losses.mae,\r\n",
        "                        optimizer=tf.keras.optimizers.SGD(),\r\n",
        "                        metrics=['mae'])\r\n",
        "\r\n",
        "insurance_model.fit(X_train, y_train, epochs=100)\r\n"
      ],
      "execution_count": 80,
      "outputs": [
        {
          "output_type": "stream",
          "text": [
            "Epoch 1/100\n",
            "34/34 [==============================] - 0s 3ms/step - loss: 10200.7270 - mae: 10200.7270\n",
            "Epoch 2/100\n",
            "34/34 [==============================] - 0s 3ms/step - loss: 7718.1918 - mae: 7718.1918\n",
            "Epoch 3/100\n",
            "34/34 [==============================] - 0s 2ms/step - loss: 6983.7826 - mae: 6983.7826\n",
            "Epoch 4/100\n",
            "34/34 [==============================] - 0s 2ms/step - loss: 8083.4823 - mae: 8083.4823\n",
            "Epoch 5/100\n",
            "34/34 [==============================] - 0s 3ms/step - loss: 7793.8446 - mae: 7793.8446\n",
            "Epoch 6/100\n",
            "34/34 [==============================] - 0s 3ms/step - loss: 7618.4114 - mae: 7618.4114\n",
            "Epoch 7/100\n",
            "34/34 [==============================] - 0s 2ms/step - loss: 7678.4979 - mae: 7678.4979\n",
            "Epoch 8/100\n",
            "34/34 [==============================] - 0s 2ms/step - loss: 7780.4296 - mae: 7780.4296\n",
            "Epoch 9/100\n",
            "34/34 [==============================] - 0s 2ms/step - loss: 7588.8135 - mae: 7588.8135\n",
            "Epoch 10/100\n",
            "34/34 [==============================] - 0s 2ms/step - loss: 7520.6833 - mae: 7520.6833\n",
            "Epoch 11/100\n",
            "34/34 [==============================] - 0s 2ms/step - loss: 8309.7820 - mae: 8309.7820\n",
            "Epoch 12/100\n",
            "34/34 [==============================] - 0s 2ms/step - loss: 7748.0186 - mae: 7748.0186\n",
            "Epoch 13/100\n",
            "34/34 [==============================] - 0s 2ms/step - loss: 7888.3562 - mae: 7888.3562\n",
            "Epoch 14/100\n",
            "34/34 [==============================] - 0s 2ms/step - loss: 7731.1164 - mae: 7731.1164\n",
            "Epoch 15/100\n",
            "34/34 [==============================] - 0s 2ms/step - loss: 7786.1045 - mae: 7786.1045\n",
            "Epoch 16/100\n",
            "34/34 [==============================] - 0s 2ms/step - loss: 8343.8855 - mae: 8343.8855\n",
            "Epoch 17/100\n",
            "34/34 [==============================] - 0s 3ms/step - loss: 7142.3603 - mae: 7142.3603\n",
            "Epoch 18/100\n",
            "34/34 [==============================] - 0s 3ms/step - loss: 8070.0508 - mae: 8070.0508\n",
            "Epoch 19/100\n",
            "34/34 [==============================] - 0s 2ms/step - loss: 7604.8299 - mae: 7604.8299\n",
            "Epoch 20/100\n",
            "34/34 [==============================] - 0s 2ms/step - loss: 7945.1270 - mae: 7945.1270\n",
            "Epoch 21/100\n",
            "34/34 [==============================] - 0s 2ms/step - loss: 6864.6823 - mae: 6864.6823\n",
            "Epoch 22/100\n",
            "34/34 [==============================] - 0s 2ms/step - loss: 7505.7908 - mae: 7505.7908\n",
            "Epoch 23/100\n",
            "34/34 [==============================] - 0s 2ms/step - loss: 7621.7372 - mae: 7621.7372\n",
            "Epoch 24/100\n",
            "34/34 [==============================] - 0s 2ms/step - loss: 7262.7541 - mae: 7262.7541\n",
            "Epoch 25/100\n",
            "34/34 [==============================] - 0s 3ms/step - loss: 8156.1939 - mae: 8156.1939\n",
            "Epoch 26/100\n",
            "34/34 [==============================] - 0s 2ms/step - loss: 7246.2703 - mae: 7246.2703\n",
            "Epoch 27/100\n",
            "34/34 [==============================] - 0s 2ms/step - loss: 7562.7813 - mae: 7562.7813\n",
            "Epoch 28/100\n",
            "34/34 [==============================] - 0s 3ms/step - loss: 7842.6212 - mae: 7842.6212\n",
            "Epoch 29/100\n",
            "34/34 [==============================] - 0s 2ms/step - loss: 7153.8770 - mae: 7153.8770\n",
            "Epoch 30/100\n",
            "34/34 [==============================] - 0s 2ms/step - loss: 7723.4951 - mae: 7723.4951\n",
            "Epoch 31/100\n",
            "34/34 [==============================] - 0s 3ms/step - loss: 8310.0632 - mae: 8310.0632\n",
            "Epoch 32/100\n",
            "34/34 [==============================] - 0s 3ms/step - loss: 7734.9652 - mae: 7734.9652\n",
            "Epoch 33/100\n",
            "34/34 [==============================] - 0s 2ms/step - loss: 7403.4652 - mae: 7403.4652\n",
            "Epoch 34/100\n",
            "34/34 [==============================] - 0s 3ms/step - loss: 7482.6286 - mae: 7482.6286\n",
            "Epoch 35/100\n",
            "34/34 [==============================] - 0s 2ms/step - loss: 7198.8916 - mae: 7198.8916\n",
            "Epoch 36/100\n",
            "34/34 [==============================] - 0s 3ms/step - loss: 7484.1021 - mae: 7484.1021\n",
            "Epoch 37/100\n",
            "34/34 [==============================] - 0s 2ms/step - loss: 7701.6289 - mae: 7701.6289\n",
            "Epoch 38/100\n",
            "34/34 [==============================] - 0s 2ms/step - loss: 6923.6141 - mae: 6923.6141\n",
            "Epoch 39/100\n",
            "34/34 [==============================] - 0s 3ms/step - loss: 7673.7910 - mae: 7673.7910\n",
            "Epoch 40/100\n",
            "34/34 [==============================] - 0s 2ms/step - loss: 7670.9199 - mae: 7670.9199\n",
            "Epoch 41/100\n",
            "34/34 [==============================] - 0s 2ms/step - loss: 7774.5873 - mae: 7774.5873\n",
            "Epoch 42/100\n",
            "34/34 [==============================] - 0s 2ms/step - loss: 7413.0888 - mae: 7413.0888\n",
            "Epoch 43/100\n",
            "34/34 [==============================] - 0s 2ms/step - loss: 7793.8655 - mae: 7793.8655\n",
            "Epoch 44/100\n",
            "34/34 [==============================] - 0s 2ms/step - loss: 7239.3574 - mae: 7239.3574\n",
            "Epoch 45/100\n",
            "34/34 [==============================] - 0s 3ms/step - loss: 7402.6549 - mae: 7402.6549\n",
            "Epoch 46/100\n",
            "34/34 [==============================] - 0s 2ms/step - loss: 7167.7285 - mae: 7167.7285\n",
            "Epoch 47/100\n",
            "34/34 [==============================] - 0s 3ms/step - loss: 7716.9022 - mae: 7716.9022\n",
            "Epoch 48/100\n",
            "34/34 [==============================] - 0s 3ms/step - loss: 7509.9130 - mae: 7509.9130\n",
            "Epoch 49/100\n",
            "34/34 [==============================] - 0s 2ms/step - loss: 7216.6764 - mae: 7216.6764\n",
            "Epoch 50/100\n",
            "34/34 [==============================] - 0s 2ms/step - loss: 7354.2577 - mae: 7354.2577\n",
            "Epoch 51/100\n",
            "34/34 [==============================] - 0s 3ms/step - loss: 7587.3336 - mae: 7587.3336\n",
            "Epoch 52/100\n",
            "34/34 [==============================] - 0s 2ms/step - loss: 7697.7628 - mae: 7697.7628\n",
            "Epoch 53/100\n",
            "34/34 [==============================] - 0s 2ms/step - loss: 7084.7631 - mae: 7084.7631\n",
            "Epoch 54/100\n",
            "34/34 [==============================] - 0s 2ms/step - loss: 7366.1157 - mae: 7366.1157\n",
            "Epoch 55/100\n",
            "34/34 [==============================] - 0s 2ms/step - loss: 7354.5008 - mae: 7354.5008\n",
            "Epoch 56/100\n",
            "34/34 [==============================] - 0s 3ms/step - loss: 7201.4708 - mae: 7201.4708\n",
            "Epoch 57/100\n",
            "34/34 [==============================] - 0s 2ms/step - loss: 7612.1700 - mae: 7612.1700\n",
            "Epoch 58/100\n",
            "34/34 [==============================] - 0s 2ms/step - loss: 7684.3349 - mae: 7684.3349\n",
            "Epoch 59/100\n",
            "34/34 [==============================] - 0s 3ms/step - loss: 7315.3646 - mae: 7315.3646\n",
            "Epoch 60/100\n",
            "34/34 [==============================] - 0s 2ms/step - loss: 7381.6653 - mae: 7381.6653\n",
            "Epoch 61/100\n",
            "34/34 [==============================] - 0s 3ms/step - loss: 7842.5242 - mae: 7842.5242\n",
            "Epoch 62/100\n",
            "34/34 [==============================] - 0s 3ms/step - loss: 7346.2638 - mae: 7346.2638\n",
            "Epoch 63/100\n",
            "34/34 [==============================] - 0s 2ms/step - loss: 7634.5365 - mae: 7634.5365\n",
            "Epoch 64/100\n",
            "34/34 [==============================] - 0s 3ms/step - loss: 6976.2132 - mae: 6976.2132\n",
            "Epoch 65/100\n",
            "34/34 [==============================] - 0s 2ms/step - loss: 7608.7969 - mae: 7608.7969\n",
            "Epoch 66/100\n",
            "34/34 [==============================] - 0s 2ms/step - loss: 7275.7900 - mae: 7275.7900\n",
            "Epoch 67/100\n",
            "34/34 [==============================] - 0s 3ms/step - loss: 7244.1644 - mae: 7244.1644\n",
            "Epoch 68/100\n",
            "34/34 [==============================] - 0s 3ms/step - loss: 7553.0941 - mae: 7553.0941\n",
            "Epoch 69/100\n",
            "34/34 [==============================] - 0s 3ms/step - loss: 8028.1951 - mae: 8028.1951\n",
            "Epoch 70/100\n",
            "34/34 [==============================] - 0s 3ms/step - loss: 7150.7134 - mae: 7150.7134\n",
            "Epoch 71/100\n",
            "34/34 [==============================] - 0s 3ms/step - loss: 7137.5191 - mae: 7137.5191\n",
            "Epoch 72/100\n",
            "34/34 [==============================] - 0s 3ms/step - loss: 6708.9295 - mae: 6708.9295\n",
            "Epoch 73/100\n",
            "34/34 [==============================] - 0s 3ms/step - loss: 7554.2730 - mae: 7554.2730\n",
            "Epoch 74/100\n",
            "34/34 [==============================] - 0s 3ms/step - loss: 7060.4081 - mae: 7060.4081\n",
            "Epoch 75/100\n",
            "34/34 [==============================] - 0s 2ms/step - loss: 7564.8152 - mae: 7564.8152\n",
            "Epoch 76/100\n",
            "34/34 [==============================] - 0s 2ms/step - loss: 7016.7821 - mae: 7016.7821\n",
            "Epoch 77/100\n",
            "34/34 [==============================] - 0s 2ms/step - loss: 7936.9767 - mae: 7936.9767\n",
            "Epoch 78/100\n",
            "34/34 [==============================] - 0s 2ms/step - loss: 6828.1384 - mae: 6828.1384\n",
            "Epoch 79/100\n",
            "34/34 [==============================] - 0s 2ms/step - loss: 6875.0794 - mae: 6875.0794\n",
            "Epoch 80/100\n",
            "34/34 [==============================] - 0s 3ms/step - loss: 6770.6306 - mae: 6770.6306\n",
            "Epoch 81/100\n",
            "34/34 [==============================] - 0s 3ms/step - loss: 7216.2090 - mae: 7216.2090\n",
            "Epoch 82/100\n",
            "34/34 [==============================] - 0s 2ms/step - loss: 7774.2732 - mae: 7774.2732\n",
            "Epoch 83/100\n",
            "34/34 [==============================] - 0s 3ms/step - loss: 7156.2550 - mae: 7156.2550\n",
            "Epoch 84/100\n",
            "34/34 [==============================] - 0s 2ms/step - loss: 7436.0035 - mae: 7436.0035\n",
            "Epoch 85/100\n",
            "34/34 [==============================] - 0s 2ms/step - loss: 6855.7933 - mae: 6855.7933\n",
            "Epoch 86/100\n",
            "34/34 [==============================] - 0s 3ms/step - loss: 7768.8281 - mae: 7768.8281\n",
            "Epoch 87/100\n",
            "34/34 [==============================] - 0s 3ms/step - loss: 7014.5800 - mae: 7014.5800\n",
            "Epoch 88/100\n",
            "34/34 [==============================] - 0s 3ms/step - loss: 7525.7778 - mae: 7525.7778\n",
            "Epoch 89/100\n",
            "34/34 [==============================] - 0s 3ms/step - loss: 6994.6074 - mae: 6994.6074\n",
            "Epoch 90/100\n",
            "34/34 [==============================] - 0s 3ms/step - loss: 7677.9607 - mae: 7677.9607\n",
            "Epoch 91/100\n",
            "34/34 [==============================] - 0s 3ms/step - loss: 7210.0513 - mae: 7210.0513\n",
            "Epoch 92/100\n",
            "34/34 [==============================] - 0s 2ms/step - loss: 7335.2240 - mae: 7335.2240\n",
            "Epoch 93/100\n",
            "34/34 [==============================] - 0s 2ms/step - loss: 7235.0909 - mae: 7235.0909\n",
            "Epoch 94/100\n",
            "34/34 [==============================] - 0s 3ms/step - loss: 6728.8877 - mae: 6728.8877\n",
            "Epoch 95/100\n",
            "34/34 [==============================] - 0s 3ms/step - loss: 7811.5171 - mae: 7811.5171\n",
            "Epoch 96/100\n",
            "34/34 [==============================] - 0s 3ms/step - loss: 7430.2762 - mae: 7430.2762\n",
            "Epoch 97/100\n",
            "34/34 [==============================] - 0s 2ms/step - loss: 6876.5972 - mae: 6876.5972\n",
            "Epoch 98/100\n",
            "34/34 [==============================] - 0s 3ms/step - loss: 7070.8700 - mae: 7070.8700\n",
            "Epoch 99/100\n",
            "34/34 [==============================] - 0s 2ms/step - loss: 7118.6867 - mae: 7118.6867\n",
            "Epoch 100/100\n",
            "34/34 [==============================] - 0s 2ms/step - loss: 6880.6744 - mae: 6880.6744\n"
          ],
          "name": "stdout"
        },
        {
          "output_type": "execute_result",
          "data": {
            "text/plain": [
              "<tensorflow.python.keras.callbacks.History at 0x7ff23bd2cd10>"
            ]
          },
          "metadata": {
            "tags": []
          },
          "execution_count": 80
        }
      ]
    },
    {
      "cell_type": "code",
      "metadata": {
        "colab": {
          "base_uri": "https://localhost:8080/"
        },
        "id": "xPpUmCG8P-gE",
        "outputId": "25faf7e3-aa66-4ed6-ccc7-aed25141c35e"
      },
      "source": [
        "# Check the results of the insurance model on the test data\r\n",
        "insurance_model.evaluate(X_test, y_test)"
      ],
      "execution_count": 81,
      "outputs": [
        {
          "output_type": "stream",
          "text": [
            "9/9 [==============================] - 0s 2ms/step - loss: 7023.3281 - mae: 7023.3281\n"
          ],
          "name": "stdout"
        },
        {
          "output_type": "execute_result",
          "data": {
            "text/plain": [
              "[7023.328125, 7023.328125]"
            ]
          },
          "metadata": {
            "tags": []
          },
          "execution_count": 81
        }
      ]
    },
    {
      "cell_type": "code",
      "metadata": {
        "colab": {
          "base_uri": "https://localhost:8080/"
        },
        "id": "Dmscv0xTQjY0",
        "outputId": "327d54eb-6309-456d-aa20-139f358b85a2"
      },
      "source": [
        "y_train.median(), y_train.mean()"
      ],
      "execution_count": 82,
      "outputs": [
        {
          "output_type": "execute_result",
          "data": {
            "text/plain": [
              "(9575.4421, 13346.089736364489)"
            ]
          },
          "metadata": {
            "tags": []
          },
          "execution_count": 82
        }
      ]
    },
    {
      "cell_type": "markdown",
      "metadata": {
        "id": "MSiVqBadQ6et"
      },
      "source": [
        "Our model is not performing, improve it"
      ]
    },
    {
      "cell_type": "code",
      "metadata": {
        "colab": {
          "base_uri": "https://localhost:8080/"
        },
        "id": "hmS5t_ufRaLP",
        "outputId": "81e6bb66-6f0e-44b2-8e41-7b0c67417ca1"
      },
      "source": [
        "# Experiment: adding an extra layer and changing optimizer\r\n",
        "tf.random.set_seed(42)\r\n",
        "\r\n",
        "insurance_model_2 = tf.keras.Sequential([\r\n",
        "        tf.keras.layers.Dense(100),\r\n",
        "        tf.keras.layers.Dense(10),\r\n",
        "        tf.keras.layers.Dense(1)\r\n",
        "])\r\n",
        "\r\n",
        "insurance_model_2.compile(loss=tf.keras.losses.mae,\r\n",
        "                        optimizer=tf.keras.optimizers.Adam(),\r\n",
        "                        metrics=['mae'])\r\n",
        "\r\n",
        "insurance_model_2.fit(X_train, y_train, epochs=100, verbose=0)"
      ],
      "execution_count": 83,
      "outputs": [
        {
          "output_type": "execute_result",
          "data": {
            "text/plain": [
              "<tensorflow.python.keras.callbacks.History at 0x7ff289917150>"
            ]
          },
          "metadata": {
            "tags": []
          },
          "execution_count": 83
        }
      ]
    },
    {
      "cell_type": "code",
      "metadata": {
        "colab": {
          "base_uri": "https://localhost:8080/"
        },
        "id": "SapsCO5hRlAC",
        "outputId": "826adae4-535e-4330-f4cb-f6c0b909cb91"
      },
      "source": [
        "# Evaluate the larger model\r\n",
        "insurance_model_2.evaluate(X_test, y_test) "
      ],
      "execution_count": 84,
      "outputs": [
        {
          "output_type": "stream",
          "text": [
            "9/9 [==============================] - 0s 2ms/step - loss: 4924.5107 - mae: 4924.5107\n"
          ],
          "name": "stdout"
        },
        {
          "output_type": "execute_result",
          "data": {
            "text/plain": [
              "[4924.5107421875, 4924.5107421875]"
            ]
          },
          "metadata": {
            "tags": []
          },
          "execution_count": 84
        }
      ]
    },
    {
      "cell_type": "code",
      "metadata": {
        "colab": {
          "base_uri": "https://localhost:8080/"
        },
        "id": "k4w5DEX5Tqob",
        "outputId": "5798307c-0579-42a1-a106-5bf3cb0481e7"
      },
      "source": [
        "# Experiment: more epochs\r\n",
        "tf.random.set_seed(42)\r\n",
        "\r\n",
        "insurance_model_3 = tf.keras.Sequential([\r\n",
        "                    tf.keras.layers.Dense(100),\r\n",
        "                    tf.keras.layers.Dense(10),\r\n",
        "                    tf.keras.layers.Dense(1)\r\n",
        "]) \r\n",
        "\r\n",
        "insurance_model_3.compile(loss=tf.keras.losses.mae,\r\n",
        "                          optimizer=tf.keras.optimizers.Adam(),\r\n",
        "                          metrics=[\"mae\"])\r\n",
        "\r\n",
        "history = insurance_model_3.fit(X_train, y_train, epochs= 200, verbose=2)"
      ],
      "execution_count": 85,
      "outputs": [
        {
          "output_type": "stream",
          "text": [
            "Epoch 1/200\n",
            "34/34 - 0s - loss: 13273.1602 - mae: 13273.1602\n",
            "Epoch 2/200\n",
            "34/34 - 0s - loss: 13104.4287 - mae: 13104.4287\n",
            "Epoch 3/200\n",
            "34/34 - 0s - loss: 12749.5400 - mae: 12749.5400\n",
            "Epoch 4/200\n",
            "34/34 - 0s - loss: 12055.7500 - mae: 12055.7500\n",
            "Epoch 5/200\n",
            "34/34 - 0s - loss: 10905.8135 - mae: 10905.8135\n",
            "Epoch 6/200\n",
            "34/34 - 0s - loss: 9457.7188 - mae: 9457.7188\n",
            "Epoch 7/200\n",
            "34/34 - 0s - loss: 8147.6533 - mae: 8147.6533\n",
            "Epoch 8/200\n",
            "34/34 - 0s - loss: 7528.8398 - mae: 7528.8398\n",
            "Epoch 9/200\n",
            "34/34 - 0s - loss: 7429.1528 - mae: 7429.1528\n",
            "Epoch 10/200\n",
            "34/34 - 0s - loss: 7409.0811 - mae: 7409.0811\n",
            "Epoch 11/200\n",
            "34/34 - 0s - loss: 7390.8042 - mae: 7390.8042\n",
            "Epoch 12/200\n",
            "34/34 - 0s - loss: 7368.9170 - mae: 7368.9170\n",
            "Epoch 13/200\n",
            "34/34 - 0s - loss: 7348.5195 - mae: 7348.5195\n",
            "Epoch 14/200\n",
            "34/34 - 0s - loss: 7326.4893 - mae: 7326.4893\n",
            "Epoch 15/200\n",
            "34/34 - 0s - loss: 7307.5811 - mae: 7307.5811\n",
            "Epoch 16/200\n",
            "34/34 - 0s - loss: 7285.7734 - mae: 7285.7734\n",
            "Epoch 17/200\n",
            "34/34 - 0s - loss: 7265.7100 - mae: 7265.7100\n",
            "Epoch 18/200\n",
            "34/34 - 0s - loss: 7242.5498 - mae: 7242.5498\n",
            "Epoch 19/200\n",
            "34/34 - 0s - loss: 7220.5068 - mae: 7220.5068\n",
            "Epoch 20/200\n",
            "34/34 - 0s - loss: 7197.1978 - mae: 7197.1978\n",
            "Epoch 21/200\n",
            "34/34 - 0s - loss: 7179.0190 - mae: 7179.0190\n",
            "Epoch 22/200\n",
            "34/34 - 0s - loss: 7151.2104 - mae: 7151.2104\n",
            "Epoch 23/200\n",
            "34/34 - 0s - loss: 7126.4639 - mae: 7126.4639\n",
            "Epoch 24/200\n",
            "34/34 - 0s - loss: 7101.9194 - mae: 7101.9194\n",
            "Epoch 25/200\n",
            "34/34 - 0s - loss: 7084.3379 - mae: 7084.3379\n",
            "Epoch 26/200\n",
            "34/34 - 0s - loss: 7052.3291 - mae: 7052.3291\n",
            "Epoch 27/200\n",
            "34/34 - 0s - loss: 7024.3511 - mae: 7024.3511\n",
            "Epoch 28/200\n",
            "34/34 - 0s - loss: 6996.6963 - mae: 6996.6963\n",
            "Epoch 29/200\n",
            "34/34 - 0s - loss: 6969.0117 - mae: 6969.0117\n",
            "Epoch 30/200\n",
            "34/34 - 0s - loss: 6942.1899 - mae: 6942.1899\n",
            "Epoch 31/200\n",
            "34/34 - 0s - loss: 6911.7280 - mae: 6911.7280\n",
            "Epoch 32/200\n",
            "34/34 - 0s - loss: 6884.0205 - mae: 6884.0205\n",
            "Epoch 33/200\n",
            "34/34 - 0s - loss: 6853.4648 - mae: 6853.4648\n",
            "Epoch 34/200\n",
            "34/34 - 0s - loss: 6823.0674 - mae: 6823.0674\n",
            "Epoch 35/200\n",
            "34/34 - 0s - loss: 6789.6865 - mae: 6789.6865\n",
            "Epoch 36/200\n",
            "34/34 - 0s - loss: 6755.7646 - mae: 6755.7646\n",
            "Epoch 37/200\n",
            "34/34 - 0s - loss: 6720.2026 - mae: 6720.2026\n",
            "Epoch 38/200\n",
            "34/34 - 0s - loss: 6689.7163 - mae: 6689.7163\n",
            "Epoch 39/200\n",
            "34/34 - 0s - loss: 6652.4619 - mae: 6652.4619\n",
            "Epoch 40/200\n",
            "34/34 - 0s - loss: 6618.1016 - mae: 6618.1016\n",
            "Epoch 41/200\n",
            "34/34 - 0s - loss: 6585.8643 - mae: 6585.8643\n",
            "Epoch 42/200\n",
            "34/34 - 0s - loss: 6559.4956 - mae: 6559.4956\n",
            "Epoch 43/200\n",
            "34/34 - 0s - loss: 6530.0444 - mae: 6530.0444\n",
            "Epoch 44/200\n",
            "34/34 - 0s - loss: 6506.8071 - mae: 6506.8071\n",
            "Epoch 45/200\n",
            "34/34 - 0s - loss: 6493.5718 - mae: 6493.5718\n",
            "Epoch 46/200\n",
            "34/34 - 0s - loss: 6475.9263 - mae: 6475.9263\n",
            "Epoch 47/200\n",
            "34/34 - 0s - loss: 6458.8979 - mae: 6458.8979\n",
            "Epoch 48/200\n",
            "34/34 - 0s - loss: 6445.1494 - mae: 6445.1494\n",
            "Epoch 49/200\n",
            "34/34 - 0s - loss: 6430.9639 - mae: 6430.9639\n",
            "Epoch 50/200\n",
            "34/34 - 0s - loss: 6417.7515 - mae: 6417.7515\n",
            "Epoch 51/200\n",
            "34/34 - 0s - loss: 6403.2764 - mae: 6403.2764\n",
            "Epoch 52/200\n",
            "34/34 - 0s - loss: 6392.4141 - mae: 6392.4141\n",
            "Epoch 53/200\n",
            "34/34 - 0s - loss: 6378.7456 - mae: 6378.7456\n",
            "Epoch 54/200\n",
            "34/34 - 0s - loss: 6364.9131 - mae: 6364.9131\n",
            "Epoch 55/200\n",
            "34/34 - 0s - loss: 6351.5273 - mae: 6351.5273\n",
            "Epoch 56/200\n",
            "34/34 - 0s - loss: 6337.6606 - mae: 6337.6606\n",
            "Epoch 57/200\n",
            "34/34 - 0s - loss: 6324.8369 - mae: 6324.8369\n",
            "Epoch 58/200\n",
            "34/34 - 0s - loss: 6310.1948 - mae: 6310.1948\n",
            "Epoch 59/200\n",
            "34/34 - 0s - loss: 6295.6035 - mae: 6295.6035\n",
            "Epoch 60/200\n",
            "34/34 - 0s - loss: 6284.8696 - mae: 6284.8696\n",
            "Epoch 61/200\n",
            "34/34 - 0s - loss: 6265.6411 - mae: 6265.6411\n",
            "Epoch 62/200\n",
            "34/34 - 0s - loss: 6253.0098 - mae: 6253.0098\n",
            "Epoch 63/200\n",
            "34/34 - 0s - loss: 6234.9292 - mae: 6234.9292\n",
            "Epoch 64/200\n",
            "34/34 - 0s - loss: 6218.0435 - mae: 6218.0435\n",
            "Epoch 65/200\n",
            "34/34 - 0s - loss: 6201.1899 - mae: 6201.1899\n",
            "Epoch 66/200\n",
            "34/34 - 0s - loss: 6183.9590 - mae: 6183.9590\n",
            "Epoch 67/200\n",
            "34/34 - 0s - loss: 6171.2998 - mae: 6171.2998\n",
            "Epoch 68/200\n",
            "34/34 - 0s - loss: 6148.8403 - mae: 6148.8403\n",
            "Epoch 69/200\n",
            "34/34 - 0s - loss: 6132.5981 - mae: 6132.5981\n",
            "Epoch 70/200\n",
            "34/34 - 0s - loss: 6112.3848 - mae: 6112.3848\n",
            "Epoch 71/200\n",
            "34/34 - 0s - loss: 6092.7202 - mae: 6092.7202\n",
            "Epoch 72/200\n",
            "34/34 - 0s - loss: 6073.7422 - mae: 6073.7422\n",
            "Epoch 73/200\n",
            "34/34 - 0s - loss: 6059.4878 - mae: 6059.4878\n",
            "Epoch 74/200\n",
            "34/34 - 0s - loss: 6031.3857 - mae: 6031.3857\n",
            "Epoch 75/200\n",
            "34/34 - 0s - loss: 6010.3350 - mae: 6010.3350\n",
            "Epoch 76/200\n",
            "34/34 - 0s - loss: 5995.2188 - mae: 5995.2188\n",
            "Epoch 77/200\n",
            "34/34 - 0s - loss: 5963.0723 - mae: 5963.0723\n",
            "Epoch 78/200\n",
            "34/34 - 0s - loss: 5940.0610 - mae: 5940.0610\n",
            "Epoch 79/200\n",
            "34/34 - 0s - loss: 5915.1060 - mae: 5915.1060\n",
            "Epoch 80/200\n",
            "34/34 - 0s - loss: 5887.9995 - mae: 5887.9995\n",
            "Epoch 81/200\n",
            "34/34 - 0s - loss: 5861.6992 - mae: 5861.6992\n",
            "Epoch 82/200\n",
            "34/34 - 0s - loss: 5834.3081 - mae: 5834.3081\n",
            "Epoch 83/200\n",
            "34/34 - 0s - loss: 5805.8242 - mae: 5805.8242\n",
            "Epoch 84/200\n",
            "34/34 - 0s - loss: 5772.3237 - mae: 5772.3237\n",
            "Epoch 85/200\n",
            "34/34 - 0s - loss: 5745.1519 - mae: 5745.1519\n",
            "Epoch 86/200\n",
            "34/34 - 0s - loss: 5711.3491 - mae: 5711.3491\n",
            "Epoch 87/200\n",
            "34/34 - 0s - loss: 5674.5220 - mae: 5674.5220\n",
            "Epoch 88/200\n",
            "34/34 - 0s - loss: 5639.4927 - mae: 5639.4927\n",
            "Epoch 89/200\n",
            "34/34 - 0s - loss: 5600.6660 - mae: 5600.6660\n",
            "Epoch 90/200\n",
            "34/34 - 0s - loss: 5559.4326 - mae: 5559.4326\n",
            "Epoch 91/200\n",
            "34/34 - 0s - loss: 5523.6196 - mae: 5523.6196\n",
            "Epoch 92/200\n",
            "34/34 - 0s - loss: 5474.1260 - mae: 5474.1260\n",
            "Epoch 93/200\n",
            "34/34 - 0s - loss: 5432.2661 - mae: 5432.2661\n",
            "Epoch 94/200\n",
            "34/34 - 0s - loss: 5386.0532 - mae: 5386.0532\n",
            "Epoch 95/200\n",
            "34/34 - 0s - loss: 5333.1812 - mae: 5333.1812\n",
            "Epoch 96/200\n",
            "34/34 - 0s - loss: 5288.8169 - mae: 5288.8169\n",
            "Epoch 97/200\n",
            "34/34 - 0s - loss: 5234.6797 - mae: 5234.6797\n",
            "Epoch 98/200\n",
            "34/34 - 0s - loss: 5170.9375 - mae: 5170.9375\n",
            "Epoch 99/200\n",
            "34/34 - 0s - loss: 5112.9453 - mae: 5112.9453\n",
            "Epoch 100/200\n",
            "34/34 - 0s - loss: 5060.0874 - mae: 5060.0874\n",
            "Epoch 101/200\n",
            "34/34 - 0s - loss: 4987.7427 - mae: 4987.7427\n",
            "Epoch 102/200\n",
            "34/34 - 0s - loss: 4915.4482 - mae: 4915.4482\n",
            "Epoch 103/200\n",
            "34/34 - 0s - loss: 4847.4873 - mae: 4847.4873\n",
            "Epoch 104/200\n",
            "34/34 - 0s - loss: 4768.1816 - mae: 4768.1816\n",
            "Epoch 105/200\n",
            "34/34 - 0s - loss: 4683.4653 - mae: 4683.4653\n",
            "Epoch 106/200\n",
            "34/34 - 0s - loss: 4601.2080 - mae: 4601.2080\n",
            "Epoch 107/200\n",
            "34/34 - 0s - loss: 4513.4648 - mae: 4513.4648\n",
            "Epoch 108/200\n",
            "34/34 - 0s - loss: 4423.5952 - mae: 4423.5952\n",
            "Epoch 109/200\n",
            "34/34 - 0s - loss: 4339.2173 - mae: 4339.2173\n",
            "Epoch 110/200\n",
            "34/34 - 0s - loss: 4255.7876 - mae: 4255.7876\n",
            "Epoch 111/200\n",
            "34/34 - 0s - loss: 4174.8779 - mae: 4174.8779\n",
            "Epoch 112/200\n",
            "34/34 - 0s - loss: 4101.4253 - mae: 4101.4253\n",
            "Epoch 113/200\n",
            "34/34 - 0s - loss: 4031.7214 - mae: 4031.7214\n",
            "Epoch 114/200\n",
            "34/34 - 0s - loss: 3986.9099 - mae: 3986.9099\n",
            "Epoch 115/200\n",
            "34/34 - 0s - loss: 3944.5925 - mae: 3944.5925\n",
            "Epoch 116/200\n",
            "34/34 - 0s - loss: 3918.6150 - mae: 3918.6150\n",
            "Epoch 117/200\n",
            "34/34 - 0s - loss: 3896.7397 - mae: 3896.7397\n",
            "Epoch 118/200\n",
            "34/34 - 0s - loss: 3872.1240 - mae: 3872.1240\n",
            "Epoch 119/200\n",
            "34/34 - 0s - loss: 3851.9661 - mae: 3851.9661\n",
            "Epoch 120/200\n",
            "34/34 - 0s - loss: 3835.4456 - mae: 3835.4456\n",
            "Epoch 121/200\n",
            "34/34 - 0s - loss: 3829.4529 - mae: 3829.4529\n",
            "Epoch 122/200\n",
            "34/34 - 0s - loss: 3822.5408 - mae: 3822.5408\n",
            "Epoch 123/200\n",
            "34/34 - 0s - loss: 3814.8994 - mae: 3814.8994\n",
            "Epoch 124/200\n",
            "34/34 - 0s - loss: 3806.8062 - mae: 3806.8062\n",
            "Epoch 125/200\n",
            "34/34 - 0s - loss: 3795.5430 - mae: 3795.5430\n",
            "Epoch 126/200\n",
            "34/34 - 0s - loss: 3807.1846 - mae: 3807.1846\n",
            "Epoch 127/200\n",
            "34/34 - 0s - loss: 3797.8484 - mae: 3797.8484\n",
            "Epoch 128/200\n",
            "34/34 - 0s - loss: 3791.7207 - mae: 3791.7207\n",
            "Epoch 129/200\n",
            "34/34 - 0s - loss: 3802.8040 - mae: 3802.8040\n",
            "Epoch 130/200\n",
            "34/34 - 0s - loss: 3789.7971 - mae: 3789.7971\n",
            "Epoch 131/200\n",
            "34/34 - 0s - loss: 3781.4001 - mae: 3781.4001\n",
            "Epoch 132/200\n",
            "34/34 - 0s - loss: 3774.9463 - mae: 3774.9463\n",
            "Epoch 133/200\n",
            "34/34 - 0s - loss: 3770.7563 - mae: 3770.7563\n",
            "Epoch 134/200\n",
            "34/34 - 0s - loss: 3769.5464 - mae: 3769.5464\n",
            "Epoch 135/200\n",
            "34/34 - 0s - loss: 3767.2349 - mae: 3767.2349\n",
            "Epoch 136/200\n",
            "34/34 - 0s - loss: 3766.0596 - mae: 3766.0596\n",
            "Epoch 137/200\n",
            "34/34 - 0s - loss: 3775.8569 - mae: 3775.8569\n",
            "Epoch 138/200\n",
            "34/34 - 0s - loss: 3783.4236 - mae: 3783.4236\n",
            "Epoch 139/200\n",
            "34/34 - 0s - loss: 3761.3589 - mae: 3761.3589\n",
            "Epoch 140/200\n",
            "34/34 - 0s - loss: 3762.6270 - mae: 3762.6270\n",
            "Epoch 141/200\n",
            "34/34 - 0s - loss: 3763.7034 - mae: 3763.7034\n",
            "Epoch 142/200\n",
            "34/34 - 0s - loss: 3765.6416 - mae: 3765.6416\n",
            "Epoch 143/200\n",
            "34/34 - 0s - loss: 3755.0132 - mae: 3755.0132\n",
            "Epoch 144/200\n",
            "34/34 - 0s - loss: 3750.5750 - mae: 3750.5750\n",
            "Epoch 145/200\n",
            "34/34 - 0s - loss: 3751.1660 - mae: 3751.1660\n",
            "Epoch 146/200\n",
            "34/34 - 0s - loss: 3756.9319 - mae: 3756.9319\n",
            "Epoch 147/200\n",
            "34/34 - 0s - loss: 3751.6331 - mae: 3751.6331\n",
            "Epoch 148/200\n",
            "34/34 - 0s - loss: 3756.2720 - mae: 3756.2720\n",
            "Epoch 149/200\n",
            "34/34 - 0s - loss: 3743.5862 - mae: 3743.5862\n",
            "Epoch 150/200\n",
            "34/34 - 0s - loss: 3738.7122 - mae: 3738.7122\n",
            "Epoch 151/200\n",
            "34/34 - 0s - loss: 3741.1475 - mae: 3741.1475\n",
            "Epoch 152/200\n",
            "34/34 - 0s - loss: 3742.1658 - mae: 3742.1658\n",
            "Epoch 153/200\n",
            "34/34 - 0s - loss: 3743.0061 - mae: 3743.0061\n",
            "Epoch 154/200\n",
            "34/34 - 0s - loss: 3737.0344 - mae: 3737.0344\n",
            "Epoch 155/200\n",
            "34/34 - 0s - loss: 3737.9741 - mae: 3737.9741\n",
            "Epoch 156/200\n",
            "34/34 - 0s - loss: 3736.7349 - mae: 3736.7349\n",
            "Epoch 157/200\n",
            "34/34 - 0s - loss: 3732.5813 - mae: 3732.5813\n",
            "Epoch 158/200\n",
            "34/34 - 0s - loss: 3729.4282 - mae: 3729.4282\n",
            "Epoch 159/200\n",
            "34/34 - 0s - loss: 3728.5615 - mae: 3728.5615\n",
            "Epoch 160/200\n",
            "34/34 - 0s - loss: 3733.9944 - mae: 3733.9944\n",
            "Epoch 161/200\n",
            "34/34 - 0s - loss: 3728.1079 - mae: 3728.1079\n",
            "Epoch 162/200\n",
            "34/34 - 0s - loss: 3725.3669 - mae: 3725.3669\n",
            "Epoch 163/200\n",
            "34/34 - 0s - loss: 3722.9509 - mae: 3722.9509\n",
            "Epoch 164/200\n",
            "34/34 - 0s - loss: 3727.0620 - mae: 3727.0620\n",
            "Epoch 165/200\n",
            "34/34 - 0s - loss: 3717.6619 - mae: 3717.6619\n",
            "Epoch 166/200\n",
            "34/34 - 0s - loss: 3720.3696 - mae: 3720.3696\n",
            "Epoch 167/200\n",
            "34/34 - 0s - loss: 3720.2913 - mae: 3720.2913\n",
            "Epoch 168/200\n",
            "34/34 - 0s - loss: 3717.2764 - mae: 3717.2764\n",
            "Epoch 169/200\n",
            "34/34 - 0s - loss: 3713.5608 - mae: 3713.5608\n",
            "Epoch 170/200\n",
            "34/34 - 0s - loss: 3708.0085 - mae: 3708.0085\n",
            "Epoch 171/200\n",
            "34/34 - 0s - loss: 3707.6399 - mae: 3707.6399\n",
            "Epoch 172/200\n",
            "34/34 - 0s - loss: 3709.0317 - mae: 3709.0317\n",
            "Epoch 173/200\n",
            "34/34 - 0s - loss: 3705.1497 - mae: 3705.1497\n",
            "Epoch 174/200\n",
            "34/34 - 0s - loss: 3709.5408 - mae: 3709.5408\n",
            "Epoch 175/200\n",
            "34/34 - 0s - loss: 3710.9670 - mae: 3710.9670\n",
            "Epoch 176/200\n",
            "34/34 - 0s - loss: 3706.6680 - mae: 3706.6680\n",
            "Epoch 177/200\n",
            "34/34 - 0s - loss: 3698.9153 - mae: 3698.9153\n",
            "Epoch 178/200\n",
            "34/34 - 0s - loss: 3695.3816 - mae: 3695.3816\n",
            "Epoch 179/200\n",
            "34/34 - 0s - loss: 3706.8618 - mae: 3706.8618\n",
            "Epoch 180/200\n",
            "34/34 - 0s - loss: 3709.3875 - mae: 3709.3875\n",
            "Epoch 181/200\n",
            "34/34 - 0s - loss: 3695.9617 - mae: 3695.9617\n",
            "Epoch 182/200\n",
            "34/34 - 0s - loss: 3693.4846 - mae: 3693.4846\n",
            "Epoch 183/200\n",
            "34/34 - 0s - loss: 3691.5908 - mae: 3691.5908\n",
            "Epoch 184/200\n",
            "34/34 - 0s - loss: 3697.9917 - mae: 3697.9917\n",
            "Epoch 185/200\n",
            "34/34 - 0s - loss: 3692.3057 - mae: 3692.3057\n",
            "Epoch 186/200\n",
            "34/34 - 0s - loss: 3695.7458 - mae: 3695.7458\n",
            "Epoch 187/200\n",
            "34/34 - 0s - loss: 3688.8057 - mae: 3688.8057\n",
            "Epoch 188/200\n",
            "34/34 - 0s - loss: 3693.3767 - mae: 3693.3767\n",
            "Epoch 189/200\n",
            "34/34 - 0s - loss: 3684.3003 - mae: 3684.3003\n",
            "Epoch 190/200\n",
            "34/34 - 0s - loss: 3682.4170 - mae: 3682.4170\n",
            "Epoch 191/200\n",
            "34/34 - 0s - loss: 3701.8774 - mae: 3701.8774\n",
            "Epoch 192/200\n",
            "34/34 - 0s - loss: 3685.1750 - mae: 3685.1750\n",
            "Epoch 193/200\n",
            "34/34 - 0s - loss: 3674.1245 - mae: 3674.1245\n",
            "Epoch 194/200\n",
            "34/34 - 0s - loss: 3674.9355 - mae: 3674.9355\n",
            "Epoch 195/200\n",
            "34/34 - 0s - loss: 3672.9138 - mae: 3672.9138\n",
            "Epoch 196/200\n",
            "34/34 - 0s - loss: 3681.3555 - mae: 3681.3555\n",
            "Epoch 197/200\n",
            "34/34 - 0s - loss: 3666.5703 - mae: 3666.5703\n",
            "Epoch 198/200\n",
            "34/34 - 0s - loss: 3672.4158 - mae: 3672.4158\n",
            "Epoch 199/200\n",
            "34/34 - 0s - loss: 3680.3147 - mae: 3680.3147\n",
            "Epoch 200/200\n",
            "34/34 - 0s - loss: 3668.1567 - mae: 3668.1567\n"
          ],
          "name": "stdout"
        }
      ]
    },
    {
      "cell_type": "code",
      "metadata": {
        "colab": {
          "base_uri": "https://localhost:8080/"
        },
        "id": "ka6iJKwAVljd",
        "outputId": "c43c0739-2656-4502-877e-6642fc4e7e5b"
      },
      "source": [
        "insurance_model_3.evaluate(X_test, y_test)"
      ],
      "execution_count": 86,
      "outputs": [
        {
          "output_type": "stream",
          "text": [
            "9/9 [==============================] - 0s 2ms/step - loss: 3494.5325 - mae: 3494.5325\n"
          ],
          "name": "stdout"
        },
        {
          "output_type": "execute_result",
          "data": {
            "text/plain": [
              "[3494.532470703125, 3494.532470703125]"
            ]
          },
          "metadata": {
            "tags": []
          },
          "execution_count": 86
        }
      ]
    },
    {
      "cell_type": "code",
      "metadata": {
        "colab": {
          "base_uri": "https://localhost:8080/",
          "height": 297
        },
        "id": "2SwY0AG6V2Bi",
        "outputId": "a3e9eecf-6bd5-4525-9752-f933c8a8762d"
      },
      "source": [
        "# Plot history (same as loss curve or training curve)\r\n",
        "pd.DataFrame(history.history).plot()\r\n",
        "plt.ylabel(\"loss\")\r\n",
        "plt.xlabel(\"epochs\")"
      ],
      "execution_count": 87,
      "outputs": [
        {
          "output_type": "execute_result",
          "data": {
            "text/plain": [
              "Text(0.5, 0, 'epochs')"
            ]
          },
          "metadata": {
            "tags": []
          },
          "execution_count": 87
        },
        {
          "output_type": "display_data",
          "data": {
            "image/png": "[encoded data removed]",
            "text/plain": [
              "<Figure size 432x288 with 1 Axes>"
            ]
          },
          "metadata": {
            "tags": [],
            "needs_background": "light"
          }
        }
      ]
    },
    {
      "cell_type": "markdown",
      "metadata": {
        "id": "rwefwQXsXZju"
      },
      "source": [
        "#### How long should the model keep learning? It depends...and TF has Early Stopping Callback to stop training once stops improving"
      ]
    },
    {
      "cell_type": "markdown",
      "metadata": {
        "id": "9Et4XX9-hqWd"
      },
      "source": [
        "# Preprocessing data (normalization and standardization)\r\n",
        "\r\n",
        "1. Turn all data into numbers (NN can't handle strings)\r\n",
        "2. Make sure all tensors are the right shape\r\n",
        "3. Scale features (normalize or standardize. NN tend to prefer normalization)"
      ]
    },
    {
      "cell_type": "code",
      "metadata": {
        "colab": {
          "base_uri": "https://localhost:8080/",
          "height": 415
        },
        "id": "2VmzPhXWA05F",
        "outputId": "37afa830-92ac-4b10-9f36-c23333183f0d"
      },
      "source": [
        "import pandas as pd\r\n",
        "import matplotlib.pyplot as plt\r\n",
        "import tensorflow as tf\r\n",
        "\r\n",
        "# Read insurance dataframe (reinstantiate to ensure is fresh)\r\n",
        "insurance = pd.read_csv('https://raw.githubusercontent.com/stedy/Machine-Learning-with-R-datasets/master/insurance.csv')\r\n",
        "insurance"
      ],
      "execution_count": 94,
      "outputs": [
        {
          "output_type": "execute_result",
          "data": {
            "text/html": [
              "<div>\n",
              "<style scoped>\n",
              "    .dataframe tbody tr th:only-of-type {\n",
              "        vertical-align: middle;\n",
              "    }\n",
              "\n",
              "    .dataframe tbody tr th {\n",
              "        vertical-align: top;\n",
              "    }\n",
              "\n",
              "    .dataframe thead th {\n",
              "        text-align: right;\n",
              "    }\n",
              "</style>\n",
              "<table border=\"1\" class=\"dataframe\">\n",
              "  <thead>\n",
              "    <tr style=\"text-align: right;\">\n",
              "      <th></th>\n",
              "      <th>age</th>\n",
              "      <th>sex</th>\n",
              "      <th>bmi</th>\n",
              "      <th>children</th>\n",
              "      <th>smoker</th>\n",
              "      <th>region</th>\n",
              "      <th>charges</th>\n",
              "    </tr>\n",
              "  </thead>\n",
              "  <tbody>\n",
              "    <tr>\n",
              "      <th>0</th>\n",
              "      <td>19</td>\n",
              "      <td>female</td>\n",
              "      <td>27.900</td>\n",
              "      <td>0</td>\n",
              "      <td>yes</td>\n",
              "      <td>southwest</td>\n",
              "      <td>16884.92400</td>\n",
              "    </tr>\n",
              "    <tr>\n",
              "      <th>1</th>\n",
              "      <td>18</td>\n",
              "      <td>male</td>\n",
              "      <td>33.770</td>\n",
              "      <td>1</td>\n",
              "      <td>no</td>\n",
              "      <td>southeast</td>\n",
              "      <td>1725.55230</td>\n",
              "    </tr>\n",
              "    <tr>\n",
              "      <th>2</th>\n",
              "      <td>28</td>\n",
              "      <td>male</td>\n",
              "      <td>33.000</td>\n",
              "      <td>3</td>\n",
              "      <td>no</td>\n",
              "      <td>southeast</td>\n",
              "      <td>4449.46200</td>\n",
              "    </tr>\n",
              "    <tr>\n",
              "      <th>3</th>\n",
              "      <td>33</td>\n",
              "      <td>male</td>\n",
              "      <td>22.705</td>\n",
              "      <td>0</td>\n",
              "      <td>no</td>\n",
              "      <td>northwest</td>\n",
              "      <td>21984.47061</td>\n",
              "    </tr>\n",
              "    <tr>\n",
              "      <th>4</th>\n",
              "      <td>32</td>\n",
              "      <td>male</td>\n",
              "      <td>28.880</td>\n",
              "      <td>0</td>\n",
              "      <td>no</td>\n",
              "      <td>northwest</td>\n",
              "      <td>3866.85520</td>\n",
              "    </tr>\n",
              "    <tr>\n",
              "      <th>...</th>\n",
              "      <td>...</td>\n",
              "      <td>...</td>\n",
              "      <td>...</td>\n",
              "      <td>...</td>\n",
              "      <td>...</td>\n",
              "      <td>...</td>\n",
              "      <td>...</td>\n",
              "    </tr>\n",
              "    <tr>\n",
              "      <th>1333</th>\n",
              "      <td>50</td>\n",
              "      <td>male</td>\n",
              "      <td>30.970</td>\n",
              "      <td>3</td>\n",
              "      <td>no</td>\n",
              "      <td>northwest</td>\n",
              "      <td>10600.54830</td>\n",
              "    </tr>\n",
              "    <tr>\n",
              "      <th>1334</th>\n",
              "      <td>18</td>\n",
              "      <td>female</td>\n",
              "      <td>31.920</td>\n",
              "      <td>0</td>\n",
              "      <td>no</td>\n",
              "      <td>northeast</td>\n",
              "      <td>2205.98080</td>\n",
              "    </tr>\n",
              "    <tr>\n",
              "      <th>1335</th>\n",
              "      <td>18</td>\n",
              "      <td>female</td>\n",
              "      <td>36.850</td>\n",
              "      <td>0</td>\n",
              "      <td>no</td>\n",
              "      <td>southeast</td>\n",
              "      <td>1629.83350</td>\n",
              "    </tr>\n",
              "    <tr>\n",
              "      <th>1336</th>\n",
              "      <td>21</td>\n",
              "      <td>female</td>\n",
              "      <td>25.800</td>\n",
              "      <td>0</td>\n",
              "      <td>no</td>\n",
              "      <td>southwest</td>\n",
              "      <td>2007.94500</td>\n",
              "    </tr>\n",
              "    <tr>\n",
              "      <th>1337</th>\n",
              "      <td>61</td>\n",
              "      <td>female</td>\n",
              "      <td>29.070</td>\n",
              "      <td>0</td>\n",
              "      <td>yes</td>\n",
              "      <td>northwest</td>\n",
              "      <td>29141.36030</td>\n",
              "    </tr>\n",
              "  </tbody>\n",
              "</table>\n",
              "<p>1338 rows × 7 columns</p>\n",
              "</div>"
            ],
            "text/plain": [
              "      age     sex     bmi  children smoker     region      charges\n",
              "0      19  female  27.900         0    yes  southwest  16884.92400\n",
              "1      18    male  33.770         1     no  southeast   1725.55230\n",
              "2      28    male  33.000         3     no  southeast   4449.46200\n",
              "3      33    male  22.705         0     no  northwest  21984.47061\n",
              "4      32    male  28.880         0     no  northwest   3866.85520\n",
              "...   ...     ...     ...       ...    ...        ...          ...\n",
              "1333   50    male  30.970         3     no  northwest  10600.54830\n",
              "1334   18  female  31.920         0     no  northeast   2205.98080\n",
              "1335   18  female  36.850         0     no  southeast   1629.83350\n",
              "1336   21  female  25.800         0     no  southwest   2007.94500\n",
              "1337   61  female  29.070         0    yes  northwest  29141.36030\n",
              "\n",
              "[1338 rows x 7 columns]"
            ]
          },
          "metadata": {
            "tags": []
          },
          "execution_count": 94
        }
      ]
    },
    {
      "cell_type": "code",
      "metadata": {
        "id": "_-VZTuF5B2Lc"
      },
      "source": [
        ""
      ],
      "execution_count": null,
      "outputs": []
    },
    {
      "cell_type": "code",
      "metadata": {
        "colab": {
          "base_uri": "https://localhost:8080/",
          "height": 415
        },
        "id": "4kDxHMpeiB93",
        "outputId": "9d1cbe16-b4bd-4d45-94a3-ecc166fc015e"
      },
      "source": [
        "X"
      ],
      "execution_count": 88,
      "outputs": [
        {
          "output_type": "execute_result",
          "data": {
            "text/html": [
              "<div>\n",
              "<style scoped>\n",
              "    .dataframe tbody tr th:only-of-type {\n",
              "        vertical-align: middle;\n",
              "    }\n",
              "\n",
              "    .dataframe tbody tr th {\n",
              "        vertical-align: top;\n",
              "    }\n",
              "\n",
              "    .dataframe thead th {\n",
              "        text-align: right;\n",
              "    }\n",
              "</style>\n",
              "<table border=\"1\" class=\"dataframe\">\n",
              "  <thead>\n",
              "    <tr style=\"text-align: right;\">\n",
              "      <th></th>\n",
              "      <th>age</th>\n",
              "      <th>bmi</th>\n",
              "      <th>children</th>\n",
              "      <th>sex_female</th>\n",
              "      <th>sex_male</th>\n",
              "      <th>smoker_no</th>\n",
              "      <th>smoker_yes</th>\n",
              "      <th>region_northeast</th>\n",
              "      <th>region_northwest</th>\n",
              "      <th>region_southeast</th>\n",
              "      <th>region_southwest</th>\n",
              "    </tr>\n",
              "  </thead>\n",
              "  <tbody>\n",
              "    <tr>\n",
              "      <th>0</th>\n",
              "      <td>19</td>\n",
              "      <td>27.900</td>\n",
              "      <td>0</td>\n",
              "      <td>1</td>\n",
              "      <td>0</td>\n",
              "      <td>0</td>\n",
              "      <td>1</td>\n",
              "      <td>0</td>\n",
              "      <td>0</td>\n",
              "      <td>0</td>\n",
              "      <td>1</td>\n",
              "    </tr>\n",
              "    <tr>\n",
              "      <th>1</th>\n",
              "      <td>18</td>\n",
              "      <td>33.770</td>\n",
              "      <td>1</td>\n",
              "      <td>0</td>\n",
              "      <td>1</td>\n",
              "      <td>1</td>\n",
              "      <td>0</td>\n",
              "      <td>0</td>\n",
              "      <td>0</td>\n",
              "      <td>1</td>\n",
              "      <td>0</td>\n",
              "    </tr>\n",
              "    <tr>\n",
              "      <th>2</th>\n",
              "      <td>28</td>\n",
              "      <td>33.000</td>\n",
              "      <td>3</td>\n",
              "      <td>0</td>\n",
              "      <td>1</td>\n",
              "      <td>1</td>\n",
              "      <td>0</td>\n",
              "      <td>0</td>\n",
              "      <td>0</td>\n",
              "      <td>1</td>\n",
              "      <td>0</td>\n",
              "    </tr>\n",
              "    <tr>\n",
              "      <th>3</th>\n",
              "      <td>33</td>\n",
              "      <td>22.705</td>\n",
              "      <td>0</td>\n",
              "      <td>0</td>\n",
              "      <td>1</td>\n",
              "      <td>1</td>\n",
              "      <td>0</td>\n",
              "      <td>0</td>\n",
              "      <td>1</td>\n",
              "      <td>0</td>\n",
              "      <td>0</td>\n",
              "    </tr>\n",
              "    <tr>\n",
              "      <th>4</th>\n",
              "      <td>32</td>\n",
              "      <td>28.880</td>\n",
              "      <td>0</td>\n",
              "      <td>0</td>\n",
              "      <td>1</td>\n",
              "      <td>1</td>\n",
              "      <td>0</td>\n",
              "      <td>0</td>\n",
              "      <td>1</td>\n",
              "      <td>0</td>\n",
              "      <td>0</td>\n",
              "    </tr>\n",
              "    <tr>\n",
              "      <th>...</th>\n",
              "      <td>...</td>\n",
              "      <td>...</td>\n",
              "      <td>...</td>\n",
              "      <td>...</td>\n",
              "      <td>...</td>\n",
              "      <td>...</td>\n",
              "      <td>...</td>\n",
              "      <td>...</td>\n",
              "      <td>...</td>\n",
              "      <td>...</td>\n",
              "      <td>...</td>\n",
              "    </tr>\n",
              "    <tr>\n",
              "      <th>1333</th>\n",
              "      <td>50</td>\n",
              "      <td>30.970</td>\n",
              "      <td>3</td>\n",
              "      <td>0</td>\n",
              "      <td>1</td>\n",
              "      <td>1</td>\n",
              "      <td>0</td>\n",
              "      <td>0</td>\n",
              "      <td>1</td>\n",
              "      <td>0</td>\n",
              "      <td>0</td>\n",
              "    </tr>\n",
              "    <tr>\n",
              "      <th>1334</th>\n",
              "      <td>18</td>\n",
              "      <td>31.920</td>\n",
              "      <td>0</td>\n",
              "      <td>1</td>\n",
              "      <td>0</td>\n",
              "      <td>1</td>\n",
              "      <td>0</td>\n",
              "      <td>1</td>\n",
              "      <td>0</td>\n",
              "      <td>0</td>\n",
              "      <td>0</td>\n",
              "    </tr>\n",
              "    <tr>\n",
              "      <th>1335</th>\n",
              "      <td>18</td>\n",
              "      <td>36.850</td>\n",
              "      <td>0</td>\n",
              "      <td>1</td>\n",
              "      <td>0</td>\n",
              "      <td>1</td>\n",
              "      <td>0</td>\n",
              "      <td>0</td>\n",
              "      <td>0</td>\n",
              "      <td>1</td>\n",
              "      <td>0</td>\n",
              "    </tr>\n",
              "    <tr>\n",
              "      <th>1336</th>\n",
              "      <td>21</td>\n",
              "      <td>25.800</td>\n",
              "      <td>0</td>\n",
              "      <td>1</td>\n",
              "      <td>0</td>\n",
              "      <td>1</td>\n",
              "      <td>0</td>\n",
              "      <td>0</td>\n",
              "      <td>0</td>\n",
              "      <td>0</td>\n",
              "      <td>1</td>\n",
              "    </tr>\n",
              "    <tr>\n",
              "      <th>1337</th>\n",
              "      <td>61</td>\n",
              "      <td>29.070</td>\n",
              "      <td>0</td>\n",
              "      <td>1</td>\n",
              "      <td>0</td>\n",
              "      <td>0</td>\n",
              "      <td>1</td>\n",
              "      <td>0</td>\n",
              "      <td>1</td>\n",
              "      <td>0</td>\n",
              "      <td>0</td>\n",
              "    </tr>\n",
              "  </tbody>\n",
              "</table>\n",
              "<p>1338 rows × 11 columns</p>\n",
              "</div>"
            ],
            "text/plain": [
              "      age     bmi  ...  region_southeast  region_southwest\n",
              "0      19  27.900  ...                 0                 1\n",
              "1      18  33.770  ...                 1                 0\n",
              "2      28  33.000  ...                 1                 0\n",
              "3      33  22.705  ...                 0                 0\n",
              "4      32  28.880  ...                 0                 0\n",
              "...   ...     ...  ...               ...               ...\n",
              "1333   50  30.970  ...                 0                 0\n",
              "1334   18  31.920  ...                 0                 0\n",
              "1335   18  36.850  ...                 1                 0\n",
              "1336   21  25.800  ...                 0                 1\n",
              "1337   61  29.070  ...                 0                 0\n",
              "\n",
              "[1338 rows x 11 columns]"
            ]
          },
          "metadata": {
            "tags": []
          },
          "execution_count": 88
        }
      ]
    },
    {
      "cell_type": "code",
      "metadata": {
        "colab": {
          "base_uri": "https://localhost:8080/",
          "height": 283
        },
        "id": "vtL80SNm9mP4",
        "outputId": "9f729345-a33b-4883-fbd0-1c5dab1d8117"
      },
      "source": [
        "X[\"age\"].plot(kind='hist')"
      ],
      "execution_count": 89,
      "outputs": [
        {
          "output_type": "execute_result",
          "data": {
            "text/plain": [
              "<matplotlib.axes._subplots.AxesSubplot at 0x7ff2382c4c90>"
            ]
          },
          "metadata": {
            "tags": []
          },
          "execution_count": 89
        },
        {
          "output_type": "display_data",
          "data": {
            "image/png": "[encoded data removed]",
            "text/plain": [
              "<Figure size 432x288 with 1 Axes>"
            ]
          },
          "metadata": {
            "tags": [],
            "needs_background": "light"
          }
        }
      ]
    },
    {
      "cell_type": "code",
      "metadata": {
        "colab": {
          "base_uri": "https://localhost:8080/",
          "height": 283
        },
        "id": "UpX2efO0-a5_",
        "outputId": "1bdb675e-6241-4d99-c046-3844209019cf"
      },
      "source": [
        "X['bmi'].plot(kind='hist')"
      ],
      "execution_count": 90,
      "outputs": [
        {
          "output_type": "execute_result",
          "data": {
            "text/plain": [
              "<matplotlib.axes._subplots.AxesSubplot at 0x7ff23828ebd0>"
            ]
          },
          "metadata": {
            "tags": []
          },
          "execution_count": 90
        },
        {
          "output_type": "display_data",
          "data": {
            "image/png": "[encoded data removed]",
            "text/plain": [
              "<Figure size 432x288 with 1 Axes>"
            ]
          },
          "metadata": {
            "tags": [],
            "needs_background": "light"
          }
        }
      ]
    },
    {
      "cell_type": "code",
      "metadata": {
        "colab": {
          "base_uri": "https://localhost:8080/",
          "height": 287
        },
        "id": "rtibgESS-i1n",
        "outputId": "6abac497-9304-4337-da20-2b55478c8875"
      },
      "source": [
        "X['children'].value.counts()"
      ],
      "execution_count": 92,
      "outputs": [
        {
          "output_type": "error",
          "ename": "AttributeError",
          "evalue": "ignored",
          "traceback": [
            "\u001b[0;31m---------------------------------------------------------------------------\u001b[0m",
            "\u001b[0;31mAttributeError\u001b[0m                            Traceback (most recent call last)",
            "\u001b[0;32m<ipython-input-92-045d734de57e>\u001b[0m in \u001b[0;36m<module>\u001b[0;34m()\u001b[0m\n\u001b[0;32m----> 1\u001b[0;31m \u001b[0mX\u001b[0m\u001b[0;34m[\u001b[0m\u001b[0;34m'children'\u001b[0m\u001b[0;34m]\u001b[0m\u001b[0;34m.\u001b[0m\u001b[0mvalue\u001b[0m\u001b[0;34m.\u001b[0m\u001b[0mcounts\u001b[0m\u001b[0;34m(\u001b[0m\u001b[0;34m)\u001b[0m\u001b[0;34m\u001b[0m\u001b[0;34m\u001b[0m\u001b[0m\n\u001b[0m",
            "\u001b[0;32m/usr/local/lib/python3.7/dist-packages/pandas/core/generic.py\u001b[0m in \u001b[0;36m__getattr__\u001b[0;34m(self, name)\u001b[0m\n\u001b[1;32m   5139\u001b[0m             \u001b[0;32mif\u001b[0m \u001b[0mself\u001b[0m\u001b[0;34m.\u001b[0m\u001b[0m_info_axis\u001b[0m\u001b[0;34m.\u001b[0m\u001b[0m_can_hold_identifiers_and_holds_name\u001b[0m\u001b[0;34m(\u001b[0m\u001b[0mname\u001b[0m\u001b[0;34m)\u001b[0m\u001b[0;34m:\u001b[0m\u001b[0;34m\u001b[0m\u001b[0;34m\u001b[0m\u001b[0m\n\u001b[1;32m   5140\u001b[0m                 \u001b[0;32mreturn\u001b[0m \u001b[0mself\u001b[0m\u001b[0;34m[\u001b[0m\u001b[0mname\u001b[0m\u001b[0;34m]\u001b[0m\u001b[0;34m\u001b[0m\u001b[0;34m\u001b[0m\u001b[0m\n\u001b[0;32m-> 5141\u001b[0;31m             \u001b[0;32mreturn\u001b[0m \u001b[0mobject\u001b[0m\u001b[0;34m.\u001b[0m\u001b[0m__getattribute__\u001b[0m\u001b[0;34m(\u001b[0m\u001b[0mself\u001b[0m\u001b[0;34m,\u001b[0m \u001b[0mname\u001b[0m\u001b[0;34m)\u001b[0m\u001b[0;34m\u001b[0m\u001b[0;34m\u001b[0m\u001b[0m\n\u001b[0m\u001b[1;32m   5142\u001b[0m \u001b[0;34m\u001b[0m\u001b[0m\n\u001b[1;32m   5143\u001b[0m     \u001b[0;32mdef\u001b[0m \u001b[0m__setattr__\u001b[0m\u001b[0;34m(\u001b[0m\u001b[0mself\u001b[0m\u001b[0;34m,\u001b[0m \u001b[0mname\u001b[0m\u001b[0;34m:\u001b[0m \u001b[0mstr\u001b[0m\u001b[0;34m,\u001b[0m \u001b[0mvalue\u001b[0m\u001b[0;34m)\u001b[0m \u001b[0;34m->\u001b[0m \u001b[0;32mNone\u001b[0m\u001b[0;34m:\u001b[0m\u001b[0;34m\u001b[0m\u001b[0;34m\u001b[0m\u001b[0m\n",
            "\u001b[0;31mAttributeError\u001b[0m: 'Series' object has no attribute 'value'"
          ]
        }
      ]
    },
    {
      "cell_type": "markdown",
      "metadata": {
        "id": "ziy2317j-sR1"
      },
      "source": [
        "### Notes: Feature Scaling\r\n",
        "\r\n",
        "1. Scale - Converts values between 0 and 1 - Scikit Learn: MinMaxScaler - Default scaler for NN \r\n",
        "2. Standardization - Removes the mean and divides each value by stddev - Scikit Learn: StandardScaler - transform a feature to have close to normal distribution (it reduces effect of outliers)"
      ]
    },
    {
      "cell_type": "code",
      "metadata": {
        "colab": {
          "base_uri": "https://localhost:8080/",
          "height": 415
        },
        "id": "6l4152wjAGub",
        "outputId": "ee8b83ee-f468-449e-d659-03ddffe078c6"
      },
      "source": [
        "import pandas as pd\r\n",
        "import matplotlib.pyplot as plt\r\n",
        "import tensorflow as tf\r\n",
        "\r\n",
        "# Read insurance dataframe (reinstantiate to ensure is fresh)\r\n",
        "insurance = pd.read_csv('https://raw.githubusercontent.com/stedy/Machine-Learning-with-R-datasets/master/insurance.csv')\r\n",
        "insurance"
      ],
      "execution_count": 95,
      "outputs": [
        {
          "output_type": "execute_result",
          "data": {
            "text/html": [
              "<div>\n",
              "<style scoped>\n",
              "    .dataframe tbody tr th:only-of-type {\n",
              "        vertical-align: middle;\n",
              "    }\n",
              "\n",
              "    .dataframe tbody tr th {\n",
              "        vertical-align: top;\n",
              "    }\n",
              "\n",
              "    .dataframe thead th {\n",
              "        text-align: right;\n",
              "    }\n",
              "</style>\n",
              "<table border=\"1\" class=\"dataframe\">\n",
              "  <thead>\n",
              "    <tr style=\"text-align: right;\">\n",
              "      <th></th>\n",
              "      <th>age</th>\n",
              "      <th>sex</th>\n",
              "      <th>bmi</th>\n",
              "      <th>children</th>\n",
              "      <th>smoker</th>\n",
              "      <th>region</th>\n",
              "      <th>charges</th>\n",
              "    </tr>\n",
              "  </thead>\n",
              "  <tbody>\n",
              "    <tr>\n",
              "      <th>0</th>\n",
              "      <td>19</td>\n",
              "      <td>female</td>\n",
              "      <td>27.900</td>\n",
              "      <td>0</td>\n",
              "      <td>yes</td>\n",
              "      <td>southwest</td>\n",
              "      <td>16884.92400</td>\n",
              "    </tr>\n",
              "    <tr>\n",
              "      <th>1</th>\n",
              "      <td>18</td>\n",
              "      <td>male</td>\n",
              "      <td>33.770</td>\n",
              "      <td>1</td>\n",
              "      <td>no</td>\n",
              "      <td>southeast</td>\n",
              "      <td>1725.55230</td>\n",
              "    </tr>\n",
              "    <tr>\n",
              "      <th>2</th>\n",
              "      <td>28</td>\n",
              "      <td>male</td>\n",
              "      <td>33.000</td>\n",
              "      <td>3</td>\n",
              "      <td>no</td>\n",
              "      <td>southeast</td>\n",
              "      <td>4449.46200</td>\n",
              "    </tr>\n",
              "    <tr>\n",
              "      <th>3</th>\n",
              "      <td>33</td>\n",
              "      <td>male</td>\n",
              "      <td>22.705</td>\n",
              "      <td>0</td>\n",
              "      <td>no</td>\n",
              "      <td>northwest</td>\n",
              "      <td>21984.47061</td>\n",
              "    </tr>\n",
              "    <tr>\n",
              "      <th>4</th>\n",
              "      <td>32</td>\n",
              "      <td>male</td>\n",
              "      <td>28.880</td>\n",
              "      <td>0</td>\n",
              "      <td>no</td>\n",
              "      <td>northwest</td>\n",
              "      <td>3866.85520</td>\n",
              "    </tr>\n",
              "    <tr>\n",
              "      <th>...</th>\n",
              "      <td>...</td>\n",
              "      <td>...</td>\n",
              "      <td>...</td>\n",
              "      <td>...</td>\n",
              "      <td>...</td>\n",
              "      <td>...</td>\n",
              "      <td>...</td>\n",
              "    </tr>\n",
              "    <tr>\n",
              "      <th>1333</th>\n",
              "      <td>50</td>\n",
              "      <td>male</td>\n",
              "      <td>30.970</td>\n",
              "      <td>3</td>\n",
              "      <td>no</td>\n",
              "      <td>northwest</td>\n",
              "      <td>10600.54830</td>\n",
              "    </tr>\n",
              "    <tr>\n",
              "      <th>1334</th>\n",
              "      <td>18</td>\n",
              "      <td>female</td>\n",
              "      <td>31.920</td>\n",
              "      <td>0</td>\n",
              "      <td>no</td>\n",
              "      <td>northeast</td>\n",
              "      <td>2205.98080</td>\n",
              "    </tr>\n",
              "    <tr>\n",
              "      <th>1335</th>\n",
              "      <td>18</td>\n",
              "      <td>female</td>\n",
              "      <td>36.850</td>\n",
              "      <td>0</td>\n",
              "      <td>no</td>\n",
              "      <td>southeast</td>\n",
              "      <td>1629.83350</td>\n",
              "    </tr>\n",
              "    <tr>\n",
              "      <th>1336</th>\n",
              "      <td>21</td>\n",
              "      <td>female</td>\n",
              "      <td>25.800</td>\n",
              "      <td>0</td>\n",
              "      <td>no</td>\n",
              "      <td>southwest</td>\n",
              "      <td>2007.94500</td>\n",
              "    </tr>\n",
              "    <tr>\n",
              "      <th>1337</th>\n",
              "      <td>61</td>\n",
              "      <td>female</td>\n",
              "      <td>29.070</td>\n",
              "      <td>0</td>\n",
              "      <td>yes</td>\n",
              "      <td>northwest</td>\n",
              "      <td>29141.36030</td>\n",
              "    </tr>\n",
              "  </tbody>\n",
              "</table>\n",
              "<p>1338 rows × 7 columns</p>\n",
              "</div>"
            ],
            "text/plain": [
              "      age     sex     bmi  children smoker     region      charges\n",
              "0      19  female  27.900         0    yes  southwest  16884.92400\n",
              "1      18    male  33.770         1     no  southeast   1725.55230\n",
              "2      28    male  33.000         3     no  southeast   4449.46200\n",
              "3      33    male  22.705         0     no  northwest  21984.47061\n",
              "4      32    male  28.880         0     no  northwest   3866.85520\n",
              "...   ...     ...     ...       ...    ...        ...          ...\n",
              "1333   50    male  30.970         3     no  northwest  10600.54830\n",
              "1334   18  female  31.920         0     no  northeast   2205.98080\n",
              "1335   18  female  36.850         0     no  southeast   1629.83350\n",
              "1336   21  female  25.800         0     no  southwest   2007.94500\n",
              "1337   61  female  29.070         0    yes  northwest  29141.36030\n",
              "\n",
              "[1338 rows x 7 columns]"
            ]
          },
          "metadata": {
            "tags": []
          },
          "execution_count": 95
        }
      ]
    },
    {
      "cell_type": "code",
      "metadata": {
        "id": "cFRXd4XTB-0O"
      },
      "source": [
        "from sklearn.compose import make_column_transformer\r\n",
        "from sklearn.preprocessing import MinMaxScaler, OneHotEncoder\r\n",
        "from sklearn.model_selection import train_test_split\r\n",
        "\r\n",
        "# Create a column transformer\r\n",
        "ct = make_column_transformer(\r\n",
        "    (MinMaxScaler(), [\"age\",'bmi',\"children\"]),\r\n",
        "    (OneHotEncoder(handle_unknown=\"ignore\"),[\"sex\",\"smoker\",\"region\"]), \r\n",
        ")\r\n",
        "\r\n",
        "# Create X & y\r\n",
        "X = insurance.drop(\"charges\", axis=1)\r\n",
        "y = insurance[\"charges\"]\r\n",
        "\r\n",
        "# Build train and test sets\r\n",
        "X_train, X_test, y_train, y_test = train_test_split(X, y, test_size=0.2, random_state=42) \r\n",
        "\r\n",
        "# Fit the column transformer to our training data\r\n",
        "ct.fit(X_train)\r\n",
        "\r\n",
        "# Transform training and test data with normalization (MinMaxscaler) and OneHotEncoder\r\n",
        "X_train_normal = ct.transform(X_train)\r\n",
        "X_test_normal = ct.transform(X_test)\r\n"
      ],
      "execution_count": 99,
      "outputs": []
    },
    {
      "cell_type": "code",
      "metadata": {
        "colab": {
          "base_uri": "https://localhost:8080/"
        },
        "id": "s1eEIUCRFK2o",
        "outputId": "ffa37eb2-5af4-4613-cc82-361fdee5763f"
      },
      "source": [
        "# What does the data looks like?\r\n",
        "X_train.loc[0]"
      ],
      "execution_count": 100,
      "outputs": [
        {
          "output_type": "execute_result",
          "data": {
            "text/plain": [
              "age                19\n",
              "sex            female\n",
              "bmi              27.9\n",
              "children            0\n",
              "smoker            yes\n",
              "region      southwest\n",
              "Name: 0, dtype: object"
            ]
          },
          "metadata": {
            "tags": []
          },
          "execution_count": 100
        }
      ]
    },
    {
      "cell_type": "code",
      "metadata": {
        "colab": {
          "base_uri": "https://localhost:8080/"
        },
        "id": "GTJdmgdTFWO2",
        "outputId": "5d480ca6-f86a-4b8b-966f-d0927667c0f5"
      },
      "source": [
        "X_train_normal[21]  # sample data after normalization"
      ],
      "execution_count": 102,
      "outputs": [
        {
          "output_type": "execute_result",
          "data": {
            "text/plain": [
              "array([0.15217391, 0.52905569, 0.        , 0.        , 1.        ,\n",
              "       1.        , 0.        , 0.        , 1.        , 0.        ,\n",
              "       0.        ])"
            ]
          },
          "metadata": {
            "tags": []
          },
          "execution_count": 102
        }
      ]
    },
    {
      "cell_type": "code",
      "metadata": {
        "colab": {
          "base_uri": "https://localhost:8080/"
        },
        "id": "sz1c1D7sFiQP",
        "outputId": "64a9657c-4787-429e-db73-4c623cac812d"
      },
      "source": [
        "X_train_normal"
      ],
      "execution_count": 103,
      "outputs": [
        {
          "output_type": "execute_result",
          "data": {
            "text/plain": [
              "array([[0.60869565, 0.10734463, 0.4       , ..., 1.        , 0.        ,\n",
              "        0.        ],\n",
              "       [0.63043478, 0.22491256, 0.        , ..., 0.        , 0.        ,\n",
              "        0.        ],\n",
              "       [0.73913043, 0.23944041, 0.        , ..., 0.        , 1.        ,\n",
              "        0.        ],\n",
              "       ...,\n",
              "       [0.86956522, 0.24791499, 0.        , ..., 0.        , 0.        ,\n",
              "        0.        ],\n",
              "       [0.41304348, 0.85122411, 0.4       , ..., 0.        , 0.        ,\n",
              "        1.        ],\n",
              "       [0.80434783, 0.37503363, 0.        , ..., 0.        , 0.        ,\n",
              "        1.        ]])"
            ]
          },
          "metadata": {
            "tags": []
          },
          "execution_count": 103
        }
      ]
    },
    {
      "cell_type": "code",
      "metadata": {
        "colab": {
          "base_uri": "https://localhost:8080/"
        },
        "id": "P5B4uXZXGAEP",
        "outputId": "5e894b4c-11dc-4d56-d20a-afd1daa0a6c5"
      },
      "source": [
        "X_train.shape, X_train_normal.shape"
      ],
      "execution_count": 104,
      "outputs": [
        {
          "output_type": "execute_result",
          "data": {
            "text/plain": [
              "((1070, 6), (1070, 11))"
            ]
          },
          "metadata": {
            "tags": []
          },
          "execution_count": 104
        }
      ]
    },
    {
      "cell_type": "markdown",
      "metadata": {
        "id": "jtxb143XGHFt"
      },
      "source": [
        "Data has been normalized and one hot encoded"
      ]
    },
    {
      "cell_type": "code",
      "metadata": {
        "colab": {
          "base_uri": "https://localhost:8080/"
        },
        "id": "zAHsbwbrHjkh",
        "outputId": "89c6beca-7744-4b70-af11-11ed2c70a930"
      },
      "source": [
        "insurance_model_2.summary()"
      ],
      "execution_count": 108,
      "outputs": [
        {
          "output_type": "stream",
          "text": [
            "Model: \"sequential_10\"\n",
            "_________________________________________________________________\n",
            "Layer (type)                 Output Shape              Param #   \n",
            "=================================================================\n",
            "dense_14 (Dense)             (None, 100)               1200      \n",
            "_________________________________________________________________\n",
            "dense_15 (Dense)             (None, 10)                1010      \n",
            "_________________________________________________________________\n",
            "dense_16 (Dense)             (None, 1)                 11        \n",
            "=================================================================\n",
            "Total params: 2,221\n",
            "Trainable params: 2,221\n",
            "Non-trainable params: 0\n",
            "_________________________________________________________________\n"
          ],
          "name": "stdout"
        }
      ]
    },
    {
      "cell_type": "code",
      "metadata": {
        "colab": {
          "base_uri": "https://localhost:8080/"
        },
        "id": "qXh3y19_Gkp9",
        "outputId": "035f3c24-f35e-4f97-d8e6-b47493ed4276"
      },
      "source": [
        "# Build a NN model to fit on our normalized data\r\n",
        "\r\n",
        "tf.random.set_seed(42)\r\n",
        "\r\n",
        "insurance_model_4 = tf.keras.Sequential([\r\n",
        "              tf.keras.layers.Dense(100),\r\n",
        "              tf.keras.layers.Dense(10),\r\n",
        "              tf.keras.layers.Dense(1)\r\n",
        "])\r\n",
        "\r\n",
        "insurance_model_4.compile(loss=tf.keras.losses.mae,\r\n",
        "                          optimizer=tf.keras.optimizers.Adam(),\r\n",
        "                          metrics=[\"mae\"])\r\n",
        "\r\n",
        "insurance_model_4.fit(X_train_normal, y_train, epochs=100)"
      ],
      "execution_count": 110,
      "outputs": [
        {
          "output_type": "stream",
          "text": [
            "Epoch 1/100\n",
            "34/34 [==============================] - 0s 3ms/step - loss: 13296.4687 - mae: 13296.4687\n",
            "Epoch 2/100\n",
            "34/34 [==============================] - 0s 3ms/step - loss: 12948.4238 - mae: 12948.4238\n",
            "Epoch 3/100\n",
            "34/34 [==============================] - 0s 2ms/step - loss: 12705.2199 - mae: 12705.2199\n",
            "Epoch 4/100\n",
            "34/34 [==============================] - 0s 2ms/step - loss: 13369.7395 - mae: 13369.7395\n",
            "Epoch 5/100\n",
            "34/34 [==============================] - 0s 3ms/step - loss: 13230.8565 - mae: 13230.8565\n",
            "Epoch 6/100\n",
            "34/34 [==============================] - 0s 2ms/step - loss: 12995.1988 - mae: 12995.1988\n",
            "Epoch 7/100\n",
            "34/34 [==============================] - 0s 2ms/step - loss: 12876.1058 - mae: 12876.1058\n",
            "Epoch 8/100\n",
            "34/34 [==============================] - 0s 3ms/step - loss: 13004.0395 - mae: 13004.0395\n",
            "Epoch 9/100\n",
            "34/34 [==============================] - 0s 3ms/step - loss: 12508.0465 - mae: 12508.0465\n",
            "Epoch 10/100\n",
            "34/34 [==============================] - 0s 3ms/step - loss: 12304.9941 - mae: 12304.9941\n",
            "Epoch 11/100\n",
            "34/34 [==============================] - 0s 3ms/step - loss: 12190.6077 - mae: 12190.6077\n",
            "Epoch 12/100\n",
            "34/34 [==============================] - 0s 3ms/step - loss: 10948.1231 - mae: 10948.1231\n",
            "Epoch 13/100\n",
            "34/34 [==============================] - 0s 3ms/step - loss: 11033.2697 - mae: 11033.2697\n",
            "Epoch 14/100\n",
            "34/34 [==============================] - 0s 3ms/step - loss: 10209.3786 - mae: 10209.3786\n",
            "Epoch 15/100\n",
            "34/34 [==============================] - 0s 3ms/step - loss: 9943.5373 - mae: 9943.5373\n",
            "Epoch 16/100\n",
            "34/34 [==============================] - 0s 2ms/step - loss: 9393.3770 - mae: 9393.3770\n",
            "Epoch 17/100\n",
            "34/34 [==============================] - 0s 2ms/step - loss: 8554.0272 - mae: 8554.0272\n",
            "Epoch 18/100\n",
            "34/34 [==============================] - 0s 2ms/step - loss: 8463.0881 - mae: 8463.0881\n",
            "Epoch 19/100\n",
            "34/34 [==============================] - 0s 2ms/step - loss: 8238.9920 - mae: 8238.9920\n",
            "Epoch 20/100\n",
            "34/34 [==============================] - 0s 2ms/step - loss: 7992.1421 - mae: 7992.1421\n",
            "Epoch 21/100\n",
            "34/34 [==============================] - 0s 2ms/step - loss: 7246.4886 - mae: 7246.4886\n",
            "Epoch 22/100\n",
            "34/34 [==============================] - 0s 2ms/step - loss: 7520.6745 - mae: 7520.6745\n",
            "Epoch 23/100\n",
            "34/34 [==============================] - 0s 3ms/step - loss: 7862.2001 - mae: 7862.2001\n",
            "Epoch 24/100\n",
            "34/34 [==============================] - 0s 3ms/step - loss: 7617.0075 - mae: 7617.0075\n",
            "Epoch 25/100\n",
            "34/34 [==============================] - 0s 2ms/step - loss: 8118.1865 - mae: 8118.1865\n",
            "Epoch 26/100\n",
            "34/34 [==============================] - 0s 3ms/step - loss: 7381.5776 - mae: 7381.5776\n",
            "Epoch 27/100\n",
            "34/34 [==============================] - 0s 3ms/step - loss: 7759.2990 - mae: 7759.2990\n",
            "Epoch 28/100\n",
            "34/34 [==============================] - 0s 3ms/step - loss: 7961.3148 - mae: 7961.3148\n",
            "Epoch 29/100\n",
            "34/34 [==============================] - 0s 3ms/step - loss: 7357.1595 - mae: 7357.1595\n",
            "Epoch 30/100\n",
            "34/34 [==============================] - 0s 3ms/step - loss: 7670.5824 - mae: 7670.5824\n",
            "Epoch 31/100\n",
            "34/34 [==============================] - 0s 2ms/step - loss: 7833.2163 - mae: 7833.2163\n",
            "Epoch 32/100\n",
            "34/34 [==============================] - 0s 3ms/step - loss: 7408.4354 - mae: 7408.4354\n",
            "Epoch 33/100\n",
            "34/34 [==============================] - 0s 3ms/step - loss: 7603.6621 - mae: 7603.6621\n",
            "Epoch 34/100\n",
            "34/34 [==============================] - 0s 3ms/step - loss: 7385.2735 - mae: 7385.2735\n",
            "Epoch 35/100\n",
            "34/34 [==============================] - 0s 3ms/step - loss: 7340.4552 - mae: 7340.4552\n",
            "Epoch 36/100\n",
            "34/34 [==============================] - 0s 3ms/step - loss: 7276.7012 - mae: 7276.7012\n",
            "Epoch 37/100\n",
            "34/34 [==============================] - 0s 3ms/step - loss: 7342.1813 - mae: 7342.1813\n",
            "Epoch 38/100\n",
            "34/34 [==============================] - 0s 3ms/step - loss: 6918.2722 - mae: 6918.2722\n",
            "Epoch 39/100\n",
            "34/34 [==============================] - 0s 3ms/step - loss: 7252.1250 - mae: 7252.1250\n",
            "Epoch 40/100\n",
            "34/34 [==============================] - 0s 3ms/step - loss: 7029.9503 - mae: 7029.9503\n",
            "Epoch 41/100\n",
            "34/34 [==============================] - 0s 3ms/step - loss: 6984.8117 - mae: 6984.8117\n",
            "Epoch 42/100\n",
            "34/34 [==============================] - 0s 3ms/step - loss: 6884.6928 - mae: 6884.6928\n",
            "Epoch 43/100\n",
            "34/34 [==============================] - 0s 3ms/step - loss: 6755.5828 - mae: 6755.5828\n",
            "Epoch 44/100\n",
            "34/34 [==============================] - 0s 3ms/step - loss: 6608.4540 - mae: 6608.4540\n",
            "Epoch 45/100\n",
            "34/34 [==============================] - 0s 3ms/step - loss: 6537.6251 - mae: 6537.6251\n",
            "Epoch 46/100\n",
            "34/34 [==============================] - 0s 3ms/step - loss: 6454.2750 - mae: 6454.2750\n",
            "Epoch 47/100\n",
            "34/34 [==============================] - 0s 2ms/step - loss: 6729.0267 - mae: 6729.0267\n",
            "Epoch 48/100\n",
            "34/34 [==============================] - 0s 3ms/step - loss: 6517.0466 - mae: 6517.0466\n",
            "Epoch 49/100\n",
            "34/34 [==============================] - 0s 3ms/step - loss: 6209.9382 - mae: 6209.9382\n",
            "Epoch 50/100\n",
            "34/34 [==============================] - 0s 3ms/step - loss: 6433.2527 - mae: 6433.2527\n",
            "Epoch 51/100\n",
            "34/34 [==============================] - 0s 3ms/step - loss: 6253.4749 - mae: 6253.4749\n",
            "Epoch 52/100\n",
            "34/34 [==============================] - 0s 3ms/step - loss: 6122.7598 - mae: 6122.7598\n",
            "Epoch 53/100\n",
            "34/34 [==============================] - 0s 3ms/step - loss: 5797.8439 - mae: 5797.8439\n",
            "Epoch 54/100\n",
            "34/34 [==============================] - 0s 3ms/step - loss: 6036.6884 - mae: 6036.6884\n",
            "Epoch 55/100\n",
            "34/34 [==============================] - 0s 3ms/step - loss: 5688.6437 - mae: 5688.6437\n",
            "Epoch 56/100\n",
            "34/34 [==============================] - 0s 3ms/step - loss: 5664.2595 - mae: 5664.2595\n",
            "Epoch 57/100\n",
            "34/34 [==============================] - 0s 3ms/step - loss: 5857.4067 - mae: 5857.4067\n",
            "Epoch 58/100\n",
            "34/34 [==============================] - 0s 3ms/step - loss: 5509.3852 - mae: 5509.3852\n",
            "Epoch 59/100\n",
            "34/34 [==============================] - 0s 3ms/step - loss: 5316.6021 - mae: 5316.6021\n",
            "Epoch 60/100\n",
            "34/34 [==============================] - 0s 3ms/step - loss: 5322.8678 - mae: 5322.8678\n",
            "Epoch 61/100\n",
            "34/34 [==============================] - 0s 2ms/step - loss: 5458.1975 - mae: 5458.1975\n",
            "Epoch 62/100\n",
            "34/34 [==============================] - 0s 2ms/step - loss: 5230.6242 - mae: 5230.6242\n",
            "Epoch 63/100\n",
            "34/34 [==============================] - 0s 3ms/step - loss: 5084.5996 - mae: 5084.5996\n",
            "Epoch 64/100\n",
            "34/34 [==============================] - 0s 3ms/step - loss: 4677.8224 - mae: 4677.8224\n",
            "Epoch 65/100\n",
            "34/34 [==============================] - 0s 3ms/step - loss: 4707.1113 - mae: 4707.1113\n",
            "Epoch 66/100\n",
            "34/34 [==============================] - 0s 3ms/step - loss: 4361.7460 - mae: 4361.7460\n",
            "Epoch 67/100\n",
            "34/34 [==============================] - 0s 2ms/step - loss: 4333.7886 - mae: 4333.7886\n",
            "Epoch 68/100\n",
            "34/34 [==============================] - 0s 3ms/step - loss: 4294.6890 - mae: 4294.6890\n",
            "Epoch 69/100\n",
            "34/34 [==============================] - 0s 3ms/step - loss: 4365.7155 - mae: 4365.7155\n",
            "Epoch 70/100\n",
            "34/34 [==============================] - 0s 3ms/step - loss: 3931.4925 - mae: 3931.4925\n",
            "Epoch 71/100\n",
            "34/34 [==============================] - 0s 3ms/step - loss: 4040.8882 - mae: 4040.8882\n",
            "Epoch 72/100\n",
            "34/34 [==============================] - 0s 3ms/step - loss: 3725.7784 - mae: 3725.7784\n",
            "Epoch 73/100\n",
            "34/34 [==============================] - 0s 3ms/step - loss: 4041.0188 - mae: 4041.0188\n",
            "Epoch 74/100\n",
            "34/34 [==============================] - 0s 3ms/step - loss: 3849.4080 - mae: 3849.4080\n",
            "Epoch 75/100\n",
            "34/34 [==============================] - 0s 3ms/step - loss: 4063.8185 - mae: 4063.8185\n",
            "Epoch 76/100\n",
            "34/34 [==============================] - 0s 3ms/step - loss: 3594.6088 - mae: 3594.6088\n",
            "Epoch 77/100\n",
            "34/34 [==============================] - 0s 3ms/step - loss: 3877.1158 - mae: 3877.1158\n",
            "Epoch 78/100\n",
            "34/34 [==============================] - 0s 3ms/step - loss: 3571.6361 - mae: 3571.6361\n",
            "Epoch 79/100\n",
            "34/34 [==============================] - 0s 3ms/step - loss: 3272.2004 - mae: 3272.2004\n",
            "Epoch 80/100\n",
            "34/34 [==============================] - 0s 3ms/step - loss: 3333.3793 - mae: 3333.3793\n",
            "Epoch 81/100\n",
            "34/34 [==============================] - 0s 3ms/step - loss: 3560.1419 - mae: 3560.1419\n",
            "Epoch 82/100\n",
            "34/34 [==============================] - 0s 3ms/step - loss: 4082.1633 - mae: 4082.1633\n",
            "Epoch 83/100\n",
            "34/34 [==============================] - 0s 3ms/step - loss: 3690.6049 - mae: 3690.6049\n",
            "Epoch 84/100\n",
            "34/34 [==============================] - 0s 2ms/step - loss: 3491.1417 - mae: 3491.1417\n",
            "Epoch 85/100\n",
            "34/34 [==============================] - 0s 3ms/step - loss: 3196.7644 - mae: 3196.7644\n",
            "Epoch 86/100\n",
            "34/34 [==============================] - 0s 3ms/step - loss: 3696.4113 - mae: 3696.4113\n",
            "Epoch 87/100\n",
            "34/34 [==============================] - 0s 3ms/step - loss: 3584.8879 - mae: 3584.8879\n",
            "Epoch 88/100\n",
            "34/34 [==============================] - 0s 3ms/step - loss: 3717.8066 - mae: 3717.8066\n",
            "Epoch 89/100\n",
            "34/34 [==============================] - 0s 3ms/step - loss: 3437.4368 - mae: 3437.4368\n",
            "Epoch 90/100\n",
            "34/34 [==============================] - 0s 3ms/step - loss: 3799.4694 - mae: 3799.4694\n",
            "Epoch 91/100\n",
            "34/34 [==============================] - 0s 3ms/step - loss: 3660.1358 - mae: 3660.1358\n",
            "Epoch 92/100\n",
            "34/34 [==============================] - 0s 3ms/step - loss: 3743.4219 - mae: 3743.4219\n",
            "Epoch 93/100\n",
            "34/34 [==============================] - 0s 3ms/step - loss: 3536.3568 - mae: 3536.3568\n",
            "Epoch 94/100\n",
            "34/34 [==============================] - 0s 3ms/step - loss: 3439.5847 - mae: 3439.5847\n",
            "Epoch 95/100\n",
            "34/34 [==============================] - 0s 3ms/step - loss: 3570.7318 - mae: 3570.7318\n",
            "Epoch 96/100\n",
            "34/34 [==============================] - 0s 3ms/step - loss: 3734.5113 - mae: 3734.5113\n",
            "Epoch 97/100\n",
            "34/34 [==============================] - 0s 2ms/step - loss: 3444.5725 - mae: 3444.5725\n",
            "Epoch 98/100\n",
            "34/34 [==============================] - 0s 3ms/step - loss: 3465.0856 - mae: 3465.0856\n",
            "Epoch 99/100\n",
            "34/34 [==============================] - 0s 3ms/step - loss: 3225.0305 - mae: 3225.0305\n",
            "Epoch 100/100\n",
            "34/34 [==============================] - 0s 3ms/step - loss: 3421.0634 - mae: 3421.0634\n"
          ],
          "name": "stdout"
        },
        {
          "output_type": "execute_result",
          "data": {
            "text/plain": [
              "<tensorflow.python.keras.callbacks.History at 0x7ff22d124a90>"
            ]
          },
          "metadata": {
            "tags": []
          },
          "execution_count": 110
        }
      ]
    },
    {
      "cell_type": "code",
      "metadata": {
        "colab": {
          "base_uri": "https://localhost:8080/"
        },
        "id": "FGPJnkzdG7Hc",
        "outputId": "c6b55705-656f-483d-d3ca-f7004eec301c"
      },
      "source": [
        "# Evaluate insurance model trained on normalized data\r\n",
        "insurance_model_4.evaluate(X_test_normal, y_test)"
      ],
      "execution_count": 111,
      "outputs": [
        {
          "output_type": "stream",
          "text": [
            "9/9 [==============================] - 0s 2ms/step - loss: 3438.7844 - mae: 3438.7844\n"
          ],
          "name": "stdout"
        },
        {
          "output_type": "execute_result",
          "data": {
            "text/plain": [
              "[3438.784423828125, 3438.784423828125]"
            ]
          },
          "metadata": {
            "tags": []
          },
          "execution_count": 111
        }
      ]
    },
    {
      "cell_type": "code",
      "metadata": {
        "id": "WeN4WNmaJUIN"
      },
      "source": [
        "# Insurance model 2 results to compare against\r\n",
        "# 9/9 [==============================] - 0s 2ms/step - loss: 4924.5107 - mae: 4924.5107\r\n",
        "\r\n",
        "## NORMALIZING PERFORMS BETTER!!!"
      ],
      "execution_count": 112,
      "outputs": []
    },
    {
      "cell_type": "code",
      "metadata": {
        "id": "zIK9Fan3JkCl"
      },
      "source": [
        ""
      ],
      "execution_count": null,
      "outputs": []
    }
  ]
}